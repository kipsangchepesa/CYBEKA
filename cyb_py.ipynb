{
  "nbformat": 4,
  "nbformat_minor": 0,
  "metadata": {
    "colab": {
      "name": "cyb.py",
      "provenance": [],
      "collapsed_sections": [],
      "toc_visible": true,
      "include_colab_link": true
    },
    "kernelspec": {
      "name": "python3",
      "display_name": "Python 3"
    },
    "language_info": {
      "name": "python"
    }
  },
  "cells": [
    {
      "cell_type": "markdown",
      "metadata": {
        "id": "view-in-github",
        "colab_type": "text"
      },
      "source": [
        "<a href=\"https://colab.research.google.com/github/kipsangchepesa/CYBEKA/blob/main/cyb_py.ipynb\" target=\"_parent\"><img src=\"https://colab.research.google.com/assets/colab-badge.svg\" alt=\"Open In Colab\"/></a>"
      ]
    },
    {
      "cell_type": "markdown",
      "metadata": {
        "id": "Mi5mi37mzQ6p"
      },
      "source": [
        "# **Importing Libraries**"
      ]
    },
    {
      "cell_type": "code",
      "metadata": {
        "id": "iWYAGbw1zJr2"
      },
      "source": [
        "#Here we import the libraries we will use in the project\n",
        "\n",
        "import pandas as pd\n",
        "import numpy as np\n",
        "import matplotlib.pyplot as plt\n",
        "import seaborn as sns\n",
        "# import streamlit as st"
      ],
      "execution_count": 27,
      "outputs": []
    },
    {
      "cell_type": "markdown",
      "metadata": {
        "id": "AT9mfwNsz2LY"
      },
      "source": [
        "# **Reading Data from our xlsx file**"
      ]
    },
    {
      "cell_type": "code",
      "metadata": {
        "colab": {
          "base_uri": "https://localhost:8080/",
          "height": 314
        },
        "id": "JKZ6rHKUz9he",
        "outputId": "16ea9f4e-0f02-4aa9-85ce-be5436f363b9"
      },
      "source": [
        "# Let's read the data from the excel file and create the dataframe we will use\n",
        "\n",
        "df = pd.read_excel(\"/content/data v2.xlsx\") \n",
        "df.head(3)"
      ],
      "execution_count": 28,
      "outputs": [
        {
          "output_type": "execute_result",
          "data": {
            "text/html": [
              "<div>\n",
              "<style scoped>\n",
              "    .dataframe tbody tr th:only-of-type {\n",
              "        vertical-align: middle;\n",
              "    }\n",
              "\n",
              "    .dataframe tbody tr th {\n",
              "        vertical-align: top;\n",
              "    }\n",
              "\n",
              "    .dataframe thead th {\n",
              "        text-align: right;\n",
              "    }\n",
              "</style>\n",
              "<table border=\"1\" class=\"dataframe\">\n",
              "  <thead>\n",
              "    <tr style=\"text-align: right;\">\n",
              "      <th></th>\n",
              "      <th>start</th>\n",
              "      <th>end</th>\n",
              "      <th>time</th>\n",
              "      <th>minutes</th>\n",
              "      <th>Insert_Geotag_Location</th>\n",
              "      <th>_Insert_Geotag_Location_latitude</th>\n",
              "      <th>_Insert_Geotag_Location_longitude</th>\n",
              "      <th>_Insert_Geotag_Location_altitude</th>\n",
              "      <th>_Insert_Geotag_Location_precision</th>\n",
              "      <th>Name_of_Enumerator</th>\n",
              "      <th>County</th>\n",
              "      <th>_1_Age</th>\n",
              "      <th>_2_Gender</th>\n",
              "      <th>_3_Monthly_Income</th>\n",
              "      <th>_4_Highest_Level_of_Education_Attained</th>\n",
              "      <th>_5_Occupation</th>\n",
              "      <th>_6_Location</th>\n",
              "      <th>_7_Did_you_vote_in_2017</th>\n",
              "      <th>_8_Will_you_vote_in_the_Refere</th>\n",
              "      <th>_9_If_No_Why</th>\n",
              "      <th>_10_How_will_you_vote_in_the_Referendum</th>\n",
              "      <th>_11_If_elections_are_o_would_you_vote_for</th>\n",
              "      <th>_12_If_you_don_t_vot_s_your_second_choice</th>\n",
              "      <th>_13_Do_you_support_BBI</th>\n",
              "      <th>_14_Do_you_know_what_BBI_wants_to_change</th>\n",
              "      <th>_15_Do_you_support_the_Hustler_Nation</th>\n",
              "      <th>_16_Do_you_think_the_ake_brought_us_peace</th>\n",
              "      <th>_17_Who_has_influenc_st_in_your_community</th>\n",
              "      <th>_18_Do_you_trust_your_political_leaders</th>\n",
              "      <th>_19_Do_you_trust_your_religious_leaders</th>\n",
              "      <th>_20_Do_you_trust_your_elders</th>\n",
              "      <th>_21_Where_do_you_get_your_News_from</th>\n",
              "      <th>_22_Have_you_understood_BBI_completely</th>\n",
              "      <th>_23_Will_you_vote_in_2022</th>\n",
              "      <th>__version__</th>\n",
              "      <th>meta/instanceID</th>\n",
              "      <th>_id</th>\n",
              "      <th>_uuid</th>\n",
              "      <th>_submission_time</th>\n",
              "      <th>_index</th>\n",
              "      <th>_parent_table_name</th>\n",
              "      <th>_parent_index</th>\n",
              "      <th>_tags</th>\n",
              "      <th>_notes</th>\n",
              "    </tr>\n",
              "  </thead>\n",
              "  <tbody>\n",
              "    <tr>\n",
              "      <th>0</th>\n",
              "      <td>2021-05-06T09:50:26.433+03:00</td>\n",
              "      <td>2021-05-09T14:07:55.548+03:00</td>\n",
              "      <td>76.291389</td>\n",
              "      <td>4577.483333</td>\n",
              "      <td>0.8350286 34.8646938 1761.797294187769 4.98</td>\n",
              "      <td>0.835029</td>\n",
              "      <td>34.864694</td>\n",
              "      <td>1761.797294</td>\n",
              "      <td>4.980</td>\n",
              "      <td>Daniel Odhiambo</td>\n",
              "      <td>trans_nzoia</td>\n",
              "      <td>25_30</td>\n",
              "      <td>male</td>\n",
              "      <td>kshs_0___11_000</td>\n",
              "      <td>kcpe</td>\n",
              "      <td>hustler</td>\n",
              "      <td>urban</td>\n",
              "      <td>yes</td>\n",
              "      <td>undecided</td>\n",
              "      <td>NaN</td>\n",
              "      <td>still_deciding</td>\n",
              "      <td>raila_odinga</td>\n",
              "      <td>none</td>\n",
              "      <td>thinking_about_it</td>\n",
              "      <td>yes</td>\n",
              "      <td>no_response</td>\n",
              "      <td>no_response</td>\n",
              "      <td>no_one</td>\n",
              "      <td>rarely</td>\n",
              "      <td>never</td>\n",
              "      <td>often</td>\n",
              "      <td>tv</td>\n",
              "      <td>i_don_t_care</td>\n",
              "      <td>response</td>\n",
              "      <td>vxmXBDYW6jJgGL4WrvTb5f</td>\n",
              "      <td>uuid:4ad44fb2-a429-4e7d-a8f1-c367f3068bbb</td>\n",
              "      <td>176970084</td>\n",
              "      <td>4ad44fb2-a429-4e7d-a8f1-c367f3068bbb</td>\n",
              "      <td>2021-05-09T18:30:11</td>\n",
              "      <td>4995</td>\n",
              "      <td>NaN</td>\n",
              "      <td>-1</td>\n",
              "      <td>NaN</td>\n",
              "      <td>NaN</td>\n",
              "    </tr>\n",
              "    <tr>\n",
              "      <th>1</th>\n",
              "      <td>2021-05-05T20:41:15.214+03:00</td>\n",
              "      <td>2021-05-08T11:33:45.347+03:00</td>\n",
              "      <td>62.875000</td>\n",
              "      <td>3772.500000</td>\n",
              "      <td>-4.0286687 39.6323594 24.303734045012625 4.78</td>\n",
              "      <td>-4.028669</td>\n",
              "      <td>39.632359</td>\n",
              "      <td>24.303734</td>\n",
              "      <td>4.780</td>\n",
              "      <td>Joshua</td>\n",
              "      <td>mombasa</td>\n",
              "      <td>25_30</td>\n",
              "      <td>male</td>\n",
              "      <td>kshs_11_001__20_000</td>\n",
              "      <td>kcpe</td>\n",
              "      <td>business_owner__hotel_shop_kio</td>\n",
              "      <td>peri_urban</td>\n",
              "      <td>yes</td>\n",
              "      <td>no</td>\n",
              "      <td>i_do_not_understand_bbi</td>\n",
              "      <td>still_deciding</td>\n",
              "      <td>kalonzo_musyoka</td>\n",
              "      <td>musalia_mudavadi</td>\n",
              "      <td>thinking_about_it</td>\n",
              "      <td>no</td>\n",
              "      <td>no</td>\n",
              "      <td>yes</td>\n",
              "      <td>mcas</td>\n",
              "      <td>rarely</td>\n",
              "      <td>rarely</td>\n",
              "      <td>rarely</td>\n",
              "      <td>radio</td>\n",
              "      <td>no</td>\n",
              "      <td>yes</td>\n",
              "      <td>vxmXBDYW6jJgGL4WrvTb5f</td>\n",
              "      <td>uuid:a58205f0-1b13-42a0-878b-cb5c1005cda4</td>\n",
              "      <td>176799145</td>\n",
              "      <td>a58205f0-1b13-42a0-878b-cb5c1005cda4</td>\n",
              "      <td>2021-05-08T16:11:33</td>\n",
              "      <td>1240</td>\n",
              "      <td>NaN</td>\n",
              "      <td>-1</td>\n",
              "      <td>NaN</td>\n",
              "      <td>NaN</td>\n",
              "    </tr>\n",
              "    <tr>\n",
              "      <th>2</th>\n",
              "      <td>2021-05-07T10:23:20.976+03:00</td>\n",
              "      <td>2021-05-09T12:34:56.000+03:00</td>\n",
              "      <td>50.193333</td>\n",
              "      <td>3011.600000</td>\n",
              "      <td>-1.3683735 38.0084957 1126.6824783361062 4.921</td>\n",
              "      <td>-1.368373</td>\n",
              "      <td>38.008496</td>\n",
              "      <td>1126.682478</td>\n",
              "      <td>4.921</td>\n",
              "      <td>Brenda Njue</td>\n",
              "      <td>kitui</td>\n",
              "      <td>25_30</td>\n",
              "      <td>female</td>\n",
              "      <td>kshs_20_001__50_000</td>\n",
              "      <td>diploma</td>\n",
              "      <td>formal_employment__teacher_acc</td>\n",
              "      <td>urban</td>\n",
              "      <td>yes</td>\n",
              "      <td>yes</td>\n",
              "      <td>NaN</td>\n",
              "      <td>yes__for_it</td>\n",
              "      <td>raila_odinga</td>\n",
              "      <td>musalia_mudavadi</td>\n",
              "      <td>yes</td>\n",
              "      <td>yes</td>\n",
              "      <td>no</td>\n",
              "      <td>yes</td>\n",
              "      <td>no_one</td>\n",
              "      <td>sometimes</td>\n",
              "      <td>often</td>\n",
              "      <td>always</td>\n",
              "      <td>tv</td>\n",
              "      <td>yes</td>\n",
              "      <td>yes</td>\n",
              "      <td>vxmXBDYW6jJgGL4WrvTb5f</td>\n",
              "      <td>uuid:ad50c639-f6ee-48c7-9496-fa4392073bdb</td>\n",
              "      <td>176894163</td>\n",
              "      <td>ad50c639-f6ee-48c7-9496-fa4392073bdb</td>\n",
              "      <td>2021-05-09T09:39:31</td>\n",
              "      <td>728</td>\n",
              "      <td>NaN</td>\n",
              "      <td>-1</td>\n",
              "      <td>NaN</td>\n",
              "      <td>NaN</td>\n",
              "    </tr>\n",
              "  </tbody>\n",
              "</table>\n",
              "</div>"
            ],
            "text/plain": [
              "                           start                            end  ...  _tags  _notes\n",
              "0  2021-05-06T09:50:26.433+03:00  2021-05-09T14:07:55.548+03:00  ...    NaN     NaN\n",
              "1  2021-05-05T20:41:15.214+03:00  2021-05-08T11:33:45.347+03:00  ...    NaN     NaN\n",
              "2  2021-05-07T10:23:20.976+03:00  2021-05-09T12:34:56.000+03:00  ...    NaN     NaN\n",
              "\n",
              "[3 rows x 44 columns]"
            ]
          },
          "metadata": {},
          "execution_count": 28
        }
      ]
    },
    {
      "cell_type": "markdown",
      "metadata": {
        "id": "CM3oHv2x16_X"
      },
      "source": [
        "# **Accessing information about our Dataset**"
      ]
    },
    {
      "cell_type": "code",
      "metadata": {
        "id": "hdzom7K51YeQ"
      },
      "source": [
        "#getting to know more about the dataset\n",
        "def knowledge(data):\n",
        "  # showing the shape of the dataset\n",
        "  print(\"The shape is **********************\")\n",
        "  print(df.shape) \n",
        "  print(\"The information is **********************\")\n",
        "  # showing the info of the dataset\n",
        "  print(df.info())\n",
        "  print(\" The size is**********************\")\n",
        "  print(df.size)"
      ],
      "execution_count": 29,
      "outputs": []
    },
    {
      "cell_type": "code",
      "metadata": {
        "colab": {
          "base_uri": "https://localhost:8080/"
        },
        "id": "fgnRLJ-s89S2",
        "outputId": "ee86154c-f61d-4ef9-9b8d-5f107cd3ce48"
      },
      "source": [
        "#calling the function\n",
        "knowledge(df)  "
      ],
      "execution_count": 30,
      "outputs": [
        {
          "output_type": "stream",
          "text": [
            "The shape is **********************\n",
            "(5736, 44)\n",
            "The information is **********************\n",
            "<class 'pandas.core.frame.DataFrame'>\n",
            "RangeIndex: 5736 entries, 0 to 5735\n",
            "Data columns (total 44 columns):\n",
            " #   Column                                     Non-Null Count  Dtype  \n",
            "---  ------                                     --------------  -----  \n",
            " 0   start                                      5736 non-null   object \n",
            " 1   end                                        5736 non-null   object \n",
            " 2   time                                       5736 non-null   float64\n",
            " 3   minutes                                    5736 non-null   float64\n",
            " 4   Insert_Geotag_Location                     5736 non-null   object \n",
            " 5   _Insert_Geotag_Location_latitude           5736 non-null   float64\n",
            " 6   _Insert_Geotag_Location_longitude          5736 non-null   float64\n",
            " 7   _Insert_Geotag_Location_altitude           5736 non-null   float64\n",
            " 8   _Insert_Geotag_Location_precision          5736 non-null   float64\n",
            " 9   Name_of_Enumerator                         5736 non-null   object \n",
            " 10  County                                     5736 non-null   object \n",
            " 11  _1_Age                                     5736 non-null   object \n",
            " 12  _2_Gender                                  5736 non-null   object \n",
            " 13  _3_Monthly_Income                          5736 non-null   object \n",
            " 14  _4_Highest_Level_of_Education_Attained     5736 non-null   object \n",
            " 15  _5_Occupation                              5736 non-null   object \n",
            " 16  _6_Location                                5736 non-null   object \n",
            " 17  _7_Did_you_vote_in_2017                    5736 non-null   object \n",
            " 18  _8_Will_you_vote_in_the_Refere             5736 non-null   object \n",
            " 19  _9_If_No_Why                               1377 non-null   object \n",
            " 20  _10_How_will_you_vote_in_the_Referendum    5736 non-null   object \n",
            " 21  _11_If_elections_are_o_would_you_vote_for  5736 non-null   object \n",
            " 22  _12_If_you_don_t_vot_s_your_second_choice  5736 non-null   object \n",
            " 23  _13_Do_you_support_BBI                     5736 non-null   object \n",
            " 24  _14_Do_you_know_what_BBI_wants_to_change   5736 non-null   object \n",
            " 25  _15_Do_you_support_the_Hustler_Nation      5736 non-null   object \n",
            " 26  _16_Do_you_think_the_ake_brought_us_peace  5736 non-null   object \n",
            " 27  _17_Who_has_influenc_st_in_your_community  5736 non-null   object \n",
            " 28  _18_Do_you_trust_your_political_leaders    5736 non-null   object \n",
            " 29  _19_Do_you_trust_your_religious_leaders    5736 non-null   object \n",
            " 30  _20_Do_you_trust_your_elders               5736 non-null   object \n",
            " 31  _21_Where_do_you_get_your_News_from        5736 non-null   object \n",
            " 32  _22_Have_you_understood_BBI_completely     5736 non-null   object \n",
            " 33  _23_Will_you_vote_in_2022                  5736 non-null   object \n",
            " 34  __version__                                5736 non-null   object \n",
            " 35  meta/instanceID                            5736 non-null   object \n",
            " 36  _id                                        5736 non-null   int64  \n",
            " 37  _uuid                                      5736 non-null   object \n",
            " 38  _submission_time                           5736 non-null   object \n",
            " 39  _index                                     5736 non-null   int64  \n",
            " 40  _parent_table_name                         0 non-null      float64\n",
            " 41  _parent_index                              5736 non-null   int64  \n",
            " 42  _tags                                      0 non-null      float64\n",
            " 43  _notes                                     0 non-null      float64\n",
            "dtypes: float64(9), int64(3), object(32)\n",
            "memory usage: 1.9+ MB\n",
            "None\n",
            " The size is**********************\n",
            "252384\n"
          ],
          "name": "stdout"
        }
      ]
    },
    {
      "cell_type": "code",
      "metadata": {
        "colab": {
          "base_uri": "https://localhost:8080/"
        },
        "id": "VVohQYv1MiLR",
        "outputId": "065b8f62-852a-4eb0-8733-7db1deb438d8"
      },
      "source": [
        "#representation of our data county-wise\n",
        "\n",
        "z=df.groupby(['County'])['_id'].count().sort_values(ascending=False)\n",
        "z"
      ],
      "execution_count": 31,
      "outputs": [
        {
          "output_type": "execute_result",
          "data": {
            "text/plain": [
              "County\n",
              "nairobi        306\n",
              "trans_nzoia    305\n",
              "embu           303\n",
              "machakos       303\n",
              "nyeri          302\n",
              "kitui          300\n",
              "kiambu         298\n",
              "uasin_gishu    292\n",
              "kirinyaga      290\n",
              "laikipia       288\n",
              "kericho        284\n",
              "nakuru         282\n",
              "meru           280\n",
              "mombasa        280\n",
              "narok          279\n",
              "kisumu         277\n",
              "migori         273\n",
              "isiolo         269\n",
              "kisii          267\n",
              "kakamega       258\n",
              "Name: _id, dtype: int64"
            ]
          },
          "metadata": {},
          "execution_count": 31
        }
      ]
    },
    {
      "cell_type": "markdown",
      "metadata": {
        "id": "7IjjoDpE6V3y"
      },
      "source": [
        "# **Cleaning our Dataset**"
      ]
    },
    {
      "cell_type": "markdown",
      "metadata": {
        "id": "7YGnnuud66bI"
      },
      "source": [
        "# Validity"
      ]
    },
    {
      "cell_type": "code",
      "metadata": {
        "colab": {
          "base_uri": "https://localhost:8080/",
          "height": 948
        },
        "id": "mvn3LcNx0W1q",
        "outputId": "280d8fcd-cd78-48e6-e50f-d6e20d6a312b"
      },
      "source": [
        "df"
      ],
      "execution_count": 32,
      "outputs": [
        {
          "output_type": "execute_result",
          "data": {
            "text/html": [
              "<div>\n",
              "<style scoped>\n",
              "    .dataframe tbody tr th:only-of-type {\n",
              "        vertical-align: middle;\n",
              "    }\n",
              "\n",
              "    .dataframe tbody tr th {\n",
              "        vertical-align: top;\n",
              "    }\n",
              "\n",
              "    .dataframe thead th {\n",
              "        text-align: right;\n",
              "    }\n",
              "</style>\n",
              "<table border=\"1\" class=\"dataframe\">\n",
              "  <thead>\n",
              "    <tr style=\"text-align: right;\">\n",
              "      <th></th>\n",
              "      <th>start</th>\n",
              "      <th>end</th>\n",
              "      <th>time</th>\n",
              "      <th>minutes</th>\n",
              "      <th>Insert_Geotag_Location</th>\n",
              "      <th>_Insert_Geotag_Location_latitude</th>\n",
              "      <th>_Insert_Geotag_Location_longitude</th>\n",
              "      <th>_Insert_Geotag_Location_altitude</th>\n",
              "      <th>_Insert_Geotag_Location_precision</th>\n",
              "      <th>Name_of_Enumerator</th>\n",
              "      <th>County</th>\n",
              "      <th>_1_Age</th>\n",
              "      <th>_2_Gender</th>\n",
              "      <th>_3_Monthly_Income</th>\n",
              "      <th>_4_Highest_Level_of_Education_Attained</th>\n",
              "      <th>_5_Occupation</th>\n",
              "      <th>_6_Location</th>\n",
              "      <th>_7_Did_you_vote_in_2017</th>\n",
              "      <th>_8_Will_you_vote_in_the_Refere</th>\n",
              "      <th>_9_If_No_Why</th>\n",
              "      <th>_10_How_will_you_vote_in_the_Referendum</th>\n",
              "      <th>_11_If_elections_are_o_would_you_vote_for</th>\n",
              "      <th>_12_If_you_don_t_vot_s_your_second_choice</th>\n",
              "      <th>_13_Do_you_support_BBI</th>\n",
              "      <th>_14_Do_you_know_what_BBI_wants_to_change</th>\n",
              "      <th>_15_Do_you_support_the_Hustler_Nation</th>\n",
              "      <th>_16_Do_you_think_the_ake_brought_us_peace</th>\n",
              "      <th>_17_Who_has_influenc_st_in_your_community</th>\n",
              "      <th>_18_Do_you_trust_your_political_leaders</th>\n",
              "      <th>_19_Do_you_trust_your_religious_leaders</th>\n",
              "      <th>_20_Do_you_trust_your_elders</th>\n",
              "      <th>_21_Where_do_you_get_your_News_from</th>\n",
              "      <th>_22_Have_you_understood_BBI_completely</th>\n",
              "      <th>_23_Will_you_vote_in_2022</th>\n",
              "      <th>__version__</th>\n",
              "      <th>meta/instanceID</th>\n",
              "      <th>_id</th>\n",
              "      <th>_uuid</th>\n",
              "      <th>_submission_time</th>\n",
              "      <th>_index</th>\n",
              "      <th>_parent_table_name</th>\n",
              "      <th>_parent_index</th>\n",
              "      <th>_tags</th>\n",
              "      <th>_notes</th>\n",
              "    </tr>\n",
              "  </thead>\n",
              "  <tbody>\n",
              "    <tr>\n",
              "      <th>0</th>\n",
              "      <td>2021-05-06T09:50:26.433+03:00</td>\n",
              "      <td>2021-05-09T14:07:55.548+03:00</td>\n",
              "      <td>76.291389</td>\n",
              "      <td>4577.483333</td>\n",
              "      <td>0.8350286 34.8646938 1761.797294187769 4.98</td>\n",
              "      <td>0.835029</td>\n",
              "      <td>34.864694</td>\n",
              "      <td>1761.797294</td>\n",
              "      <td>4.980</td>\n",
              "      <td>Daniel Odhiambo</td>\n",
              "      <td>trans_nzoia</td>\n",
              "      <td>25_30</td>\n",
              "      <td>male</td>\n",
              "      <td>kshs_0___11_000</td>\n",
              "      <td>kcpe</td>\n",
              "      <td>hustler</td>\n",
              "      <td>urban</td>\n",
              "      <td>yes</td>\n",
              "      <td>undecided</td>\n",
              "      <td>NaN</td>\n",
              "      <td>still_deciding</td>\n",
              "      <td>raila_odinga</td>\n",
              "      <td>none</td>\n",
              "      <td>thinking_about_it</td>\n",
              "      <td>yes</td>\n",
              "      <td>no_response</td>\n",
              "      <td>no_response</td>\n",
              "      <td>no_one</td>\n",
              "      <td>rarely</td>\n",
              "      <td>never</td>\n",
              "      <td>often</td>\n",
              "      <td>tv</td>\n",
              "      <td>i_don_t_care</td>\n",
              "      <td>response</td>\n",
              "      <td>vxmXBDYW6jJgGL4WrvTb5f</td>\n",
              "      <td>uuid:4ad44fb2-a429-4e7d-a8f1-c367f3068bbb</td>\n",
              "      <td>176970084</td>\n",
              "      <td>4ad44fb2-a429-4e7d-a8f1-c367f3068bbb</td>\n",
              "      <td>2021-05-09T18:30:11</td>\n",
              "      <td>4995</td>\n",
              "      <td>NaN</td>\n",
              "      <td>-1</td>\n",
              "      <td>NaN</td>\n",
              "      <td>NaN</td>\n",
              "    </tr>\n",
              "    <tr>\n",
              "      <th>1</th>\n",
              "      <td>2021-05-05T20:41:15.214+03:00</td>\n",
              "      <td>2021-05-08T11:33:45.347+03:00</td>\n",
              "      <td>62.875000</td>\n",
              "      <td>3772.500000</td>\n",
              "      <td>-4.0286687 39.6323594 24.303734045012625 4.78</td>\n",
              "      <td>-4.028669</td>\n",
              "      <td>39.632359</td>\n",
              "      <td>24.303734</td>\n",
              "      <td>4.780</td>\n",
              "      <td>Joshua</td>\n",
              "      <td>mombasa</td>\n",
              "      <td>25_30</td>\n",
              "      <td>male</td>\n",
              "      <td>kshs_11_001__20_000</td>\n",
              "      <td>kcpe</td>\n",
              "      <td>business_owner__hotel_shop_kio</td>\n",
              "      <td>peri_urban</td>\n",
              "      <td>yes</td>\n",
              "      <td>no</td>\n",
              "      <td>i_do_not_understand_bbi</td>\n",
              "      <td>still_deciding</td>\n",
              "      <td>kalonzo_musyoka</td>\n",
              "      <td>musalia_mudavadi</td>\n",
              "      <td>thinking_about_it</td>\n",
              "      <td>no</td>\n",
              "      <td>no</td>\n",
              "      <td>yes</td>\n",
              "      <td>mcas</td>\n",
              "      <td>rarely</td>\n",
              "      <td>rarely</td>\n",
              "      <td>rarely</td>\n",
              "      <td>radio</td>\n",
              "      <td>no</td>\n",
              "      <td>yes</td>\n",
              "      <td>vxmXBDYW6jJgGL4WrvTb5f</td>\n",
              "      <td>uuid:a58205f0-1b13-42a0-878b-cb5c1005cda4</td>\n",
              "      <td>176799145</td>\n",
              "      <td>a58205f0-1b13-42a0-878b-cb5c1005cda4</td>\n",
              "      <td>2021-05-08T16:11:33</td>\n",
              "      <td>1240</td>\n",
              "      <td>NaN</td>\n",
              "      <td>-1</td>\n",
              "      <td>NaN</td>\n",
              "      <td>NaN</td>\n",
              "    </tr>\n",
              "    <tr>\n",
              "      <th>2</th>\n",
              "      <td>2021-05-07T10:23:20.976+03:00</td>\n",
              "      <td>2021-05-09T12:34:56.000+03:00</td>\n",
              "      <td>50.193333</td>\n",
              "      <td>3011.600000</td>\n",
              "      <td>-1.3683735 38.0084957 1126.6824783361062 4.921</td>\n",
              "      <td>-1.368373</td>\n",
              "      <td>38.008496</td>\n",
              "      <td>1126.682478</td>\n",
              "      <td>4.921</td>\n",
              "      <td>Brenda Njue</td>\n",
              "      <td>kitui</td>\n",
              "      <td>25_30</td>\n",
              "      <td>female</td>\n",
              "      <td>kshs_20_001__50_000</td>\n",
              "      <td>diploma</td>\n",
              "      <td>formal_employment__teacher_acc</td>\n",
              "      <td>urban</td>\n",
              "      <td>yes</td>\n",
              "      <td>yes</td>\n",
              "      <td>NaN</td>\n",
              "      <td>yes__for_it</td>\n",
              "      <td>raila_odinga</td>\n",
              "      <td>musalia_mudavadi</td>\n",
              "      <td>yes</td>\n",
              "      <td>yes</td>\n",
              "      <td>no</td>\n",
              "      <td>yes</td>\n",
              "      <td>no_one</td>\n",
              "      <td>sometimes</td>\n",
              "      <td>often</td>\n",
              "      <td>always</td>\n",
              "      <td>tv</td>\n",
              "      <td>yes</td>\n",
              "      <td>yes</td>\n",
              "      <td>vxmXBDYW6jJgGL4WrvTb5f</td>\n",
              "      <td>uuid:ad50c639-f6ee-48c7-9496-fa4392073bdb</td>\n",
              "      <td>176894163</td>\n",
              "      <td>ad50c639-f6ee-48c7-9496-fa4392073bdb</td>\n",
              "      <td>2021-05-09T09:39:31</td>\n",
              "      <td>728</td>\n",
              "      <td>NaN</td>\n",
              "      <td>-1</td>\n",
              "      <td>NaN</td>\n",
              "      <td>NaN</td>\n",
              "    </tr>\n",
              "    <tr>\n",
              "      <th>3</th>\n",
              "      <td>2021-05-08T09:39:09.429+03:00</td>\n",
              "      <td>2021-05-10T11:40:44.380+03:00</td>\n",
              "      <td>50.026389</td>\n",
              "      <td>3001.583333</td>\n",
              "      <td>-1.0162223 34.4802999 1527.0306908686568 4.901</td>\n",
              "      <td>-1.016222</td>\n",
              "      <td>34.480300</td>\n",
              "      <td>1527.030691</td>\n",
              "      <td>4.901</td>\n",
              "      <td>Rita wangechi muthoga</td>\n",
              "      <td>migori</td>\n",
              "      <td>31_35</td>\n",
              "      <td>male</td>\n",
              "      <td>kshs_11_001__20_000</td>\n",
              "      <td>diploma</td>\n",
              "      <td>hustler</td>\n",
              "      <td>urban</td>\n",
              "      <td>no</td>\n",
              "      <td>yes</td>\n",
              "      <td>NaN</td>\n",
              "      <td>yes__for_it</td>\n",
              "      <td>raila_odinga</td>\n",
              "      <td>william_ruto</td>\n",
              "      <td>yes</td>\n",
              "      <td>yes</td>\n",
              "      <td>yes</td>\n",
              "      <td>yes</td>\n",
              "      <td>chief</td>\n",
              "      <td>always</td>\n",
              "      <td>always</td>\n",
              "      <td>always</td>\n",
              "      <td>tv</td>\n",
              "      <td>yes</td>\n",
              "      <td>yes</td>\n",
              "      <td>vxmXBDYW6jJgGL4WrvTb5f</td>\n",
              "      <td>uuid:16410612-f4f4-47b8-b903-c23d9b6fd0f3</td>\n",
              "      <td>177065334</td>\n",
              "      <td>16410612-f4f4-47b8-b903-c23d9b6fd0f3</td>\n",
              "      <td>2021-05-10T09:21:58</td>\n",
              "      <td>5559</td>\n",
              "      <td>NaN</td>\n",
              "      <td>-1</td>\n",
              "      <td>NaN</td>\n",
              "      <td>NaN</td>\n",
              "    </tr>\n",
              "    <tr>\n",
              "      <th>4</th>\n",
              "      <td>2021-05-06T09:57:19.279+03:00</td>\n",
              "      <td>2021-05-08T09:58:24.577+03:00</td>\n",
              "      <td>48.018056</td>\n",
              "      <td>2881.083333</td>\n",
              "      <td>-4.0271833 39.6312224 23.717355010810746 4.966</td>\n",
              "      <td>-4.027183</td>\n",
              "      <td>39.631222</td>\n",
              "      <td>23.717355</td>\n",
              "      <td>4.966</td>\n",
              "      <td>Joshua</td>\n",
              "      <td>mombasa</td>\n",
              "      <td>41_50</td>\n",
              "      <td>male</td>\n",
              "      <td>kshs_0___11_000</td>\n",
              "      <td>certificate</td>\n",
              "      <td>informal_employment__jua_kali_</td>\n",
              "      <td>peri_urban</td>\n",
              "      <td>yes</td>\n",
              "      <td>yes</td>\n",
              "      <td>NaN</td>\n",
              "      <td>no__against_it</td>\n",
              "      <td>william_ruto</td>\n",
              "      <td>peter_kenneth</td>\n",
              "      <td>no</td>\n",
              "      <td>yes</td>\n",
              "      <td>yes</td>\n",
              "      <td>no</td>\n",
              "      <td>business_leaders</td>\n",
              "      <td>never</td>\n",
              "      <td>never</td>\n",
              "      <td>never</td>\n",
              "      <td>tv</td>\n",
              "      <td>no</td>\n",
              "      <td>yes</td>\n",
              "      <td>vxmXBDYW6jJgGL4WrvTb5f</td>\n",
              "      <td>uuid:276544bb-535c-4583-a3c8-e5681df8e267</td>\n",
              "      <td>176799148</td>\n",
              "      <td>276544bb-535c-4583-a3c8-e5681df8e267</td>\n",
              "      <td>2021-05-08T16:11:34</td>\n",
              "      <td>3648</td>\n",
              "      <td>NaN</td>\n",
              "      <td>-1</td>\n",
              "      <td>NaN</td>\n",
              "      <td>NaN</td>\n",
              "    </tr>\n",
              "    <tr>\n",
              "      <th>...</th>\n",
              "      <td>...</td>\n",
              "      <td>...</td>\n",
              "      <td>...</td>\n",
              "      <td>...</td>\n",
              "      <td>...</td>\n",
              "      <td>...</td>\n",
              "      <td>...</td>\n",
              "      <td>...</td>\n",
              "      <td>...</td>\n",
              "      <td>...</td>\n",
              "      <td>...</td>\n",
              "      <td>...</td>\n",
              "      <td>...</td>\n",
              "      <td>...</td>\n",
              "      <td>...</td>\n",
              "      <td>...</td>\n",
              "      <td>...</td>\n",
              "      <td>...</td>\n",
              "      <td>...</td>\n",
              "      <td>...</td>\n",
              "      <td>...</td>\n",
              "      <td>...</td>\n",
              "      <td>...</td>\n",
              "      <td>...</td>\n",
              "      <td>...</td>\n",
              "      <td>...</td>\n",
              "      <td>...</td>\n",
              "      <td>...</td>\n",
              "      <td>...</td>\n",
              "      <td>...</td>\n",
              "      <td>...</td>\n",
              "      <td>...</td>\n",
              "      <td>...</td>\n",
              "      <td>...</td>\n",
              "      <td>...</td>\n",
              "      <td>...</td>\n",
              "      <td>...</td>\n",
              "      <td>...</td>\n",
              "      <td>...</td>\n",
              "      <td>...</td>\n",
              "      <td>...</td>\n",
              "      <td>...</td>\n",
              "      <td>...</td>\n",
              "      <td>...</td>\n",
              "    </tr>\n",
              "    <tr>\n",
              "      <th>5731</th>\n",
              "      <td>2021-05-08T15:54:56.476+03:00</td>\n",
              "      <td>2021-05-08T15:55:44.221+03:00</td>\n",
              "      <td>0.013333</td>\n",
              "      <td>0.800000</td>\n",
              "      <td>-0.5889612 34.7939029 1647.3340988251903 2.725</td>\n",
              "      <td>-0.588961</td>\n",
              "      <td>34.793903</td>\n",
              "      <td>1647.334099</td>\n",
              "      <td>2.725</td>\n",
              "      <td>Obadiah Mbeta</td>\n",
              "      <td>kisii</td>\n",
              "      <td>25_30</td>\n",
              "      <td>male</td>\n",
              "      <td>kshs_0___11_000</td>\n",
              "      <td>certificate</td>\n",
              "      <td>cash_crop_farmer_commercial_fi</td>\n",
              "      <td>rural</td>\n",
              "      <td>no</td>\n",
              "      <td>undecided</td>\n",
              "      <td>NaN</td>\n",
              "      <td>i_will_not_vote</td>\n",
              "      <td>raila_odinga</td>\n",
              "      <td>musalia_mudavadi</td>\n",
              "      <td>don_t_care</td>\n",
              "      <td>a_little</td>\n",
              "      <td>no</td>\n",
              "      <td>yes</td>\n",
              "      <td>governor</td>\n",
              "      <td>sometimes</td>\n",
              "      <td>always</td>\n",
              "      <td>always</td>\n",
              "      <td>radio</td>\n",
              "      <td>no</td>\n",
              "      <td>yes</td>\n",
              "      <td>vxmXBDYW6jJgGL4WrvTb5f</td>\n",
              "      <td>uuid:76198e7e-8464-4f4f-9d8e-8f2c42eaeba4</td>\n",
              "      <td>176792111</td>\n",
              "      <td>76198e7e-8464-4f4f-9d8e-8f2c42eaeba4</td>\n",
              "      <td>2021-05-08T15:15:37</td>\n",
              "      <td>3545</td>\n",
              "      <td>NaN</td>\n",
              "      <td>-1</td>\n",
              "      <td>NaN</td>\n",
              "      <td>NaN</td>\n",
              "    </tr>\n",
              "    <tr>\n",
              "      <th>5732</th>\n",
              "      <td>2021-05-09T13:11:36.821+03:00</td>\n",
              "      <td>2021-05-09T13:12:24.502+03:00</td>\n",
              "      <td>0.013333</td>\n",
              "      <td>0.800000</td>\n",
              "      <td>-0.5587299 34.9326513 2015.4855856685826 2.968</td>\n",
              "      <td>-0.558730</td>\n",
              "      <td>34.932651</td>\n",
              "      <td>2015.485586</td>\n",
              "      <td>2.968</td>\n",
              "      <td>Obadiah Mbeta</td>\n",
              "      <td>kisii</td>\n",
              "      <td>25_30</td>\n",
              "      <td>female</td>\n",
              "      <td>kshs_0___11_000</td>\n",
              "      <td>kcse</td>\n",
              "      <td>subsistence_farmer_subsistence</td>\n",
              "      <td>peri_urban</td>\n",
              "      <td>yes</td>\n",
              "      <td>yes</td>\n",
              "      <td>NaN</td>\n",
              "      <td>no__against_it</td>\n",
              "      <td>raila_odinga</td>\n",
              "      <td>raila_odinga</td>\n",
              "      <td>yes</td>\n",
              "      <td>a_little</td>\n",
              "      <td>no</td>\n",
              "      <td>yes</td>\n",
              "      <td>mp</td>\n",
              "      <td>always</td>\n",
              "      <td>always</td>\n",
              "      <td>always</td>\n",
              "      <td>newspapers</td>\n",
              "      <td>no</td>\n",
              "      <td>yes</td>\n",
              "      <td>vxmXBDYW6jJgGL4WrvTb5f</td>\n",
              "      <td>uuid:741a4262-3101-4f56-83a3-168243258fc2</td>\n",
              "      <td>176955234</td>\n",
              "      <td>741a4262-3101-4f56-83a3-168243258fc2</td>\n",
              "      <td>2021-05-09T15:57:02</td>\n",
              "      <td>365</td>\n",
              "      <td>NaN</td>\n",
              "      <td>-1</td>\n",
              "      <td>NaN</td>\n",
              "      <td>NaN</td>\n",
              "    </tr>\n",
              "    <tr>\n",
              "      <th>5733</th>\n",
              "      <td>2021-05-08T11:37:11.972+03:00</td>\n",
              "      <td>2021-05-08T11:37:59.147+03:00</td>\n",
              "      <td>0.013333</td>\n",
              "      <td>0.800000</td>\n",
              "      <td>-0.5828402 34.7956491 1650.6899819216228 2.886</td>\n",
              "      <td>-0.582840</td>\n",
              "      <td>34.795649</td>\n",
              "      <td>1650.689982</td>\n",
              "      <td>2.886</td>\n",
              "      <td>Obadiah Mbeta</td>\n",
              "      <td>kisii</td>\n",
              "      <td>25_30</td>\n",
              "      <td>male</td>\n",
              "      <td>kshs_0___11_000</td>\n",
              "      <td>kcpe</td>\n",
              "      <td>cash_crop_farmer_commercial_fi</td>\n",
              "      <td>rural</td>\n",
              "      <td>yes</td>\n",
              "      <td>undecided</td>\n",
              "      <td>NaN</td>\n",
              "      <td>no__against_it</td>\n",
              "      <td>musalia_mudavadi</td>\n",
              "      <td>fred_matiangi</td>\n",
              "      <td>no</td>\n",
              "      <td>no</td>\n",
              "      <td>yes</td>\n",
              "      <td>yes</td>\n",
              "      <td>my_friends</td>\n",
              "      <td>sometimes</td>\n",
              "      <td>always</td>\n",
              "      <td>always</td>\n",
              "      <td>radio</td>\n",
              "      <td>no</td>\n",
              "      <td>yes</td>\n",
              "      <td>vxmXBDYW6jJgGL4WrvTb5f</td>\n",
              "      <td>uuid:e38cff89-71d9-4530-bad6-9137050a91bc</td>\n",
              "      <td>176759208</td>\n",
              "      <td>e38cff89-71d9-4530-bad6-9137050a91bc</td>\n",
              "      <td>2021-05-08T11:40:28</td>\n",
              "      <td>2954</td>\n",
              "      <td>NaN</td>\n",
              "      <td>-1</td>\n",
              "      <td>NaN</td>\n",
              "      <td>NaN</td>\n",
              "    </tr>\n",
              "    <tr>\n",
              "      <th>5734</th>\n",
              "      <td>2021-05-08T15:56:05.723+03:00</td>\n",
              "      <td>2021-05-08T15:56:53.121+03:00</td>\n",
              "      <td>0.013333</td>\n",
              "      <td>0.800000</td>\n",
              "      <td>-0.5888396 34.7933949 1647.4557145902018 2.935</td>\n",
              "      <td>-0.588840</td>\n",
              "      <td>34.793395</td>\n",
              "      <td>1647.455715</td>\n",
              "      <td>2.935</td>\n",
              "      <td>Obadiah Mbeta</td>\n",
              "      <td>kisii</td>\n",
              "      <td>36_40</td>\n",
              "      <td>female</td>\n",
              "      <td>kshs_11_001__20_000</td>\n",
              "      <td>diploma</td>\n",
              "      <td>formal_employment__teacher_acc</td>\n",
              "      <td>rural</td>\n",
              "      <td>yes</td>\n",
              "      <td>undecided</td>\n",
              "      <td>NaN</td>\n",
              "      <td>still_deciding</td>\n",
              "      <td>fred_matiangi</td>\n",
              "      <td>william_ruto</td>\n",
              "      <td>thinking_about_it</td>\n",
              "      <td>no</td>\n",
              "      <td>i_do_not_know_about_it</td>\n",
              "      <td>no_response</td>\n",
              "      <td>governor</td>\n",
              "      <td>sometimes</td>\n",
              "      <td>always</td>\n",
              "      <td>always</td>\n",
              "      <td>radio</td>\n",
              "      <td>no</td>\n",
              "      <td>yes</td>\n",
              "      <td>vxmXBDYW6jJgGL4WrvTb5f</td>\n",
              "      <td>uuid:2bd08f9d-303a-42b6-852a-4eb1a297c82c</td>\n",
              "      <td>176792113</td>\n",
              "      <td>2bd08f9d-303a-42b6-852a-4eb1a297c82c</td>\n",
              "      <td>2021-05-08T15:15:37</td>\n",
              "      <td>3546</td>\n",
              "      <td>NaN</td>\n",
              "      <td>-1</td>\n",
              "      <td>NaN</td>\n",
              "      <td>NaN</td>\n",
              "    </tr>\n",
              "    <tr>\n",
              "      <th>5735</th>\n",
              "      <td>2021-05-08T15:46:22.615+03:00</td>\n",
              "      <td>2021-05-08T15:47:09.410+03:00</td>\n",
              "      <td>0.013056</td>\n",
              "      <td>0.783333</td>\n",
              "      <td>-0.5893604 34.7949155 1641.8667177123768 3.9</td>\n",
              "      <td>-0.589360</td>\n",
              "      <td>34.794916</td>\n",
              "      <td>1641.866718</td>\n",
              "      <td>3.900</td>\n",
              "      <td>Obadiah Mbeta</td>\n",
              "      <td>kisii</td>\n",
              "      <td>18_24</td>\n",
              "      <td>male</td>\n",
              "      <td>kshs_0___11_000</td>\n",
              "      <td>kcse</td>\n",
              "      <td>cash_crop_farmer_commercial_fi</td>\n",
              "      <td>rural</td>\n",
              "      <td>no</td>\n",
              "      <td>undecided</td>\n",
              "      <td>NaN</td>\n",
              "      <td>i_will_not_vote</td>\n",
              "      <td>fred_matiangi</td>\n",
              "      <td>william_ruto</td>\n",
              "      <td>thinking_about_it</td>\n",
              "      <td>no</td>\n",
              "      <td>not_sure</td>\n",
              "      <td>no</td>\n",
              "      <td>governor</td>\n",
              "      <td>never</td>\n",
              "      <td>always</td>\n",
              "      <td>always</td>\n",
              "      <td>radio</td>\n",
              "      <td>maybe</td>\n",
              "      <td>yes</td>\n",
              "      <td>vxmXBDYW6jJgGL4WrvTb5f</td>\n",
              "      <td>uuid:e07c75e8-17c5-4789-b776-a07d540b848e</td>\n",
              "      <td>176792106</td>\n",
              "      <td>e07c75e8-17c5-4789-b776-a07d540b848e</td>\n",
              "      <td>2021-05-08T15:15:36</td>\n",
              "      <td>3543</td>\n",
              "      <td>NaN</td>\n",
              "      <td>-1</td>\n",
              "      <td>NaN</td>\n",
              "      <td>NaN</td>\n",
              "    </tr>\n",
              "  </tbody>\n",
              "</table>\n",
              "<p>5736 rows × 44 columns</p>\n",
              "</div>"
            ],
            "text/plain": [
              "                              start  ... _notes\n",
              "0     2021-05-06T09:50:26.433+03:00  ...    NaN\n",
              "1     2021-05-05T20:41:15.214+03:00  ...    NaN\n",
              "2     2021-05-07T10:23:20.976+03:00  ...    NaN\n",
              "3     2021-05-08T09:39:09.429+03:00  ...    NaN\n",
              "4     2021-05-06T09:57:19.279+03:00  ...    NaN\n",
              "...                             ...  ...    ...\n",
              "5731  2021-05-08T15:54:56.476+03:00  ...    NaN\n",
              "5732  2021-05-09T13:11:36.821+03:00  ...    NaN\n",
              "5733  2021-05-08T11:37:11.972+03:00  ...    NaN\n",
              "5734  2021-05-08T15:56:05.723+03:00  ...    NaN\n",
              "5735  2021-05-08T15:46:22.615+03:00  ...    NaN\n",
              "\n",
              "[5736 rows x 44 columns]"
            ]
          },
          "metadata": {},
          "execution_count": 32
        }
      ]
    },
    {
      "cell_type": "code",
      "metadata": {
        "colab": {
          "base_uri": "https://localhost:8080/",
          "height": 223
        },
        "id": "ty4btVMBIaOI",
        "outputId": "9835ffc5-a8db-45ea-8f0b-0c0f6cc4573b"
      },
      "source": [
        "df.drop([\"start\",\"end\", \"time \", \"minutes\", \"Insert_Geotag_Location\", \"_Insert_Geotag_Location_latitude\", \n",
        "           \"_Insert_Geotag_Location_longitude\", \"_Insert_Geotag_Location_altitude\",\"_Insert_Geotag_Location_precision\",\n",
        "           \"Name_of_Enumerator\",\"__version__\",\"meta/instanceID\",\"_id\",\"_uuid\",\"_submission_time\",\"_index\",\"_parent_table_name\",\n",
        "           \"_parent_index\",\"_tags\",\"_notes\"], axis=1, inplace = True)\n",
        "# df.columns = df.columns.str.replace(' ', '_')\n",
        "df.head()"
      ],
      "execution_count": 33,
      "outputs": [
        {
          "output_type": "execute_result",
          "data": {
            "text/html": [
              "<div>\n",
              "<style scoped>\n",
              "    .dataframe tbody tr th:only-of-type {\n",
              "        vertical-align: middle;\n",
              "    }\n",
              "\n",
              "    .dataframe tbody tr th {\n",
              "        vertical-align: top;\n",
              "    }\n",
              "\n",
              "    .dataframe thead th {\n",
              "        text-align: right;\n",
              "    }\n",
              "</style>\n",
              "<table border=\"1\" class=\"dataframe\">\n",
              "  <thead>\n",
              "    <tr style=\"text-align: right;\">\n",
              "      <th></th>\n",
              "      <th>County</th>\n",
              "      <th>_1_Age</th>\n",
              "      <th>_2_Gender</th>\n",
              "      <th>_3_Monthly_Income</th>\n",
              "      <th>_4_Highest_Level_of_Education_Attained</th>\n",
              "      <th>_5_Occupation</th>\n",
              "      <th>_6_Location</th>\n",
              "      <th>_7_Did_you_vote_in_2017</th>\n",
              "      <th>_8_Will_you_vote_in_the_Refere</th>\n",
              "      <th>_9_If_No_Why</th>\n",
              "      <th>_10_How_will_you_vote_in_the_Referendum</th>\n",
              "      <th>_11_If_elections_are_o_would_you_vote_for</th>\n",
              "      <th>_12_If_you_don_t_vot_s_your_second_choice</th>\n",
              "      <th>_13_Do_you_support_BBI</th>\n",
              "      <th>_14_Do_you_know_what_BBI_wants_to_change</th>\n",
              "      <th>_15_Do_you_support_the_Hustler_Nation</th>\n",
              "      <th>_16_Do_you_think_the_ake_brought_us_peace</th>\n",
              "      <th>_17_Who_has_influenc_st_in_your_community</th>\n",
              "      <th>_18_Do_you_trust_your_political_leaders</th>\n",
              "      <th>_19_Do_you_trust_your_religious_leaders</th>\n",
              "      <th>_20_Do_you_trust_your_elders</th>\n",
              "      <th>_21_Where_do_you_get_your_News_from</th>\n",
              "      <th>_22_Have_you_understood_BBI_completely</th>\n",
              "      <th>_23_Will_you_vote_in_2022</th>\n",
              "    </tr>\n",
              "  </thead>\n",
              "  <tbody>\n",
              "    <tr>\n",
              "      <th>0</th>\n",
              "      <td>trans_nzoia</td>\n",
              "      <td>25_30</td>\n",
              "      <td>male</td>\n",
              "      <td>kshs_0___11_000</td>\n",
              "      <td>kcpe</td>\n",
              "      <td>hustler</td>\n",
              "      <td>urban</td>\n",
              "      <td>yes</td>\n",
              "      <td>undecided</td>\n",
              "      <td>NaN</td>\n",
              "      <td>still_deciding</td>\n",
              "      <td>raila_odinga</td>\n",
              "      <td>none</td>\n",
              "      <td>thinking_about_it</td>\n",
              "      <td>yes</td>\n",
              "      <td>no_response</td>\n",
              "      <td>no_response</td>\n",
              "      <td>no_one</td>\n",
              "      <td>rarely</td>\n",
              "      <td>never</td>\n",
              "      <td>often</td>\n",
              "      <td>tv</td>\n",
              "      <td>i_don_t_care</td>\n",
              "      <td>response</td>\n",
              "    </tr>\n",
              "    <tr>\n",
              "      <th>1</th>\n",
              "      <td>mombasa</td>\n",
              "      <td>25_30</td>\n",
              "      <td>male</td>\n",
              "      <td>kshs_11_001__20_000</td>\n",
              "      <td>kcpe</td>\n",
              "      <td>business_owner__hotel_shop_kio</td>\n",
              "      <td>peri_urban</td>\n",
              "      <td>yes</td>\n",
              "      <td>no</td>\n",
              "      <td>i_do_not_understand_bbi</td>\n",
              "      <td>still_deciding</td>\n",
              "      <td>kalonzo_musyoka</td>\n",
              "      <td>musalia_mudavadi</td>\n",
              "      <td>thinking_about_it</td>\n",
              "      <td>no</td>\n",
              "      <td>no</td>\n",
              "      <td>yes</td>\n",
              "      <td>mcas</td>\n",
              "      <td>rarely</td>\n",
              "      <td>rarely</td>\n",
              "      <td>rarely</td>\n",
              "      <td>radio</td>\n",
              "      <td>no</td>\n",
              "      <td>yes</td>\n",
              "    </tr>\n",
              "    <tr>\n",
              "      <th>2</th>\n",
              "      <td>kitui</td>\n",
              "      <td>25_30</td>\n",
              "      <td>female</td>\n",
              "      <td>kshs_20_001__50_000</td>\n",
              "      <td>diploma</td>\n",
              "      <td>formal_employment__teacher_acc</td>\n",
              "      <td>urban</td>\n",
              "      <td>yes</td>\n",
              "      <td>yes</td>\n",
              "      <td>NaN</td>\n",
              "      <td>yes__for_it</td>\n",
              "      <td>raila_odinga</td>\n",
              "      <td>musalia_mudavadi</td>\n",
              "      <td>yes</td>\n",
              "      <td>yes</td>\n",
              "      <td>no</td>\n",
              "      <td>yes</td>\n",
              "      <td>no_one</td>\n",
              "      <td>sometimes</td>\n",
              "      <td>often</td>\n",
              "      <td>always</td>\n",
              "      <td>tv</td>\n",
              "      <td>yes</td>\n",
              "      <td>yes</td>\n",
              "    </tr>\n",
              "    <tr>\n",
              "      <th>3</th>\n",
              "      <td>migori</td>\n",
              "      <td>31_35</td>\n",
              "      <td>male</td>\n",
              "      <td>kshs_11_001__20_000</td>\n",
              "      <td>diploma</td>\n",
              "      <td>hustler</td>\n",
              "      <td>urban</td>\n",
              "      <td>no</td>\n",
              "      <td>yes</td>\n",
              "      <td>NaN</td>\n",
              "      <td>yes__for_it</td>\n",
              "      <td>raila_odinga</td>\n",
              "      <td>william_ruto</td>\n",
              "      <td>yes</td>\n",
              "      <td>yes</td>\n",
              "      <td>yes</td>\n",
              "      <td>yes</td>\n",
              "      <td>chief</td>\n",
              "      <td>always</td>\n",
              "      <td>always</td>\n",
              "      <td>always</td>\n",
              "      <td>tv</td>\n",
              "      <td>yes</td>\n",
              "      <td>yes</td>\n",
              "    </tr>\n",
              "    <tr>\n",
              "      <th>4</th>\n",
              "      <td>mombasa</td>\n",
              "      <td>41_50</td>\n",
              "      <td>male</td>\n",
              "      <td>kshs_0___11_000</td>\n",
              "      <td>certificate</td>\n",
              "      <td>informal_employment__jua_kali_</td>\n",
              "      <td>peri_urban</td>\n",
              "      <td>yes</td>\n",
              "      <td>yes</td>\n",
              "      <td>NaN</td>\n",
              "      <td>no__against_it</td>\n",
              "      <td>william_ruto</td>\n",
              "      <td>peter_kenneth</td>\n",
              "      <td>no</td>\n",
              "      <td>yes</td>\n",
              "      <td>yes</td>\n",
              "      <td>no</td>\n",
              "      <td>business_leaders</td>\n",
              "      <td>never</td>\n",
              "      <td>never</td>\n",
              "      <td>never</td>\n",
              "      <td>tv</td>\n",
              "      <td>no</td>\n",
              "      <td>yes</td>\n",
              "    </tr>\n",
              "  </tbody>\n",
              "</table>\n",
              "</div>"
            ],
            "text/plain": [
              "        County  ... _23_Will_you_vote_in_2022\n",
              "0  trans_nzoia  ...                  response\n",
              "1      mombasa  ...                       yes\n",
              "2        kitui  ...                       yes\n",
              "3       migori  ...                       yes\n",
              "4      mombasa  ...                       yes\n",
              "\n",
              "[5 rows x 24 columns]"
            ]
          },
          "metadata": {},
          "execution_count": 33
        }
      ]
    },
    {
      "cell_type": "markdown",
      "metadata": {
        "id": "Uh08TpTF7EUo"
      },
      "source": [
        "# Accuracy"
      ]
    },
    {
      "cell_type": "code",
      "metadata": {
        "colab": {
          "base_uri": "https://localhost:8080/"
        },
        "id": "zRrVKxoO7MGW",
        "outputId": "bf5c7e22-77dc-4dbd-8043-160e8ae96251"
      },
      "source": [
        "knowledge(df)"
      ],
      "execution_count": 34,
      "outputs": [
        {
          "output_type": "stream",
          "text": [
            "The shape is **********************\n",
            "(5736, 24)\n",
            "The information is **********************\n",
            "<class 'pandas.core.frame.DataFrame'>\n",
            "RangeIndex: 5736 entries, 0 to 5735\n",
            "Data columns (total 24 columns):\n",
            " #   Column                                     Non-Null Count  Dtype \n",
            "---  ------                                     --------------  ----- \n",
            " 0   County                                     5736 non-null   object\n",
            " 1   _1_Age                                     5736 non-null   object\n",
            " 2   _2_Gender                                  5736 non-null   object\n",
            " 3   _3_Monthly_Income                          5736 non-null   object\n",
            " 4   _4_Highest_Level_of_Education_Attained     5736 non-null   object\n",
            " 5   _5_Occupation                              5736 non-null   object\n",
            " 6   _6_Location                                5736 non-null   object\n",
            " 7   _7_Did_you_vote_in_2017                    5736 non-null   object\n",
            " 8   _8_Will_you_vote_in_the_Refere             5736 non-null   object\n",
            " 9   _9_If_No_Why                               1377 non-null   object\n",
            " 10  _10_How_will_you_vote_in_the_Referendum    5736 non-null   object\n",
            " 11  _11_If_elections_are_o_would_you_vote_for  5736 non-null   object\n",
            " 12  _12_If_you_don_t_vot_s_your_second_choice  5736 non-null   object\n",
            " 13  _13_Do_you_support_BBI                     5736 non-null   object\n",
            " 14  _14_Do_you_know_what_BBI_wants_to_change   5736 non-null   object\n",
            " 15  _15_Do_you_support_the_Hustler_Nation      5736 non-null   object\n",
            " 16  _16_Do_you_think_the_ake_brought_us_peace  5736 non-null   object\n",
            " 17  _17_Who_has_influenc_st_in_your_community  5736 non-null   object\n",
            " 18  _18_Do_you_trust_your_political_leaders    5736 non-null   object\n",
            " 19  _19_Do_you_trust_your_religious_leaders    5736 non-null   object\n",
            " 20  _20_Do_you_trust_your_elders               5736 non-null   object\n",
            " 21  _21_Where_do_you_get_your_News_from        5736 non-null   object\n",
            " 22  _22_Have_you_understood_BBI_completely     5736 non-null   object\n",
            " 23  _23_Will_you_vote_in_2022                  5736 non-null   object\n",
            "dtypes: object(24)\n",
            "memory usage: 1.1+ MB\n",
            "None\n",
            " The size is**********************\n",
            "137664\n"
          ],
          "name": "stdout"
        }
      ]
    },
    {
      "cell_type": "code",
      "metadata": {
        "id": "ITSo2ULM9qJz"
      },
      "source": [
        "df.columns = df.columns.str.replace('_', ' ')\n"
      ],
      "execution_count": 35,
      "outputs": []
    },
    {
      "cell_type": "code",
      "metadata": {
        "colab": {
          "base_uri": "https://localhost:8080/",
          "height": 325
        },
        "id": "nW9cw7VoA-tB",
        "outputId": "1f0f7862-2e4d-4645-a270-9aa83a0d6911"
      },
      "source": [
        "df.columns = ['County', 'Age', 'Gender', 'Monthly Income',\n",
        "       'Highest Level of Education Attained', 'Occupation',\n",
        "       'Location', 'Did you vote in 2017',\n",
        "       'Will you vote in the Refere', 'If No Why',\n",
        "       'How will you vote in the Referendum',\n",
        "       'If elections are today who would you vote for',\n",
        "       'If you dont vote for that one who is your second choice', 'Do you support BBI',\n",
        "       'Do you know what BBI wants to change',\n",
        "       'Do you support the Hustler Nation',\n",
        "       'Do you think the handshake brought us peace',\n",
        "       'Who influences youin your community',\n",
        "       'Do you trust your political leaders',\n",
        "       'Do you trust your religious leaders',\n",
        "       'Do you trust your elders', 'Where do you get your News from',\n",
        "       'Have you understood BBI completely', 'Will you vote in 2022']\n",
        "df.head()"
      ],
      "execution_count": 36,
      "outputs": [
        {
          "output_type": "execute_result",
          "data": {
            "text/html": [
              "<div>\n",
              "<style scoped>\n",
              "    .dataframe tbody tr th:only-of-type {\n",
              "        vertical-align: middle;\n",
              "    }\n",
              "\n",
              "    .dataframe tbody tr th {\n",
              "        vertical-align: top;\n",
              "    }\n",
              "\n",
              "    .dataframe thead th {\n",
              "        text-align: right;\n",
              "    }\n",
              "</style>\n",
              "<table border=\"1\" class=\"dataframe\">\n",
              "  <thead>\n",
              "    <tr style=\"text-align: right;\">\n",
              "      <th></th>\n",
              "      <th>County</th>\n",
              "      <th>Age</th>\n",
              "      <th>Gender</th>\n",
              "      <th>Monthly Income</th>\n",
              "      <th>Highest Level of Education Attained</th>\n",
              "      <th>Occupation</th>\n",
              "      <th>Location</th>\n",
              "      <th>Did you vote in 2017</th>\n",
              "      <th>Will you vote in the Refere</th>\n",
              "      <th>If No Why</th>\n",
              "      <th>How will you vote in the Referendum</th>\n",
              "      <th>If elections are today who would you vote for</th>\n",
              "      <th>If you dont vote for that one who is your second choice</th>\n",
              "      <th>Do you support BBI</th>\n",
              "      <th>Do you know what BBI wants to change</th>\n",
              "      <th>Do you support the Hustler Nation</th>\n",
              "      <th>Do you think the handshake brought us peace</th>\n",
              "      <th>Who influences youin your community</th>\n",
              "      <th>Do you trust your political leaders</th>\n",
              "      <th>Do you trust your religious leaders</th>\n",
              "      <th>Do you trust your elders</th>\n",
              "      <th>Where do you get your News from</th>\n",
              "      <th>Have you understood BBI completely</th>\n",
              "      <th>Will you vote in 2022</th>\n",
              "    </tr>\n",
              "  </thead>\n",
              "  <tbody>\n",
              "    <tr>\n",
              "      <th>0</th>\n",
              "      <td>trans_nzoia</td>\n",
              "      <td>25_30</td>\n",
              "      <td>male</td>\n",
              "      <td>kshs_0___11_000</td>\n",
              "      <td>kcpe</td>\n",
              "      <td>hustler</td>\n",
              "      <td>urban</td>\n",
              "      <td>yes</td>\n",
              "      <td>undecided</td>\n",
              "      <td>NaN</td>\n",
              "      <td>still_deciding</td>\n",
              "      <td>raila_odinga</td>\n",
              "      <td>none</td>\n",
              "      <td>thinking_about_it</td>\n",
              "      <td>yes</td>\n",
              "      <td>no_response</td>\n",
              "      <td>no_response</td>\n",
              "      <td>no_one</td>\n",
              "      <td>rarely</td>\n",
              "      <td>never</td>\n",
              "      <td>often</td>\n",
              "      <td>tv</td>\n",
              "      <td>i_don_t_care</td>\n",
              "      <td>response</td>\n",
              "    </tr>\n",
              "    <tr>\n",
              "      <th>1</th>\n",
              "      <td>mombasa</td>\n",
              "      <td>25_30</td>\n",
              "      <td>male</td>\n",
              "      <td>kshs_11_001__20_000</td>\n",
              "      <td>kcpe</td>\n",
              "      <td>business_owner__hotel_shop_kio</td>\n",
              "      <td>peri_urban</td>\n",
              "      <td>yes</td>\n",
              "      <td>no</td>\n",
              "      <td>i_do_not_understand_bbi</td>\n",
              "      <td>still_deciding</td>\n",
              "      <td>kalonzo_musyoka</td>\n",
              "      <td>musalia_mudavadi</td>\n",
              "      <td>thinking_about_it</td>\n",
              "      <td>no</td>\n",
              "      <td>no</td>\n",
              "      <td>yes</td>\n",
              "      <td>mcas</td>\n",
              "      <td>rarely</td>\n",
              "      <td>rarely</td>\n",
              "      <td>rarely</td>\n",
              "      <td>radio</td>\n",
              "      <td>no</td>\n",
              "      <td>yes</td>\n",
              "    </tr>\n",
              "    <tr>\n",
              "      <th>2</th>\n",
              "      <td>kitui</td>\n",
              "      <td>25_30</td>\n",
              "      <td>female</td>\n",
              "      <td>kshs_20_001__50_000</td>\n",
              "      <td>diploma</td>\n",
              "      <td>formal_employment__teacher_acc</td>\n",
              "      <td>urban</td>\n",
              "      <td>yes</td>\n",
              "      <td>yes</td>\n",
              "      <td>NaN</td>\n",
              "      <td>yes__for_it</td>\n",
              "      <td>raila_odinga</td>\n",
              "      <td>musalia_mudavadi</td>\n",
              "      <td>yes</td>\n",
              "      <td>yes</td>\n",
              "      <td>no</td>\n",
              "      <td>yes</td>\n",
              "      <td>no_one</td>\n",
              "      <td>sometimes</td>\n",
              "      <td>often</td>\n",
              "      <td>always</td>\n",
              "      <td>tv</td>\n",
              "      <td>yes</td>\n",
              "      <td>yes</td>\n",
              "    </tr>\n",
              "    <tr>\n",
              "      <th>3</th>\n",
              "      <td>migori</td>\n",
              "      <td>31_35</td>\n",
              "      <td>male</td>\n",
              "      <td>kshs_11_001__20_000</td>\n",
              "      <td>diploma</td>\n",
              "      <td>hustler</td>\n",
              "      <td>urban</td>\n",
              "      <td>no</td>\n",
              "      <td>yes</td>\n",
              "      <td>NaN</td>\n",
              "      <td>yes__for_it</td>\n",
              "      <td>raila_odinga</td>\n",
              "      <td>william_ruto</td>\n",
              "      <td>yes</td>\n",
              "      <td>yes</td>\n",
              "      <td>yes</td>\n",
              "      <td>yes</td>\n",
              "      <td>chief</td>\n",
              "      <td>always</td>\n",
              "      <td>always</td>\n",
              "      <td>always</td>\n",
              "      <td>tv</td>\n",
              "      <td>yes</td>\n",
              "      <td>yes</td>\n",
              "    </tr>\n",
              "    <tr>\n",
              "      <th>4</th>\n",
              "      <td>mombasa</td>\n",
              "      <td>41_50</td>\n",
              "      <td>male</td>\n",
              "      <td>kshs_0___11_000</td>\n",
              "      <td>certificate</td>\n",
              "      <td>informal_employment__jua_kali_</td>\n",
              "      <td>peri_urban</td>\n",
              "      <td>yes</td>\n",
              "      <td>yes</td>\n",
              "      <td>NaN</td>\n",
              "      <td>no__against_it</td>\n",
              "      <td>william_ruto</td>\n",
              "      <td>peter_kenneth</td>\n",
              "      <td>no</td>\n",
              "      <td>yes</td>\n",
              "      <td>yes</td>\n",
              "      <td>no</td>\n",
              "      <td>business_leaders</td>\n",
              "      <td>never</td>\n",
              "      <td>never</td>\n",
              "      <td>never</td>\n",
              "      <td>tv</td>\n",
              "      <td>no</td>\n",
              "      <td>yes</td>\n",
              "    </tr>\n",
              "  </tbody>\n",
              "</table>\n",
              "</div>"
            ],
            "text/plain": [
              "        County    Age  ... Have you understood BBI completely Will you vote in 2022\n",
              "0  trans_nzoia  25_30  ...                       i_don_t_care              response\n",
              "1      mombasa  25_30  ...                                 no                   yes\n",
              "2        kitui  25_30  ...                                yes                   yes\n",
              "3       migori  31_35  ...                                yes                   yes\n",
              "4      mombasa  41_50  ...                                 no                   yes\n",
              "\n",
              "[5 rows x 24 columns]"
            ]
          },
          "metadata": {},
          "execution_count": 36
        }
      ]
    },
    {
      "cell_type": "code",
      "metadata": {
        "colab": {
          "base_uri": "https://localhost:8080/"
        },
        "id": "-gK3yfv7BEU7",
        "outputId": "d0d2bc2f-ddd0-4448-e628-555d87abb60b"
      },
      "source": [
        "df.columns"
      ],
      "execution_count": 37,
      "outputs": [
        {
          "output_type": "execute_result",
          "data": {
            "text/plain": [
              "Index(['County', 'Age', 'Gender', 'Monthly Income',\n",
              "       'Highest Level of Education Attained', 'Occupation', 'Location',\n",
              "       'Did you vote in 2017', 'Will you vote in the Refere', 'If No Why',\n",
              "       'How will you vote in the Referendum',\n",
              "       'If elections are today who would you vote for',\n",
              "       'If you dont vote for that one who is your second choice',\n",
              "       'Do you support BBI', 'Do you know what BBI wants to change',\n",
              "       'Do you support the Hustler Nation',\n",
              "       'Do you think the handshake brought us peace',\n",
              "       'Who influences youin your community',\n",
              "       'Do you trust your political leaders',\n",
              "       'Do you trust your religious leaders', 'Do you trust your elders',\n",
              "       'Where do you get your News from', 'Have you understood BBI completely',\n",
              "       'Will you vote in 2022'],\n",
              "      dtype='object')"
            ]
          },
          "metadata": {},
          "execution_count": 37
        }
      ]
    },
    {
      "cell_type": "code",
      "metadata": {
        "colab": {
          "base_uri": "https://localhost:8080/"
        },
        "id": "mLDVoYPiBQNS",
        "outputId": "1c31cf04-14c0-4778-942b-8b05e7a5f13c"
      },
      "source": [
        "df[\"Occupation\"].str.replace(r'\\W',\"\")\n"
      ],
      "execution_count": 38,
      "outputs": [
        {
          "output_type": "execute_result",
          "data": {
            "text/plain": [
              "0                              hustler\n",
              "1       business_owner__hotel_shop_kio\n",
              "2       formal_employment__teacher_acc\n",
              "3                              hustler\n",
              "4       informal_employment__jua_kali_\n",
              "                     ...              \n",
              "5731    cash_crop_farmer_commercial_fi\n",
              "5732    subsistence_farmer_subsistence\n",
              "5733    cash_crop_farmer_commercial_fi\n",
              "5734    formal_employment__teacher_acc\n",
              "5735    cash_crop_farmer_commercial_fi\n",
              "Name: Occupation, Length: 5736, dtype: object"
            ]
          },
          "metadata": {},
          "execution_count": 38
        }
      ]
    },
    {
      "cell_type": "code",
      "metadata": {
        "id": "Bw6b4zjCDjTh"
      },
      "source": [
        "for column in df.columns:\n",
        "     df[column] =   df[column].str.replace(r'\\W',\"\")"
      ],
      "execution_count": 39,
      "outputs": []
    },
    {
      "cell_type": "code",
      "metadata": {
        "colab": {
          "base_uri": "https://localhost:8080/",
          "height": 325
        },
        "id": "RwpdjhtdDmiL",
        "outputId": "5fd1f8c6-0355-4093-86af-0628170ec276"
      },
      "source": [
        "df.head()"
      ],
      "execution_count": 40,
      "outputs": [
        {
          "output_type": "execute_result",
          "data": {
            "text/html": [
              "<div>\n",
              "<style scoped>\n",
              "    .dataframe tbody tr th:only-of-type {\n",
              "        vertical-align: middle;\n",
              "    }\n",
              "\n",
              "    .dataframe tbody tr th {\n",
              "        vertical-align: top;\n",
              "    }\n",
              "\n",
              "    .dataframe thead th {\n",
              "        text-align: right;\n",
              "    }\n",
              "</style>\n",
              "<table border=\"1\" class=\"dataframe\">\n",
              "  <thead>\n",
              "    <tr style=\"text-align: right;\">\n",
              "      <th></th>\n",
              "      <th>County</th>\n",
              "      <th>Age</th>\n",
              "      <th>Gender</th>\n",
              "      <th>Monthly Income</th>\n",
              "      <th>Highest Level of Education Attained</th>\n",
              "      <th>Occupation</th>\n",
              "      <th>Location</th>\n",
              "      <th>Did you vote in 2017</th>\n",
              "      <th>Will you vote in the Refere</th>\n",
              "      <th>If No Why</th>\n",
              "      <th>How will you vote in the Referendum</th>\n",
              "      <th>If elections are today who would you vote for</th>\n",
              "      <th>If you dont vote for that one who is your second choice</th>\n",
              "      <th>Do you support BBI</th>\n",
              "      <th>Do you know what BBI wants to change</th>\n",
              "      <th>Do you support the Hustler Nation</th>\n",
              "      <th>Do you think the handshake brought us peace</th>\n",
              "      <th>Who influences youin your community</th>\n",
              "      <th>Do you trust your political leaders</th>\n",
              "      <th>Do you trust your religious leaders</th>\n",
              "      <th>Do you trust your elders</th>\n",
              "      <th>Where do you get your News from</th>\n",
              "      <th>Have you understood BBI completely</th>\n",
              "      <th>Will you vote in 2022</th>\n",
              "    </tr>\n",
              "  </thead>\n",
              "  <tbody>\n",
              "    <tr>\n",
              "      <th>0</th>\n",
              "      <td>trans_nzoia</td>\n",
              "      <td>25_30</td>\n",
              "      <td>male</td>\n",
              "      <td>kshs_0___11_000</td>\n",
              "      <td>kcpe</td>\n",
              "      <td>hustler</td>\n",
              "      <td>urban</td>\n",
              "      <td>yes</td>\n",
              "      <td>undecided</td>\n",
              "      <td>NaN</td>\n",
              "      <td>still_deciding</td>\n",
              "      <td>raila_odinga</td>\n",
              "      <td>none</td>\n",
              "      <td>thinking_about_it</td>\n",
              "      <td>yes</td>\n",
              "      <td>no_response</td>\n",
              "      <td>no_response</td>\n",
              "      <td>no_one</td>\n",
              "      <td>rarely</td>\n",
              "      <td>never</td>\n",
              "      <td>often</td>\n",
              "      <td>tv</td>\n",
              "      <td>i_don_t_care</td>\n",
              "      <td>response</td>\n",
              "    </tr>\n",
              "    <tr>\n",
              "      <th>1</th>\n",
              "      <td>mombasa</td>\n",
              "      <td>25_30</td>\n",
              "      <td>male</td>\n",
              "      <td>kshs_11_001__20_000</td>\n",
              "      <td>kcpe</td>\n",
              "      <td>business_owner__hotel_shop_kio</td>\n",
              "      <td>peri_urban</td>\n",
              "      <td>yes</td>\n",
              "      <td>no</td>\n",
              "      <td>i_do_not_understand_bbi</td>\n",
              "      <td>still_deciding</td>\n",
              "      <td>kalonzo_musyoka</td>\n",
              "      <td>musalia_mudavadi</td>\n",
              "      <td>thinking_about_it</td>\n",
              "      <td>no</td>\n",
              "      <td>no</td>\n",
              "      <td>yes</td>\n",
              "      <td>mcas</td>\n",
              "      <td>rarely</td>\n",
              "      <td>rarely</td>\n",
              "      <td>rarely</td>\n",
              "      <td>radio</td>\n",
              "      <td>no</td>\n",
              "      <td>yes</td>\n",
              "    </tr>\n",
              "    <tr>\n",
              "      <th>2</th>\n",
              "      <td>kitui</td>\n",
              "      <td>25_30</td>\n",
              "      <td>female</td>\n",
              "      <td>kshs_20_001__50_000</td>\n",
              "      <td>diploma</td>\n",
              "      <td>formal_employment__teacher_acc</td>\n",
              "      <td>urban</td>\n",
              "      <td>yes</td>\n",
              "      <td>yes</td>\n",
              "      <td>NaN</td>\n",
              "      <td>yes__for_it</td>\n",
              "      <td>raila_odinga</td>\n",
              "      <td>musalia_mudavadi</td>\n",
              "      <td>yes</td>\n",
              "      <td>yes</td>\n",
              "      <td>no</td>\n",
              "      <td>yes</td>\n",
              "      <td>no_one</td>\n",
              "      <td>sometimes</td>\n",
              "      <td>often</td>\n",
              "      <td>always</td>\n",
              "      <td>tv</td>\n",
              "      <td>yes</td>\n",
              "      <td>yes</td>\n",
              "    </tr>\n",
              "    <tr>\n",
              "      <th>3</th>\n",
              "      <td>migori</td>\n",
              "      <td>31_35</td>\n",
              "      <td>male</td>\n",
              "      <td>kshs_11_001__20_000</td>\n",
              "      <td>diploma</td>\n",
              "      <td>hustler</td>\n",
              "      <td>urban</td>\n",
              "      <td>no</td>\n",
              "      <td>yes</td>\n",
              "      <td>NaN</td>\n",
              "      <td>yes__for_it</td>\n",
              "      <td>raila_odinga</td>\n",
              "      <td>william_ruto</td>\n",
              "      <td>yes</td>\n",
              "      <td>yes</td>\n",
              "      <td>yes</td>\n",
              "      <td>yes</td>\n",
              "      <td>chief</td>\n",
              "      <td>always</td>\n",
              "      <td>always</td>\n",
              "      <td>always</td>\n",
              "      <td>tv</td>\n",
              "      <td>yes</td>\n",
              "      <td>yes</td>\n",
              "    </tr>\n",
              "    <tr>\n",
              "      <th>4</th>\n",
              "      <td>mombasa</td>\n",
              "      <td>41_50</td>\n",
              "      <td>male</td>\n",
              "      <td>kshs_0___11_000</td>\n",
              "      <td>certificate</td>\n",
              "      <td>informal_employment__jua_kali_</td>\n",
              "      <td>peri_urban</td>\n",
              "      <td>yes</td>\n",
              "      <td>yes</td>\n",
              "      <td>NaN</td>\n",
              "      <td>no__against_it</td>\n",
              "      <td>william_ruto</td>\n",
              "      <td>peter_kenneth</td>\n",
              "      <td>no</td>\n",
              "      <td>yes</td>\n",
              "      <td>yes</td>\n",
              "      <td>no</td>\n",
              "      <td>business_leaders</td>\n",
              "      <td>never</td>\n",
              "      <td>never</td>\n",
              "      <td>never</td>\n",
              "      <td>tv</td>\n",
              "      <td>no</td>\n",
              "      <td>yes</td>\n",
              "    </tr>\n",
              "  </tbody>\n",
              "</table>\n",
              "</div>"
            ],
            "text/plain": [
              "        County    Age  ... Have you understood BBI completely Will you vote in 2022\n",
              "0  trans_nzoia  25_30  ...                       i_don_t_care              response\n",
              "1      mombasa  25_30  ...                                 no                   yes\n",
              "2        kitui  25_30  ...                                yes                   yes\n",
              "3       migori  31_35  ...                                yes                   yes\n",
              "4      mombasa  41_50  ...                                 no                   yes\n",
              "\n",
              "[5 rows x 24 columns]"
            ]
          },
          "metadata": {},
          "execution_count": 40
        }
      ]
    },
    {
      "cell_type": "code",
      "metadata": {
        "colab": {
          "base_uri": "https://localhost:8080/",
          "height": 410
        },
        "id": "PDNuaN6rDzHJ",
        "outputId": "b7d7ab61-13f5-4117-9f19-ca0569f1b718"
      },
      "source": [
        "df[\"Age\"]= df[\"Age\"].str.replace('_','-')\n",
        "df.tail()"
      ],
      "execution_count": 41,
      "outputs": [
        {
          "output_type": "execute_result",
          "data": {
            "text/html": [
              "<div>\n",
              "<style scoped>\n",
              "    .dataframe tbody tr th:only-of-type {\n",
              "        vertical-align: middle;\n",
              "    }\n",
              "\n",
              "    .dataframe tbody tr th {\n",
              "        vertical-align: top;\n",
              "    }\n",
              "\n",
              "    .dataframe thead th {\n",
              "        text-align: right;\n",
              "    }\n",
              "</style>\n",
              "<table border=\"1\" class=\"dataframe\">\n",
              "  <thead>\n",
              "    <tr style=\"text-align: right;\">\n",
              "      <th></th>\n",
              "      <th>County</th>\n",
              "      <th>Age</th>\n",
              "      <th>Gender</th>\n",
              "      <th>Monthly Income</th>\n",
              "      <th>Highest Level of Education Attained</th>\n",
              "      <th>Occupation</th>\n",
              "      <th>Location</th>\n",
              "      <th>Did you vote in 2017</th>\n",
              "      <th>Will you vote in the Refere</th>\n",
              "      <th>If No Why</th>\n",
              "      <th>How will you vote in the Referendum</th>\n",
              "      <th>If elections are today who would you vote for</th>\n",
              "      <th>If you dont vote for that one who is your second choice</th>\n",
              "      <th>Do you support BBI</th>\n",
              "      <th>Do you know what BBI wants to change</th>\n",
              "      <th>Do you support the Hustler Nation</th>\n",
              "      <th>Do you think the handshake brought us peace</th>\n",
              "      <th>Who influences youin your community</th>\n",
              "      <th>Do you trust your political leaders</th>\n",
              "      <th>Do you trust your religious leaders</th>\n",
              "      <th>Do you trust your elders</th>\n",
              "      <th>Where do you get your News from</th>\n",
              "      <th>Have you understood BBI completely</th>\n",
              "      <th>Will you vote in 2022</th>\n",
              "    </tr>\n",
              "  </thead>\n",
              "  <tbody>\n",
              "    <tr>\n",
              "      <th>5731</th>\n",
              "      <td>kisii</td>\n",
              "      <td>25-30</td>\n",
              "      <td>male</td>\n",
              "      <td>kshs_0___11_000</td>\n",
              "      <td>certificate</td>\n",
              "      <td>cash_crop_farmer_commercial_fi</td>\n",
              "      <td>rural</td>\n",
              "      <td>no</td>\n",
              "      <td>undecided</td>\n",
              "      <td>NaN</td>\n",
              "      <td>i_will_not_vote</td>\n",
              "      <td>raila_odinga</td>\n",
              "      <td>musalia_mudavadi</td>\n",
              "      <td>don_t_care</td>\n",
              "      <td>a_little</td>\n",
              "      <td>no</td>\n",
              "      <td>yes</td>\n",
              "      <td>governor</td>\n",
              "      <td>sometimes</td>\n",
              "      <td>always</td>\n",
              "      <td>always</td>\n",
              "      <td>radio</td>\n",
              "      <td>no</td>\n",
              "      <td>yes</td>\n",
              "    </tr>\n",
              "    <tr>\n",
              "      <th>5732</th>\n",
              "      <td>kisii</td>\n",
              "      <td>25-30</td>\n",
              "      <td>female</td>\n",
              "      <td>kshs_0___11_000</td>\n",
              "      <td>kcse</td>\n",
              "      <td>subsistence_farmer_subsistence</td>\n",
              "      <td>peri_urban</td>\n",
              "      <td>yes</td>\n",
              "      <td>yes</td>\n",
              "      <td>NaN</td>\n",
              "      <td>no__against_it</td>\n",
              "      <td>raila_odinga</td>\n",
              "      <td>raila_odinga</td>\n",
              "      <td>yes</td>\n",
              "      <td>a_little</td>\n",
              "      <td>no</td>\n",
              "      <td>yes</td>\n",
              "      <td>mp</td>\n",
              "      <td>always</td>\n",
              "      <td>always</td>\n",
              "      <td>always</td>\n",
              "      <td>newspapers</td>\n",
              "      <td>no</td>\n",
              "      <td>yes</td>\n",
              "    </tr>\n",
              "    <tr>\n",
              "      <th>5733</th>\n",
              "      <td>kisii</td>\n",
              "      <td>25-30</td>\n",
              "      <td>male</td>\n",
              "      <td>kshs_0___11_000</td>\n",
              "      <td>kcpe</td>\n",
              "      <td>cash_crop_farmer_commercial_fi</td>\n",
              "      <td>rural</td>\n",
              "      <td>yes</td>\n",
              "      <td>undecided</td>\n",
              "      <td>NaN</td>\n",
              "      <td>no__against_it</td>\n",
              "      <td>musalia_mudavadi</td>\n",
              "      <td>fred_matiangi</td>\n",
              "      <td>no</td>\n",
              "      <td>no</td>\n",
              "      <td>yes</td>\n",
              "      <td>yes</td>\n",
              "      <td>my_friends</td>\n",
              "      <td>sometimes</td>\n",
              "      <td>always</td>\n",
              "      <td>always</td>\n",
              "      <td>radio</td>\n",
              "      <td>no</td>\n",
              "      <td>yes</td>\n",
              "    </tr>\n",
              "    <tr>\n",
              "      <th>5734</th>\n",
              "      <td>kisii</td>\n",
              "      <td>36-40</td>\n",
              "      <td>female</td>\n",
              "      <td>kshs_11_001__20_000</td>\n",
              "      <td>diploma</td>\n",
              "      <td>formal_employment__teacher_acc</td>\n",
              "      <td>rural</td>\n",
              "      <td>yes</td>\n",
              "      <td>undecided</td>\n",
              "      <td>NaN</td>\n",
              "      <td>still_deciding</td>\n",
              "      <td>fred_matiangi</td>\n",
              "      <td>william_ruto</td>\n",
              "      <td>thinking_about_it</td>\n",
              "      <td>no</td>\n",
              "      <td>i_do_not_know_about_it</td>\n",
              "      <td>no_response</td>\n",
              "      <td>governor</td>\n",
              "      <td>sometimes</td>\n",
              "      <td>always</td>\n",
              "      <td>always</td>\n",
              "      <td>radio</td>\n",
              "      <td>no</td>\n",
              "      <td>yes</td>\n",
              "    </tr>\n",
              "    <tr>\n",
              "      <th>5735</th>\n",
              "      <td>kisii</td>\n",
              "      <td>18-24</td>\n",
              "      <td>male</td>\n",
              "      <td>kshs_0___11_000</td>\n",
              "      <td>kcse</td>\n",
              "      <td>cash_crop_farmer_commercial_fi</td>\n",
              "      <td>rural</td>\n",
              "      <td>no</td>\n",
              "      <td>undecided</td>\n",
              "      <td>NaN</td>\n",
              "      <td>i_will_not_vote</td>\n",
              "      <td>fred_matiangi</td>\n",
              "      <td>william_ruto</td>\n",
              "      <td>thinking_about_it</td>\n",
              "      <td>no</td>\n",
              "      <td>not_sure</td>\n",
              "      <td>no</td>\n",
              "      <td>governor</td>\n",
              "      <td>never</td>\n",
              "      <td>always</td>\n",
              "      <td>always</td>\n",
              "      <td>radio</td>\n",
              "      <td>maybe</td>\n",
              "      <td>yes</td>\n",
              "    </tr>\n",
              "  </tbody>\n",
              "</table>\n",
              "</div>"
            ],
            "text/plain": [
              "     County    Age  ... Have you understood BBI completely Will you vote in 2022\n",
              "5731  kisii  25-30  ...                                 no                   yes\n",
              "5732  kisii  25-30  ...                                 no                   yes\n",
              "5733  kisii  25-30  ...                                 no                   yes\n",
              "5734  kisii  36-40  ...                                 no                   yes\n",
              "5735  kisii  18-24  ...                              maybe                   yes\n",
              "\n",
              "[5 rows x 24 columns]"
            ]
          },
          "metadata": {},
          "execution_count": 41
        }
      ]
    },
    {
      "cell_type": "code",
      "metadata": {
        "colab": {
          "base_uri": "https://localhost:8080/",
          "height": 410
        },
        "id": "3vwsy112Fr1n",
        "outputId": "6c3b8e96-1f06-4829-caff-b3f4cc6a6922"
      },
      "source": [
        "df[\"Monthly Income\"]= df[\"Monthly Income\"].str.replace('_',',')\n",
        "df.tail()"
      ],
      "execution_count": 42,
      "outputs": [
        {
          "output_type": "execute_result",
          "data": {
            "text/html": [
              "<div>\n",
              "<style scoped>\n",
              "    .dataframe tbody tr th:only-of-type {\n",
              "        vertical-align: middle;\n",
              "    }\n",
              "\n",
              "    .dataframe tbody tr th {\n",
              "        vertical-align: top;\n",
              "    }\n",
              "\n",
              "    .dataframe thead th {\n",
              "        text-align: right;\n",
              "    }\n",
              "</style>\n",
              "<table border=\"1\" class=\"dataframe\">\n",
              "  <thead>\n",
              "    <tr style=\"text-align: right;\">\n",
              "      <th></th>\n",
              "      <th>County</th>\n",
              "      <th>Age</th>\n",
              "      <th>Gender</th>\n",
              "      <th>Monthly Income</th>\n",
              "      <th>Highest Level of Education Attained</th>\n",
              "      <th>Occupation</th>\n",
              "      <th>Location</th>\n",
              "      <th>Did you vote in 2017</th>\n",
              "      <th>Will you vote in the Refere</th>\n",
              "      <th>If No Why</th>\n",
              "      <th>How will you vote in the Referendum</th>\n",
              "      <th>If elections are today who would you vote for</th>\n",
              "      <th>If you dont vote for that one who is your second choice</th>\n",
              "      <th>Do you support BBI</th>\n",
              "      <th>Do you know what BBI wants to change</th>\n",
              "      <th>Do you support the Hustler Nation</th>\n",
              "      <th>Do you think the handshake brought us peace</th>\n",
              "      <th>Who influences youin your community</th>\n",
              "      <th>Do you trust your political leaders</th>\n",
              "      <th>Do you trust your religious leaders</th>\n",
              "      <th>Do you trust your elders</th>\n",
              "      <th>Where do you get your News from</th>\n",
              "      <th>Have you understood BBI completely</th>\n",
              "      <th>Will you vote in 2022</th>\n",
              "    </tr>\n",
              "  </thead>\n",
              "  <tbody>\n",
              "    <tr>\n",
              "      <th>5731</th>\n",
              "      <td>kisii</td>\n",
              "      <td>25-30</td>\n",
              "      <td>male</td>\n",
              "      <td>kshs,0,,,11,000</td>\n",
              "      <td>certificate</td>\n",
              "      <td>cash_crop_farmer_commercial_fi</td>\n",
              "      <td>rural</td>\n",
              "      <td>no</td>\n",
              "      <td>undecided</td>\n",
              "      <td>NaN</td>\n",
              "      <td>i_will_not_vote</td>\n",
              "      <td>raila_odinga</td>\n",
              "      <td>musalia_mudavadi</td>\n",
              "      <td>don_t_care</td>\n",
              "      <td>a_little</td>\n",
              "      <td>no</td>\n",
              "      <td>yes</td>\n",
              "      <td>governor</td>\n",
              "      <td>sometimes</td>\n",
              "      <td>always</td>\n",
              "      <td>always</td>\n",
              "      <td>radio</td>\n",
              "      <td>no</td>\n",
              "      <td>yes</td>\n",
              "    </tr>\n",
              "    <tr>\n",
              "      <th>5732</th>\n",
              "      <td>kisii</td>\n",
              "      <td>25-30</td>\n",
              "      <td>female</td>\n",
              "      <td>kshs,0,,,11,000</td>\n",
              "      <td>kcse</td>\n",
              "      <td>subsistence_farmer_subsistence</td>\n",
              "      <td>peri_urban</td>\n",
              "      <td>yes</td>\n",
              "      <td>yes</td>\n",
              "      <td>NaN</td>\n",
              "      <td>no__against_it</td>\n",
              "      <td>raila_odinga</td>\n",
              "      <td>raila_odinga</td>\n",
              "      <td>yes</td>\n",
              "      <td>a_little</td>\n",
              "      <td>no</td>\n",
              "      <td>yes</td>\n",
              "      <td>mp</td>\n",
              "      <td>always</td>\n",
              "      <td>always</td>\n",
              "      <td>always</td>\n",
              "      <td>newspapers</td>\n",
              "      <td>no</td>\n",
              "      <td>yes</td>\n",
              "    </tr>\n",
              "    <tr>\n",
              "      <th>5733</th>\n",
              "      <td>kisii</td>\n",
              "      <td>25-30</td>\n",
              "      <td>male</td>\n",
              "      <td>kshs,0,,,11,000</td>\n",
              "      <td>kcpe</td>\n",
              "      <td>cash_crop_farmer_commercial_fi</td>\n",
              "      <td>rural</td>\n",
              "      <td>yes</td>\n",
              "      <td>undecided</td>\n",
              "      <td>NaN</td>\n",
              "      <td>no__against_it</td>\n",
              "      <td>musalia_mudavadi</td>\n",
              "      <td>fred_matiangi</td>\n",
              "      <td>no</td>\n",
              "      <td>no</td>\n",
              "      <td>yes</td>\n",
              "      <td>yes</td>\n",
              "      <td>my_friends</td>\n",
              "      <td>sometimes</td>\n",
              "      <td>always</td>\n",
              "      <td>always</td>\n",
              "      <td>radio</td>\n",
              "      <td>no</td>\n",
              "      <td>yes</td>\n",
              "    </tr>\n",
              "    <tr>\n",
              "      <th>5734</th>\n",
              "      <td>kisii</td>\n",
              "      <td>36-40</td>\n",
              "      <td>female</td>\n",
              "      <td>kshs,11,001,,20,000</td>\n",
              "      <td>diploma</td>\n",
              "      <td>formal_employment__teacher_acc</td>\n",
              "      <td>rural</td>\n",
              "      <td>yes</td>\n",
              "      <td>undecided</td>\n",
              "      <td>NaN</td>\n",
              "      <td>still_deciding</td>\n",
              "      <td>fred_matiangi</td>\n",
              "      <td>william_ruto</td>\n",
              "      <td>thinking_about_it</td>\n",
              "      <td>no</td>\n",
              "      <td>i_do_not_know_about_it</td>\n",
              "      <td>no_response</td>\n",
              "      <td>governor</td>\n",
              "      <td>sometimes</td>\n",
              "      <td>always</td>\n",
              "      <td>always</td>\n",
              "      <td>radio</td>\n",
              "      <td>no</td>\n",
              "      <td>yes</td>\n",
              "    </tr>\n",
              "    <tr>\n",
              "      <th>5735</th>\n",
              "      <td>kisii</td>\n",
              "      <td>18-24</td>\n",
              "      <td>male</td>\n",
              "      <td>kshs,0,,,11,000</td>\n",
              "      <td>kcse</td>\n",
              "      <td>cash_crop_farmer_commercial_fi</td>\n",
              "      <td>rural</td>\n",
              "      <td>no</td>\n",
              "      <td>undecided</td>\n",
              "      <td>NaN</td>\n",
              "      <td>i_will_not_vote</td>\n",
              "      <td>fred_matiangi</td>\n",
              "      <td>william_ruto</td>\n",
              "      <td>thinking_about_it</td>\n",
              "      <td>no</td>\n",
              "      <td>not_sure</td>\n",
              "      <td>no</td>\n",
              "      <td>governor</td>\n",
              "      <td>never</td>\n",
              "      <td>always</td>\n",
              "      <td>always</td>\n",
              "      <td>radio</td>\n",
              "      <td>maybe</td>\n",
              "      <td>yes</td>\n",
              "    </tr>\n",
              "  </tbody>\n",
              "</table>\n",
              "</div>"
            ],
            "text/plain": [
              "     County    Age  ... Have you understood BBI completely Will you vote in 2022\n",
              "5731  kisii  25-30  ...                                 no                   yes\n",
              "5732  kisii  25-30  ...                                 no                   yes\n",
              "5733  kisii  25-30  ...                                 no                   yes\n",
              "5734  kisii  36-40  ...                                 no                   yes\n",
              "5735  kisii  18-24  ...                              maybe                   yes\n",
              "\n",
              "[5 rows x 24 columns]"
            ]
          },
          "metadata": {},
          "execution_count": 42
        }
      ]
    },
    {
      "cell_type": "code",
      "metadata": {
        "colab": {
          "base_uri": "https://localhost:8080/",
          "height": 410
        },
        "id": "OR8os24ME1l_",
        "outputId": "a73505fb-28ed-4b4b-bd73-1e36ed72dfbf"
      },
      "source": [
        "\n",
        "df[\"Monthly Income\"]= df[\"Monthly Income\"].str.replace(',,,','-')\n",
        "df[\"Monthly Income\"]= df[\"Monthly Income\"].str.replace(',,','-')\n",
        "df.tail()"
      ],
      "execution_count": 43,
      "outputs": [
        {
          "output_type": "execute_result",
          "data": {
            "text/html": [
              "<div>\n",
              "<style scoped>\n",
              "    .dataframe tbody tr th:only-of-type {\n",
              "        vertical-align: middle;\n",
              "    }\n",
              "\n",
              "    .dataframe tbody tr th {\n",
              "        vertical-align: top;\n",
              "    }\n",
              "\n",
              "    .dataframe thead th {\n",
              "        text-align: right;\n",
              "    }\n",
              "</style>\n",
              "<table border=\"1\" class=\"dataframe\">\n",
              "  <thead>\n",
              "    <tr style=\"text-align: right;\">\n",
              "      <th></th>\n",
              "      <th>County</th>\n",
              "      <th>Age</th>\n",
              "      <th>Gender</th>\n",
              "      <th>Monthly Income</th>\n",
              "      <th>Highest Level of Education Attained</th>\n",
              "      <th>Occupation</th>\n",
              "      <th>Location</th>\n",
              "      <th>Did you vote in 2017</th>\n",
              "      <th>Will you vote in the Refere</th>\n",
              "      <th>If No Why</th>\n",
              "      <th>How will you vote in the Referendum</th>\n",
              "      <th>If elections are today who would you vote for</th>\n",
              "      <th>If you dont vote for that one who is your second choice</th>\n",
              "      <th>Do you support BBI</th>\n",
              "      <th>Do you know what BBI wants to change</th>\n",
              "      <th>Do you support the Hustler Nation</th>\n",
              "      <th>Do you think the handshake brought us peace</th>\n",
              "      <th>Who influences youin your community</th>\n",
              "      <th>Do you trust your political leaders</th>\n",
              "      <th>Do you trust your religious leaders</th>\n",
              "      <th>Do you trust your elders</th>\n",
              "      <th>Where do you get your News from</th>\n",
              "      <th>Have you understood BBI completely</th>\n",
              "      <th>Will you vote in 2022</th>\n",
              "    </tr>\n",
              "  </thead>\n",
              "  <tbody>\n",
              "    <tr>\n",
              "      <th>5731</th>\n",
              "      <td>kisii</td>\n",
              "      <td>25-30</td>\n",
              "      <td>male</td>\n",
              "      <td>kshs,0-11,000</td>\n",
              "      <td>certificate</td>\n",
              "      <td>cash_crop_farmer_commercial_fi</td>\n",
              "      <td>rural</td>\n",
              "      <td>no</td>\n",
              "      <td>undecided</td>\n",
              "      <td>NaN</td>\n",
              "      <td>i_will_not_vote</td>\n",
              "      <td>raila_odinga</td>\n",
              "      <td>musalia_mudavadi</td>\n",
              "      <td>don_t_care</td>\n",
              "      <td>a_little</td>\n",
              "      <td>no</td>\n",
              "      <td>yes</td>\n",
              "      <td>governor</td>\n",
              "      <td>sometimes</td>\n",
              "      <td>always</td>\n",
              "      <td>always</td>\n",
              "      <td>radio</td>\n",
              "      <td>no</td>\n",
              "      <td>yes</td>\n",
              "    </tr>\n",
              "    <tr>\n",
              "      <th>5732</th>\n",
              "      <td>kisii</td>\n",
              "      <td>25-30</td>\n",
              "      <td>female</td>\n",
              "      <td>kshs,0-11,000</td>\n",
              "      <td>kcse</td>\n",
              "      <td>subsistence_farmer_subsistence</td>\n",
              "      <td>peri_urban</td>\n",
              "      <td>yes</td>\n",
              "      <td>yes</td>\n",
              "      <td>NaN</td>\n",
              "      <td>no__against_it</td>\n",
              "      <td>raila_odinga</td>\n",
              "      <td>raila_odinga</td>\n",
              "      <td>yes</td>\n",
              "      <td>a_little</td>\n",
              "      <td>no</td>\n",
              "      <td>yes</td>\n",
              "      <td>mp</td>\n",
              "      <td>always</td>\n",
              "      <td>always</td>\n",
              "      <td>always</td>\n",
              "      <td>newspapers</td>\n",
              "      <td>no</td>\n",
              "      <td>yes</td>\n",
              "    </tr>\n",
              "    <tr>\n",
              "      <th>5733</th>\n",
              "      <td>kisii</td>\n",
              "      <td>25-30</td>\n",
              "      <td>male</td>\n",
              "      <td>kshs,0-11,000</td>\n",
              "      <td>kcpe</td>\n",
              "      <td>cash_crop_farmer_commercial_fi</td>\n",
              "      <td>rural</td>\n",
              "      <td>yes</td>\n",
              "      <td>undecided</td>\n",
              "      <td>NaN</td>\n",
              "      <td>no__against_it</td>\n",
              "      <td>musalia_mudavadi</td>\n",
              "      <td>fred_matiangi</td>\n",
              "      <td>no</td>\n",
              "      <td>no</td>\n",
              "      <td>yes</td>\n",
              "      <td>yes</td>\n",
              "      <td>my_friends</td>\n",
              "      <td>sometimes</td>\n",
              "      <td>always</td>\n",
              "      <td>always</td>\n",
              "      <td>radio</td>\n",
              "      <td>no</td>\n",
              "      <td>yes</td>\n",
              "    </tr>\n",
              "    <tr>\n",
              "      <th>5734</th>\n",
              "      <td>kisii</td>\n",
              "      <td>36-40</td>\n",
              "      <td>female</td>\n",
              "      <td>kshs,11,001-20,000</td>\n",
              "      <td>diploma</td>\n",
              "      <td>formal_employment__teacher_acc</td>\n",
              "      <td>rural</td>\n",
              "      <td>yes</td>\n",
              "      <td>undecided</td>\n",
              "      <td>NaN</td>\n",
              "      <td>still_deciding</td>\n",
              "      <td>fred_matiangi</td>\n",
              "      <td>william_ruto</td>\n",
              "      <td>thinking_about_it</td>\n",
              "      <td>no</td>\n",
              "      <td>i_do_not_know_about_it</td>\n",
              "      <td>no_response</td>\n",
              "      <td>governor</td>\n",
              "      <td>sometimes</td>\n",
              "      <td>always</td>\n",
              "      <td>always</td>\n",
              "      <td>radio</td>\n",
              "      <td>no</td>\n",
              "      <td>yes</td>\n",
              "    </tr>\n",
              "    <tr>\n",
              "      <th>5735</th>\n",
              "      <td>kisii</td>\n",
              "      <td>18-24</td>\n",
              "      <td>male</td>\n",
              "      <td>kshs,0-11,000</td>\n",
              "      <td>kcse</td>\n",
              "      <td>cash_crop_farmer_commercial_fi</td>\n",
              "      <td>rural</td>\n",
              "      <td>no</td>\n",
              "      <td>undecided</td>\n",
              "      <td>NaN</td>\n",
              "      <td>i_will_not_vote</td>\n",
              "      <td>fred_matiangi</td>\n",
              "      <td>william_ruto</td>\n",
              "      <td>thinking_about_it</td>\n",
              "      <td>no</td>\n",
              "      <td>not_sure</td>\n",
              "      <td>no</td>\n",
              "      <td>governor</td>\n",
              "      <td>never</td>\n",
              "      <td>always</td>\n",
              "      <td>always</td>\n",
              "      <td>radio</td>\n",
              "      <td>maybe</td>\n",
              "      <td>yes</td>\n",
              "    </tr>\n",
              "  </tbody>\n",
              "</table>\n",
              "</div>"
            ],
            "text/plain": [
              "     County    Age  ... Have you understood BBI completely Will you vote in 2022\n",
              "5731  kisii  25-30  ...                                 no                   yes\n",
              "5732  kisii  25-30  ...                                 no                   yes\n",
              "5733  kisii  25-30  ...                                 no                   yes\n",
              "5734  kisii  36-40  ...                                 no                   yes\n",
              "5735  kisii  18-24  ...                              maybe                   yes\n",
              "\n",
              "[5 rows x 24 columns]"
            ]
          },
          "metadata": {},
          "execution_count": 43
        }
      ]
    },
    {
      "cell_type": "code",
      "metadata": {
        "colab": {
          "base_uri": "https://localhost:8080/",
          "height": 410
        },
        "id": "5hFJfqumIUVX",
        "outputId": "66ba4315-973a-4e5f-cb44-555dd129a12f"
      },
      "source": [
        "df[\"Monthly Income (Kshs)\"]= df[\"Monthly Income\"].str.replace('kshs,','')\n",
        "\n",
        "df[\"Monthly Income\"]= df[\"Monthly Income (Kshs)\"]\n",
        "df.head()"
      ],
      "execution_count": 44,
      "outputs": [
        {
          "output_type": "execute_result",
          "data": {
            "text/html": [
              "<div>\n",
              "<style scoped>\n",
              "    .dataframe tbody tr th:only-of-type {\n",
              "        vertical-align: middle;\n",
              "    }\n",
              "\n",
              "    .dataframe tbody tr th {\n",
              "        vertical-align: top;\n",
              "    }\n",
              "\n",
              "    .dataframe thead th {\n",
              "        text-align: right;\n",
              "    }\n",
              "</style>\n",
              "<table border=\"1\" class=\"dataframe\">\n",
              "  <thead>\n",
              "    <tr style=\"text-align: right;\">\n",
              "      <th></th>\n",
              "      <th>County</th>\n",
              "      <th>Age</th>\n",
              "      <th>Gender</th>\n",
              "      <th>Monthly Income</th>\n",
              "      <th>Highest Level of Education Attained</th>\n",
              "      <th>Occupation</th>\n",
              "      <th>Location</th>\n",
              "      <th>Did you vote in 2017</th>\n",
              "      <th>Will you vote in the Refere</th>\n",
              "      <th>If No Why</th>\n",
              "      <th>How will you vote in the Referendum</th>\n",
              "      <th>If elections are today who would you vote for</th>\n",
              "      <th>If you dont vote for that one who is your second choice</th>\n",
              "      <th>Do you support BBI</th>\n",
              "      <th>Do you know what BBI wants to change</th>\n",
              "      <th>Do you support the Hustler Nation</th>\n",
              "      <th>Do you think the handshake brought us peace</th>\n",
              "      <th>Who influences youin your community</th>\n",
              "      <th>Do you trust your political leaders</th>\n",
              "      <th>Do you trust your religious leaders</th>\n",
              "      <th>Do you trust your elders</th>\n",
              "      <th>Where do you get your News from</th>\n",
              "      <th>Have you understood BBI completely</th>\n",
              "      <th>Will you vote in 2022</th>\n",
              "      <th>Monthly Income (Kshs)</th>\n",
              "    </tr>\n",
              "  </thead>\n",
              "  <tbody>\n",
              "    <tr>\n",
              "      <th>0</th>\n",
              "      <td>trans_nzoia</td>\n",
              "      <td>25-30</td>\n",
              "      <td>male</td>\n",
              "      <td>0-11,000</td>\n",
              "      <td>kcpe</td>\n",
              "      <td>hustler</td>\n",
              "      <td>urban</td>\n",
              "      <td>yes</td>\n",
              "      <td>undecided</td>\n",
              "      <td>NaN</td>\n",
              "      <td>still_deciding</td>\n",
              "      <td>raila_odinga</td>\n",
              "      <td>none</td>\n",
              "      <td>thinking_about_it</td>\n",
              "      <td>yes</td>\n",
              "      <td>no_response</td>\n",
              "      <td>no_response</td>\n",
              "      <td>no_one</td>\n",
              "      <td>rarely</td>\n",
              "      <td>never</td>\n",
              "      <td>often</td>\n",
              "      <td>tv</td>\n",
              "      <td>i_don_t_care</td>\n",
              "      <td>response</td>\n",
              "      <td>0-11,000</td>\n",
              "    </tr>\n",
              "    <tr>\n",
              "      <th>1</th>\n",
              "      <td>mombasa</td>\n",
              "      <td>25-30</td>\n",
              "      <td>male</td>\n",
              "      <td>11,001-20,000</td>\n",
              "      <td>kcpe</td>\n",
              "      <td>business_owner__hotel_shop_kio</td>\n",
              "      <td>peri_urban</td>\n",
              "      <td>yes</td>\n",
              "      <td>no</td>\n",
              "      <td>i_do_not_understand_bbi</td>\n",
              "      <td>still_deciding</td>\n",
              "      <td>kalonzo_musyoka</td>\n",
              "      <td>musalia_mudavadi</td>\n",
              "      <td>thinking_about_it</td>\n",
              "      <td>no</td>\n",
              "      <td>no</td>\n",
              "      <td>yes</td>\n",
              "      <td>mcas</td>\n",
              "      <td>rarely</td>\n",
              "      <td>rarely</td>\n",
              "      <td>rarely</td>\n",
              "      <td>radio</td>\n",
              "      <td>no</td>\n",
              "      <td>yes</td>\n",
              "      <td>11,001-20,000</td>\n",
              "    </tr>\n",
              "    <tr>\n",
              "      <th>2</th>\n",
              "      <td>kitui</td>\n",
              "      <td>25-30</td>\n",
              "      <td>female</td>\n",
              "      <td>20,001-50,000</td>\n",
              "      <td>diploma</td>\n",
              "      <td>formal_employment__teacher_acc</td>\n",
              "      <td>urban</td>\n",
              "      <td>yes</td>\n",
              "      <td>yes</td>\n",
              "      <td>NaN</td>\n",
              "      <td>yes__for_it</td>\n",
              "      <td>raila_odinga</td>\n",
              "      <td>musalia_mudavadi</td>\n",
              "      <td>yes</td>\n",
              "      <td>yes</td>\n",
              "      <td>no</td>\n",
              "      <td>yes</td>\n",
              "      <td>no_one</td>\n",
              "      <td>sometimes</td>\n",
              "      <td>often</td>\n",
              "      <td>always</td>\n",
              "      <td>tv</td>\n",
              "      <td>yes</td>\n",
              "      <td>yes</td>\n",
              "      <td>20,001-50,000</td>\n",
              "    </tr>\n",
              "    <tr>\n",
              "      <th>3</th>\n",
              "      <td>migori</td>\n",
              "      <td>31-35</td>\n",
              "      <td>male</td>\n",
              "      <td>11,001-20,000</td>\n",
              "      <td>diploma</td>\n",
              "      <td>hustler</td>\n",
              "      <td>urban</td>\n",
              "      <td>no</td>\n",
              "      <td>yes</td>\n",
              "      <td>NaN</td>\n",
              "      <td>yes__for_it</td>\n",
              "      <td>raila_odinga</td>\n",
              "      <td>william_ruto</td>\n",
              "      <td>yes</td>\n",
              "      <td>yes</td>\n",
              "      <td>yes</td>\n",
              "      <td>yes</td>\n",
              "      <td>chief</td>\n",
              "      <td>always</td>\n",
              "      <td>always</td>\n",
              "      <td>always</td>\n",
              "      <td>tv</td>\n",
              "      <td>yes</td>\n",
              "      <td>yes</td>\n",
              "      <td>11,001-20,000</td>\n",
              "    </tr>\n",
              "    <tr>\n",
              "      <th>4</th>\n",
              "      <td>mombasa</td>\n",
              "      <td>41-50</td>\n",
              "      <td>male</td>\n",
              "      <td>0-11,000</td>\n",
              "      <td>certificate</td>\n",
              "      <td>informal_employment__jua_kali_</td>\n",
              "      <td>peri_urban</td>\n",
              "      <td>yes</td>\n",
              "      <td>yes</td>\n",
              "      <td>NaN</td>\n",
              "      <td>no__against_it</td>\n",
              "      <td>william_ruto</td>\n",
              "      <td>peter_kenneth</td>\n",
              "      <td>no</td>\n",
              "      <td>yes</td>\n",
              "      <td>yes</td>\n",
              "      <td>no</td>\n",
              "      <td>business_leaders</td>\n",
              "      <td>never</td>\n",
              "      <td>never</td>\n",
              "      <td>never</td>\n",
              "      <td>tv</td>\n",
              "      <td>no</td>\n",
              "      <td>yes</td>\n",
              "      <td>0-11,000</td>\n",
              "    </tr>\n",
              "  </tbody>\n",
              "</table>\n",
              "</div>"
            ],
            "text/plain": [
              "        County    Age  ... Will you vote in 2022 Monthly Income (Kshs)\n",
              "0  trans_nzoia  25-30  ...              response              0-11,000\n",
              "1      mombasa  25-30  ...                   yes         11,001-20,000\n",
              "2        kitui  25-30  ...                   yes         20,001-50,000\n",
              "3       migori  31-35  ...                   yes         11,001-20,000\n",
              "4      mombasa  41-50  ...                   yes              0-11,000\n",
              "\n",
              "[5 rows x 25 columns]"
            ]
          },
          "metadata": {},
          "execution_count": 44
        }
      ]
    },
    {
      "cell_type": "code",
      "metadata": {
        "id": "n2Bb0-UEJRL5",
        "colab": {
          "base_uri": "https://localhost:8080/",
          "height": 710
        },
        "outputId": "0777396c-38fd-4ee0-8408-c09314ee20f4"
      },
      "source": [
        "df.to_csv('df_new.csv')\n",
        "df_new = pd.read_csv(\"/content/df_new.csv\")\n",
        "\n",
        "df_new"
      ],
      "execution_count": 45,
      "outputs": [
        {
          "output_type": "execute_result",
          "data": {
            "text/html": [
              "<div>\n",
              "<style scoped>\n",
              "    .dataframe tbody tr th:only-of-type {\n",
              "        vertical-align: middle;\n",
              "    }\n",
              "\n",
              "    .dataframe tbody tr th {\n",
              "        vertical-align: top;\n",
              "    }\n",
              "\n",
              "    .dataframe thead th {\n",
              "        text-align: right;\n",
              "    }\n",
              "</style>\n",
              "<table border=\"1\" class=\"dataframe\">\n",
              "  <thead>\n",
              "    <tr style=\"text-align: right;\">\n",
              "      <th></th>\n",
              "      <th>Unnamed: 0</th>\n",
              "      <th>County</th>\n",
              "      <th>Age</th>\n",
              "      <th>Gender</th>\n",
              "      <th>Monthly Income</th>\n",
              "      <th>Highest Level of Education Attained</th>\n",
              "      <th>Occupation</th>\n",
              "      <th>Location</th>\n",
              "      <th>Did you vote in 2017</th>\n",
              "      <th>Will you vote in the Refere</th>\n",
              "      <th>If No Why</th>\n",
              "      <th>How will you vote in the Referendum</th>\n",
              "      <th>If elections are today who would you vote for</th>\n",
              "      <th>If you dont vote for that one who is your second choice</th>\n",
              "      <th>Do you support BBI</th>\n",
              "      <th>Do you know what BBI wants to change</th>\n",
              "      <th>Do you support the Hustler Nation</th>\n",
              "      <th>Do you think the handshake brought us peace</th>\n",
              "      <th>Who influences youin your community</th>\n",
              "      <th>Do you trust your political leaders</th>\n",
              "      <th>Do you trust your religious leaders</th>\n",
              "      <th>Do you trust your elders</th>\n",
              "      <th>Where do you get your News from</th>\n",
              "      <th>Have you understood BBI completely</th>\n",
              "      <th>Will you vote in 2022</th>\n",
              "      <th>Monthly Income (Kshs)</th>\n",
              "    </tr>\n",
              "  </thead>\n",
              "  <tbody>\n",
              "    <tr>\n",
              "      <th>0</th>\n",
              "      <td>0</td>\n",
              "      <td>trans_nzoia</td>\n",
              "      <td>25-30</td>\n",
              "      <td>male</td>\n",
              "      <td>0-11,000</td>\n",
              "      <td>kcpe</td>\n",
              "      <td>hustler</td>\n",
              "      <td>urban</td>\n",
              "      <td>yes</td>\n",
              "      <td>undecided</td>\n",
              "      <td>NaN</td>\n",
              "      <td>still_deciding</td>\n",
              "      <td>raila_odinga</td>\n",
              "      <td>none</td>\n",
              "      <td>thinking_about_it</td>\n",
              "      <td>yes</td>\n",
              "      <td>no_response</td>\n",
              "      <td>no_response</td>\n",
              "      <td>no_one</td>\n",
              "      <td>rarely</td>\n",
              "      <td>never</td>\n",
              "      <td>often</td>\n",
              "      <td>tv</td>\n",
              "      <td>i_don_t_care</td>\n",
              "      <td>response</td>\n",
              "      <td>0-11,000</td>\n",
              "    </tr>\n",
              "    <tr>\n",
              "      <th>1</th>\n",
              "      <td>1</td>\n",
              "      <td>mombasa</td>\n",
              "      <td>25-30</td>\n",
              "      <td>male</td>\n",
              "      <td>11,001-20,000</td>\n",
              "      <td>kcpe</td>\n",
              "      <td>business_owner__hotel_shop_kio</td>\n",
              "      <td>peri_urban</td>\n",
              "      <td>yes</td>\n",
              "      <td>no</td>\n",
              "      <td>i_do_not_understand_bbi</td>\n",
              "      <td>still_deciding</td>\n",
              "      <td>kalonzo_musyoka</td>\n",
              "      <td>musalia_mudavadi</td>\n",
              "      <td>thinking_about_it</td>\n",
              "      <td>no</td>\n",
              "      <td>no</td>\n",
              "      <td>yes</td>\n",
              "      <td>mcas</td>\n",
              "      <td>rarely</td>\n",
              "      <td>rarely</td>\n",
              "      <td>rarely</td>\n",
              "      <td>radio</td>\n",
              "      <td>no</td>\n",
              "      <td>yes</td>\n",
              "      <td>11,001-20,000</td>\n",
              "    </tr>\n",
              "    <tr>\n",
              "      <th>2</th>\n",
              "      <td>2</td>\n",
              "      <td>kitui</td>\n",
              "      <td>25-30</td>\n",
              "      <td>female</td>\n",
              "      <td>20,001-50,000</td>\n",
              "      <td>diploma</td>\n",
              "      <td>formal_employment__teacher_acc</td>\n",
              "      <td>urban</td>\n",
              "      <td>yes</td>\n",
              "      <td>yes</td>\n",
              "      <td>NaN</td>\n",
              "      <td>yes__for_it</td>\n",
              "      <td>raila_odinga</td>\n",
              "      <td>musalia_mudavadi</td>\n",
              "      <td>yes</td>\n",
              "      <td>yes</td>\n",
              "      <td>no</td>\n",
              "      <td>yes</td>\n",
              "      <td>no_one</td>\n",
              "      <td>sometimes</td>\n",
              "      <td>often</td>\n",
              "      <td>always</td>\n",
              "      <td>tv</td>\n",
              "      <td>yes</td>\n",
              "      <td>yes</td>\n",
              "      <td>20,001-50,000</td>\n",
              "    </tr>\n",
              "    <tr>\n",
              "      <th>3</th>\n",
              "      <td>3</td>\n",
              "      <td>migori</td>\n",
              "      <td>31-35</td>\n",
              "      <td>male</td>\n",
              "      <td>11,001-20,000</td>\n",
              "      <td>diploma</td>\n",
              "      <td>hustler</td>\n",
              "      <td>urban</td>\n",
              "      <td>no</td>\n",
              "      <td>yes</td>\n",
              "      <td>NaN</td>\n",
              "      <td>yes__for_it</td>\n",
              "      <td>raila_odinga</td>\n",
              "      <td>william_ruto</td>\n",
              "      <td>yes</td>\n",
              "      <td>yes</td>\n",
              "      <td>yes</td>\n",
              "      <td>yes</td>\n",
              "      <td>chief</td>\n",
              "      <td>always</td>\n",
              "      <td>always</td>\n",
              "      <td>always</td>\n",
              "      <td>tv</td>\n",
              "      <td>yes</td>\n",
              "      <td>yes</td>\n",
              "      <td>11,001-20,000</td>\n",
              "    </tr>\n",
              "    <tr>\n",
              "      <th>4</th>\n",
              "      <td>4</td>\n",
              "      <td>mombasa</td>\n",
              "      <td>41-50</td>\n",
              "      <td>male</td>\n",
              "      <td>0-11,000</td>\n",
              "      <td>certificate</td>\n",
              "      <td>informal_employment__jua_kali_</td>\n",
              "      <td>peri_urban</td>\n",
              "      <td>yes</td>\n",
              "      <td>yes</td>\n",
              "      <td>NaN</td>\n",
              "      <td>no__against_it</td>\n",
              "      <td>william_ruto</td>\n",
              "      <td>peter_kenneth</td>\n",
              "      <td>no</td>\n",
              "      <td>yes</td>\n",
              "      <td>yes</td>\n",
              "      <td>no</td>\n",
              "      <td>business_leaders</td>\n",
              "      <td>never</td>\n",
              "      <td>never</td>\n",
              "      <td>never</td>\n",
              "      <td>tv</td>\n",
              "      <td>no</td>\n",
              "      <td>yes</td>\n",
              "      <td>0-11,000</td>\n",
              "    </tr>\n",
              "    <tr>\n",
              "      <th>...</th>\n",
              "      <td>...</td>\n",
              "      <td>...</td>\n",
              "      <td>...</td>\n",
              "      <td>...</td>\n",
              "      <td>...</td>\n",
              "      <td>...</td>\n",
              "      <td>...</td>\n",
              "      <td>...</td>\n",
              "      <td>...</td>\n",
              "      <td>...</td>\n",
              "      <td>...</td>\n",
              "      <td>...</td>\n",
              "      <td>...</td>\n",
              "      <td>...</td>\n",
              "      <td>...</td>\n",
              "      <td>...</td>\n",
              "      <td>...</td>\n",
              "      <td>...</td>\n",
              "      <td>...</td>\n",
              "      <td>...</td>\n",
              "      <td>...</td>\n",
              "      <td>...</td>\n",
              "      <td>...</td>\n",
              "      <td>...</td>\n",
              "      <td>...</td>\n",
              "      <td>...</td>\n",
              "    </tr>\n",
              "    <tr>\n",
              "      <th>5731</th>\n",
              "      <td>5731</td>\n",
              "      <td>kisii</td>\n",
              "      <td>25-30</td>\n",
              "      <td>male</td>\n",
              "      <td>0-11,000</td>\n",
              "      <td>certificate</td>\n",
              "      <td>cash_crop_farmer_commercial_fi</td>\n",
              "      <td>rural</td>\n",
              "      <td>no</td>\n",
              "      <td>undecided</td>\n",
              "      <td>NaN</td>\n",
              "      <td>i_will_not_vote</td>\n",
              "      <td>raila_odinga</td>\n",
              "      <td>musalia_mudavadi</td>\n",
              "      <td>don_t_care</td>\n",
              "      <td>a_little</td>\n",
              "      <td>no</td>\n",
              "      <td>yes</td>\n",
              "      <td>governor</td>\n",
              "      <td>sometimes</td>\n",
              "      <td>always</td>\n",
              "      <td>always</td>\n",
              "      <td>radio</td>\n",
              "      <td>no</td>\n",
              "      <td>yes</td>\n",
              "      <td>0-11,000</td>\n",
              "    </tr>\n",
              "    <tr>\n",
              "      <th>5732</th>\n",
              "      <td>5732</td>\n",
              "      <td>kisii</td>\n",
              "      <td>25-30</td>\n",
              "      <td>female</td>\n",
              "      <td>0-11,000</td>\n",
              "      <td>kcse</td>\n",
              "      <td>subsistence_farmer_subsistence</td>\n",
              "      <td>peri_urban</td>\n",
              "      <td>yes</td>\n",
              "      <td>yes</td>\n",
              "      <td>NaN</td>\n",
              "      <td>no__against_it</td>\n",
              "      <td>raila_odinga</td>\n",
              "      <td>raila_odinga</td>\n",
              "      <td>yes</td>\n",
              "      <td>a_little</td>\n",
              "      <td>no</td>\n",
              "      <td>yes</td>\n",
              "      <td>mp</td>\n",
              "      <td>always</td>\n",
              "      <td>always</td>\n",
              "      <td>always</td>\n",
              "      <td>newspapers</td>\n",
              "      <td>no</td>\n",
              "      <td>yes</td>\n",
              "      <td>0-11,000</td>\n",
              "    </tr>\n",
              "    <tr>\n",
              "      <th>5733</th>\n",
              "      <td>5733</td>\n",
              "      <td>kisii</td>\n",
              "      <td>25-30</td>\n",
              "      <td>male</td>\n",
              "      <td>0-11,000</td>\n",
              "      <td>kcpe</td>\n",
              "      <td>cash_crop_farmer_commercial_fi</td>\n",
              "      <td>rural</td>\n",
              "      <td>yes</td>\n",
              "      <td>undecided</td>\n",
              "      <td>NaN</td>\n",
              "      <td>no__against_it</td>\n",
              "      <td>musalia_mudavadi</td>\n",
              "      <td>fred_matiangi</td>\n",
              "      <td>no</td>\n",
              "      <td>no</td>\n",
              "      <td>yes</td>\n",
              "      <td>yes</td>\n",
              "      <td>my_friends</td>\n",
              "      <td>sometimes</td>\n",
              "      <td>always</td>\n",
              "      <td>always</td>\n",
              "      <td>radio</td>\n",
              "      <td>no</td>\n",
              "      <td>yes</td>\n",
              "      <td>0-11,000</td>\n",
              "    </tr>\n",
              "    <tr>\n",
              "      <th>5734</th>\n",
              "      <td>5734</td>\n",
              "      <td>kisii</td>\n",
              "      <td>36-40</td>\n",
              "      <td>female</td>\n",
              "      <td>11,001-20,000</td>\n",
              "      <td>diploma</td>\n",
              "      <td>formal_employment__teacher_acc</td>\n",
              "      <td>rural</td>\n",
              "      <td>yes</td>\n",
              "      <td>undecided</td>\n",
              "      <td>NaN</td>\n",
              "      <td>still_deciding</td>\n",
              "      <td>fred_matiangi</td>\n",
              "      <td>william_ruto</td>\n",
              "      <td>thinking_about_it</td>\n",
              "      <td>no</td>\n",
              "      <td>i_do_not_know_about_it</td>\n",
              "      <td>no_response</td>\n",
              "      <td>governor</td>\n",
              "      <td>sometimes</td>\n",
              "      <td>always</td>\n",
              "      <td>always</td>\n",
              "      <td>radio</td>\n",
              "      <td>no</td>\n",
              "      <td>yes</td>\n",
              "      <td>11,001-20,000</td>\n",
              "    </tr>\n",
              "    <tr>\n",
              "      <th>5735</th>\n",
              "      <td>5735</td>\n",
              "      <td>kisii</td>\n",
              "      <td>18-24</td>\n",
              "      <td>male</td>\n",
              "      <td>0-11,000</td>\n",
              "      <td>kcse</td>\n",
              "      <td>cash_crop_farmer_commercial_fi</td>\n",
              "      <td>rural</td>\n",
              "      <td>no</td>\n",
              "      <td>undecided</td>\n",
              "      <td>NaN</td>\n",
              "      <td>i_will_not_vote</td>\n",
              "      <td>fred_matiangi</td>\n",
              "      <td>william_ruto</td>\n",
              "      <td>thinking_about_it</td>\n",
              "      <td>no</td>\n",
              "      <td>not_sure</td>\n",
              "      <td>no</td>\n",
              "      <td>governor</td>\n",
              "      <td>never</td>\n",
              "      <td>always</td>\n",
              "      <td>always</td>\n",
              "      <td>radio</td>\n",
              "      <td>maybe</td>\n",
              "      <td>yes</td>\n",
              "      <td>0-11,000</td>\n",
              "    </tr>\n",
              "  </tbody>\n",
              "</table>\n",
              "<p>5736 rows × 26 columns</p>\n",
              "</div>"
            ],
            "text/plain": [
              "      Unnamed: 0       County  ... Will you vote in 2022 Monthly Income (Kshs)\n",
              "0              0  trans_nzoia  ...              response              0-11,000\n",
              "1              1      mombasa  ...                   yes         11,001-20,000\n",
              "2              2        kitui  ...                   yes         20,001-50,000\n",
              "3              3       migori  ...                   yes         11,001-20,000\n",
              "4              4      mombasa  ...                   yes              0-11,000\n",
              "...          ...          ...  ...                   ...                   ...\n",
              "5731        5731        kisii  ...                   yes              0-11,000\n",
              "5732        5732        kisii  ...                   yes              0-11,000\n",
              "5733        5733        kisii  ...                   yes              0-11,000\n",
              "5734        5734        kisii  ...                   yes         11,001-20,000\n",
              "5735        5735        kisii  ...                   yes              0-11,000\n",
              "\n",
              "[5736 rows x 26 columns]"
            ]
          },
          "metadata": {},
          "execution_count": 45
        }
      ]
    },
    {
      "cell_type": "markdown",
      "metadata": {
        "id": "o8OV7L_27NRJ"
      },
      "source": [
        "# Completeness"
      ]
    },
    {
      "cell_type": "code",
      "metadata": {
        "id": "pNJCOiFd7SCo",
        "colab": {
          "base_uri": "https://localhost:8080/"
        },
        "outputId": "4b651b52-cbc2-4556-c98b-6933f739fdec"
      },
      "source": [
        "df_new =pd.read_csv(\"/content/df_new.csv\")\n",
        "# df_new.head()\n",
        "knowledge(df_new)"
      ],
      "execution_count": 46,
      "outputs": [
        {
          "output_type": "stream",
          "text": [
            "The shape is **********************\n",
            "(5736, 25)\n",
            "The information is **********************\n",
            "<class 'pandas.core.frame.DataFrame'>\n",
            "RangeIndex: 5736 entries, 0 to 5735\n",
            "Data columns (total 25 columns):\n",
            " #   Column                                                   Non-Null Count  Dtype \n",
            "---  ------                                                   --------------  ----- \n",
            " 0   County                                                   5736 non-null   object\n",
            " 1   Age                                                      5736 non-null   object\n",
            " 2   Gender                                                   5736 non-null   object\n",
            " 3   Monthly Income                                           5736 non-null   object\n",
            " 4   Highest Level of Education Attained                      5736 non-null   object\n",
            " 5   Occupation                                               5736 non-null   object\n",
            " 6   Location                                                 5736 non-null   object\n",
            " 7   Did you vote in 2017                                     5736 non-null   object\n",
            " 8   Will you vote in the Refere                              5736 non-null   object\n",
            " 9   If No Why                                                1377 non-null   object\n",
            " 10  How will you vote in the Referendum                      5736 non-null   object\n",
            " 11  If elections are today who would you vote for            5736 non-null   object\n",
            " 12  If you dont vote for that one who is your second choice  5736 non-null   object\n",
            " 13  Do you support BBI                                       5736 non-null   object\n",
            " 14  Do you know what BBI wants to change                     5736 non-null   object\n",
            " 15  Do you support the Hustler Nation                        5736 non-null   object\n",
            " 16  Do you think the handshake brought us peace              5736 non-null   object\n",
            " 17  Who influences youin your community                      5736 non-null   object\n",
            " 18  Do you trust your political leaders                      5736 non-null   object\n",
            " 19  Do you trust your religious leaders                      5736 non-null   object\n",
            " 20  Do you trust your elders                                 5736 non-null   object\n",
            " 21  Where do you get your News from                          5736 non-null   object\n",
            " 22  Have you understood BBI completely                       5736 non-null   object\n",
            " 23  Will you vote in 2022                                    5736 non-null   object\n",
            " 24  Monthly Income (Kshs)                                    5736 non-null   object\n",
            "dtypes: object(25)\n",
            "memory usage: 1.1+ MB\n",
            "None\n",
            " The size is**********************\n",
            "143400\n"
          ],
          "name": "stdout"
        }
      ]
    },
    {
      "cell_type": "code",
      "metadata": {
        "id": "P2b8UNRWK9P8",
        "colab": {
          "base_uri": "https://localhost:8080/"
        },
        "outputId": "78f91ebe-01cc-4ad0-cc70-a119c07db8a7"
      },
      "source": [
        "#checking for columns with null entries\n",
        "df_new.isnull().any()\n"
      ],
      "execution_count": 47,
      "outputs": [
        {
          "output_type": "execute_result",
          "data": {
            "text/plain": [
              "Unnamed: 0                                                 False\n",
              "County                                                     False\n",
              "Age                                                        False\n",
              "Gender                                                     False\n",
              "Monthly Income                                             False\n",
              "Highest Level of Education Attained                        False\n",
              "Occupation                                                 False\n",
              "Location                                                   False\n",
              "Did you vote in 2017                                       False\n",
              "Will you vote in the Refere                                False\n",
              "If No Why                                                   True\n",
              "How will you vote in the Referendum                        False\n",
              "If elections are today who would you vote for              False\n",
              "If you dont vote for that one who is your second choice    False\n",
              "Do you support BBI                                         False\n",
              "Do you know what BBI wants to change                       False\n",
              "Do you support the Hustler Nation                          False\n",
              "Do you think the handshake brought us peace                False\n",
              "Who influences youin your community                        False\n",
              "Do you trust your political leaders                        False\n",
              "Do you trust your religious leaders                        False\n",
              "Do you trust your elders                                   False\n",
              "Where do you get your News from                            False\n",
              "Have you understood BBI completely                         False\n",
              "Will you vote in 2022                                      False\n",
              "Monthly Income (Kshs)                                      False\n",
              "dtype: bool"
            ]
          },
          "metadata": {},
          "execution_count": 47
        }
      ]
    },
    {
      "cell_type": "code",
      "metadata": {
        "id": "Rd2dED2iLV43",
        "colab": {
          "base_uri": "https://localhost:8080/"
        },
        "outputId": "e936da6e-ce96-46a9-9020-3ba3574bdc86"
      },
      "source": [
        "#number of null entries\n",
        "df_new.isnull().sum().sum()"
      ],
      "execution_count": 48,
      "outputs": [
        {
          "output_type": "execute_result",
          "data": {
            "text/plain": [
              "4359"
            ]
          },
          "metadata": {},
          "execution_count": 48
        }
      ]
    },
    {
      "cell_type": "markdown",
      "metadata": {
        "id": "0gcDfmT77S7_"
      },
      "source": [
        "# Consistency"
      ]
    },
    {
      "cell_type": "code",
      "metadata": {
        "id": "PRZaJBN_7Yo3",
        "colab": {
          "base_uri": "https://localhost:8080/"
        },
        "outputId": "57b0788e-c3c6-4ff3-abee-acfe48c712d2"
      },
      "source": [
        "#checking our data for duplicates\n",
        "df_new.duplicated().sum()"
      ],
      "execution_count": 49,
      "outputs": [
        {
          "output_type": "execute_result",
          "data": {
            "text/plain": [
              "0"
            ]
          },
          "metadata": {},
          "execution_count": 49
        }
      ]
    },
    {
      "cell_type": "code",
      "metadata": {
        "id": "UA3Ou_OwLJbg",
        "colab": {
          "base_uri": "https://localhost:8080/"
        },
        "outputId": "ed0034f7-e8dc-4f8d-c167-5377a4f73245"
      },
      "source": [
        "#outliers\n",
        "knowledge(df_new)"
      ],
      "execution_count": 50,
      "outputs": [
        {
          "output_type": "stream",
          "text": [
            "The shape is **********************\n",
            "(5736, 25)\n",
            "The information is **********************\n",
            "<class 'pandas.core.frame.DataFrame'>\n",
            "RangeIndex: 5736 entries, 0 to 5735\n",
            "Data columns (total 25 columns):\n",
            " #   Column                                                   Non-Null Count  Dtype \n",
            "---  ------                                                   --------------  ----- \n",
            " 0   County                                                   5736 non-null   object\n",
            " 1   Age                                                      5736 non-null   object\n",
            " 2   Gender                                                   5736 non-null   object\n",
            " 3   Monthly Income                                           5736 non-null   object\n",
            " 4   Highest Level of Education Attained                      5736 non-null   object\n",
            " 5   Occupation                                               5736 non-null   object\n",
            " 6   Location                                                 5736 non-null   object\n",
            " 7   Did you vote in 2017                                     5736 non-null   object\n",
            " 8   Will you vote in the Refere                              5736 non-null   object\n",
            " 9   If No Why                                                1377 non-null   object\n",
            " 10  How will you vote in the Referendum                      5736 non-null   object\n",
            " 11  If elections are today who would you vote for            5736 non-null   object\n",
            " 12  If you dont vote for that one who is your second choice  5736 non-null   object\n",
            " 13  Do you support BBI                                       5736 non-null   object\n",
            " 14  Do you know what BBI wants to change                     5736 non-null   object\n",
            " 15  Do you support the Hustler Nation                        5736 non-null   object\n",
            " 16  Do you think the handshake brought us peace              5736 non-null   object\n",
            " 17  Who influences youin your community                      5736 non-null   object\n",
            " 18  Do you trust your political leaders                      5736 non-null   object\n",
            " 19  Do you trust your religious leaders                      5736 non-null   object\n",
            " 20  Do you trust your elders                                 5736 non-null   object\n",
            " 21  Where do you get your News from                          5736 non-null   object\n",
            " 22  Have you understood BBI completely                       5736 non-null   object\n",
            " 23  Will you vote in 2022                                    5736 non-null   object\n",
            " 24  Monthly Income (Kshs)                                    5736 non-null   object\n",
            "dtypes: object(25)\n",
            "memory usage: 1.1+ MB\n",
            "None\n",
            " The size is**********************\n",
            "143400\n"
          ],
          "name": "stdout"
        }
      ]
    },
    {
      "cell_type": "code",
      "metadata": {
        "id": "JUdP7soWV5AT"
      },
      "source": [
        ""
      ],
      "execution_count": 50,
      "outputs": []
    },
    {
      "cell_type": "markdown",
      "metadata": {
        "id": "v7T2eacoW6iN"
      },
      "source": [
        "# Answering the research questions\n"
      ]
    },
    {
      "cell_type": "markdown",
      "metadata": {
        "id": "UE2sN0PlBwus"
      },
      "source": [
        "# 1.1 Answering research questions"
      ]
    },
    {
      "cell_type": "markdown",
      "metadata": {
        "id": "_Q9WU9dZB7UO"
      },
      "source": [
        "1. Do Kenyans understand what the BBI entails?"
      ]
    },
    {
      "cell_type": "code",
      "metadata": {
        "colab": {
          "base_uri": "https://localhost:8080/"
        },
        "id": "8uC3n_NljgP6",
        "outputId": "9f6d8f7f-044f-4dca-b8fa-237f71906527"
      },
      "source": [
        "df_new.columns"
      ],
      "execution_count": 51,
      "outputs": [
        {
          "output_type": "execute_result",
          "data": {
            "text/plain": [
              "Index(['Unnamed: 0', 'County', 'Age', 'Gender', 'Monthly Income',\n",
              "       'Highest Level of Education Attained', 'Occupation', 'Location',\n",
              "       'Did you vote in 2017', 'Will you vote in the Refere', 'If No Why',\n",
              "       'How will you vote in the Referendum',\n",
              "       'If elections are today who would you vote for',\n",
              "       'If you dont vote for that one who is your second choice',\n",
              "       'Do you support BBI', 'Do you know what BBI wants to change',\n",
              "       'Do you support the Hustler Nation',\n",
              "       'Do you think the handshake brought us peace',\n",
              "       'Who influences youin your community',\n",
              "       'Do you trust your political leaders',\n",
              "       'Do you trust your religious leaders', 'Do you trust your elders',\n",
              "       'Where do you get your News from', 'Have you understood BBI completely',\n",
              "       'Will you vote in 2022', 'Monthly Income (Kshs)'],\n",
              "      dtype='object')"
            ]
          },
          "metadata": {},
          "execution_count": 51
        }
      ]
    },
    {
      "cell_type": "code",
      "metadata": {
        "colab": {
          "base_uri": "https://localhost:8080/"
        },
        "id": "ftR6reoqjvne",
        "outputId": "d45f1c8c-f74b-494f-e51b-abac2b2eea6f"
      },
      "source": [
        "\n",
        "df_new['Have you understood BBI completely'].unique()\n"
      ],
      "execution_count": 52,
      "outputs": [
        {
          "output_type": "execute_result",
          "data": {
            "text/plain": [
              "array(['i_don_t_care', 'no', 'yes', 'maybe'], dtype=object)"
            ]
          },
          "metadata": {},
          "execution_count": 52
        }
      ]
    },
    {
      "cell_type": "markdown",
      "metadata": {
        "id": "aiX5y0PLD9KE"
      },
      "source": [
        "# 1.1  Do Kenyans understand what the BBI entails?"
      ]
    },
    {
      "cell_type": "markdown",
      "metadata": {
        "id": "FSY3HUdZEH8g"
      },
      "source": [
        "Those who completely understand BBI"
      ]
    },
    {
      "cell_type": "code",
      "metadata": {
        "colab": {
          "base_uri": "https://localhost:8080/"
        },
        "id": "veD4JHf2lg1L",
        "outputId": "91ca2846-6d09-4c8e-c2a6-00a95ca3084d"
      },
      "source": [
        "\n",
        "y=df_new['Have you understood BBI completely'].value_counts()\n",
        "y"
      ],
      "execution_count": 53,
      "outputs": [
        {
          "output_type": "execute_result",
          "data": {
            "text/plain": [
              "no              3972\n",
              "maybe            806\n",
              "yes              782\n",
              "i_don_t_care     176\n",
              "Name: Have you understood BBI completely, dtype: int64"
            ]
          },
          "metadata": {},
          "execution_count": 53
        }
      ]
    },
    {
      "cell_type": "markdown",
      "metadata": {
        "id": "Vrf_GCn8nCEC"
      },
      "source": [
        "\n",
        "\n",
        "1.   Kenyans who have completely understood BBI are 782\n",
        "\n",
        "\n"
      ]
    },
    {
      "cell_type": "code",
      "metadata": {
        "id": "eh6Dq_CZj_zA"
      },
      "source": [
        "def completelyBBI(Dknow):\n",
        "  if Dknow == 'yes'or 'no' or 'maybe' or 'i_don_t_care' :\n",
        "    know = df_new[\"Have you understood BBI completely\"] == Dknow\n",
        "    return know.sum()"
      ],
      "execution_count": 54,
      "outputs": []
    },
    {
      "cell_type": "code",
      "metadata": {
        "colab": {
          "base_uri": "https://localhost:8080/"
        },
        "id": "PBMXfG4rkPqY",
        "outputId": "6a421ebb-f507-4a90-cb2c-d40267196df5"
      },
      "source": [
        "completelyBBI('yes')"
      ],
      "execution_count": 55,
      "outputs": [
        {
          "output_type": "execute_result",
          "data": {
            "text/plain": [
              "782"
            ]
          },
          "metadata": {},
          "execution_count": 55
        }
      ]
    },
    {
      "cell_type": "code",
      "metadata": {
        "colab": {
          "base_uri": "https://localhost:8080/"
        },
        "id": "M5B65q3pkZkL",
        "outputId": "2184a1d0-c620-43f1-feb6-99dc13cdc1cd"
      },
      "source": [
        "completelyBBI('maybe')"
      ],
      "execution_count": 56,
      "outputs": [
        {
          "output_type": "execute_result",
          "data": {
            "text/plain": [
              "806"
            ]
          },
          "metadata": {},
          "execution_count": 56
        }
      ]
    },
    {
      "cell_type": "code",
      "metadata": {
        "colab": {
          "base_uri": "https://localhost:8080/"
        },
        "id": "k9I_R4jDkgOg",
        "outputId": "ae351df0-925f-4285-c9cd-6ce80da8f190"
      },
      "source": [
        "completelyBBI('no')"
      ],
      "execution_count": 57,
      "outputs": [
        {
          "output_type": "execute_result",
          "data": {
            "text/plain": [
              "3972"
            ]
          },
          "metadata": {},
          "execution_count": 57
        }
      ]
    },
    {
      "cell_type": "code",
      "metadata": {
        "colab": {
          "base_uri": "https://localhost:8080/"
        },
        "id": "bGcYkIZJkk2e",
        "outputId": "320d1e22-67af-454b-d7e2-ffb2573f691e"
      },
      "source": [
        "completelyBBI('i_don_t_care')"
      ],
      "execution_count": 58,
      "outputs": [
        {
          "output_type": "execute_result",
          "data": {
            "text/plain": [
              "176"
            ]
          },
          "metadata": {},
          "execution_count": 58
        }
      ]
    },
    {
      "cell_type": "code",
      "metadata": {
        "colab": {
          "base_uri": "https://localhost:8080/",
          "height": 264
        },
        "id": "xy-ZIkl1quIV",
        "outputId": "1a0f2c57-46e4-487a-dcad-49141d7cd407"
      },
      "source": [
        "data1=['yes','maybe','no','i_don_t_care']\n",
        "y=[782, 806, 3972, 176]\n",
        "plt.pie(y, labels=data1, autopct='%1.2f')\n",
        "#plt.legend()\n",
        "plt.title('full knowledge on BBI')\n",
        "plt.show()"
      ],
      "execution_count": 59,
      "outputs": [
        {
          "output_type": "display_data",
          "data": {
            "image/png": "[encoded data removed]",
            "text/plain": [
              "<Figure size 432x288 with 1 Axes>"
            ]
          },
          "metadata": {}
        }
      ]
    },
    {
      "cell_type": "markdown",
      "metadata": {
        "id": "tvhNLYRkERx_"
      },
      "source": [
        "2. What BBi wants to change"
      ]
    },
    {
      "cell_type": "code",
      "metadata": {
        "id": "HvXIj0AKXFHp",
        "colab": {
          "base_uri": "https://localhost:8080/"
        },
        "outputId": "b2ac0537-282e-46dd-dc24-479713ddb480"
      },
      "source": [
        "# Do Kenyans understand what the BBI entails?\n",
        "df_new[\"Do you know what BBI wants to change\"].unique()"
      ],
      "execution_count": 60,
      "outputs": [
        {
          "output_type": "execute_result",
          "data": {
            "text/plain": [
              "array(['yes', 'no', 'a_little'], dtype=object)"
            ]
          },
          "metadata": {},
          "execution_count": 60
        }
      ]
    },
    {
      "cell_type": "code",
      "metadata": {
        "colab": {
          "base_uri": "https://localhost:8080/"
        },
        "id": "04AzwnUkmJvw",
        "outputId": "2a4a63ba-0585-47b6-9380-89632be014f4"
      },
      "source": [
        "x=df_new[\"Do you know what BBI wants to change\"].value_counts()\n",
        "x"
      ],
      "execution_count": 61,
      "outputs": [
        {
          "output_type": "execute_result",
          "data": {
            "text/plain": [
              "no          2748\n",
              "a_little    1911\n",
              "yes         1077\n",
              "Name: Do you know what BBI wants to change, dtype: int64"
            ]
          },
          "metadata": {},
          "execution_count": 61
        }
      ]
    },
    {
      "cell_type": "code",
      "metadata": {
        "id": "i7tQO7G3qoNs"
      },
      "source": [
        ""
      ],
      "execution_count": 61,
      "outputs": []
    },
    {
      "cell_type": "code",
      "metadata": {
        "id": "GqAkE1xNBtpj"
      },
      "source": [
        "def InBBI(Dknow):\n",
        "  if Dknow == 'yes'or 'no' or 'a_little':\n",
        "    know = df_new[\"Do you know what BBI wants to change\"] == Dknow\n",
        "    return know.sum()"
      ],
      "execution_count": 62,
      "outputs": []
    },
    {
      "cell_type": "code",
      "metadata": {
        "id": "T0-NcFvJY4Ss",
        "colab": {
          "base_uri": "https://localhost:8080/"
        },
        "outputId": "59c15231-cde4-48d0-e7a4-7ca574401da0"
      },
      "source": [
        "#kenyans who knows BBI\n",
        "\n",
        "InBBI('yes')"
      ],
      "execution_count": 63,
      "outputs": [
        {
          "output_type": "execute_result",
          "data": {
            "text/plain": [
              "1077"
            ]
          },
          "metadata": {},
          "execution_count": 63
        }
      ]
    },
    {
      "cell_type": "code",
      "metadata": {
        "id": "6bVYnn3BaOe5",
        "colab": {
          "base_uri": "https://localhost:8080/"
        },
        "outputId": "b63455c1-d901-4247-fff9-35c4bc234b37"
      },
      "source": [
        "#who do not know \n",
        "\n",
        "InBBI('no')"
      ],
      "execution_count": 64,
      "outputs": [
        {
          "output_type": "execute_result",
          "data": {
            "text/plain": [
              "2748"
            ]
          },
          "metadata": {},
          "execution_count": 64
        }
      ]
    },
    {
      "cell_type": "code",
      "metadata": {
        "id": "QTfnjSdKauCQ",
        "colab": {
          "base_uri": "https://localhost:8080/"
        },
        "outputId": "24071ebb-47ef-48e3-d0e4-2ab54103ce0d"
      },
      "source": [
        "#who know little about BBI\n",
        "InBBI('a_little')"
      ],
      "execution_count": 65,
      "outputs": [
        {
          "output_type": "execute_result",
          "data": {
            "text/plain": [
              "1911"
            ]
          },
          "metadata": {},
          "execution_count": 65
        }
      ]
    },
    {
      "cell_type": "code",
      "metadata": {
        "id": "ms-XA5p5nq5n"
      },
      "source": [
        ""
      ],
      "execution_count": 65,
      "outputs": []
    },
    {
      "cell_type": "code",
      "metadata": {
        "colab": {
          "base_uri": "https://localhost:8080/",
          "height": 264
        },
        "id": "HwVsG1YgDz2W",
        "outputId": "2ff4f6bc-bb3b-4ccb-bc8c-c86cec1bfd5c"
      },
      "source": [
        "data=['yes','a_little','no']\n",
        "x=[1077, 1911,2748]\n",
        "plt.pie(x, labels=data, autopct='%1.2f')\n",
        "plt.legend()\n",
        "plt.title('Knowledge of BBI changes')\n",
        "plt.show()\n"
      ],
      "execution_count": 66,
      "outputs": [
        {
          "output_type": "display_data",
          "data": {
            "image/png": "[encoded data removed]",
            "text/plain": [
              "<Figure size 432x288 with 1 Axes>"
            ]
          },
          "metadata": {}
        }
      ]
    },
    {
      "cell_type": "markdown",
      "metadata": {
        "id": "R7x-3q6oEaeW"
      },
      "source": [
        "3 Where do you get your News from"
      ]
    },
    {
      "cell_type": "code",
      "metadata": {
        "id": "Z68MK6k7b2Q6",
        "colab": {
          "base_uri": "https://localhost:8080/"
        },
        "outputId": "c3c35398-4200-45a9-ca05-d52b6d4049d9"
      },
      "source": [
        "# Where do you get your News from\n",
        "get_from =df_new[\"Where do you get your News from\"].unique()\n",
        "get_from"
      ],
      "execution_count": 67,
      "outputs": [
        {
          "output_type": "execute_result",
          "data": {
            "text/plain": [
              "array(['tv', 'radio', 'whatsapp', 'facebook', 'youtube', 'newspapers',\n",
              "       'my_friends', 'twitter'], dtype=object)"
            ]
          },
          "metadata": {},
          "execution_count": 67
        }
      ]
    },
    {
      "cell_type": "code",
      "metadata": {
        "id": "uAKXnJgRcw7z",
        "colab": {
          "base_uri": "https://localhost:8080/"
        },
        "outputId": "5274ae45-c95c-457e-b336-b3d0800a3c48"
      },
      "source": [
        "#Where do you get your News from\n",
        "df_new['Where do you get your News from'].value_counts()"
      ],
      "execution_count": 68,
      "outputs": [
        {
          "output_type": "execute_result",
          "data": {
            "text/plain": [
              "tv            2746\n",
              "radio         1698\n",
              "facebook       438\n",
              "whatsapp       276\n",
              "twitter        188\n",
              "newspapers     174\n",
              "youtube        109\n",
              "my_friends     107\n",
              "Name: Where do you get your News from, dtype: int64"
            ]
          },
          "metadata": {},
          "execution_count": 68
        }
      ]
    },
    {
      "cell_type": "markdown",
      "metadata": {
        "id": "_R0j5iCBEjX0"
      },
      "source": [
        "4 function to check those who know bbi and where they get news from"
      ]
    },
    {
      "cell_type": "code",
      "metadata": {
        "id": "YYvlHNQ_GhhB"
      },
      "source": [
        "#function to check those who know bbi and where they get news from.\n",
        "def bbiNews(getting):\n",
        "    bbi_news= df_new.loc[(df['Do you know what BBI wants to change'] == getting)]\n",
        "    bbi_news1=bbi_news.groupby('Where do you get your News from')[['Do you know what BBI wants to change']].count()\n",
        "    if getting== 'yes' or 'a_little' or 'no':\n",
        "        return  bbi_news1['Do you know what BBI wants to change']\n",
        "        "
      ],
      "execution_count": 69,
      "outputs": []
    },
    {
      "cell_type": "code",
      "metadata": {
        "id": "QMxV3OtBhwGe",
        "colab": {
          "base_uri": "https://localhost:8080/"
        },
        "outputId": "9b27a2ce-ff87-4231-f0de-2b11870f2f45"
      },
      "source": [
        "#those who know about bbi and where they get news from\n",
        "bbiNews('yes')"
      ],
      "execution_count": 70,
      "outputs": [
        {
          "output_type": "execute_result",
          "data": {
            "text/plain": [
              "Where do you get your News from\n",
              "facebook       78\n",
              "my_friends     14\n",
              "newspapers     67\n",
              "radio         199\n",
              "tv            587\n",
              "twitter        56\n",
              "whatsapp       50\n",
              "youtube        26\n",
              "Name: Do you know what BBI wants to change, dtype: int64"
            ]
          },
          "metadata": {},
          "execution_count": 70
        }
      ]
    },
    {
      "cell_type": "code",
      "metadata": {
        "colab": {
          "base_uri": "https://localhost:8080/"
        },
        "id": "4zstkAzeJ6de",
        "outputId": "3f9759ee-8efb-4630-e02f-9f759020314d"
      },
      "source": [
        "#Where those who do not know BBI and where they get news from\n",
        "bbiNews('no')\n"
      ],
      "execution_count": 71,
      "outputs": [
        {
          "output_type": "execute_result",
          "data": {
            "text/plain": [
              "Where do you get your News from\n",
              "facebook       213\n",
              "my_friends      70\n",
              "newspapers      56\n",
              "radio         1000\n",
              "tv            1173\n",
              "twitter         68\n",
              "whatsapp       123\n",
              "youtube         45\n",
              "Name: Do you know what BBI wants to change, dtype: int64"
            ]
          },
          "metadata": {},
          "execution_count": 71
        }
      ]
    },
    {
      "cell_type": "code",
      "metadata": {
        "id": "tZvlG1N1k1tM",
        "colab": {
          "base_uri": "https://localhost:8080/"
        },
        "outputId": "7ebb6853-ec00-4d4f-8800-d6aedf52ee40"
      },
      "source": [
        "#those who know a little about bbi and where they get knews from\n",
        "bbiNews('a_little')"
      ],
      "execution_count": 72,
      "outputs": [
        {
          "output_type": "execute_result",
          "data": {
            "text/plain": [
              "Where do you get your News from\n",
              "facebook      147\n",
              "my_friends     23\n",
              "newspapers     51\n",
              "radio         499\n",
              "tv            986\n",
              "twitter        64\n",
              "whatsapp      103\n",
              "youtube        38\n",
              "Name: Do you know what BBI wants to change, dtype: int64"
            ]
          },
          "metadata": {},
          "execution_count": 72
        }
      ]
    },
    {
      "cell_type": "markdown",
      "metadata": {
        "id": "9bXJP97yEtVm"
      },
      "source": [
        "# 2. Which regions are likely to support the BBI?"
      ]
    },
    {
      "cell_type": "code",
      "metadata": {
        "id": "qALLKMOYnf3i",
        "colab": {
          "base_uri": "https://localhost:8080/"
        },
        "outputId": "ab2b802c-d0e8-4b27-fc27-a3a1191f39a7"
      },
      "source": [
        "df_new[\"Do you support BBI\"].unique()"
      ],
      "execution_count": 73,
      "outputs": [
        {
          "output_type": "execute_result",
          "data": {
            "text/plain": [
              "array(['thinking_about_it', 'yes', 'no', 'don_t_care'], dtype=object)"
            ]
          },
          "metadata": {},
          "execution_count": 73
        }
      ]
    },
    {
      "cell_type": "markdown",
      "metadata": {
        "id": "MmK2jB5zExx_"
      },
      "source": [
        "those thinking about it but not decided on whether to support BBi"
      ]
    },
    {
      "cell_type": "code",
      "metadata": {
        "id": "stEN4i5I9-tL"
      },
      "source": [
        "def support( variable):\n",
        "  support = df_new[\"Do you support BBI\"] == variable\n",
        "  if variable == 'yes' or 'no' or 'don_t_care'or 'thinking_about_it':\n",
        "    return support.sum()"
      ],
      "execution_count": 74,
      "outputs": []
    },
    {
      "cell_type": "code",
      "metadata": {
        "id": "2Y-7hPb5nul9",
        "colab": {
          "base_uri": "https://localhost:8080/"
        },
        "outputId": "4be4a971-6065-4192-e679-8fd61131700a"
      },
      "source": [
        "# those thinking about it but not decided on whether to support BBi\n",
        "support('thinking_about_it')"
      ],
      "execution_count": 75,
      "outputs": [
        {
          "output_type": "execute_result",
          "data": {
            "text/plain": [
              "1128"
            ]
          },
          "metadata": {},
          "execution_count": 75
        }
      ]
    },
    {
      "cell_type": "code",
      "metadata": {
        "id": "H0iFH6-doLyf",
        "colab": {
          "base_uri": "https://localhost:8080/"
        },
        "outputId": "5769a618-79f2-4f64-b143-bf9255c19ae1"
      },
      "source": [
        "#those in full support of BBI\n",
        "support(\"yes\")\n"
      ],
      "execution_count": 76,
      "outputs": [
        {
          "output_type": "execute_result",
          "data": {
            "text/plain": [
              "1651"
            ]
          },
          "metadata": {},
          "execution_count": 76
        }
      ]
    },
    {
      "cell_type": "code",
      "metadata": {
        "id": "dZgZSlWApY3s",
        "colab": {
          "base_uri": "https://localhost:8080/"
        },
        "outputId": "e8973d36-8483-4400-f5f2-21a22ce30f99"
      },
      "source": [
        "#donot fully support BBi\n",
        "support(\"no\")\n"
      ],
      "execution_count": 77,
      "outputs": [
        {
          "output_type": "execute_result",
          "data": {
            "text/plain": [
              "2637"
            ]
          },
          "metadata": {},
          "execution_count": 77
        }
      ]
    },
    {
      "cell_type": "code",
      "metadata": {
        "id": "ju2Y7T5-odlC",
        "colab": {
          "base_uri": "https://localhost:8080/"
        },
        "outputId": "117905ea-a1ee-4953-c123-43683275a194"
      },
      "source": [
        "#who donot care about BBI\n",
        "support(\"don_t_care\")\n"
      ],
      "execution_count": 78,
      "outputs": [
        {
          "output_type": "execute_result",
          "data": {
            "text/plain": [
              "320"
            ]
          },
          "metadata": {},
          "execution_count": 78
        }
      ]
    },
    {
      "cell_type": "markdown",
      "metadata": {
        "id": "ZPboxDMGE7zf"
      },
      "source": [
        "Which regions are likely to support the BBI?"
      ]
    },
    {
      "cell_type": "code",
      "metadata": {
        "id": "6rGrg2iaXPN3"
      },
      "source": [
        "# Which regions are likely to support the BBI?\n",
        "def supportbyregion( variable):\n",
        "  BBIsupport=df_new.loc[(df['Do you support BBI'] == variable)]\n",
        "  support = BBIsupport.groupby('County')[['Do you support BBI']].count().sort_values(by='Do you support BBI',ascending=False)\n",
        "  if variable == 'yes' or 'no' or 'thinking_about_it' or 'don_t_care':\n",
        "    return support['Do you support BBI']"
      ],
      "execution_count": 79,
      "outputs": []
    },
    {
      "cell_type": "code",
      "metadata": {
        "id": "N1jtmUT5-OyM",
        "colab": {
          "base_uri": "https://localhost:8080/"
        },
        "outputId": "2460ba48-9013-4acc-ef76-df947709d120"
      },
      "source": [
        "supportbyregion('yes')"
      ],
      "execution_count": 80,
      "outputs": [
        {
          "output_type": "execute_result",
          "data": {
            "text/plain": [
              "County\n",
              "migori         171\n",
              "narok          155\n",
              "kisumu         124\n",
              "nairobi        119\n",
              "laikipia       115\n",
              "kisii          114\n",
              "kirinyaga       96\n",
              "kitui           90\n",
              "trans_nzoia     71\n",
              "kiambu          65\n",
              "kakamega        63\n",
              "isiolo          63\n",
              "nyeri           61\n",
              "machakos        58\n",
              "nakuru          58\n",
              "uasin_gishu     54\n",
              "mombasa         53\n",
              "embu            52\n",
              "kericho         36\n",
              "meru            33\n",
              "Name: Do you support BBI, dtype: int64"
            ]
          },
          "metadata": {},
          "execution_count": 80
        }
      ]
    },
    {
      "cell_type": "code",
      "metadata": {
        "colab": {
          "base_uri": "https://localhost:8080/"
        },
        "id": "NMSorjuO-Tvi",
        "outputId": "b5fdb623-dd3f-4d78-8aca-3558cc1d3841"
      },
      "source": [
        "supportbyregion('thinking_about_it')"
      ],
      "execution_count": 81,
      "outputs": [
        {
          "output_type": "execute_result",
          "data": {
            "text/plain": [
              "County\n",
              "mombasa        105\n",
              "embu            94\n",
              "uasin_gishu     87\n",
              "kirinyaga       80\n",
              "kiambu          79\n",
              "machakos        72\n",
              "trans_nzoia     69\n",
              "kakamega        67\n",
              "nairobi         53\n",
              "nakuru          48\n",
              "meru            45\n",
              "kericho         44\n",
              "laikipia        43\n",
              "kisumu          43\n",
              "kisii           43\n",
              "nyeri           37\n",
              "migori          36\n",
              "kitui           36\n",
              "isiolo          24\n",
              "narok           23\n",
              "Name: Do you support BBI, dtype: int64"
            ]
          },
          "metadata": {},
          "execution_count": 81
        }
      ]
    },
    {
      "cell_type": "code",
      "metadata": {
        "colab": {
          "base_uri": "https://localhost:8080/"
        },
        "id": "0TMmLPtH-cE4",
        "outputId": "cfcea0b5-e79c-4fb9-be65-8af44059b020"
      },
      "source": [
        "supportbyregion('don_t_care')"
      ],
      "execution_count": 82,
      "outputs": [
        {
          "output_type": "execute_result",
          "data": {
            "text/plain": [
              "County\n",
              "machakos       35\n",
              "kitui          35\n",
              "nairobi        33\n",
              "kiambu         25\n",
              "kakamega       23\n",
              "kisii          23\n",
              "kericho        21\n",
              "nyeri          20\n",
              "uasin_gishu    17\n",
              "kisumu         11\n",
              "narok          11\n",
              "mombasa         9\n",
              "kirinyaga       9\n",
              "laikipia        8\n",
              "meru            8\n",
              "nakuru          8\n",
              "isiolo          6\n",
              "migori          6\n",
              "trans_nzoia     6\n",
              "embu            6\n",
              "Name: Do you support BBI, dtype: int64"
            ]
          },
          "metadata": {},
          "execution_count": 82
        }
      ]
    },
    {
      "cell_type": "code",
      "metadata": {
        "colab": {
          "base_uri": "https://localhost:8080/"
        },
        "id": "bF3iYFGa-iJi",
        "outputId": "c51a647b-29aa-4f1f-b0a4-a4e2a20ef05d"
      },
      "source": [
        "supportbyregion('no')"
      ],
      "execution_count": 83,
      "outputs": [
        {
          "output_type": "execute_result",
          "data": {
            "text/plain": [
              "County\n",
              "meru           194\n",
              "nyeri          184\n",
              "kericho        183\n",
              "isiolo         176\n",
              "nakuru         168\n",
              "trans_nzoia    159\n",
              "embu           151\n",
              "kitui          139\n",
              "machakos       138\n",
              "uasin_gishu    134\n",
              "kiambu         129\n",
              "laikipia       122\n",
              "mombasa        113\n",
              "kirinyaga      105\n",
              "kakamega       105\n",
              "nairobi        101\n",
              "kisumu          99\n",
              "narok           90\n",
              "kisii           87\n",
              "migori          60\n",
              "Name: Do you support BBI, dtype: int64"
            ]
          },
          "metadata": {},
          "execution_count": 83
        }
      ]
    },
    {
      "cell_type": "markdown",
      "metadata": {
        "id": "BsZ7PZipFDNu"
      },
      "source": [
        "# 3. How does BBI support compare based on Gender, Age group and Monthly income?"
      ]
    },
    {
      "cell_type": "code",
      "metadata": {
        "id": "VEp7--F2mESX",
        "colab": {
          "base_uri": "https://localhost:8080/"
        },
        "outputId": "75ff7df2-4118-4335-d32f-8666ea5af19b"
      },
      "source": [
        "# How does BBI support compare based on Gender, Age group and Monthly income?\n",
        "#support on BBI basing on Gender.\n",
        "df_new.groupby([ \"Gender\",\"Do you support BBI\"])[\"Do you support BBI\"].count()"
      ],
      "execution_count": 84,
      "outputs": [
        {
          "output_type": "execute_result",
          "data": {
            "text/plain": [
              "Gender  Do you support BBI\n",
              "female  don_t_care             158\n",
              "        no                    1083\n",
              "        thinking_about_it      539\n",
              "        yes                    570\n",
              "male    don_t_care             162\n",
              "        no                    1554\n",
              "        thinking_about_it      587\n",
              "        yes                   1080\n",
              "other   thinking_about_it        2\n",
              "        yes                      1\n",
              "Name: Do you support BBI, dtype: int64"
            ]
          },
          "metadata": {},
          "execution_count": 84
        }
      ]
    },
    {
      "cell_type": "code",
      "metadata": {
        "colab": {
          "base_uri": "https://localhost:8080/"
        },
        "id": "MPGVi_NaI1q7",
        "outputId": "f3f84ea8-98af-4196-b723-762517c2ef00"
      },
      "source": [
        "#age group support\n",
        "df_new.groupby([ \"Age\",\"Do you support BBI\"])[\"Do you support BBI\"].count()"
      ],
      "execution_count": 85,
      "outputs": [
        {
          "output_type": "execute_result",
          "data": {
            "text/plain": [
              "Age      Do you support BBI\n",
              "18-24    don_t_care             63\n",
              "         no                    468\n",
              "         thinking_about_it     184\n",
              "         yes                   261\n",
              "25-30    don_t_care             79\n",
              "         no                    662\n",
              "         thinking_about_it     294\n",
              "         yes                   371\n",
              "31-35    don_t_care             62\n",
              "         no                    505\n",
              "         thinking_about_it     206\n",
              "         yes                   304\n",
              "36-40    don_t_care             41\n",
              "         no                    399\n",
              "         thinking_about_it     174\n",
              "         yes                   266\n",
              "41-50    don_t_care             35\n",
              "         no                    344\n",
              "         thinking_about_it     146\n",
              "         yes                   257\n",
              "51-60    don_t_care             23\n",
              "         no                    147\n",
              "         thinking_about_it      74\n",
              "         yes                   120\n",
              "over-61  don_t_care             12\n",
              "         no                     97\n",
              "         thinking_about_it      44\n",
              "         yes                    57\n",
              "unknown  don_t_care              5\n",
              "         no                     15\n",
              "         thinking_about_it       6\n",
              "         yes                    15\n",
              "Name: Do you support BBI, dtype: int64"
            ]
          },
          "metadata": {},
          "execution_count": 85
        }
      ]
    },
    {
      "cell_type": "markdown",
      "metadata": {
        "id": "eMcXaTcK-NEn"
      },
      "source": [
        "Demographics "
      ]
    },
    {
      "cell_type": "code",
      "metadata": {
        "colab": {
          "base_uri": "https://localhost:8080/"
        },
        "id": "R6NTao2juo_F",
        "outputId": "d61fdbaa-0389-42a6-ab3f-5d07419b8f98"
      },
      "source": [
        "#Getting particular gender of those who participated in the questionare \n",
        "df_new.groupby(['Gender'])['Gender'].count()"
      ],
      "execution_count": 88,
      "outputs": [
        {
          "output_type": "execute_result",
          "data": {
            "text/plain": [
              "Gender\n",
              "female    2350\n",
              "male      3383\n",
              "other        3\n",
              "Name: Gender, dtype: int64"
            ]
          },
          "metadata": {},
          "execution_count": 88
        }
      ]
    },
    {
      "cell_type": "code",
      "metadata": {
        "colab": {
          "base_uri": "https://localhost:8080/",
          "height": 303
        },
        "id": "Zpiw13tK6E5W",
        "outputId": "804cc747-5676-4fb7-e1c7-2709d1131a7d"
      },
      "source": [
        "# Creating dataset\n",
        "gender = ['female', 'male', 'other']\n",
        "  \n",
        "data = [2350, 3383, 3]\n",
        "  \n",
        "# Creating plot\n",
        "fig = plt.figure(figsize =(8, 5))\n",
        "plt.pie(data, labels = gender)\n",
        "\n",
        "# show plot\n",
        "plt.show()"
      ],
      "execution_count": 101,
      "outputs": [
        {
          "output_type": "display_data",
          "data": {
            "image/png": "[encoded data removed]",
            "text/plain": [
              "<Figure size 576x360 with 1 Axes>"
            ]
          },
          "metadata": {}
        }
      ]
    },
    {
      "cell_type": "code",
      "metadata": {
        "id": "vz9g9hypLCB1"
      },
      "source": [
        "#monthly income support\n",
        "df_new.groupby([ \"Monthly Income (Kshs)\",\"Do you support BBI\"])[\"Do you support BBI\"].count()"
      ],
      "execution_count": null,
      "outputs": []
    },
    {
      "cell_type": "code",
      "metadata": {
        "id": "dr1yK2kvLxxC"
      },
      "source": [
        "#support basing on occupation\n",
        "df_new.groupby([ \"Occupation\",\"Do you support BBI\"])[\"Do you support BBI\"].count()"
      ],
      "execution_count": null,
      "outputs": []
    },
    {
      "cell_type": "code",
      "metadata": {
        "id": "GTRAdLp0MHb2"
      },
      "source": [
        "df_new.groupby([ \"Highest Level of Education Attained\",\"Do you support BBI\"])[\"Do you support BBI\"].count()"
      ],
      "execution_count": null,
      "outputs": []
    },
    {
      "cell_type": "code",
      "metadata": {
        "id": "5729pG15U6FU"
      },
      "source": [
        "#visualization \n",
        "plt.bar(df['Gender'], df['Do you support BBI']=='yes')\n",
        "\n",
        "plt.title('Gender Vs Do you support BBI', fontsize=14)\n",
        "plt.ylabel('Do you support BBI', fontsize=14)\n",
        "plt.xlabel('Gender', fontsize=14)\n",
        "plt.grid(False)\n",
        "plt.show()"
      ],
      "execution_count": null,
      "outputs": []
    },
    {
      "cell_type": "code",
      "metadata": {
        "id": "-SNnLsybYk3R"
      },
      "source": [
        "# x = [df_new['Do you support BBI'].unique()]\n",
        "# y1 = df['Gender']=='male'.sum()\n",
        "# y2 = df['Gender']=='female'.sum()\n",
        "# y3 = df['Gender']=='other'.sum()\n",
        "\n",
        "  \n",
        "# # plot bars in stack manner\n",
        "# plt.bar(x, y1, color='r')\n",
        "# plt.bar(x, y2, bottom=y1, color='b')\n",
        "# plt.bar(x, y3, bottom=y1+y2, color='y')\n",
        "\n",
        "# # plt.xlabel(\"Teams\")\n",
        "# # plt.ylabel(\"Score\")\n",
        "# # plt.legend([\"Round 1\", \"Round 2\", \"Round 3\", \"Round 4\"])\n",
        "# plt.title(\"Scores by Teams in 4 Rounds\")\n",
        "# plt.show()"
      ],
      "execution_count": null,
      "outputs": []
    },
    {
      "cell_type": "code",
      "metadata": {
        "id": "euU4ODdcaEvV"
      },
      "source": [
        "# y2 = df_new['Gender']=='female'\n",
        "# y2.sum()\n",
        "\n"
      ],
      "execution_count": null,
      "outputs": []
    },
    {
      "cell_type": "code",
      "metadata": {
        "id": "0gkRVUwSOMVv"
      },
      "source": [
        "df_new['Will you vote in the Refere'].unique()"
      ],
      "execution_count": null,
      "outputs": []
    },
    {
      "cell_type": "markdown",
      "metadata": {
        "id": "w-TFSYSjFS4J"
      },
      "source": [
        "# 4. Will a voter  participate in a referendum & how they would vote?"
      ]
    },
    {
      "cell_type": "code",
      "metadata": {
        "id": "tOYsTGTAsMW2"
      },
      "source": [
        "# Will a voter  participate in a referendum & how they would vote?\n",
        "def voting( variable):\n",
        "  vote = df_new[\"Will you vote in the Refere\"] == variable\n",
        "  if variable == 'yes' or 'no' or 'undecided'or 'other':\n",
        "    return vote.sum()"
      ],
      "execution_count": null,
      "outputs": []
    },
    {
      "cell_type": "code",
      "metadata": {
        "id": "X6voatGmOamY"
      },
      "source": [
        "#those who will vote\n",
        "voting('yes')"
      ],
      "execution_count": null,
      "outputs": []
    },
    {
      "cell_type": "code",
      "metadata": {
        "id": "1SuAR8viOeOt"
      },
      "source": [
        "# those not decide to vote\n",
        "voting('undecided')"
      ],
      "execution_count": null,
      "outputs": []
    },
    {
      "cell_type": "code",
      "metadata": {
        "id": "LGsuxlcPOkA3"
      },
      "source": [
        "#those who will not vote\n",
        "voting('no')"
      ],
      "execution_count": null,
      "outputs": []
    },
    {
      "cell_type": "code",
      "metadata": {
        "id": "v1eWPj_8Onwe"
      },
      "source": [
        "#others \n",
        "voting('other')"
      ],
      "execution_count": null,
      "outputs": []
    },
    {
      "cell_type": "code",
      "metadata": {
        "id": "Kx2MtOSNQHnn"
      },
      "source": [
        "df_new['How will you vote in the Referendum'].unique()"
      ],
      "execution_count": null,
      "outputs": []
    },
    {
      "cell_type": "code",
      "metadata": {
        "id": "QjVAMNCuPs0Z"
      },
      "source": [
        "#How will they vote in referundum\n",
        "def Howillvote( variable):\n",
        "  vote = df_new[\"How will you vote in the Referendum\"] == variable\n",
        "  if variable == 'yes__for_it' or 'no__against_it' or 'still_deciding'or 'i_will_not_vote':\n",
        "    return vote.sum()"
      ],
      "execution_count": null,
      "outputs": []
    },
    {
      "cell_type": "code",
      "metadata": {
        "id": "zCEI_H9rRExi"
      },
      "source": [
        "#those voting for it.\n",
        "Howillvote('yes__for_it')"
      ],
      "execution_count": null,
      "outputs": []
    },
    {
      "cell_type": "code",
      "metadata": {
        "id": "XvjibuBlRgB4"
      },
      "source": [
        "#those who will not vote\n",
        "Howillvote('no__against_it')"
      ],
      "execution_count": null,
      "outputs": []
    },
    {
      "cell_type": "code",
      "metadata": {
        "id": "PeknjJfISAVz"
      },
      "source": [
        "#those still deciding\n",
        "Howillvote('still_deciding')"
      ],
      "execution_count": null,
      "outputs": []
    },
    {
      "cell_type": "code",
      "metadata": {
        "id": "ayNPj-NeSJTZ"
      },
      "source": [
        "#those who will completely  not vote\n",
        "Howillvote('i_will_not_vote')"
      ],
      "execution_count": null,
      "outputs": []
    },
    {
      "cell_type": "code",
      "metadata": {
        "id": "SNBxfQfHg0f9"
      },
      "source": [
        "Hustlers= df_new.loc[(df['Do you support the Hustler Nation'] == 'yes')]\n",
        "hustlerSupport=Hustlers.groupby('If elections are today who would you vote for')[['Do you support the Hustler Nation']].count()\n",
        "hustlerSupport['Do you support the Hustler Nation']"
      ],
      "execution_count": null,
      "outputs": []
    },
    {
      "cell_type": "code",
      "metadata": {
        "id": "c7cGPoxsUGXO"
      },
      "source": [
        "df_new.groupby([ \"Will you vote in the Refere\",\"How will you vote in the Referendum\"])[\"Will you vote in the Refere\"].count()"
      ],
      "execution_count": null,
      "outputs": []
    },
    {
      "cell_type": "markdown",
      "metadata": {
        "id": "PFUNMJbFFghu"
      },
      "source": [
        "#5.  How are Kenyans who voted in 2017 likely to vote in the referendum?"
      ]
    },
    {
      "cell_type": "code",
      "metadata": {
        "id": "xlpPEgjXM-Bj"
      },
      "source": [
        "# How are Kenyans who voted in 2017 likely to vote in the referendum?\n",
        "df_new.groupby([ \"Did you vote in 2017\",\"Will you vote in the Refere\"])[\"Did you vote in 2017\"].count()"
      ],
      "execution_count": null,
      "outputs": []
    },
    {
      "cell_type": "code",
      "metadata": {
        "id": "jPK15Eu7WUoN"
      },
      "source": [
        "df_new.groupby([ \"Did you vote in 2017\",\"How will you vote in the Referendum\"])[\"Did you vote in 2017\"].count()"
      ],
      "execution_count": null,
      "outputs": []
    },
    {
      "cell_type": "markdown",
      "metadata": {
        "id": "PLycDl45FuKG"
      },
      "source": [
        "# Does the BBI or Hustler Nation support influence voter preference in 2022?"
      ]
    },
    {
      "cell_type": "code",
      "metadata": {
        "id": "ipJDeHMJNJBM"
      },
      "source": [
        "# Does the BBI or Hustler Nation support influence voter preference in 2022?\n",
        "#yes supporting BBI and If elections are today who would you vote for\n",
        "BBIs= df_new.loc[(df['Do you support BBI'] == 'yes')]\n",
        "bbiSupport=BBIs.groupby('If elections are today who would you vote for')[['Do you support BBI']].count()\n",
        "bbiSupport['Do you support BBI']"
      ],
      "execution_count": null,
      "outputs": []
    },
    {
      "cell_type": "code",
      "metadata": {
        "id": "SJbrpZulstpj"
      },
      "source": [
        "a=[fred_matiangi,gideon_moi,kalonzo_musyoka      56\n",
        "martha_karua         16\n",
        "musalia_mudavadi     99\n",
        "none                155\n",
        "peter_kenneth        25\n",
        "raila_odinga        784\n",
        "william_ruto ]"
      ],
      "execution_count": null,
      "outputs": []
    },
    {
      "cell_type": "code",
      "metadata": {
        "id": "LHXntHUqYHNC"
      },
      "source": [
        "#supporting hustler nation and if election were to be held they will vote for who.\n",
        "Hustlers= df_new.loc[(df['Do you support the Hustler Nation'] == 'yes')]\n",
        "hustlerSupport=Hustlers.groupby('If elections are today who would you vote for')[['Do you support the Hustler Nation']].count()\n",
        "hustlerSupport['Do you support the Hustler Nation']"
      ],
      "execution_count": null,
      "outputs": []
    }
  ]
}