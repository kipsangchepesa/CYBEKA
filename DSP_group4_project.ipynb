{
  "nbformat": 4,
  "nbformat_minor": 0,
  "metadata": {
    "colab": {
      "name": "DSP group4 project",
      "provenance": [],
      "collapsed_sections": [],
      "include_colab_link": true
    },
    "kernelspec": {
      "name": "python3",
      "display_name": "Python 3"
    },
    "language_info": {
      "name": "python"
    }
  },
  "cells": [
    {
      "cell_type": "markdown",
      "metadata": {
        "id": "view-in-github",
        "colab_type": "text"
      },
      "source": [
        "<a href=\"https://colab.research.google.com/github/kipsangchepesa/CYBEKA/blob/main/DSP_group4_project.ipynb\" target=\"_parent\"><img src=\"https://colab.research.google.com/assets/colab-badge.svg\" alt=\"Open In Colab\"/></a>"
      ]
    },
    {
      "cell_type": "markdown",
      "metadata": {
        "id": "Mi5mi37mzQ6p"
      },
      "source": [
        "# **Importing Libraries**"
      ]
    },
    {
      "cell_type": "code",
      "metadata": {
        "id": "iWYAGbw1zJr2"
      },
      "source": [
        "#Here we import the libraries we will use in the project\n",
        "\n",
        "import pandas as pd\n",
        "import numpy as np\n",
        "import matplotlib.pyplot as plt\n",
        "import seaborn as sns"
      ],
      "execution_count": null,
      "outputs": []
    },
    {
      "cell_type": "markdown",
      "metadata": {
        "id": "AT9mfwNsz2LY"
      },
      "source": [
        "# **Reading Data from our xlsx file**"
      ]
    },
    {
      "cell_type": "code",
      "metadata": {
        "colab": {
          "base_uri": "https://localhost:8080/",
          "height": 314
        },
        "id": "JKZ6rHKUz9he",
        "outputId": "7f068ed4-c08f-40ae-f52e-b47aa4d5dd22"
      },
      "source": [
        "# Let's read the data from the excel file and create the dataframe we will use\n",
        "\n",
        "df = pd.read_excel(\"/content/data v2.xlsx\") \n",
        "df.head(3)"
      ],
      "execution_count": null,
      "outputs": [
        {
          "output_type": "execute_result",
          "data": {
            "text/html": [
              "<div>\n",
              "<style scoped>\n",
              "    .dataframe tbody tr th:only-of-type {\n",
              "        vertical-align: middle;\n",
              "    }\n",
              "\n",
              "    .dataframe tbody tr th {\n",
              "        vertical-align: top;\n",
              "    }\n",
              "\n",
              "    .dataframe thead th {\n",
              "        text-align: right;\n",
              "    }\n",
              "</style>\n",
              "<table border=\"1\" class=\"dataframe\">\n",
              "  <thead>\n",
              "    <tr style=\"text-align: right;\">\n",
              "      <th></th>\n",
              "      <th>start</th>\n",
              "      <th>end</th>\n",
              "      <th>time</th>\n",
              "      <th>minutes</th>\n",
              "      <th>Insert_Geotag_Location</th>\n",
              "      <th>_Insert_Geotag_Location_latitude</th>\n",
              "      <th>_Insert_Geotag_Location_longitude</th>\n",
              "      <th>_Insert_Geotag_Location_altitude</th>\n",
              "      <th>_Insert_Geotag_Location_precision</th>\n",
              "      <th>Name_of_Enumerator</th>\n",
              "      <th>County</th>\n",
              "      <th>_1_Age</th>\n",
              "      <th>_2_Gender</th>\n",
              "      <th>_3_Monthly_Income</th>\n",
              "      <th>_4_Highest_Level_of_Education_Attained</th>\n",
              "      <th>_5_Occupation</th>\n",
              "      <th>_6_Location</th>\n",
              "      <th>_7_Did_you_vote_in_2017</th>\n",
              "      <th>_8_Will_you_vote_in_the_Refere</th>\n",
              "      <th>_9_If_No_Why</th>\n",
              "      <th>_10_How_will_you_vote_in_the_Referendum</th>\n",
              "      <th>_11_If_elections_are_o_would_you_vote_for</th>\n",
              "      <th>_12_If_you_don_t_vot_s_your_second_choice</th>\n",
              "      <th>_13_Do_you_support_BBI</th>\n",
              "      <th>_14_Do_you_know_what_BBI_wants_to_change</th>\n",
              "      <th>_15_Do_you_support_the_Hustler_Nation</th>\n",
              "      <th>_16_Do_you_think_the_ake_brought_us_peace</th>\n",
              "      <th>_17_Who_has_influenc_st_in_your_community</th>\n",
              "      <th>_18_Do_you_trust_your_political_leaders</th>\n",
              "      <th>_19_Do_you_trust_your_religious_leaders</th>\n",
              "      <th>_20_Do_you_trust_your_elders</th>\n",
              "      <th>_21_Where_do_you_get_your_News_from</th>\n",
              "      <th>_22_Have_you_understood_BBI_completely</th>\n",
              "      <th>_23_Will_you_vote_in_2022</th>\n",
              "      <th>__version__</th>\n",
              "      <th>meta/instanceID</th>\n",
              "      <th>_id</th>\n",
              "      <th>_uuid</th>\n",
              "      <th>_submission_time</th>\n",
              "      <th>_index</th>\n",
              "      <th>_parent_table_name</th>\n",
              "      <th>_parent_index</th>\n",
              "      <th>_tags</th>\n",
              "      <th>_notes</th>\n",
              "    </tr>\n",
              "  </thead>\n",
              "  <tbody>\n",
              "    <tr>\n",
              "      <th>0</th>\n",
              "      <td>2021-05-06T09:50:26.433+03:00</td>\n",
              "      <td>2021-05-09T14:07:55.548+03:00</td>\n",
              "      <td>76.291389</td>\n",
              "      <td>4577.483333</td>\n",
              "      <td>0.8350286 34.8646938 1761.797294187769 4.98</td>\n",
              "      <td>0.835029</td>\n",
              "      <td>34.864694</td>\n",
              "      <td>1761.797294</td>\n",
              "      <td>4.980</td>\n",
              "      <td>Daniel Odhiambo</td>\n",
              "      <td>trans_nzoia</td>\n",
              "      <td>25_30</td>\n",
              "      <td>male</td>\n",
              "      <td>kshs_0___11_000</td>\n",
              "      <td>kcpe</td>\n",
              "      <td>hustler</td>\n",
              "      <td>urban</td>\n",
              "      <td>yes</td>\n",
              "      <td>undecided</td>\n",
              "      <td>NaN</td>\n",
              "      <td>still_deciding</td>\n",
              "      <td>raila_odinga</td>\n",
              "      <td>none</td>\n",
              "      <td>thinking_about_it</td>\n",
              "      <td>yes</td>\n",
              "      <td>no_response</td>\n",
              "      <td>no_response</td>\n",
              "      <td>no_one</td>\n",
              "      <td>rarely</td>\n",
              "      <td>never</td>\n",
              "      <td>often</td>\n",
              "      <td>tv</td>\n",
              "      <td>i_don_t_care</td>\n",
              "      <td>response</td>\n",
              "      <td>vxmXBDYW6jJgGL4WrvTb5f</td>\n",
              "      <td>uuid:4ad44fb2-a429-4e7d-a8f1-c367f3068bbb</td>\n",
              "      <td>176970084</td>\n",
              "      <td>4ad44fb2-a429-4e7d-a8f1-c367f3068bbb</td>\n",
              "      <td>2021-05-09T18:30:11</td>\n",
              "      <td>4995</td>\n",
              "      <td>NaN</td>\n",
              "      <td>-1</td>\n",
              "      <td>NaN</td>\n",
              "      <td>NaN</td>\n",
              "    </tr>\n",
              "    <tr>\n",
              "      <th>1</th>\n",
              "      <td>2021-05-05T20:41:15.214+03:00</td>\n",
              "      <td>2021-05-08T11:33:45.347+03:00</td>\n",
              "      <td>62.875000</td>\n",
              "      <td>3772.500000</td>\n",
              "      <td>-4.0286687 39.6323594 24.303734045012625 4.78</td>\n",
              "      <td>-4.028669</td>\n",
              "      <td>39.632359</td>\n",
              "      <td>24.303734</td>\n",
              "      <td>4.780</td>\n",
              "      <td>Joshua</td>\n",
              "      <td>mombasa</td>\n",
              "      <td>25_30</td>\n",
              "      <td>male</td>\n",
              "      <td>kshs_11_001__20_000</td>\n",
              "      <td>kcpe</td>\n",
              "      <td>business_owner__hotel_shop_kio</td>\n",
              "      <td>peri_urban</td>\n",
              "      <td>yes</td>\n",
              "      <td>no</td>\n",
              "      <td>i_do_not_understand_bbi</td>\n",
              "      <td>still_deciding</td>\n",
              "      <td>kalonzo_musyoka</td>\n",
              "      <td>musalia_mudavadi</td>\n",
              "      <td>thinking_about_it</td>\n",
              "      <td>no</td>\n",
              "      <td>no</td>\n",
              "      <td>yes</td>\n",
              "      <td>mcas</td>\n",
              "      <td>rarely</td>\n",
              "      <td>rarely</td>\n",
              "      <td>rarely</td>\n",
              "      <td>radio</td>\n",
              "      <td>no</td>\n",
              "      <td>yes</td>\n",
              "      <td>vxmXBDYW6jJgGL4WrvTb5f</td>\n",
              "      <td>uuid:a58205f0-1b13-42a0-878b-cb5c1005cda4</td>\n",
              "      <td>176799145</td>\n",
              "      <td>a58205f0-1b13-42a0-878b-cb5c1005cda4</td>\n",
              "      <td>2021-05-08T16:11:33</td>\n",
              "      <td>1240</td>\n",
              "      <td>NaN</td>\n",
              "      <td>-1</td>\n",
              "      <td>NaN</td>\n",
              "      <td>NaN</td>\n",
              "    </tr>\n",
              "    <tr>\n",
              "      <th>2</th>\n",
              "      <td>2021-05-07T10:23:20.976+03:00</td>\n",
              "      <td>2021-05-09T12:34:56.000+03:00</td>\n",
              "      <td>50.193333</td>\n",
              "      <td>3011.600000</td>\n",
              "      <td>-1.3683735 38.0084957 1126.6824783361062 4.921</td>\n",
              "      <td>-1.368373</td>\n",
              "      <td>38.008496</td>\n",
              "      <td>1126.682478</td>\n",
              "      <td>4.921</td>\n",
              "      <td>Brenda Njue</td>\n",
              "      <td>kitui</td>\n",
              "      <td>25_30</td>\n",
              "      <td>female</td>\n",
              "      <td>kshs_20_001__50_000</td>\n",
              "      <td>diploma</td>\n",
              "      <td>formal_employment__teacher_acc</td>\n",
              "      <td>urban</td>\n",
              "      <td>yes</td>\n",
              "      <td>yes</td>\n",
              "      <td>NaN</td>\n",
              "      <td>yes__for_it</td>\n",
              "      <td>raila_odinga</td>\n",
              "      <td>musalia_mudavadi</td>\n",
              "      <td>yes</td>\n",
              "      <td>yes</td>\n",
              "      <td>no</td>\n",
              "      <td>yes</td>\n",
              "      <td>no_one</td>\n",
              "      <td>sometimes</td>\n",
              "      <td>often</td>\n",
              "      <td>always</td>\n",
              "      <td>tv</td>\n",
              "      <td>yes</td>\n",
              "      <td>yes</td>\n",
              "      <td>vxmXBDYW6jJgGL4WrvTb5f</td>\n",
              "      <td>uuid:ad50c639-f6ee-48c7-9496-fa4392073bdb</td>\n",
              "      <td>176894163</td>\n",
              "      <td>ad50c639-f6ee-48c7-9496-fa4392073bdb</td>\n",
              "      <td>2021-05-09T09:39:31</td>\n",
              "      <td>728</td>\n",
              "      <td>NaN</td>\n",
              "      <td>-1</td>\n",
              "      <td>NaN</td>\n",
              "      <td>NaN</td>\n",
              "    </tr>\n",
              "  </tbody>\n",
              "</table>\n",
              "</div>"
            ],
            "text/plain": [
              "                           start                            end  ...  _tags  _notes\n",
              "0  2021-05-06T09:50:26.433+03:00  2021-05-09T14:07:55.548+03:00  ...    NaN     NaN\n",
              "1  2021-05-05T20:41:15.214+03:00  2021-05-08T11:33:45.347+03:00  ...    NaN     NaN\n",
              "2  2021-05-07T10:23:20.976+03:00  2021-05-09T12:34:56.000+03:00  ...    NaN     NaN\n",
              "\n",
              "[3 rows x 44 columns]"
            ]
          },
          "metadata": {},
          "execution_count": 79
        }
      ]
    },
    {
      "cell_type": "markdown",
      "metadata": {
        "id": "CM3oHv2x16_X"
      },
      "source": [
        "# **Accessing information about our Dataset**"
      ]
    },
    {
      "cell_type": "code",
      "metadata": {
        "id": "hdzom7K51YeQ"
      },
      "source": [
        "#getting to know more about the dataset\n",
        "def knowledge(data):\n",
        "  # showing the shape of the dataset\n",
        "  print(\"The shape is **********************\")\n",
        "  print(df.shape) \n",
        "  print(\"The information is **********************\")\n",
        "  # showing the info of the dataset\n",
        "  print(df.info())\n",
        "  print(\" The size is**********************\")\n",
        "  print(df.size)"
      ],
      "execution_count": null,
      "outputs": []
    },
    {
      "cell_type": "code",
      "metadata": {
        "colab": {
          "base_uri": "https://localhost:8080/"
        },
        "id": "fgnRLJ-s89S2",
        "outputId": "db3a095a-87f0-441e-f27b-51b67f6afb03"
      },
      "source": [
        "#calling the function\n",
        "knowledge(df)  "
      ],
      "execution_count": null,
      "outputs": [
        {
          "output_type": "stream",
          "text": [
            "The shape is **********************\n",
            "(5736, 44)\n",
            "The information is **********************\n",
            "<class 'pandas.core.frame.DataFrame'>\n",
            "RangeIndex: 5736 entries, 0 to 5735\n",
            "Data columns (total 44 columns):\n",
            " #   Column                                     Non-Null Count  Dtype  \n",
            "---  ------                                     --------------  -----  \n",
            " 0   start                                      5736 non-null   object \n",
            " 1   end                                        5736 non-null   object \n",
            " 2   time                                       5736 non-null   float64\n",
            " 3   minutes                                    5736 non-null   float64\n",
            " 4   Insert_Geotag_Location                     5736 non-null   object \n",
            " 5   _Insert_Geotag_Location_latitude           5736 non-null   float64\n",
            " 6   _Insert_Geotag_Location_longitude          5736 non-null   float64\n",
            " 7   _Insert_Geotag_Location_altitude           5736 non-null   float64\n",
            " 8   _Insert_Geotag_Location_precision          5736 non-null   float64\n",
            " 9   Name_of_Enumerator                         5736 non-null   object \n",
            " 10  County                                     5736 non-null   object \n",
            " 11  _1_Age                                     5736 non-null   object \n",
            " 12  _2_Gender                                  5736 non-null   object \n",
            " 13  _3_Monthly_Income                          5736 non-null   object \n",
            " 14  _4_Highest_Level_of_Education_Attained     5736 non-null   object \n",
            " 15  _5_Occupation                              5736 non-null   object \n",
            " 16  _6_Location                                5736 non-null   object \n",
            " 17  _7_Did_you_vote_in_2017                    5736 non-null   object \n",
            " 18  _8_Will_you_vote_in_the_Refere             5736 non-null   object \n",
            " 19  _9_If_No_Why                               1377 non-null   object \n",
            " 20  _10_How_will_you_vote_in_the_Referendum    5736 non-null   object \n",
            " 21  _11_If_elections_are_o_would_you_vote_for  5736 non-null   object \n",
            " 22  _12_If_you_don_t_vot_s_your_second_choice  5736 non-null   object \n",
            " 23  _13_Do_you_support_BBI                     5736 non-null   object \n",
            " 24  _14_Do_you_know_what_BBI_wants_to_change   5736 non-null   object \n",
            " 25  _15_Do_you_support_the_Hustler_Nation      5736 non-null   object \n",
            " 26  _16_Do_you_think_the_ake_brought_us_peace  5736 non-null   object \n",
            " 27  _17_Who_has_influenc_st_in_your_community  5736 non-null   object \n",
            " 28  _18_Do_you_trust_your_political_leaders    5736 non-null   object \n",
            " 29  _19_Do_you_trust_your_religious_leaders    5736 non-null   object \n",
            " 30  _20_Do_you_trust_your_elders               5736 non-null   object \n",
            " 31  _21_Where_do_you_get_your_News_from        5736 non-null   object \n",
            " 32  _22_Have_you_understood_BBI_completely     5736 non-null   object \n",
            " 33  _23_Will_you_vote_in_2022                  5736 non-null   object \n",
            " 34  __version__                                5736 non-null   object \n",
            " 35  meta/instanceID                            5736 non-null   object \n",
            " 36  _id                                        5736 non-null   int64  \n",
            " 37  _uuid                                      5736 non-null   object \n",
            " 38  _submission_time                           5736 non-null   object \n",
            " 39  _index                                     5736 non-null   int64  \n",
            " 40  _parent_table_name                         0 non-null      float64\n",
            " 41  _parent_index                              5736 non-null   int64  \n",
            " 42  _tags                                      0 non-null      float64\n",
            " 43  _notes                                     0 non-null      float64\n",
            "dtypes: float64(9), int64(3), object(32)\n",
            "memory usage: 1.9+ MB\n",
            "None\n",
            " The size is**********************\n",
            "252384\n"
          ],
          "name": "stdout"
        }
      ]
    },
    {
      "cell_type": "code",
      "metadata": {
        "colab": {
          "base_uri": "https://localhost:8080/"
        },
        "id": "VVohQYv1MiLR",
        "outputId": "874f8b98-ff3a-4f81-81e0-340947d8f5c4"
      },
      "source": [
        "#representation of our data county-wise\n",
        "\n",
        "z=df.groupby(['County'])['_id'].count().sort_values(ascending=False)\n",
        "z"
      ],
      "execution_count": null,
      "outputs": [
        {
          "output_type": "execute_result",
          "data": {
            "text/plain": [
              "County\n",
              "nairobi        306\n",
              "trans_nzoia    305\n",
              "embu           303\n",
              "machakos       303\n",
              "nyeri          302\n",
              "kitui          300\n",
              "kiambu         298\n",
              "uasin_gishu    292\n",
              "kirinyaga      290\n",
              "laikipia       288\n",
              "kericho        284\n",
              "nakuru         282\n",
              "meru           280\n",
              "mombasa        280\n",
              "narok          279\n",
              "kisumu         277\n",
              "migori         273\n",
              "isiolo         269\n",
              "kisii          267\n",
              "kakamega       258\n",
              "Name: _id, dtype: int64"
            ]
          },
          "metadata": {},
          "execution_count": 82
        }
      ]
    },
    {
      "cell_type": "markdown",
      "metadata": {
        "id": "7IjjoDpE6V3y"
      },
      "source": [
        "# **Cleaning our Dataset**"
      ]
    },
    {
      "cell_type": "markdown",
      "metadata": {
        "id": "7YGnnuud66bI"
      },
      "source": [
        "# Validity"
      ]
    },
    {
      "cell_type": "code",
      "metadata": {
        "colab": {
          "base_uri": "https://localhost:8080/",
          "height": 948
        },
        "id": "mvn3LcNx0W1q",
        "outputId": "2959de3d-9119-44b5-8ffc-aa548aa67695"
      },
      "source": [
        "df"
      ],
      "execution_count": null,
      "outputs": [
        {
          "output_type": "execute_result",
          "data": {
            "text/html": [
              "<div>\n",
              "<style scoped>\n",
              "    .dataframe tbody tr th:only-of-type {\n",
              "        vertical-align: middle;\n",
              "    }\n",
              "\n",
              "    .dataframe tbody tr th {\n",
              "        vertical-align: top;\n",
              "    }\n",
              "\n",
              "    .dataframe thead th {\n",
              "        text-align: right;\n",
              "    }\n",
              "</style>\n",
              "<table border=\"1\" class=\"dataframe\">\n",
              "  <thead>\n",
              "    <tr style=\"text-align: right;\">\n",
              "      <th></th>\n",
              "      <th>start</th>\n",
              "      <th>end</th>\n",
              "      <th>time</th>\n",
              "      <th>minutes</th>\n",
              "      <th>Insert_Geotag_Location</th>\n",
              "      <th>_Insert_Geotag_Location_latitude</th>\n",
              "      <th>_Insert_Geotag_Location_longitude</th>\n",
              "      <th>_Insert_Geotag_Location_altitude</th>\n",
              "      <th>_Insert_Geotag_Location_precision</th>\n",
              "      <th>Name_of_Enumerator</th>\n",
              "      <th>County</th>\n",
              "      <th>_1_Age</th>\n",
              "      <th>_2_Gender</th>\n",
              "      <th>_3_Monthly_Income</th>\n",
              "      <th>_4_Highest_Level_of_Education_Attained</th>\n",
              "      <th>_5_Occupation</th>\n",
              "      <th>_6_Location</th>\n",
              "      <th>_7_Did_you_vote_in_2017</th>\n",
              "      <th>_8_Will_you_vote_in_the_Refere</th>\n",
              "      <th>_9_If_No_Why</th>\n",
              "      <th>_10_How_will_you_vote_in_the_Referendum</th>\n",
              "      <th>_11_If_elections_are_o_would_you_vote_for</th>\n",
              "      <th>_12_If_you_don_t_vot_s_your_second_choice</th>\n",
              "      <th>_13_Do_you_support_BBI</th>\n",
              "      <th>_14_Do_you_know_what_BBI_wants_to_change</th>\n",
              "      <th>_15_Do_you_support_the_Hustler_Nation</th>\n",
              "      <th>_16_Do_you_think_the_ake_brought_us_peace</th>\n",
              "      <th>_17_Who_has_influenc_st_in_your_community</th>\n",
              "      <th>_18_Do_you_trust_your_political_leaders</th>\n",
              "      <th>_19_Do_you_trust_your_religious_leaders</th>\n",
              "      <th>_20_Do_you_trust_your_elders</th>\n",
              "      <th>_21_Where_do_you_get_your_News_from</th>\n",
              "      <th>_22_Have_you_understood_BBI_completely</th>\n",
              "      <th>_23_Will_you_vote_in_2022</th>\n",
              "      <th>__version__</th>\n",
              "      <th>meta/instanceID</th>\n",
              "      <th>_id</th>\n",
              "      <th>_uuid</th>\n",
              "      <th>_submission_time</th>\n",
              "      <th>_index</th>\n",
              "      <th>_parent_table_name</th>\n",
              "      <th>_parent_index</th>\n",
              "      <th>_tags</th>\n",
              "      <th>_notes</th>\n",
              "    </tr>\n",
              "  </thead>\n",
              "  <tbody>\n",
              "    <tr>\n",
              "      <th>0</th>\n",
              "      <td>2021-05-06T09:50:26.433+03:00</td>\n",
              "      <td>2021-05-09T14:07:55.548+03:00</td>\n",
              "      <td>76.291389</td>\n",
              "      <td>4577.483333</td>\n",
              "      <td>0.8350286 34.8646938 1761.797294187769 4.98</td>\n",
              "      <td>0.835029</td>\n",
              "      <td>34.864694</td>\n",
              "      <td>1761.797294</td>\n",
              "      <td>4.980</td>\n",
              "      <td>Daniel Odhiambo</td>\n",
              "      <td>trans_nzoia</td>\n",
              "      <td>25_30</td>\n",
              "      <td>male</td>\n",
              "      <td>kshs_0___11_000</td>\n",
              "      <td>kcpe</td>\n",
              "      <td>hustler</td>\n",
              "      <td>urban</td>\n",
              "      <td>yes</td>\n",
              "      <td>undecided</td>\n",
              "      <td>NaN</td>\n",
              "      <td>still_deciding</td>\n",
              "      <td>raila_odinga</td>\n",
              "      <td>none</td>\n",
              "      <td>thinking_about_it</td>\n",
              "      <td>yes</td>\n",
              "      <td>no_response</td>\n",
              "      <td>no_response</td>\n",
              "      <td>no_one</td>\n",
              "      <td>rarely</td>\n",
              "      <td>never</td>\n",
              "      <td>often</td>\n",
              "      <td>tv</td>\n",
              "      <td>i_don_t_care</td>\n",
              "      <td>response</td>\n",
              "      <td>vxmXBDYW6jJgGL4WrvTb5f</td>\n",
              "      <td>uuid:4ad44fb2-a429-4e7d-a8f1-c367f3068bbb</td>\n",
              "      <td>176970084</td>\n",
              "      <td>4ad44fb2-a429-4e7d-a8f1-c367f3068bbb</td>\n",
              "      <td>2021-05-09T18:30:11</td>\n",
              "      <td>4995</td>\n",
              "      <td>NaN</td>\n",
              "      <td>-1</td>\n",
              "      <td>NaN</td>\n",
              "      <td>NaN</td>\n",
              "    </tr>\n",
              "    <tr>\n",
              "      <th>1</th>\n",
              "      <td>2021-05-05T20:41:15.214+03:00</td>\n",
              "      <td>2021-05-08T11:33:45.347+03:00</td>\n",
              "      <td>62.875000</td>\n",
              "      <td>3772.500000</td>\n",
              "      <td>-4.0286687 39.6323594 24.303734045012625 4.78</td>\n",
              "      <td>-4.028669</td>\n",
              "      <td>39.632359</td>\n",
              "      <td>24.303734</td>\n",
              "      <td>4.780</td>\n",
              "      <td>Joshua</td>\n",
              "      <td>mombasa</td>\n",
              "      <td>25_30</td>\n",
              "      <td>male</td>\n",
              "      <td>kshs_11_001__20_000</td>\n",
              "      <td>kcpe</td>\n",
              "      <td>business_owner__hotel_shop_kio</td>\n",
              "      <td>peri_urban</td>\n",
              "      <td>yes</td>\n",
              "      <td>no</td>\n",
              "      <td>i_do_not_understand_bbi</td>\n",
              "      <td>still_deciding</td>\n",
              "      <td>kalonzo_musyoka</td>\n",
              "      <td>musalia_mudavadi</td>\n",
              "      <td>thinking_about_it</td>\n",
              "      <td>no</td>\n",
              "      <td>no</td>\n",
              "      <td>yes</td>\n",
              "      <td>mcas</td>\n",
              "      <td>rarely</td>\n",
              "      <td>rarely</td>\n",
              "      <td>rarely</td>\n",
              "      <td>radio</td>\n",
              "      <td>no</td>\n",
              "      <td>yes</td>\n",
              "      <td>vxmXBDYW6jJgGL4WrvTb5f</td>\n",
              "      <td>uuid:a58205f0-1b13-42a0-878b-cb5c1005cda4</td>\n",
              "      <td>176799145</td>\n",
              "      <td>a58205f0-1b13-42a0-878b-cb5c1005cda4</td>\n",
              "      <td>2021-05-08T16:11:33</td>\n",
              "      <td>1240</td>\n",
              "      <td>NaN</td>\n",
              "      <td>-1</td>\n",
              "      <td>NaN</td>\n",
              "      <td>NaN</td>\n",
              "    </tr>\n",
              "    <tr>\n",
              "      <th>2</th>\n",
              "      <td>2021-05-07T10:23:20.976+03:00</td>\n",
              "      <td>2021-05-09T12:34:56.000+03:00</td>\n",
              "      <td>50.193333</td>\n",
              "      <td>3011.600000</td>\n",
              "      <td>-1.3683735 38.0084957 1126.6824783361062 4.921</td>\n",
              "      <td>-1.368373</td>\n",
              "      <td>38.008496</td>\n",
              "      <td>1126.682478</td>\n",
              "      <td>4.921</td>\n",
              "      <td>Brenda Njue</td>\n",
              "      <td>kitui</td>\n",
              "      <td>25_30</td>\n",
              "      <td>female</td>\n",
              "      <td>kshs_20_001__50_000</td>\n",
              "      <td>diploma</td>\n",
              "      <td>formal_employment__teacher_acc</td>\n",
              "      <td>urban</td>\n",
              "      <td>yes</td>\n",
              "      <td>yes</td>\n",
              "      <td>NaN</td>\n",
              "      <td>yes__for_it</td>\n",
              "      <td>raila_odinga</td>\n",
              "      <td>musalia_mudavadi</td>\n",
              "      <td>yes</td>\n",
              "      <td>yes</td>\n",
              "      <td>no</td>\n",
              "      <td>yes</td>\n",
              "      <td>no_one</td>\n",
              "      <td>sometimes</td>\n",
              "      <td>often</td>\n",
              "      <td>always</td>\n",
              "      <td>tv</td>\n",
              "      <td>yes</td>\n",
              "      <td>yes</td>\n",
              "      <td>vxmXBDYW6jJgGL4WrvTb5f</td>\n",
              "      <td>uuid:ad50c639-f6ee-48c7-9496-fa4392073bdb</td>\n",
              "      <td>176894163</td>\n",
              "      <td>ad50c639-f6ee-48c7-9496-fa4392073bdb</td>\n",
              "      <td>2021-05-09T09:39:31</td>\n",
              "      <td>728</td>\n",
              "      <td>NaN</td>\n",
              "      <td>-1</td>\n",
              "      <td>NaN</td>\n",
              "      <td>NaN</td>\n",
              "    </tr>\n",
              "    <tr>\n",
              "      <th>3</th>\n",
              "      <td>2021-05-08T09:39:09.429+03:00</td>\n",
              "      <td>2021-05-10T11:40:44.380+03:00</td>\n",
              "      <td>50.026389</td>\n",
              "      <td>3001.583333</td>\n",
              "      <td>-1.0162223 34.4802999 1527.0306908686568 4.901</td>\n",
              "      <td>-1.016222</td>\n",
              "      <td>34.480300</td>\n",
              "      <td>1527.030691</td>\n",
              "      <td>4.901</td>\n",
              "      <td>Rita wangechi muthoga</td>\n",
              "      <td>migori</td>\n",
              "      <td>31_35</td>\n",
              "      <td>male</td>\n",
              "      <td>kshs_11_001__20_000</td>\n",
              "      <td>diploma</td>\n",
              "      <td>hustler</td>\n",
              "      <td>urban</td>\n",
              "      <td>no</td>\n",
              "      <td>yes</td>\n",
              "      <td>NaN</td>\n",
              "      <td>yes__for_it</td>\n",
              "      <td>raila_odinga</td>\n",
              "      <td>william_ruto</td>\n",
              "      <td>yes</td>\n",
              "      <td>yes</td>\n",
              "      <td>yes</td>\n",
              "      <td>yes</td>\n",
              "      <td>chief</td>\n",
              "      <td>always</td>\n",
              "      <td>always</td>\n",
              "      <td>always</td>\n",
              "      <td>tv</td>\n",
              "      <td>yes</td>\n",
              "      <td>yes</td>\n",
              "      <td>vxmXBDYW6jJgGL4WrvTb5f</td>\n",
              "      <td>uuid:16410612-f4f4-47b8-b903-c23d9b6fd0f3</td>\n",
              "      <td>177065334</td>\n",
              "      <td>16410612-f4f4-47b8-b903-c23d9b6fd0f3</td>\n",
              "      <td>2021-05-10T09:21:58</td>\n",
              "      <td>5559</td>\n",
              "      <td>NaN</td>\n",
              "      <td>-1</td>\n",
              "      <td>NaN</td>\n",
              "      <td>NaN</td>\n",
              "    </tr>\n",
              "    <tr>\n",
              "      <th>4</th>\n",
              "      <td>2021-05-06T09:57:19.279+03:00</td>\n",
              "      <td>2021-05-08T09:58:24.577+03:00</td>\n",
              "      <td>48.018056</td>\n",
              "      <td>2881.083333</td>\n",
              "      <td>-4.0271833 39.6312224 23.717355010810746 4.966</td>\n",
              "      <td>-4.027183</td>\n",
              "      <td>39.631222</td>\n",
              "      <td>23.717355</td>\n",
              "      <td>4.966</td>\n",
              "      <td>Joshua</td>\n",
              "      <td>mombasa</td>\n",
              "      <td>41_50</td>\n",
              "      <td>male</td>\n",
              "      <td>kshs_0___11_000</td>\n",
              "      <td>certificate</td>\n",
              "      <td>informal_employment__jua_kali_</td>\n",
              "      <td>peri_urban</td>\n",
              "      <td>yes</td>\n",
              "      <td>yes</td>\n",
              "      <td>NaN</td>\n",
              "      <td>no__against_it</td>\n",
              "      <td>william_ruto</td>\n",
              "      <td>peter_kenneth</td>\n",
              "      <td>no</td>\n",
              "      <td>yes</td>\n",
              "      <td>yes</td>\n",
              "      <td>no</td>\n",
              "      <td>business_leaders</td>\n",
              "      <td>never</td>\n",
              "      <td>never</td>\n",
              "      <td>never</td>\n",
              "      <td>tv</td>\n",
              "      <td>no</td>\n",
              "      <td>yes</td>\n",
              "      <td>vxmXBDYW6jJgGL4WrvTb5f</td>\n",
              "      <td>uuid:276544bb-535c-4583-a3c8-e5681df8e267</td>\n",
              "      <td>176799148</td>\n",
              "      <td>276544bb-535c-4583-a3c8-e5681df8e267</td>\n",
              "      <td>2021-05-08T16:11:34</td>\n",
              "      <td>3648</td>\n",
              "      <td>NaN</td>\n",
              "      <td>-1</td>\n",
              "      <td>NaN</td>\n",
              "      <td>NaN</td>\n",
              "    </tr>\n",
              "    <tr>\n",
              "      <th>...</th>\n",
              "      <td>...</td>\n",
              "      <td>...</td>\n",
              "      <td>...</td>\n",
              "      <td>...</td>\n",
              "      <td>...</td>\n",
              "      <td>...</td>\n",
              "      <td>...</td>\n",
              "      <td>...</td>\n",
              "      <td>...</td>\n",
              "      <td>...</td>\n",
              "      <td>...</td>\n",
              "      <td>...</td>\n",
              "      <td>...</td>\n",
              "      <td>...</td>\n",
              "      <td>...</td>\n",
              "      <td>...</td>\n",
              "      <td>...</td>\n",
              "      <td>...</td>\n",
              "      <td>...</td>\n",
              "      <td>...</td>\n",
              "      <td>...</td>\n",
              "      <td>...</td>\n",
              "      <td>...</td>\n",
              "      <td>...</td>\n",
              "      <td>...</td>\n",
              "      <td>...</td>\n",
              "      <td>...</td>\n",
              "      <td>...</td>\n",
              "      <td>...</td>\n",
              "      <td>...</td>\n",
              "      <td>...</td>\n",
              "      <td>...</td>\n",
              "      <td>...</td>\n",
              "      <td>...</td>\n",
              "      <td>...</td>\n",
              "      <td>...</td>\n",
              "      <td>...</td>\n",
              "      <td>...</td>\n",
              "      <td>...</td>\n",
              "      <td>...</td>\n",
              "      <td>...</td>\n",
              "      <td>...</td>\n",
              "      <td>...</td>\n",
              "      <td>...</td>\n",
              "    </tr>\n",
              "    <tr>\n",
              "      <th>5731</th>\n",
              "      <td>2021-05-08T15:54:56.476+03:00</td>\n",
              "      <td>2021-05-08T15:55:44.221+03:00</td>\n",
              "      <td>0.013333</td>\n",
              "      <td>0.800000</td>\n",
              "      <td>-0.5889612 34.7939029 1647.3340988251903 2.725</td>\n",
              "      <td>-0.588961</td>\n",
              "      <td>34.793903</td>\n",
              "      <td>1647.334099</td>\n",
              "      <td>2.725</td>\n",
              "      <td>Obadiah Mbeta</td>\n",
              "      <td>kisii</td>\n",
              "      <td>25_30</td>\n",
              "      <td>male</td>\n",
              "      <td>kshs_0___11_000</td>\n",
              "      <td>certificate</td>\n",
              "      <td>cash_crop_farmer_commercial_fi</td>\n",
              "      <td>rural</td>\n",
              "      <td>no</td>\n",
              "      <td>undecided</td>\n",
              "      <td>NaN</td>\n",
              "      <td>i_will_not_vote</td>\n",
              "      <td>raila_odinga</td>\n",
              "      <td>musalia_mudavadi</td>\n",
              "      <td>don_t_care</td>\n",
              "      <td>a_little</td>\n",
              "      <td>no</td>\n",
              "      <td>yes</td>\n",
              "      <td>governor</td>\n",
              "      <td>sometimes</td>\n",
              "      <td>always</td>\n",
              "      <td>always</td>\n",
              "      <td>radio</td>\n",
              "      <td>no</td>\n",
              "      <td>yes</td>\n",
              "      <td>vxmXBDYW6jJgGL4WrvTb5f</td>\n",
              "      <td>uuid:76198e7e-8464-4f4f-9d8e-8f2c42eaeba4</td>\n",
              "      <td>176792111</td>\n",
              "      <td>76198e7e-8464-4f4f-9d8e-8f2c42eaeba4</td>\n",
              "      <td>2021-05-08T15:15:37</td>\n",
              "      <td>3545</td>\n",
              "      <td>NaN</td>\n",
              "      <td>-1</td>\n",
              "      <td>NaN</td>\n",
              "      <td>NaN</td>\n",
              "    </tr>\n",
              "    <tr>\n",
              "      <th>5732</th>\n",
              "      <td>2021-05-09T13:11:36.821+03:00</td>\n",
              "      <td>2021-05-09T13:12:24.502+03:00</td>\n",
              "      <td>0.013333</td>\n",
              "      <td>0.800000</td>\n",
              "      <td>-0.5587299 34.9326513 2015.4855856685826 2.968</td>\n",
              "      <td>-0.558730</td>\n",
              "      <td>34.932651</td>\n",
              "      <td>2015.485586</td>\n",
              "      <td>2.968</td>\n",
              "      <td>Obadiah Mbeta</td>\n",
              "      <td>kisii</td>\n",
              "      <td>25_30</td>\n",
              "      <td>female</td>\n",
              "      <td>kshs_0___11_000</td>\n",
              "      <td>kcse</td>\n",
              "      <td>subsistence_farmer_subsistence</td>\n",
              "      <td>peri_urban</td>\n",
              "      <td>yes</td>\n",
              "      <td>yes</td>\n",
              "      <td>NaN</td>\n",
              "      <td>no__against_it</td>\n",
              "      <td>raila_odinga</td>\n",
              "      <td>raila_odinga</td>\n",
              "      <td>yes</td>\n",
              "      <td>a_little</td>\n",
              "      <td>no</td>\n",
              "      <td>yes</td>\n",
              "      <td>mp</td>\n",
              "      <td>always</td>\n",
              "      <td>always</td>\n",
              "      <td>always</td>\n",
              "      <td>newspapers</td>\n",
              "      <td>no</td>\n",
              "      <td>yes</td>\n",
              "      <td>vxmXBDYW6jJgGL4WrvTb5f</td>\n",
              "      <td>uuid:741a4262-3101-4f56-83a3-168243258fc2</td>\n",
              "      <td>176955234</td>\n",
              "      <td>741a4262-3101-4f56-83a3-168243258fc2</td>\n",
              "      <td>2021-05-09T15:57:02</td>\n",
              "      <td>365</td>\n",
              "      <td>NaN</td>\n",
              "      <td>-1</td>\n",
              "      <td>NaN</td>\n",
              "      <td>NaN</td>\n",
              "    </tr>\n",
              "    <tr>\n",
              "      <th>5733</th>\n",
              "      <td>2021-05-08T11:37:11.972+03:00</td>\n",
              "      <td>2021-05-08T11:37:59.147+03:00</td>\n",
              "      <td>0.013333</td>\n",
              "      <td>0.800000</td>\n",
              "      <td>-0.5828402 34.7956491 1650.6899819216228 2.886</td>\n",
              "      <td>-0.582840</td>\n",
              "      <td>34.795649</td>\n",
              "      <td>1650.689982</td>\n",
              "      <td>2.886</td>\n",
              "      <td>Obadiah Mbeta</td>\n",
              "      <td>kisii</td>\n",
              "      <td>25_30</td>\n",
              "      <td>male</td>\n",
              "      <td>kshs_0___11_000</td>\n",
              "      <td>kcpe</td>\n",
              "      <td>cash_crop_farmer_commercial_fi</td>\n",
              "      <td>rural</td>\n",
              "      <td>yes</td>\n",
              "      <td>undecided</td>\n",
              "      <td>NaN</td>\n",
              "      <td>no__against_it</td>\n",
              "      <td>musalia_mudavadi</td>\n",
              "      <td>fred_matiangi</td>\n",
              "      <td>no</td>\n",
              "      <td>no</td>\n",
              "      <td>yes</td>\n",
              "      <td>yes</td>\n",
              "      <td>my_friends</td>\n",
              "      <td>sometimes</td>\n",
              "      <td>always</td>\n",
              "      <td>always</td>\n",
              "      <td>radio</td>\n",
              "      <td>no</td>\n",
              "      <td>yes</td>\n",
              "      <td>vxmXBDYW6jJgGL4WrvTb5f</td>\n",
              "      <td>uuid:e38cff89-71d9-4530-bad6-9137050a91bc</td>\n",
              "      <td>176759208</td>\n",
              "      <td>e38cff89-71d9-4530-bad6-9137050a91bc</td>\n",
              "      <td>2021-05-08T11:40:28</td>\n",
              "      <td>2954</td>\n",
              "      <td>NaN</td>\n",
              "      <td>-1</td>\n",
              "      <td>NaN</td>\n",
              "      <td>NaN</td>\n",
              "    </tr>\n",
              "    <tr>\n",
              "      <th>5734</th>\n",
              "      <td>2021-05-08T15:56:05.723+03:00</td>\n",
              "      <td>2021-05-08T15:56:53.121+03:00</td>\n",
              "      <td>0.013333</td>\n",
              "      <td>0.800000</td>\n",
              "      <td>-0.5888396 34.7933949 1647.4557145902018 2.935</td>\n",
              "      <td>-0.588840</td>\n",
              "      <td>34.793395</td>\n",
              "      <td>1647.455715</td>\n",
              "      <td>2.935</td>\n",
              "      <td>Obadiah Mbeta</td>\n",
              "      <td>kisii</td>\n",
              "      <td>36_40</td>\n",
              "      <td>female</td>\n",
              "      <td>kshs_11_001__20_000</td>\n",
              "      <td>diploma</td>\n",
              "      <td>formal_employment__teacher_acc</td>\n",
              "      <td>rural</td>\n",
              "      <td>yes</td>\n",
              "      <td>undecided</td>\n",
              "      <td>NaN</td>\n",
              "      <td>still_deciding</td>\n",
              "      <td>fred_matiangi</td>\n",
              "      <td>william_ruto</td>\n",
              "      <td>thinking_about_it</td>\n",
              "      <td>no</td>\n",
              "      <td>i_do_not_know_about_it</td>\n",
              "      <td>no_response</td>\n",
              "      <td>governor</td>\n",
              "      <td>sometimes</td>\n",
              "      <td>always</td>\n",
              "      <td>always</td>\n",
              "      <td>radio</td>\n",
              "      <td>no</td>\n",
              "      <td>yes</td>\n",
              "      <td>vxmXBDYW6jJgGL4WrvTb5f</td>\n",
              "      <td>uuid:2bd08f9d-303a-42b6-852a-4eb1a297c82c</td>\n",
              "      <td>176792113</td>\n",
              "      <td>2bd08f9d-303a-42b6-852a-4eb1a297c82c</td>\n",
              "      <td>2021-05-08T15:15:37</td>\n",
              "      <td>3546</td>\n",
              "      <td>NaN</td>\n",
              "      <td>-1</td>\n",
              "      <td>NaN</td>\n",
              "      <td>NaN</td>\n",
              "    </tr>\n",
              "    <tr>\n",
              "      <th>5735</th>\n",
              "      <td>2021-05-08T15:46:22.615+03:00</td>\n",
              "      <td>2021-05-08T15:47:09.410+03:00</td>\n",
              "      <td>0.013056</td>\n",
              "      <td>0.783333</td>\n",
              "      <td>-0.5893604 34.7949155 1641.8667177123768 3.9</td>\n",
              "      <td>-0.589360</td>\n",
              "      <td>34.794916</td>\n",
              "      <td>1641.866718</td>\n",
              "      <td>3.900</td>\n",
              "      <td>Obadiah Mbeta</td>\n",
              "      <td>kisii</td>\n",
              "      <td>18_24</td>\n",
              "      <td>male</td>\n",
              "      <td>kshs_0___11_000</td>\n",
              "      <td>kcse</td>\n",
              "      <td>cash_crop_farmer_commercial_fi</td>\n",
              "      <td>rural</td>\n",
              "      <td>no</td>\n",
              "      <td>undecided</td>\n",
              "      <td>NaN</td>\n",
              "      <td>i_will_not_vote</td>\n",
              "      <td>fred_matiangi</td>\n",
              "      <td>william_ruto</td>\n",
              "      <td>thinking_about_it</td>\n",
              "      <td>no</td>\n",
              "      <td>not_sure</td>\n",
              "      <td>no</td>\n",
              "      <td>governor</td>\n",
              "      <td>never</td>\n",
              "      <td>always</td>\n",
              "      <td>always</td>\n",
              "      <td>radio</td>\n",
              "      <td>maybe</td>\n",
              "      <td>yes</td>\n",
              "      <td>vxmXBDYW6jJgGL4WrvTb5f</td>\n",
              "      <td>uuid:e07c75e8-17c5-4789-b776-a07d540b848e</td>\n",
              "      <td>176792106</td>\n",
              "      <td>e07c75e8-17c5-4789-b776-a07d540b848e</td>\n",
              "      <td>2021-05-08T15:15:36</td>\n",
              "      <td>3543</td>\n",
              "      <td>NaN</td>\n",
              "      <td>-1</td>\n",
              "      <td>NaN</td>\n",
              "      <td>NaN</td>\n",
              "    </tr>\n",
              "  </tbody>\n",
              "</table>\n",
              "<p>5736 rows × 44 columns</p>\n",
              "</div>"
            ],
            "text/plain": [
              "                              start  ... _notes\n",
              "0     2021-05-06T09:50:26.433+03:00  ...    NaN\n",
              "1     2021-05-05T20:41:15.214+03:00  ...    NaN\n",
              "2     2021-05-07T10:23:20.976+03:00  ...    NaN\n",
              "3     2021-05-08T09:39:09.429+03:00  ...    NaN\n",
              "4     2021-05-06T09:57:19.279+03:00  ...    NaN\n",
              "...                             ...  ...    ...\n",
              "5731  2021-05-08T15:54:56.476+03:00  ...    NaN\n",
              "5732  2021-05-09T13:11:36.821+03:00  ...    NaN\n",
              "5733  2021-05-08T11:37:11.972+03:00  ...    NaN\n",
              "5734  2021-05-08T15:56:05.723+03:00  ...    NaN\n",
              "5735  2021-05-08T15:46:22.615+03:00  ...    NaN\n",
              "\n",
              "[5736 rows x 44 columns]"
            ]
          },
          "metadata": {},
          "execution_count": 83
        }
      ]
    },
    {
      "cell_type": "code",
      "metadata": {
        "colab": {
          "base_uri": "https://localhost:8080/",
          "height": 223
        },
        "id": "ty4btVMBIaOI",
        "outputId": "9fad79ce-4946-4efe-9d51-65723033b0c9"
      },
      "source": [
        "df.drop([\"start\",\"end\", \"time \", \"minutes\", \"Insert_Geotag_Location\", \"_Insert_Geotag_Location_latitude\", \n",
        "           \"_Insert_Geotag_Location_longitude\", \"_Insert_Geotag_Location_altitude\",\"_Insert_Geotag_Location_precision\",\n",
        "           \"Name_of_Enumerator\",\"__version__\",\"meta/instanceID\",\"_id\",\"_uuid\",\"_submission_time\",\"_index\",\"_parent_table_name\",\n",
        "           \"_parent_index\",\"_tags\",\"_notes\"], axis=1, inplace = True)\n",
        "# df.columns = df.columns.str.replace(' ', '_')\n",
        "df.head()"
      ],
      "execution_count": null,
      "outputs": [
        {
          "output_type": "execute_result",
          "data": {
            "text/html": [
              "<div>\n",
              "<style scoped>\n",
              "    .dataframe tbody tr th:only-of-type {\n",
              "        vertical-align: middle;\n",
              "    }\n",
              "\n",
              "    .dataframe tbody tr th {\n",
              "        vertical-align: top;\n",
              "    }\n",
              "\n",
              "    .dataframe thead th {\n",
              "        text-align: right;\n",
              "    }\n",
              "</style>\n",
              "<table border=\"1\" class=\"dataframe\">\n",
              "  <thead>\n",
              "    <tr style=\"text-align: right;\">\n",
              "      <th></th>\n",
              "      <th>County</th>\n",
              "      <th>_1_Age</th>\n",
              "      <th>_2_Gender</th>\n",
              "      <th>_3_Monthly_Income</th>\n",
              "      <th>_4_Highest_Level_of_Education_Attained</th>\n",
              "      <th>_5_Occupation</th>\n",
              "      <th>_6_Location</th>\n",
              "      <th>_7_Did_you_vote_in_2017</th>\n",
              "      <th>_8_Will_you_vote_in_the_Refere</th>\n",
              "      <th>_9_If_No_Why</th>\n",
              "      <th>_10_How_will_you_vote_in_the_Referendum</th>\n",
              "      <th>_11_If_elections_are_o_would_you_vote_for</th>\n",
              "      <th>_12_If_you_don_t_vot_s_your_second_choice</th>\n",
              "      <th>_13_Do_you_support_BBI</th>\n",
              "      <th>_14_Do_you_know_what_BBI_wants_to_change</th>\n",
              "      <th>_15_Do_you_support_the_Hustler_Nation</th>\n",
              "      <th>_16_Do_you_think_the_ake_brought_us_peace</th>\n",
              "      <th>_17_Who_has_influenc_st_in_your_community</th>\n",
              "      <th>_18_Do_you_trust_your_political_leaders</th>\n",
              "      <th>_19_Do_you_trust_your_religious_leaders</th>\n",
              "      <th>_20_Do_you_trust_your_elders</th>\n",
              "      <th>_21_Where_do_you_get_your_News_from</th>\n",
              "      <th>_22_Have_you_understood_BBI_completely</th>\n",
              "      <th>_23_Will_you_vote_in_2022</th>\n",
              "    </tr>\n",
              "  </thead>\n",
              "  <tbody>\n",
              "    <tr>\n",
              "      <th>0</th>\n",
              "      <td>trans_nzoia</td>\n",
              "      <td>25_30</td>\n",
              "      <td>male</td>\n",
              "      <td>kshs_0___11_000</td>\n",
              "      <td>kcpe</td>\n",
              "      <td>hustler</td>\n",
              "      <td>urban</td>\n",
              "      <td>yes</td>\n",
              "      <td>undecided</td>\n",
              "      <td>NaN</td>\n",
              "      <td>still_deciding</td>\n",
              "      <td>raila_odinga</td>\n",
              "      <td>none</td>\n",
              "      <td>thinking_about_it</td>\n",
              "      <td>yes</td>\n",
              "      <td>no_response</td>\n",
              "      <td>no_response</td>\n",
              "      <td>no_one</td>\n",
              "      <td>rarely</td>\n",
              "      <td>never</td>\n",
              "      <td>often</td>\n",
              "      <td>tv</td>\n",
              "      <td>i_don_t_care</td>\n",
              "      <td>response</td>\n",
              "    </tr>\n",
              "    <tr>\n",
              "      <th>1</th>\n",
              "      <td>mombasa</td>\n",
              "      <td>25_30</td>\n",
              "      <td>male</td>\n",
              "      <td>kshs_11_001__20_000</td>\n",
              "      <td>kcpe</td>\n",
              "      <td>business_owner__hotel_shop_kio</td>\n",
              "      <td>peri_urban</td>\n",
              "      <td>yes</td>\n",
              "      <td>no</td>\n",
              "      <td>i_do_not_understand_bbi</td>\n",
              "      <td>still_deciding</td>\n",
              "      <td>kalonzo_musyoka</td>\n",
              "      <td>musalia_mudavadi</td>\n",
              "      <td>thinking_about_it</td>\n",
              "      <td>no</td>\n",
              "      <td>no</td>\n",
              "      <td>yes</td>\n",
              "      <td>mcas</td>\n",
              "      <td>rarely</td>\n",
              "      <td>rarely</td>\n",
              "      <td>rarely</td>\n",
              "      <td>radio</td>\n",
              "      <td>no</td>\n",
              "      <td>yes</td>\n",
              "    </tr>\n",
              "    <tr>\n",
              "      <th>2</th>\n",
              "      <td>kitui</td>\n",
              "      <td>25_30</td>\n",
              "      <td>female</td>\n",
              "      <td>kshs_20_001__50_000</td>\n",
              "      <td>diploma</td>\n",
              "      <td>formal_employment__teacher_acc</td>\n",
              "      <td>urban</td>\n",
              "      <td>yes</td>\n",
              "      <td>yes</td>\n",
              "      <td>NaN</td>\n",
              "      <td>yes__for_it</td>\n",
              "      <td>raila_odinga</td>\n",
              "      <td>musalia_mudavadi</td>\n",
              "      <td>yes</td>\n",
              "      <td>yes</td>\n",
              "      <td>no</td>\n",
              "      <td>yes</td>\n",
              "      <td>no_one</td>\n",
              "      <td>sometimes</td>\n",
              "      <td>often</td>\n",
              "      <td>always</td>\n",
              "      <td>tv</td>\n",
              "      <td>yes</td>\n",
              "      <td>yes</td>\n",
              "    </tr>\n",
              "    <tr>\n",
              "      <th>3</th>\n",
              "      <td>migori</td>\n",
              "      <td>31_35</td>\n",
              "      <td>male</td>\n",
              "      <td>kshs_11_001__20_000</td>\n",
              "      <td>diploma</td>\n",
              "      <td>hustler</td>\n",
              "      <td>urban</td>\n",
              "      <td>no</td>\n",
              "      <td>yes</td>\n",
              "      <td>NaN</td>\n",
              "      <td>yes__for_it</td>\n",
              "      <td>raila_odinga</td>\n",
              "      <td>william_ruto</td>\n",
              "      <td>yes</td>\n",
              "      <td>yes</td>\n",
              "      <td>yes</td>\n",
              "      <td>yes</td>\n",
              "      <td>chief</td>\n",
              "      <td>always</td>\n",
              "      <td>always</td>\n",
              "      <td>always</td>\n",
              "      <td>tv</td>\n",
              "      <td>yes</td>\n",
              "      <td>yes</td>\n",
              "    </tr>\n",
              "    <tr>\n",
              "      <th>4</th>\n",
              "      <td>mombasa</td>\n",
              "      <td>41_50</td>\n",
              "      <td>male</td>\n",
              "      <td>kshs_0___11_000</td>\n",
              "      <td>certificate</td>\n",
              "      <td>informal_employment__jua_kali_</td>\n",
              "      <td>peri_urban</td>\n",
              "      <td>yes</td>\n",
              "      <td>yes</td>\n",
              "      <td>NaN</td>\n",
              "      <td>no__against_it</td>\n",
              "      <td>william_ruto</td>\n",
              "      <td>peter_kenneth</td>\n",
              "      <td>no</td>\n",
              "      <td>yes</td>\n",
              "      <td>yes</td>\n",
              "      <td>no</td>\n",
              "      <td>business_leaders</td>\n",
              "      <td>never</td>\n",
              "      <td>never</td>\n",
              "      <td>never</td>\n",
              "      <td>tv</td>\n",
              "      <td>no</td>\n",
              "      <td>yes</td>\n",
              "    </tr>\n",
              "  </tbody>\n",
              "</table>\n",
              "</div>"
            ],
            "text/plain": [
              "        County  ... _23_Will_you_vote_in_2022\n",
              "0  trans_nzoia  ...                  response\n",
              "1      mombasa  ...                       yes\n",
              "2        kitui  ...                       yes\n",
              "3       migori  ...                       yes\n",
              "4      mombasa  ...                       yes\n",
              "\n",
              "[5 rows x 24 columns]"
            ]
          },
          "metadata": {},
          "execution_count": 84
        }
      ]
    },
    {
      "cell_type": "markdown",
      "metadata": {
        "id": "Uh08TpTF7EUo"
      },
      "source": [
        "# Accuracy"
      ]
    },
    {
      "cell_type": "code",
      "metadata": {
        "colab": {
          "base_uri": "https://localhost:8080/"
        },
        "id": "zRrVKxoO7MGW",
        "outputId": "537f57ab-a87a-46ff-8d6d-38fa11231fb2"
      },
      "source": [
        "knowledge(df)"
      ],
      "execution_count": null,
      "outputs": [
        {
          "output_type": "stream",
          "text": [
            "The shape is **********************\n",
            "(5736, 24)\n",
            "The information is **********************\n",
            "<class 'pandas.core.frame.DataFrame'>\n",
            "RangeIndex: 5736 entries, 0 to 5735\n",
            "Data columns (total 24 columns):\n",
            " #   Column                                     Non-Null Count  Dtype \n",
            "---  ------                                     --------------  ----- \n",
            " 0   County                                     5736 non-null   object\n",
            " 1   _1_Age                                     5736 non-null   object\n",
            " 2   _2_Gender                                  5736 non-null   object\n",
            " 3   _3_Monthly_Income                          5736 non-null   object\n",
            " 4   _4_Highest_Level_of_Education_Attained     5736 non-null   object\n",
            " 5   _5_Occupation                              5736 non-null   object\n",
            " 6   _6_Location                                5736 non-null   object\n",
            " 7   _7_Did_you_vote_in_2017                    5736 non-null   object\n",
            " 8   _8_Will_you_vote_in_the_Refere             5736 non-null   object\n",
            " 9   _9_If_No_Why                               1377 non-null   object\n",
            " 10  _10_How_will_you_vote_in_the_Referendum    5736 non-null   object\n",
            " 11  _11_If_elections_are_o_would_you_vote_for  5736 non-null   object\n",
            " 12  _12_If_you_don_t_vot_s_your_second_choice  5736 non-null   object\n",
            " 13  _13_Do_you_support_BBI                     5736 non-null   object\n",
            " 14  _14_Do_you_know_what_BBI_wants_to_change   5736 non-null   object\n",
            " 15  _15_Do_you_support_the_Hustler_Nation      5736 non-null   object\n",
            " 16  _16_Do_you_think_the_ake_brought_us_peace  5736 non-null   object\n",
            " 17  _17_Who_has_influenc_st_in_your_community  5736 non-null   object\n",
            " 18  _18_Do_you_trust_your_political_leaders    5736 non-null   object\n",
            " 19  _19_Do_you_trust_your_religious_leaders    5736 non-null   object\n",
            " 20  _20_Do_you_trust_your_elders               5736 non-null   object\n",
            " 21  _21_Where_do_you_get_your_News_from        5736 non-null   object\n",
            " 22  _22_Have_you_understood_BBI_completely     5736 non-null   object\n",
            " 23  _23_Will_you_vote_in_2022                  5736 non-null   object\n",
            "dtypes: object(24)\n",
            "memory usage: 1.1+ MB\n",
            "None\n",
            " The size is**********************\n",
            "137664\n"
          ],
          "name": "stdout"
        }
      ]
    },
    {
      "cell_type": "code",
      "metadata": {
        "id": "ITSo2ULM9qJz"
      },
      "source": [
        "df.columns = df.columns.str.replace('_', ' ')\n"
      ],
      "execution_count": null,
      "outputs": []
    },
    {
      "cell_type": "code",
      "metadata": {
        "colab": {
          "base_uri": "https://localhost:8080/",
          "height": 325
        },
        "id": "nW9cw7VoA-tB",
        "outputId": "5504754a-49b1-4526-b080-81c09303b81a"
      },
      "source": [
        "df.columns = ['County', 'Age', 'Gender', 'Monthly Income',\n",
        "       'Highest Level of Education Attained', 'Occupation',\n",
        "       'Location', 'Did you vote in 2017',\n",
        "       'Will you vote in the Refere', 'If No Why',\n",
        "       'How will you vote in the Referendum',\n",
        "       'If elections are today who would you vote for',\n",
        "       'If you dont vote for that one who is your second choice', 'Do you support BBI',\n",
        "       'Do you know what BBI wants to change',\n",
        "       'Do you support the Hustler Nation',\n",
        "       'Do you think the handshake brought us peace',\n",
        "       'Who influences youin your community',\n",
        "       'Do you trust your political leaders',\n",
        "       'Do you trust your religious leaders',\n",
        "       'Do you trust your elders', 'Where do you get your News from',\n",
        "       'Have you understood BBI completely', 'Will you vote in 2022']\n",
        "df.head()"
      ],
      "execution_count": null,
      "outputs": [
        {
          "output_type": "execute_result",
          "data": {
            "text/html": [
              "<div>\n",
              "<style scoped>\n",
              "    .dataframe tbody tr th:only-of-type {\n",
              "        vertical-align: middle;\n",
              "    }\n",
              "\n",
              "    .dataframe tbody tr th {\n",
              "        vertical-align: top;\n",
              "    }\n",
              "\n",
              "    .dataframe thead th {\n",
              "        text-align: right;\n",
              "    }\n",
              "</style>\n",
              "<table border=\"1\" class=\"dataframe\">\n",
              "  <thead>\n",
              "    <tr style=\"text-align: right;\">\n",
              "      <th></th>\n",
              "      <th>County</th>\n",
              "      <th>Age</th>\n",
              "      <th>Gender</th>\n",
              "      <th>Monthly Income</th>\n",
              "      <th>Highest Level of Education Attained</th>\n",
              "      <th>Occupation</th>\n",
              "      <th>Location</th>\n",
              "      <th>Did you vote in 2017</th>\n",
              "      <th>Will you vote in the Refere</th>\n",
              "      <th>If No Why</th>\n",
              "      <th>How will you vote in the Referendum</th>\n",
              "      <th>If elections are today who would you vote for</th>\n",
              "      <th>If you dont vote for that one who is your second choice</th>\n",
              "      <th>Do you support BBI</th>\n",
              "      <th>Do you know what BBI wants to change</th>\n",
              "      <th>Do you support the Hustler Nation</th>\n",
              "      <th>Do you think the handshake brought us peace</th>\n",
              "      <th>Who influences youin your community</th>\n",
              "      <th>Do you trust your political leaders</th>\n",
              "      <th>Do you trust your religious leaders</th>\n",
              "      <th>Do you trust your elders</th>\n",
              "      <th>Where do you get your News from</th>\n",
              "      <th>Have you understood BBI completely</th>\n",
              "      <th>Will you vote in 2022</th>\n",
              "    </tr>\n",
              "  </thead>\n",
              "  <tbody>\n",
              "    <tr>\n",
              "      <th>0</th>\n",
              "      <td>trans_nzoia</td>\n",
              "      <td>25_30</td>\n",
              "      <td>male</td>\n",
              "      <td>kshs_0___11_000</td>\n",
              "      <td>kcpe</td>\n",
              "      <td>hustler</td>\n",
              "      <td>urban</td>\n",
              "      <td>yes</td>\n",
              "      <td>undecided</td>\n",
              "      <td>NaN</td>\n",
              "      <td>still_deciding</td>\n",
              "      <td>raila_odinga</td>\n",
              "      <td>none</td>\n",
              "      <td>thinking_about_it</td>\n",
              "      <td>yes</td>\n",
              "      <td>no_response</td>\n",
              "      <td>no_response</td>\n",
              "      <td>no_one</td>\n",
              "      <td>rarely</td>\n",
              "      <td>never</td>\n",
              "      <td>often</td>\n",
              "      <td>tv</td>\n",
              "      <td>i_don_t_care</td>\n",
              "      <td>response</td>\n",
              "    </tr>\n",
              "    <tr>\n",
              "      <th>1</th>\n",
              "      <td>mombasa</td>\n",
              "      <td>25_30</td>\n",
              "      <td>male</td>\n",
              "      <td>kshs_11_001__20_000</td>\n",
              "      <td>kcpe</td>\n",
              "      <td>business_owner__hotel_shop_kio</td>\n",
              "      <td>peri_urban</td>\n",
              "      <td>yes</td>\n",
              "      <td>no</td>\n",
              "      <td>i_do_not_understand_bbi</td>\n",
              "      <td>still_deciding</td>\n",
              "      <td>kalonzo_musyoka</td>\n",
              "      <td>musalia_mudavadi</td>\n",
              "      <td>thinking_about_it</td>\n",
              "      <td>no</td>\n",
              "      <td>no</td>\n",
              "      <td>yes</td>\n",
              "      <td>mcas</td>\n",
              "      <td>rarely</td>\n",
              "      <td>rarely</td>\n",
              "      <td>rarely</td>\n",
              "      <td>radio</td>\n",
              "      <td>no</td>\n",
              "      <td>yes</td>\n",
              "    </tr>\n",
              "    <tr>\n",
              "      <th>2</th>\n",
              "      <td>kitui</td>\n",
              "      <td>25_30</td>\n",
              "      <td>female</td>\n",
              "      <td>kshs_20_001__50_000</td>\n",
              "      <td>diploma</td>\n",
              "      <td>formal_employment__teacher_acc</td>\n",
              "      <td>urban</td>\n",
              "      <td>yes</td>\n",
              "      <td>yes</td>\n",
              "      <td>NaN</td>\n",
              "      <td>yes__for_it</td>\n",
              "      <td>raila_odinga</td>\n",
              "      <td>musalia_mudavadi</td>\n",
              "      <td>yes</td>\n",
              "      <td>yes</td>\n",
              "      <td>no</td>\n",
              "      <td>yes</td>\n",
              "      <td>no_one</td>\n",
              "      <td>sometimes</td>\n",
              "      <td>often</td>\n",
              "      <td>always</td>\n",
              "      <td>tv</td>\n",
              "      <td>yes</td>\n",
              "      <td>yes</td>\n",
              "    </tr>\n",
              "    <tr>\n",
              "      <th>3</th>\n",
              "      <td>migori</td>\n",
              "      <td>31_35</td>\n",
              "      <td>male</td>\n",
              "      <td>kshs_11_001__20_000</td>\n",
              "      <td>diploma</td>\n",
              "      <td>hustler</td>\n",
              "      <td>urban</td>\n",
              "      <td>no</td>\n",
              "      <td>yes</td>\n",
              "      <td>NaN</td>\n",
              "      <td>yes__for_it</td>\n",
              "      <td>raila_odinga</td>\n",
              "      <td>william_ruto</td>\n",
              "      <td>yes</td>\n",
              "      <td>yes</td>\n",
              "      <td>yes</td>\n",
              "      <td>yes</td>\n",
              "      <td>chief</td>\n",
              "      <td>always</td>\n",
              "      <td>always</td>\n",
              "      <td>always</td>\n",
              "      <td>tv</td>\n",
              "      <td>yes</td>\n",
              "      <td>yes</td>\n",
              "    </tr>\n",
              "    <tr>\n",
              "      <th>4</th>\n",
              "      <td>mombasa</td>\n",
              "      <td>41_50</td>\n",
              "      <td>male</td>\n",
              "      <td>kshs_0___11_000</td>\n",
              "      <td>certificate</td>\n",
              "      <td>informal_employment__jua_kali_</td>\n",
              "      <td>peri_urban</td>\n",
              "      <td>yes</td>\n",
              "      <td>yes</td>\n",
              "      <td>NaN</td>\n",
              "      <td>no__against_it</td>\n",
              "      <td>william_ruto</td>\n",
              "      <td>peter_kenneth</td>\n",
              "      <td>no</td>\n",
              "      <td>yes</td>\n",
              "      <td>yes</td>\n",
              "      <td>no</td>\n",
              "      <td>business_leaders</td>\n",
              "      <td>never</td>\n",
              "      <td>never</td>\n",
              "      <td>never</td>\n",
              "      <td>tv</td>\n",
              "      <td>no</td>\n",
              "      <td>yes</td>\n",
              "    </tr>\n",
              "  </tbody>\n",
              "</table>\n",
              "</div>"
            ],
            "text/plain": [
              "        County    Age  ... Have you understood BBI completely Will you vote in 2022\n",
              "0  trans_nzoia  25_30  ...                       i_don_t_care              response\n",
              "1      mombasa  25_30  ...                                 no                   yes\n",
              "2        kitui  25_30  ...                                yes                   yes\n",
              "3       migori  31_35  ...                                yes                   yes\n",
              "4      mombasa  41_50  ...                                 no                   yes\n",
              "\n",
              "[5 rows x 24 columns]"
            ]
          },
          "metadata": {},
          "execution_count": 87
        }
      ]
    },
    {
      "cell_type": "code",
      "metadata": {
        "colab": {
          "base_uri": "https://localhost:8080/"
        },
        "id": "-gK3yfv7BEU7",
        "outputId": "ed0bec34-b64e-46b5-a1f5-d4076dd303a9"
      },
      "source": [
        "df.columns"
      ],
      "execution_count": null,
      "outputs": [
        {
          "output_type": "execute_result",
          "data": {
            "text/plain": [
              "Index(['County', 'Age', 'Gender', 'Monthly Income',\n",
              "       'Highest Level of Education Attained', 'Occupation', 'Location',\n",
              "       'Did you vote in 2017', 'Will you vote in the Refere', 'If No Why',\n",
              "       'How will you vote in the Referendum',\n",
              "       'If elections are today who would you vote for',\n",
              "       'If you dont vote for that one who is your second choice',\n",
              "       'Do you support BBI', 'Do you know what BBI wants to change',\n",
              "       'Do you support the Hustler Nation',\n",
              "       'Do you think the handshake brought us peace',\n",
              "       'Who influences youin your community',\n",
              "       'Do you trust your political leaders',\n",
              "       'Do you trust your religious leaders', 'Do you trust your elders',\n",
              "       'Where do you get your News from', 'Have you understood BBI completely',\n",
              "       'Will you vote in 2022'],\n",
              "      dtype='object')"
            ]
          },
          "metadata": {},
          "execution_count": 88
        }
      ]
    },
    {
      "cell_type": "code",
      "metadata": {
        "colab": {
          "base_uri": "https://localhost:8080/"
        },
        "id": "mLDVoYPiBQNS",
        "outputId": "4ef8f1d1-52b8-4d26-a098-fc5390400ddf"
      },
      "source": [
        "df[\"Occupation\"].str.replace(r'\\W',\"\")\n"
      ],
      "execution_count": null,
      "outputs": [
        {
          "output_type": "execute_result",
          "data": {
            "text/plain": [
              "0                              hustler\n",
              "1       business_owner__hotel_shop_kio\n",
              "2       formal_employment__teacher_acc\n",
              "3                              hustler\n",
              "4       informal_employment__jua_kali_\n",
              "                     ...              \n",
              "5731    cash_crop_farmer_commercial_fi\n",
              "5732    subsistence_farmer_subsistence\n",
              "5733    cash_crop_farmer_commercial_fi\n",
              "5734    formal_employment__teacher_acc\n",
              "5735    cash_crop_farmer_commercial_fi\n",
              "Name: Occupation, Length: 5736, dtype: object"
            ]
          },
          "metadata": {},
          "execution_count": 89
        }
      ]
    },
    {
      "cell_type": "code",
      "metadata": {
        "id": "Bw6b4zjCDjTh"
      },
      "source": [
        "for column in df.columns:\n",
        "     df[column] =   df[column].str.replace(r'\\W',\"\")"
      ],
      "execution_count": null,
      "outputs": []
    },
    {
      "cell_type": "code",
      "metadata": {
        "colab": {
          "base_uri": "https://localhost:8080/",
          "height": 325
        },
        "id": "RwpdjhtdDmiL",
        "outputId": "30e7cc01-02ad-4711-cdc1-2512bf0a2021"
      },
      "source": [
        "df.head()"
      ],
      "execution_count": null,
      "outputs": [
        {
          "output_type": "execute_result",
          "data": {
            "text/html": [
              "<div>\n",
              "<style scoped>\n",
              "    .dataframe tbody tr th:only-of-type {\n",
              "        vertical-align: middle;\n",
              "    }\n",
              "\n",
              "    .dataframe tbody tr th {\n",
              "        vertical-align: top;\n",
              "    }\n",
              "\n",
              "    .dataframe thead th {\n",
              "        text-align: right;\n",
              "    }\n",
              "</style>\n",
              "<table border=\"1\" class=\"dataframe\">\n",
              "  <thead>\n",
              "    <tr style=\"text-align: right;\">\n",
              "      <th></th>\n",
              "      <th>County</th>\n",
              "      <th>Age</th>\n",
              "      <th>Gender</th>\n",
              "      <th>Monthly Income</th>\n",
              "      <th>Highest Level of Education Attained</th>\n",
              "      <th>Occupation</th>\n",
              "      <th>Location</th>\n",
              "      <th>Did you vote in 2017</th>\n",
              "      <th>Will you vote in the Refere</th>\n",
              "      <th>If No Why</th>\n",
              "      <th>How will you vote in the Referendum</th>\n",
              "      <th>If elections are today who would you vote for</th>\n",
              "      <th>If you dont vote for that one who is your second choice</th>\n",
              "      <th>Do you support BBI</th>\n",
              "      <th>Do you know what BBI wants to change</th>\n",
              "      <th>Do you support the Hustler Nation</th>\n",
              "      <th>Do you think the handshake brought us peace</th>\n",
              "      <th>Who influences youin your community</th>\n",
              "      <th>Do you trust your political leaders</th>\n",
              "      <th>Do you trust your religious leaders</th>\n",
              "      <th>Do you trust your elders</th>\n",
              "      <th>Where do you get your News from</th>\n",
              "      <th>Have you understood BBI completely</th>\n",
              "      <th>Will you vote in 2022</th>\n",
              "    </tr>\n",
              "  </thead>\n",
              "  <tbody>\n",
              "    <tr>\n",
              "      <th>0</th>\n",
              "      <td>trans_nzoia</td>\n",
              "      <td>25_30</td>\n",
              "      <td>male</td>\n",
              "      <td>kshs_0___11_000</td>\n",
              "      <td>kcpe</td>\n",
              "      <td>hustler</td>\n",
              "      <td>urban</td>\n",
              "      <td>yes</td>\n",
              "      <td>undecided</td>\n",
              "      <td>NaN</td>\n",
              "      <td>still_deciding</td>\n",
              "      <td>raila_odinga</td>\n",
              "      <td>none</td>\n",
              "      <td>thinking_about_it</td>\n",
              "      <td>yes</td>\n",
              "      <td>no_response</td>\n",
              "      <td>no_response</td>\n",
              "      <td>no_one</td>\n",
              "      <td>rarely</td>\n",
              "      <td>never</td>\n",
              "      <td>often</td>\n",
              "      <td>tv</td>\n",
              "      <td>i_don_t_care</td>\n",
              "      <td>response</td>\n",
              "    </tr>\n",
              "    <tr>\n",
              "      <th>1</th>\n",
              "      <td>mombasa</td>\n",
              "      <td>25_30</td>\n",
              "      <td>male</td>\n",
              "      <td>kshs_11_001__20_000</td>\n",
              "      <td>kcpe</td>\n",
              "      <td>business_owner__hotel_shop_kio</td>\n",
              "      <td>peri_urban</td>\n",
              "      <td>yes</td>\n",
              "      <td>no</td>\n",
              "      <td>i_do_not_understand_bbi</td>\n",
              "      <td>still_deciding</td>\n",
              "      <td>kalonzo_musyoka</td>\n",
              "      <td>musalia_mudavadi</td>\n",
              "      <td>thinking_about_it</td>\n",
              "      <td>no</td>\n",
              "      <td>no</td>\n",
              "      <td>yes</td>\n",
              "      <td>mcas</td>\n",
              "      <td>rarely</td>\n",
              "      <td>rarely</td>\n",
              "      <td>rarely</td>\n",
              "      <td>radio</td>\n",
              "      <td>no</td>\n",
              "      <td>yes</td>\n",
              "    </tr>\n",
              "    <tr>\n",
              "      <th>2</th>\n",
              "      <td>kitui</td>\n",
              "      <td>25_30</td>\n",
              "      <td>female</td>\n",
              "      <td>kshs_20_001__50_000</td>\n",
              "      <td>diploma</td>\n",
              "      <td>formal_employment__teacher_acc</td>\n",
              "      <td>urban</td>\n",
              "      <td>yes</td>\n",
              "      <td>yes</td>\n",
              "      <td>NaN</td>\n",
              "      <td>yes__for_it</td>\n",
              "      <td>raila_odinga</td>\n",
              "      <td>musalia_mudavadi</td>\n",
              "      <td>yes</td>\n",
              "      <td>yes</td>\n",
              "      <td>no</td>\n",
              "      <td>yes</td>\n",
              "      <td>no_one</td>\n",
              "      <td>sometimes</td>\n",
              "      <td>often</td>\n",
              "      <td>always</td>\n",
              "      <td>tv</td>\n",
              "      <td>yes</td>\n",
              "      <td>yes</td>\n",
              "    </tr>\n",
              "    <tr>\n",
              "      <th>3</th>\n",
              "      <td>migori</td>\n",
              "      <td>31_35</td>\n",
              "      <td>male</td>\n",
              "      <td>kshs_11_001__20_000</td>\n",
              "      <td>diploma</td>\n",
              "      <td>hustler</td>\n",
              "      <td>urban</td>\n",
              "      <td>no</td>\n",
              "      <td>yes</td>\n",
              "      <td>NaN</td>\n",
              "      <td>yes__for_it</td>\n",
              "      <td>raila_odinga</td>\n",
              "      <td>william_ruto</td>\n",
              "      <td>yes</td>\n",
              "      <td>yes</td>\n",
              "      <td>yes</td>\n",
              "      <td>yes</td>\n",
              "      <td>chief</td>\n",
              "      <td>always</td>\n",
              "      <td>always</td>\n",
              "      <td>always</td>\n",
              "      <td>tv</td>\n",
              "      <td>yes</td>\n",
              "      <td>yes</td>\n",
              "    </tr>\n",
              "    <tr>\n",
              "      <th>4</th>\n",
              "      <td>mombasa</td>\n",
              "      <td>41_50</td>\n",
              "      <td>male</td>\n",
              "      <td>kshs_0___11_000</td>\n",
              "      <td>certificate</td>\n",
              "      <td>informal_employment__jua_kali_</td>\n",
              "      <td>peri_urban</td>\n",
              "      <td>yes</td>\n",
              "      <td>yes</td>\n",
              "      <td>NaN</td>\n",
              "      <td>no__against_it</td>\n",
              "      <td>william_ruto</td>\n",
              "      <td>peter_kenneth</td>\n",
              "      <td>no</td>\n",
              "      <td>yes</td>\n",
              "      <td>yes</td>\n",
              "      <td>no</td>\n",
              "      <td>business_leaders</td>\n",
              "      <td>never</td>\n",
              "      <td>never</td>\n",
              "      <td>never</td>\n",
              "      <td>tv</td>\n",
              "      <td>no</td>\n",
              "      <td>yes</td>\n",
              "    </tr>\n",
              "  </tbody>\n",
              "</table>\n",
              "</div>"
            ],
            "text/plain": [
              "        County    Age  ... Have you understood BBI completely Will you vote in 2022\n",
              "0  trans_nzoia  25_30  ...                       i_don_t_care              response\n",
              "1      mombasa  25_30  ...                                 no                   yes\n",
              "2        kitui  25_30  ...                                yes                   yes\n",
              "3       migori  31_35  ...                                yes                   yes\n",
              "4      mombasa  41_50  ...                                 no                   yes\n",
              "\n",
              "[5 rows x 24 columns]"
            ]
          },
          "metadata": {},
          "execution_count": 91
        }
      ]
    },
    {
      "cell_type": "code",
      "metadata": {
        "colab": {
          "base_uri": "https://localhost:8080/",
          "height": 410
        },
        "id": "PDNuaN6rDzHJ",
        "outputId": "36fd91fa-f021-4f98-fa29-75c905f9c6cd"
      },
      "source": [
        "df[\"Age\"]= df[\"Age\"].str.replace('_','-')\n",
        "df.tail()"
      ],
      "execution_count": null,
      "outputs": [
        {
          "output_type": "execute_result",
          "data": {
            "text/html": [
              "<div>\n",
              "<style scoped>\n",
              "    .dataframe tbody tr th:only-of-type {\n",
              "        vertical-align: middle;\n",
              "    }\n",
              "\n",
              "    .dataframe tbody tr th {\n",
              "        vertical-align: top;\n",
              "    }\n",
              "\n",
              "    .dataframe thead th {\n",
              "        text-align: right;\n",
              "    }\n",
              "</style>\n",
              "<table border=\"1\" class=\"dataframe\">\n",
              "  <thead>\n",
              "    <tr style=\"text-align: right;\">\n",
              "      <th></th>\n",
              "      <th>County</th>\n",
              "      <th>Age</th>\n",
              "      <th>Gender</th>\n",
              "      <th>Monthly Income</th>\n",
              "      <th>Highest Level of Education Attained</th>\n",
              "      <th>Occupation</th>\n",
              "      <th>Location</th>\n",
              "      <th>Did you vote in 2017</th>\n",
              "      <th>Will you vote in the Refere</th>\n",
              "      <th>If No Why</th>\n",
              "      <th>How will you vote in the Referendum</th>\n",
              "      <th>If elections are today who would you vote for</th>\n",
              "      <th>If you dont vote for that one who is your second choice</th>\n",
              "      <th>Do you support BBI</th>\n",
              "      <th>Do you know what BBI wants to change</th>\n",
              "      <th>Do you support the Hustler Nation</th>\n",
              "      <th>Do you think the handshake brought us peace</th>\n",
              "      <th>Who influences youin your community</th>\n",
              "      <th>Do you trust your political leaders</th>\n",
              "      <th>Do you trust your religious leaders</th>\n",
              "      <th>Do you trust your elders</th>\n",
              "      <th>Where do you get your News from</th>\n",
              "      <th>Have you understood BBI completely</th>\n",
              "      <th>Will you vote in 2022</th>\n",
              "    </tr>\n",
              "  </thead>\n",
              "  <tbody>\n",
              "    <tr>\n",
              "      <th>5731</th>\n",
              "      <td>kisii</td>\n",
              "      <td>25-30</td>\n",
              "      <td>male</td>\n",
              "      <td>kshs_0___11_000</td>\n",
              "      <td>certificate</td>\n",
              "      <td>cash_crop_farmer_commercial_fi</td>\n",
              "      <td>rural</td>\n",
              "      <td>no</td>\n",
              "      <td>undecided</td>\n",
              "      <td>NaN</td>\n",
              "      <td>i_will_not_vote</td>\n",
              "      <td>raila_odinga</td>\n",
              "      <td>musalia_mudavadi</td>\n",
              "      <td>don_t_care</td>\n",
              "      <td>a_little</td>\n",
              "      <td>no</td>\n",
              "      <td>yes</td>\n",
              "      <td>governor</td>\n",
              "      <td>sometimes</td>\n",
              "      <td>always</td>\n",
              "      <td>always</td>\n",
              "      <td>radio</td>\n",
              "      <td>no</td>\n",
              "      <td>yes</td>\n",
              "    </tr>\n",
              "    <tr>\n",
              "      <th>5732</th>\n",
              "      <td>kisii</td>\n",
              "      <td>25-30</td>\n",
              "      <td>female</td>\n",
              "      <td>kshs_0___11_000</td>\n",
              "      <td>kcse</td>\n",
              "      <td>subsistence_farmer_subsistence</td>\n",
              "      <td>peri_urban</td>\n",
              "      <td>yes</td>\n",
              "      <td>yes</td>\n",
              "      <td>NaN</td>\n",
              "      <td>no__against_it</td>\n",
              "      <td>raila_odinga</td>\n",
              "      <td>raila_odinga</td>\n",
              "      <td>yes</td>\n",
              "      <td>a_little</td>\n",
              "      <td>no</td>\n",
              "      <td>yes</td>\n",
              "      <td>mp</td>\n",
              "      <td>always</td>\n",
              "      <td>always</td>\n",
              "      <td>always</td>\n",
              "      <td>newspapers</td>\n",
              "      <td>no</td>\n",
              "      <td>yes</td>\n",
              "    </tr>\n",
              "    <tr>\n",
              "      <th>5733</th>\n",
              "      <td>kisii</td>\n",
              "      <td>25-30</td>\n",
              "      <td>male</td>\n",
              "      <td>kshs_0___11_000</td>\n",
              "      <td>kcpe</td>\n",
              "      <td>cash_crop_farmer_commercial_fi</td>\n",
              "      <td>rural</td>\n",
              "      <td>yes</td>\n",
              "      <td>undecided</td>\n",
              "      <td>NaN</td>\n",
              "      <td>no__against_it</td>\n",
              "      <td>musalia_mudavadi</td>\n",
              "      <td>fred_matiangi</td>\n",
              "      <td>no</td>\n",
              "      <td>no</td>\n",
              "      <td>yes</td>\n",
              "      <td>yes</td>\n",
              "      <td>my_friends</td>\n",
              "      <td>sometimes</td>\n",
              "      <td>always</td>\n",
              "      <td>always</td>\n",
              "      <td>radio</td>\n",
              "      <td>no</td>\n",
              "      <td>yes</td>\n",
              "    </tr>\n",
              "    <tr>\n",
              "      <th>5734</th>\n",
              "      <td>kisii</td>\n",
              "      <td>36-40</td>\n",
              "      <td>female</td>\n",
              "      <td>kshs_11_001__20_000</td>\n",
              "      <td>diploma</td>\n",
              "      <td>formal_employment__teacher_acc</td>\n",
              "      <td>rural</td>\n",
              "      <td>yes</td>\n",
              "      <td>undecided</td>\n",
              "      <td>NaN</td>\n",
              "      <td>still_deciding</td>\n",
              "      <td>fred_matiangi</td>\n",
              "      <td>william_ruto</td>\n",
              "      <td>thinking_about_it</td>\n",
              "      <td>no</td>\n",
              "      <td>i_do_not_know_about_it</td>\n",
              "      <td>no_response</td>\n",
              "      <td>governor</td>\n",
              "      <td>sometimes</td>\n",
              "      <td>always</td>\n",
              "      <td>always</td>\n",
              "      <td>radio</td>\n",
              "      <td>no</td>\n",
              "      <td>yes</td>\n",
              "    </tr>\n",
              "    <tr>\n",
              "      <th>5735</th>\n",
              "      <td>kisii</td>\n",
              "      <td>18-24</td>\n",
              "      <td>male</td>\n",
              "      <td>kshs_0___11_000</td>\n",
              "      <td>kcse</td>\n",
              "      <td>cash_crop_farmer_commercial_fi</td>\n",
              "      <td>rural</td>\n",
              "      <td>no</td>\n",
              "      <td>undecided</td>\n",
              "      <td>NaN</td>\n",
              "      <td>i_will_not_vote</td>\n",
              "      <td>fred_matiangi</td>\n",
              "      <td>william_ruto</td>\n",
              "      <td>thinking_about_it</td>\n",
              "      <td>no</td>\n",
              "      <td>not_sure</td>\n",
              "      <td>no</td>\n",
              "      <td>governor</td>\n",
              "      <td>never</td>\n",
              "      <td>always</td>\n",
              "      <td>always</td>\n",
              "      <td>radio</td>\n",
              "      <td>maybe</td>\n",
              "      <td>yes</td>\n",
              "    </tr>\n",
              "  </tbody>\n",
              "</table>\n",
              "</div>"
            ],
            "text/plain": [
              "     County    Age  ... Have you understood BBI completely Will you vote in 2022\n",
              "5731  kisii  25-30  ...                                 no                   yes\n",
              "5732  kisii  25-30  ...                                 no                   yes\n",
              "5733  kisii  25-30  ...                                 no                   yes\n",
              "5734  kisii  36-40  ...                                 no                   yes\n",
              "5735  kisii  18-24  ...                              maybe                   yes\n",
              "\n",
              "[5 rows x 24 columns]"
            ]
          },
          "metadata": {},
          "execution_count": 92
        }
      ]
    },
    {
      "cell_type": "code",
      "metadata": {
        "colab": {
          "base_uri": "https://localhost:8080/",
          "height": 410
        },
        "id": "3vwsy112Fr1n",
        "outputId": "9972b6cd-61a3-4820-95f4-10de144e7f64"
      },
      "source": [
        "df[\"Monthly Income\"]= df[\"Monthly Income\"].str.replace('_',',')\n",
        "df.tail()"
      ],
      "execution_count": null,
      "outputs": [
        {
          "output_type": "execute_result",
          "data": {
            "text/html": [
              "<div>\n",
              "<style scoped>\n",
              "    .dataframe tbody tr th:only-of-type {\n",
              "        vertical-align: middle;\n",
              "    }\n",
              "\n",
              "    .dataframe tbody tr th {\n",
              "        vertical-align: top;\n",
              "    }\n",
              "\n",
              "    .dataframe thead th {\n",
              "        text-align: right;\n",
              "    }\n",
              "</style>\n",
              "<table border=\"1\" class=\"dataframe\">\n",
              "  <thead>\n",
              "    <tr style=\"text-align: right;\">\n",
              "      <th></th>\n",
              "      <th>County</th>\n",
              "      <th>Age</th>\n",
              "      <th>Gender</th>\n",
              "      <th>Monthly Income</th>\n",
              "      <th>Highest Level of Education Attained</th>\n",
              "      <th>Occupation</th>\n",
              "      <th>Location</th>\n",
              "      <th>Did you vote in 2017</th>\n",
              "      <th>Will you vote in the Refere</th>\n",
              "      <th>If No Why</th>\n",
              "      <th>How will you vote in the Referendum</th>\n",
              "      <th>If elections are today who would you vote for</th>\n",
              "      <th>If you dont vote for that one who is your second choice</th>\n",
              "      <th>Do you support BBI</th>\n",
              "      <th>Do you know what BBI wants to change</th>\n",
              "      <th>Do you support the Hustler Nation</th>\n",
              "      <th>Do you think the handshake brought us peace</th>\n",
              "      <th>Who influences youin your community</th>\n",
              "      <th>Do you trust your political leaders</th>\n",
              "      <th>Do you trust your religious leaders</th>\n",
              "      <th>Do you trust your elders</th>\n",
              "      <th>Where do you get your News from</th>\n",
              "      <th>Have you understood BBI completely</th>\n",
              "      <th>Will you vote in 2022</th>\n",
              "    </tr>\n",
              "  </thead>\n",
              "  <tbody>\n",
              "    <tr>\n",
              "      <th>5731</th>\n",
              "      <td>kisii</td>\n",
              "      <td>25-30</td>\n",
              "      <td>male</td>\n",
              "      <td>kshs,0,,,11,000</td>\n",
              "      <td>certificate</td>\n",
              "      <td>cash_crop_farmer_commercial_fi</td>\n",
              "      <td>rural</td>\n",
              "      <td>no</td>\n",
              "      <td>undecided</td>\n",
              "      <td>NaN</td>\n",
              "      <td>i_will_not_vote</td>\n",
              "      <td>raila_odinga</td>\n",
              "      <td>musalia_mudavadi</td>\n",
              "      <td>don_t_care</td>\n",
              "      <td>a_little</td>\n",
              "      <td>no</td>\n",
              "      <td>yes</td>\n",
              "      <td>governor</td>\n",
              "      <td>sometimes</td>\n",
              "      <td>always</td>\n",
              "      <td>always</td>\n",
              "      <td>radio</td>\n",
              "      <td>no</td>\n",
              "      <td>yes</td>\n",
              "    </tr>\n",
              "    <tr>\n",
              "      <th>5732</th>\n",
              "      <td>kisii</td>\n",
              "      <td>25-30</td>\n",
              "      <td>female</td>\n",
              "      <td>kshs,0,,,11,000</td>\n",
              "      <td>kcse</td>\n",
              "      <td>subsistence_farmer_subsistence</td>\n",
              "      <td>peri_urban</td>\n",
              "      <td>yes</td>\n",
              "      <td>yes</td>\n",
              "      <td>NaN</td>\n",
              "      <td>no__against_it</td>\n",
              "      <td>raila_odinga</td>\n",
              "      <td>raila_odinga</td>\n",
              "      <td>yes</td>\n",
              "      <td>a_little</td>\n",
              "      <td>no</td>\n",
              "      <td>yes</td>\n",
              "      <td>mp</td>\n",
              "      <td>always</td>\n",
              "      <td>always</td>\n",
              "      <td>always</td>\n",
              "      <td>newspapers</td>\n",
              "      <td>no</td>\n",
              "      <td>yes</td>\n",
              "    </tr>\n",
              "    <tr>\n",
              "      <th>5733</th>\n",
              "      <td>kisii</td>\n",
              "      <td>25-30</td>\n",
              "      <td>male</td>\n",
              "      <td>kshs,0,,,11,000</td>\n",
              "      <td>kcpe</td>\n",
              "      <td>cash_crop_farmer_commercial_fi</td>\n",
              "      <td>rural</td>\n",
              "      <td>yes</td>\n",
              "      <td>undecided</td>\n",
              "      <td>NaN</td>\n",
              "      <td>no__against_it</td>\n",
              "      <td>musalia_mudavadi</td>\n",
              "      <td>fred_matiangi</td>\n",
              "      <td>no</td>\n",
              "      <td>no</td>\n",
              "      <td>yes</td>\n",
              "      <td>yes</td>\n",
              "      <td>my_friends</td>\n",
              "      <td>sometimes</td>\n",
              "      <td>always</td>\n",
              "      <td>always</td>\n",
              "      <td>radio</td>\n",
              "      <td>no</td>\n",
              "      <td>yes</td>\n",
              "    </tr>\n",
              "    <tr>\n",
              "      <th>5734</th>\n",
              "      <td>kisii</td>\n",
              "      <td>36-40</td>\n",
              "      <td>female</td>\n",
              "      <td>kshs,11,001,,20,000</td>\n",
              "      <td>diploma</td>\n",
              "      <td>formal_employment__teacher_acc</td>\n",
              "      <td>rural</td>\n",
              "      <td>yes</td>\n",
              "      <td>undecided</td>\n",
              "      <td>NaN</td>\n",
              "      <td>still_deciding</td>\n",
              "      <td>fred_matiangi</td>\n",
              "      <td>william_ruto</td>\n",
              "      <td>thinking_about_it</td>\n",
              "      <td>no</td>\n",
              "      <td>i_do_not_know_about_it</td>\n",
              "      <td>no_response</td>\n",
              "      <td>governor</td>\n",
              "      <td>sometimes</td>\n",
              "      <td>always</td>\n",
              "      <td>always</td>\n",
              "      <td>radio</td>\n",
              "      <td>no</td>\n",
              "      <td>yes</td>\n",
              "    </tr>\n",
              "    <tr>\n",
              "      <th>5735</th>\n",
              "      <td>kisii</td>\n",
              "      <td>18-24</td>\n",
              "      <td>male</td>\n",
              "      <td>kshs,0,,,11,000</td>\n",
              "      <td>kcse</td>\n",
              "      <td>cash_crop_farmer_commercial_fi</td>\n",
              "      <td>rural</td>\n",
              "      <td>no</td>\n",
              "      <td>undecided</td>\n",
              "      <td>NaN</td>\n",
              "      <td>i_will_not_vote</td>\n",
              "      <td>fred_matiangi</td>\n",
              "      <td>william_ruto</td>\n",
              "      <td>thinking_about_it</td>\n",
              "      <td>no</td>\n",
              "      <td>not_sure</td>\n",
              "      <td>no</td>\n",
              "      <td>governor</td>\n",
              "      <td>never</td>\n",
              "      <td>always</td>\n",
              "      <td>always</td>\n",
              "      <td>radio</td>\n",
              "      <td>maybe</td>\n",
              "      <td>yes</td>\n",
              "    </tr>\n",
              "  </tbody>\n",
              "</table>\n",
              "</div>"
            ],
            "text/plain": [
              "     County    Age  ... Have you understood BBI completely Will you vote in 2022\n",
              "5731  kisii  25-30  ...                                 no                   yes\n",
              "5732  kisii  25-30  ...                                 no                   yes\n",
              "5733  kisii  25-30  ...                                 no                   yes\n",
              "5734  kisii  36-40  ...                                 no                   yes\n",
              "5735  kisii  18-24  ...                              maybe                   yes\n",
              "\n",
              "[5 rows x 24 columns]"
            ]
          },
          "metadata": {},
          "execution_count": 93
        }
      ]
    },
    {
      "cell_type": "code",
      "metadata": {
        "colab": {
          "base_uri": "https://localhost:8080/",
          "height": 410
        },
        "id": "OR8os24ME1l_",
        "outputId": "13a6a0f4-88c5-4de9-8dcf-437624749d18"
      },
      "source": [
        "\n",
        "df[\"Monthly Income\"]= df[\"Monthly Income\"].str.replace(',,,','-')\n",
        "df[\"Monthly Income\"]= df[\"Monthly Income\"].str.replace(',,','-')\n",
        "df.tail()"
      ],
      "execution_count": null,
      "outputs": [
        {
          "output_type": "execute_result",
          "data": {
            "text/html": [
              "<div>\n",
              "<style scoped>\n",
              "    .dataframe tbody tr th:only-of-type {\n",
              "        vertical-align: middle;\n",
              "    }\n",
              "\n",
              "    .dataframe tbody tr th {\n",
              "        vertical-align: top;\n",
              "    }\n",
              "\n",
              "    .dataframe thead th {\n",
              "        text-align: right;\n",
              "    }\n",
              "</style>\n",
              "<table border=\"1\" class=\"dataframe\">\n",
              "  <thead>\n",
              "    <tr style=\"text-align: right;\">\n",
              "      <th></th>\n",
              "      <th>County</th>\n",
              "      <th>Age</th>\n",
              "      <th>Gender</th>\n",
              "      <th>Monthly Income</th>\n",
              "      <th>Highest Level of Education Attained</th>\n",
              "      <th>Occupation</th>\n",
              "      <th>Location</th>\n",
              "      <th>Did you vote in 2017</th>\n",
              "      <th>Will you vote in the Refere</th>\n",
              "      <th>If No Why</th>\n",
              "      <th>How will you vote in the Referendum</th>\n",
              "      <th>If elections are today who would you vote for</th>\n",
              "      <th>If you dont vote for that one who is your second choice</th>\n",
              "      <th>Do you support BBI</th>\n",
              "      <th>Do you know what BBI wants to change</th>\n",
              "      <th>Do you support the Hustler Nation</th>\n",
              "      <th>Do you think the handshake brought us peace</th>\n",
              "      <th>Who influences youin your community</th>\n",
              "      <th>Do you trust your political leaders</th>\n",
              "      <th>Do you trust your religious leaders</th>\n",
              "      <th>Do you trust your elders</th>\n",
              "      <th>Where do you get your News from</th>\n",
              "      <th>Have you understood BBI completely</th>\n",
              "      <th>Will you vote in 2022</th>\n",
              "    </tr>\n",
              "  </thead>\n",
              "  <tbody>\n",
              "    <tr>\n",
              "      <th>5731</th>\n",
              "      <td>kisii</td>\n",
              "      <td>25-30</td>\n",
              "      <td>male</td>\n",
              "      <td>kshs,0-11,000</td>\n",
              "      <td>certificate</td>\n",
              "      <td>cash_crop_farmer_commercial_fi</td>\n",
              "      <td>rural</td>\n",
              "      <td>no</td>\n",
              "      <td>undecided</td>\n",
              "      <td>NaN</td>\n",
              "      <td>i_will_not_vote</td>\n",
              "      <td>raila_odinga</td>\n",
              "      <td>musalia_mudavadi</td>\n",
              "      <td>don_t_care</td>\n",
              "      <td>a_little</td>\n",
              "      <td>no</td>\n",
              "      <td>yes</td>\n",
              "      <td>governor</td>\n",
              "      <td>sometimes</td>\n",
              "      <td>always</td>\n",
              "      <td>always</td>\n",
              "      <td>radio</td>\n",
              "      <td>no</td>\n",
              "      <td>yes</td>\n",
              "    </tr>\n",
              "    <tr>\n",
              "      <th>5732</th>\n",
              "      <td>kisii</td>\n",
              "      <td>25-30</td>\n",
              "      <td>female</td>\n",
              "      <td>kshs,0-11,000</td>\n",
              "      <td>kcse</td>\n",
              "      <td>subsistence_farmer_subsistence</td>\n",
              "      <td>peri_urban</td>\n",
              "      <td>yes</td>\n",
              "      <td>yes</td>\n",
              "      <td>NaN</td>\n",
              "      <td>no__against_it</td>\n",
              "      <td>raila_odinga</td>\n",
              "      <td>raila_odinga</td>\n",
              "      <td>yes</td>\n",
              "      <td>a_little</td>\n",
              "      <td>no</td>\n",
              "      <td>yes</td>\n",
              "      <td>mp</td>\n",
              "      <td>always</td>\n",
              "      <td>always</td>\n",
              "      <td>always</td>\n",
              "      <td>newspapers</td>\n",
              "      <td>no</td>\n",
              "      <td>yes</td>\n",
              "    </tr>\n",
              "    <tr>\n",
              "      <th>5733</th>\n",
              "      <td>kisii</td>\n",
              "      <td>25-30</td>\n",
              "      <td>male</td>\n",
              "      <td>kshs,0-11,000</td>\n",
              "      <td>kcpe</td>\n",
              "      <td>cash_crop_farmer_commercial_fi</td>\n",
              "      <td>rural</td>\n",
              "      <td>yes</td>\n",
              "      <td>undecided</td>\n",
              "      <td>NaN</td>\n",
              "      <td>no__against_it</td>\n",
              "      <td>musalia_mudavadi</td>\n",
              "      <td>fred_matiangi</td>\n",
              "      <td>no</td>\n",
              "      <td>no</td>\n",
              "      <td>yes</td>\n",
              "      <td>yes</td>\n",
              "      <td>my_friends</td>\n",
              "      <td>sometimes</td>\n",
              "      <td>always</td>\n",
              "      <td>always</td>\n",
              "      <td>radio</td>\n",
              "      <td>no</td>\n",
              "      <td>yes</td>\n",
              "    </tr>\n",
              "    <tr>\n",
              "      <th>5734</th>\n",
              "      <td>kisii</td>\n",
              "      <td>36-40</td>\n",
              "      <td>female</td>\n",
              "      <td>kshs,11,001-20,000</td>\n",
              "      <td>diploma</td>\n",
              "      <td>formal_employment__teacher_acc</td>\n",
              "      <td>rural</td>\n",
              "      <td>yes</td>\n",
              "      <td>undecided</td>\n",
              "      <td>NaN</td>\n",
              "      <td>still_deciding</td>\n",
              "      <td>fred_matiangi</td>\n",
              "      <td>william_ruto</td>\n",
              "      <td>thinking_about_it</td>\n",
              "      <td>no</td>\n",
              "      <td>i_do_not_know_about_it</td>\n",
              "      <td>no_response</td>\n",
              "      <td>governor</td>\n",
              "      <td>sometimes</td>\n",
              "      <td>always</td>\n",
              "      <td>always</td>\n",
              "      <td>radio</td>\n",
              "      <td>no</td>\n",
              "      <td>yes</td>\n",
              "    </tr>\n",
              "    <tr>\n",
              "      <th>5735</th>\n",
              "      <td>kisii</td>\n",
              "      <td>18-24</td>\n",
              "      <td>male</td>\n",
              "      <td>kshs,0-11,000</td>\n",
              "      <td>kcse</td>\n",
              "      <td>cash_crop_farmer_commercial_fi</td>\n",
              "      <td>rural</td>\n",
              "      <td>no</td>\n",
              "      <td>undecided</td>\n",
              "      <td>NaN</td>\n",
              "      <td>i_will_not_vote</td>\n",
              "      <td>fred_matiangi</td>\n",
              "      <td>william_ruto</td>\n",
              "      <td>thinking_about_it</td>\n",
              "      <td>no</td>\n",
              "      <td>not_sure</td>\n",
              "      <td>no</td>\n",
              "      <td>governor</td>\n",
              "      <td>never</td>\n",
              "      <td>always</td>\n",
              "      <td>always</td>\n",
              "      <td>radio</td>\n",
              "      <td>maybe</td>\n",
              "      <td>yes</td>\n",
              "    </tr>\n",
              "  </tbody>\n",
              "</table>\n",
              "</div>"
            ],
            "text/plain": [
              "     County    Age  ... Have you understood BBI completely Will you vote in 2022\n",
              "5731  kisii  25-30  ...                                 no                   yes\n",
              "5732  kisii  25-30  ...                                 no                   yes\n",
              "5733  kisii  25-30  ...                                 no                   yes\n",
              "5734  kisii  36-40  ...                                 no                   yes\n",
              "5735  kisii  18-24  ...                              maybe                   yes\n",
              "\n",
              "[5 rows x 24 columns]"
            ]
          },
          "metadata": {},
          "execution_count": 94
        }
      ]
    },
    {
      "cell_type": "code",
      "metadata": {
        "colab": {
          "base_uri": "https://localhost:8080/",
          "height": 410
        },
        "id": "5hFJfqumIUVX",
        "outputId": "3ae23e0f-f77f-4532-ba98-997eebbc0b78"
      },
      "source": [
        "df[\"Monthly Income (Kshs)\"]= df[\"Monthly Income\"].str.replace('kshs,','')\n",
        "\n",
        "df[\"Monthly Income\"]= df[\"Monthly Income (Kshs)\"]\n",
        "df.head()"
      ],
      "execution_count": null,
      "outputs": [
        {
          "output_type": "execute_result",
          "data": {
            "text/html": [
              "<div>\n",
              "<style scoped>\n",
              "    .dataframe tbody tr th:only-of-type {\n",
              "        vertical-align: middle;\n",
              "    }\n",
              "\n",
              "    .dataframe tbody tr th {\n",
              "        vertical-align: top;\n",
              "    }\n",
              "\n",
              "    .dataframe thead th {\n",
              "        text-align: right;\n",
              "    }\n",
              "</style>\n",
              "<table border=\"1\" class=\"dataframe\">\n",
              "  <thead>\n",
              "    <tr style=\"text-align: right;\">\n",
              "      <th></th>\n",
              "      <th>County</th>\n",
              "      <th>Age</th>\n",
              "      <th>Gender</th>\n",
              "      <th>Monthly Income</th>\n",
              "      <th>Highest Level of Education Attained</th>\n",
              "      <th>Occupation</th>\n",
              "      <th>Location</th>\n",
              "      <th>Did you vote in 2017</th>\n",
              "      <th>Will you vote in the Refere</th>\n",
              "      <th>If No Why</th>\n",
              "      <th>How will you vote in the Referendum</th>\n",
              "      <th>If elections are today who would you vote for</th>\n",
              "      <th>If you dont vote for that one who is your second choice</th>\n",
              "      <th>Do you support BBI</th>\n",
              "      <th>Do you know what BBI wants to change</th>\n",
              "      <th>Do you support the Hustler Nation</th>\n",
              "      <th>Do you think the handshake brought us peace</th>\n",
              "      <th>Who influences youin your community</th>\n",
              "      <th>Do you trust your political leaders</th>\n",
              "      <th>Do you trust your religious leaders</th>\n",
              "      <th>Do you trust your elders</th>\n",
              "      <th>Where do you get your News from</th>\n",
              "      <th>Have you understood BBI completely</th>\n",
              "      <th>Will you vote in 2022</th>\n",
              "      <th>Monthly Income (Kshs)</th>\n",
              "    </tr>\n",
              "  </thead>\n",
              "  <tbody>\n",
              "    <tr>\n",
              "      <th>0</th>\n",
              "      <td>trans_nzoia</td>\n",
              "      <td>25-30</td>\n",
              "      <td>male</td>\n",
              "      <td>0-11,000</td>\n",
              "      <td>kcpe</td>\n",
              "      <td>hustler</td>\n",
              "      <td>urban</td>\n",
              "      <td>yes</td>\n",
              "      <td>undecided</td>\n",
              "      <td>NaN</td>\n",
              "      <td>still_deciding</td>\n",
              "      <td>raila_odinga</td>\n",
              "      <td>none</td>\n",
              "      <td>thinking_about_it</td>\n",
              "      <td>yes</td>\n",
              "      <td>no_response</td>\n",
              "      <td>no_response</td>\n",
              "      <td>no_one</td>\n",
              "      <td>rarely</td>\n",
              "      <td>never</td>\n",
              "      <td>often</td>\n",
              "      <td>tv</td>\n",
              "      <td>i_don_t_care</td>\n",
              "      <td>response</td>\n",
              "      <td>0-11,000</td>\n",
              "    </tr>\n",
              "    <tr>\n",
              "      <th>1</th>\n",
              "      <td>mombasa</td>\n",
              "      <td>25-30</td>\n",
              "      <td>male</td>\n",
              "      <td>11,001-20,000</td>\n",
              "      <td>kcpe</td>\n",
              "      <td>business_owner__hotel_shop_kio</td>\n",
              "      <td>peri_urban</td>\n",
              "      <td>yes</td>\n",
              "      <td>no</td>\n",
              "      <td>i_do_not_understand_bbi</td>\n",
              "      <td>still_deciding</td>\n",
              "      <td>kalonzo_musyoka</td>\n",
              "      <td>musalia_mudavadi</td>\n",
              "      <td>thinking_about_it</td>\n",
              "      <td>no</td>\n",
              "      <td>no</td>\n",
              "      <td>yes</td>\n",
              "      <td>mcas</td>\n",
              "      <td>rarely</td>\n",
              "      <td>rarely</td>\n",
              "      <td>rarely</td>\n",
              "      <td>radio</td>\n",
              "      <td>no</td>\n",
              "      <td>yes</td>\n",
              "      <td>11,001-20,000</td>\n",
              "    </tr>\n",
              "    <tr>\n",
              "      <th>2</th>\n",
              "      <td>kitui</td>\n",
              "      <td>25-30</td>\n",
              "      <td>female</td>\n",
              "      <td>20,001-50,000</td>\n",
              "      <td>diploma</td>\n",
              "      <td>formal_employment__teacher_acc</td>\n",
              "      <td>urban</td>\n",
              "      <td>yes</td>\n",
              "      <td>yes</td>\n",
              "      <td>NaN</td>\n",
              "      <td>yes__for_it</td>\n",
              "      <td>raila_odinga</td>\n",
              "      <td>musalia_mudavadi</td>\n",
              "      <td>yes</td>\n",
              "      <td>yes</td>\n",
              "      <td>no</td>\n",
              "      <td>yes</td>\n",
              "      <td>no_one</td>\n",
              "      <td>sometimes</td>\n",
              "      <td>often</td>\n",
              "      <td>always</td>\n",
              "      <td>tv</td>\n",
              "      <td>yes</td>\n",
              "      <td>yes</td>\n",
              "      <td>20,001-50,000</td>\n",
              "    </tr>\n",
              "    <tr>\n",
              "      <th>3</th>\n",
              "      <td>migori</td>\n",
              "      <td>31-35</td>\n",
              "      <td>male</td>\n",
              "      <td>11,001-20,000</td>\n",
              "      <td>diploma</td>\n",
              "      <td>hustler</td>\n",
              "      <td>urban</td>\n",
              "      <td>no</td>\n",
              "      <td>yes</td>\n",
              "      <td>NaN</td>\n",
              "      <td>yes__for_it</td>\n",
              "      <td>raila_odinga</td>\n",
              "      <td>william_ruto</td>\n",
              "      <td>yes</td>\n",
              "      <td>yes</td>\n",
              "      <td>yes</td>\n",
              "      <td>yes</td>\n",
              "      <td>chief</td>\n",
              "      <td>always</td>\n",
              "      <td>always</td>\n",
              "      <td>always</td>\n",
              "      <td>tv</td>\n",
              "      <td>yes</td>\n",
              "      <td>yes</td>\n",
              "      <td>11,001-20,000</td>\n",
              "    </tr>\n",
              "    <tr>\n",
              "      <th>4</th>\n",
              "      <td>mombasa</td>\n",
              "      <td>41-50</td>\n",
              "      <td>male</td>\n",
              "      <td>0-11,000</td>\n",
              "      <td>certificate</td>\n",
              "      <td>informal_employment__jua_kali_</td>\n",
              "      <td>peri_urban</td>\n",
              "      <td>yes</td>\n",
              "      <td>yes</td>\n",
              "      <td>NaN</td>\n",
              "      <td>no__against_it</td>\n",
              "      <td>william_ruto</td>\n",
              "      <td>peter_kenneth</td>\n",
              "      <td>no</td>\n",
              "      <td>yes</td>\n",
              "      <td>yes</td>\n",
              "      <td>no</td>\n",
              "      <td>business_leaders</td>\n",
              "      <td>never</td>\n",
              "      <td>never</td>\n",
              "      <td>never</td>\n",
              "      <td>tv</td>\n",
              "      <td>no</td>\n",
              "      <td>yes</td>\n",
              "      <td>0-11,000</td>\n",
              "    </tr>\n",
              "  </tbody>\n",
              "</table>\n",
              "</div>"
            ],
            "text/plain": [
              "        County    Age  ... Will you vote in 2022 Monthly Income (Kshs)\n",
              "0  trans_nzoia  25-30  ...              response              0-11,000\n",
              "1      mombasa  25-30  ...                   yes         11,001-20,000\n",
              "2        kitui  25-30  ...                   yes         20,001-50,000\n",
              "3       migori  31-35  ...                   yes         11,001-20,000\n",
              "4      mombasa  41-50  ...                   yes              0-11,000\n",
              "\n",
              "[5 rows x 25 columns]"
            ]
          },
          "metadata": {},
          "execution_count": 95
        }
      ]
    },
    {
      "cell_type": "code",
      "metadata": {
        "id": "n2Bb0-UEJRL5",
        "colab": {
          "base_uri": "https://localhost:8080/",
          "height": 710
        },
        "outputId": "3d8dfe41-19b0-4089-9d93-b8c417e63d21"
      },
      "source": [
        "df.to_csv('df_new.csv')\n",
        "df_new = pd.read_csv('/content/df_new.csv')\n",
        "\n",
        "df_new"
      ],
      "execution_count": null,
      "outputs": [
        {
          "output_type": "execute_result",
          "data": {
            "text/html": [
              "<div>\n",
              "<style scoped>\n",
              "    .dataframe tbody tr th:only-of-type {\n",
              "        vertical-align: middle;\n",
              "    }\n",
              "\n",
              "    .dataframe tbody tr th {\n",
              "        vertical-align: top;\n",
              "    }\n",
              "\n",
              "    .dataframe thead th {\n",
              "        text-align: right;\n",
              "    }\n",
              "</style>\n",
              "<table border=\"1\" class=\"dataframe\">\n",
              "  <thead>\n",
              "    <tr style=\"text-align: right;\">\n",
              "      <th></th>\n",
              "      <th>Unnamed: 0</th>\n",
              "      <th>County</th>\n",
              "      <th>Age</th>\n",
              "      <th>Gender</th>\n",
              "      <th>Monthly Income</th>\n",
              "      <th>Highest Level of Education Attained</th>\n",
              "      <th>Occupation</th>\n",
              "      <th>Location</th>\n",
              "      <th>Did you vote in 2017</th>\n",
              "      <th>Will you vote in the Refere</th>\n",
              "      <th>If No Why</th>\n",
              "      <th>How will you vote in the Referendum</th>\n",
              "      <th>If elections are today who would you vote for</th>\n",
              "      <th>If you dont vote for that one who is your second choice</th>\n",
              "      <th>Do you support BBI</th>\n",
              "      <th>Do you know what BBI wants to change</th>\n",
              "      <th>Do you support the Hustler Nation</th>\n",
              "      <th>Do you think the handshake brought us peace</th>\n",
              "      <th>Who influences youin your community</th>\n",
              "      <th>Do you trust your political leaders</th>\n",
              "      <th>Do you trust your religious leaders</th>\n",
              "      <th>Do you trust your elders</th>\n",
              "      <th>Where do you get your News from</th>\n",
              "      <th>Have you understood BBI completely</th>\n",
              "      <th>Will you vote in 2022</th>\n",
              "      <th>Monthly Income (Kshs)</th>\n",
              "    </tr>\n",
              "  </thead>\n",
              "  <tbody>\n",
              "    <tr>\n",
              "      <th>0</th>\n",
              "      <td>0</td>\n",
              "      <td>trans_nzoia</td>\n",
              "      <td>25-30</td>\n",
              "      <td>male</td>\n",
              "      <td>0-11,000</td>\n",
              "      <td>kcpe</td>\n",
              "      <td>hustler</td>\n",
              "      <td>urban</td>\n",
              "      <td>yes</td>\n",
              "      <td>undecided</td>\n",
              "      <td>NaN</td>\n",
              "      <td>still_deciding</td>\n",
              "      <td>raila_odinga</td>\n",
              "      <td>none</td>\n",
              "      <td>thinking_about_it</td>\n",
              "      <td>yes</td>\n",
              "      <td>no_response</td>\n",
              "      <td>no_response</td>\n",
              "      <td>no_one</td>\n",
              "      <td>rarely</td>\n",
              "      <td>never</td>\n",
              "      <td>often</td>\n",
              "      <td>tv</td>\n",
              "      <td>i_don_t_care</td>\n",
              "      <td>response</td>\n",
              "      <td>0-11,000</td>\n",
              "    </tr>\n",
              "    <tr>\n",
              "      <th>1</th>\n",
              "      <td>1</td>\n",
              "      <td>mombasa</td>\n",
              "      <td>25-30</td>\n",
              "      <td>male</td>\n",
              "      <td>11,001-20,000</td>\n",
              "      <td>kcpe</td>\n",
              "      <td>business_owner__hotel_shop_kio</td>\n",
              "      <td>peri_urban</td>\n",
              "      <td>yes</td>\n",
              "      <td>no</td>\n",
              "      <td>i_do_not_understand_bbi</td>\n",
              "      <td>still_deciding</td>\n",
              "      <td>kalonzo_musyoka</td>\n",
              "      <td>musalia_mudavadi</td>\n",
              "      <td>thinking_about_it</td>\n",
              "      <td>no</td>\n",
              "      <td>no</td>\n",
              "      <td>yes</td>\n",
              "      <td>mcas</td>\n",
              "      <td>rarely</td>\n",
              "      <td>rarely</td>\n",
              "      <td>rarely</td>\n",
              "      <td>radio</td>\n",
              "      <td>no</td>\n",
              "      <td>yes</td>\n",
              "      <td>11,001-20,000</td>\n",
              "    </tr>\n",
              "    <tr>\n",
              "      <th>2</th>\n",
              "      <td>2</td>\n",
              "      <td>kitui</td>\n",
              "      <td>25-30</td>\n",
              "      <td>female</td>\n",
              "      <td>20,001-50,000</td>\n",
              "      <td>diploma</td>\n",
              "      <td>formal_employment__teacher_acc</td>\n",
              "      <td>urban</td>\n",
              "      <td>yes</td>\n",
              "      <td>yes</td>\n",
              "      <td>NaN</td>\n",
              "      <td>yes__for_it</td>\n",
              "      <td>raila_odinga</td>\n",
              "      <td>musalia_mudavadi</td>\n",
              "      <td>yes</td>\n",
              "      <td>yes</td>\n",
              "      <td>no</td>\n",
              "      <td>yes</td>\n",
              "      <td>no_one</td>\n",
              "      <td>sometimes</td>\n",
              "      <td>often</td>\n",
              "      <td>always</td>\n",
              "      <td>tv</td>\n",
              "      <td>yes</td>\n",
              "      <td>yes</td>\n",
              "      <td>20,001-50,000</td>\n",
              "    </tr>\n",
              "    <tr>\n",
              "      <th>3</th>\n",
              "      <td>3</td>\n",
              "      <td>migori</td>\n",
              "      <td>31-35</td>\n",
              "      <td>male</td>\n",
              "      <td>11,001-20,000</td>\n",
              "      <td>diploma</td>\n",
              "      <td>hustler</td>\n",
              "      <td>urban</td>\n",
              "      <td>no</td>\n",
              "      <td>yes</td>\n",
              "      <td>NaN</td>\n",
              "      <td>yes__for_it</td>\n",
              "      <td>raila_odinga</td>\n",
              "      <td>william_ruto</td>\n",
              "      <td>yes</td>\n",
              "      <td>yes</td>\n",
              "      <td>yes</td>\n",
              "      <td>yes</td>\n",
              "      <td>chief</td>\n",
              "      <td>always</td>\n",
              "      <td>always</td>\n",
              "      <td>always</td>\n",
              "      <td>tv</td>\n",
              "      <td>yes</td>\n",
              "      <td>yes</td>\n",
              "      <td>11,001-20,000</td>\n",
              "    </tr>\n",
              "    <tr>\n",
              "      <th>4</th>\n",
              "      <td>4</td>\n",
              "      <td>mombasa</td>\n",
              "      <td>41-50</td>\n",
              "      <td>male</td>\n",
              "      <td>0-11,000</td>\n",
              "      <td>certificate</td>\n",
              "      <td>informal_employment__jua_kali_</td>\n",
              "      <td>peri_urban</td>\n",
              "      <td>yes</td>\n",
              "      <td>yes</td>\n",
              "      <td>NaN</td>\n",
              "      <td>no__against_it</td>\n",
              "      <td>william_ruto</td>\n",
              "      <td>peter_kenneth</td>\n",
              "      <td>no</td>\n",
              "      <td>yes</td>\n",
              "      <td>yes</td>\n",
              "      <td>no</td>\n",
              "      <td>business_leaders</td>\n",
              "      <td>never</td>\n",
              "      <td>never</td>\n",
              "      <td>never</td>\n",
              "      <td>tv</td>\n",
              "      <td>no</td>\n",
              "      <td>yes</td>\n",
              "      <td>0-11,000</td>\n",
              "    </tr>\n",
              "    <tr>\n",
              "      <th>...</th>\n",
              "      <td>...</td>\n",
              "      <td>...</td>\n",
              "      <td>...</td>\n",
              "      <td>...</td>\n",
              "      <td>...</td>\n",
              "      <td>...</td>\n",
              "      <td>...</td>\n",
              "      <td>...</td>\n",
              "      <td>...</td>\n",
              "      <td>...</td>\n",
              "      <td>...</td>\n",
              "      <td>...</td>\n",
              "      <td>...</td>\n",
              "      <td>...</td>\n",
              "      <td>...</td>\n",
              "      <td>...</td>\n",
              "      <td>...</td>\n",
              "      <td>...</td>\n",
              "      <td>...</td>\n",
              "      <td>...</td>\n",
              "      <td>...</td>\n",
              "      <td>...</td>\n",
              "      <td>...</td>\n",
              "      <td>...</td>\n",
              "      <td>...</td>\n",
              "      <td>...</td>\n",
              "    </tr>\n",
              "    <tr>\n",
              "      <th>5731</th>\n",
              "      <td>5731</td>\n",
              "      <td>kisii</td>\n",
              "      <td>25-30</td>\n",
              "      <td>male</td>\n",
              "      <td>0-11,000</td>\n",
              "      <td>certificate</td>\n",
              "      <td>cash_crop_farmer_commercial_fi</td>\n",
              "      <td>rural</td>\n",
              "      <td>no</td>\n",
              "      <td>undecided</td>\n",
              "      <td>NaN</td>\n",
              "      <td>i_will_not_vote</td>\n",
              "      <td>raila_odinga</td>\n",
              "      <td>musalia_mudavadi</td>\n",
              "      <td>don_t_care</td>\n",
              "      <td>a_little</td>\n",
              "      <td>no</td>\n",
              "      <td>yes</td>\n",
              "      <td>governor</td>\n",
              "      <td>sometimes</td>\n",
              "      <td>always</td>\n",
              "      <td>always</td>\n",
              "      <td>radio</td>\n",
              "      <td>no</td>\n",
              "      <td>yes</td>\n",
              "      <td>0-11,000</td>\n",
              "    </tr>\n",
              "    <tr>\n",
              "      <th>5732</th>\n",
              "      <td>5732</td>\n",
              "      <td>kisii</td>\n",
              "      <td>25-30</td>\n",
              "      <td>female</td>\n",
              "      <td>0-11,000</td>\n",
              "      <td>kcse</td>\n",
              "      <td>subsistence_farmer_subsistence</td>\n",
              "      <td>peri_urban</td>\n",
              "      <td>yes</td>\n",
              "      <td>yes</td>\n",
              "      <td>NaN</td>\n",
              "      <td>no__against_it</td>\n",
              "      <td>raila_odinga</td>\n",
              "      <td>raila_odinga</td>\n",
              "      <td>yes</td>\n",
              "      <td>a_little</td>\n",
              "      <td>no</td>\n",
              "      <td>yes</td>\n",
              "      <td>mp</td>\n",
              "      <td>always</td>\n",
              "      <td>always</td>\n",
              "      <td>always</td>\n",
              "      <td>newspapers</td>\n",
              "      <td>no</td>\n",
              "      <td>yes</td>\n",
              "      <td>0-11,000</td>\n",
              "    </tr>\n",
              "    <tr>\n",
              "      <th>5733</th>\n",
              "      <td>5733</td>\n",
              "      <td>kisii</td>\n",
              "      <td>25-30</td>\n",
              "      <td>male</td>\n",
              "      <td>0-11,000</td>\n",
              "      <td>kcpe</td>\n",
              "      <td>cash_crop_farmer_commercial_fi</td>\n",
              "      <td>rural</td>\n",
              "      <td>yes</td>\n",
              "      <td>undecided</td>\n",
              "      <td>NaN</td>\n",
              "      <td>no__against_it</td>\n",
              "      <td>musalia_mudavadi</td>\n",
              "      <td>fred_matiangi</td>\n",
              "      <td>no</td>\n",
              "      <td>no</td>\n",
              "      <td>yes</td>\n",
              "      <td>yes</td>\n",
              "      <td>my_friends</td>\n",
              "      <td>sometimes</td>\n",
              "      <td>always</td>\n",
              "      <td>always</td>\n",
              "      <td>radio</td>\n",
              "      <td>no</td>\n",
              "      <td>yes</td>\n",
              "      <td>0-11,000</td>\n",
              "    </tr>\n",
              "    <tr>\n",
              "      <th>5734</th>\n",
              "      <td>5734</td>\n",
              "      <td>kisii</td>\n",
              "      <td>36-40</td>\n",
              "      <td>female</td>\n",
              "      <td>11,001-20,000</td>\n",
              "      <td>diploma</td>\n",
              "      <td>formal_employment__teacher_acc</td>\n",
              "      <td>rural</td>\n",
              "      <td>yes</td>\n",
              "      <td>undecided</td>\n",
              "      <td>NaN</td>\n",
              "      <td>still_deciding</td>\n",
              "      <td>fred_matiangi</td>\n",
              "      <td>william_ruto</td>\n",
              "      <td>thinking_about_it</td>\n",
              "      <td>no</td>\n",
              "      <td>i_do_not_know_about_it</td>\n",
              "      <td>no_response</td>\n",
              "      <td>governor</td>\n",
              "      <td>sometimes</td>\n",
              "      <td>always</td>\n",
              "      <td>always</td>\n",
              "      <td>radio</td>\n",
              "      <td>no</td>\n",
              "      <td>yes</td>\n",
              "      <td>11,001-20,000</td>\n",
              "    </tr>\n",
              "    <tr>\n",
              "      <th>5735</th>\n",
              "      <td>5735</td>\n",
              "      <td>kisii</td>\n",
              "      <td>18-24</td>\n",
              "      <td>male</td>\n",
              "      <td>0-11,000</td>\n",
              "      <td>kcse</td>\n",
              "      <td>cash_crop_farmer_commercial_fi</td>\n",
              "      <td>rural</td>\n",
              "      <td>no</td>\n",
              "      <td>undecided</td>\n",
              "      <td>NaN</td>\n",
              "      <td>i_will_not_vote</td>\n",
              "      <td>fred_matiangi</td>\n",
              "      <td>william_ruto</td>\n",
              "      <td>thinking_about_it</td>\n",
              "      <td>no</td>\n",
              "      <td>not_sure</td>\n",
              "      <td>no</td>\n",
              "      <td>governor</td>\n",
              "      <td>never</td>\n",
              "      <td>always</td>\n",
              "      <td>always</td>\n",
              "      <td>radio</td>\n",
              "      <td>maybe</td>\n",
              "      <td>yes</td>\n",
              "      <td>0-11,000</td>\n",
              "    </tr>\n",
              "  </tbody>\n",
              "</table>\n",
              "<p>5736 rows × 26 columns</p>\n",
              "</div>"
            ],
            "text/plain": [
              "      Unnamed: 0       County  ... Will you vote in 2022 Monthly Income (Kshs)\n",
              "0              0  trans_nzoia  ...              response              0-11,000\n",
              "1              1      mombasa  ...                   yes         11,001-20,000\n",
              "2              2        kitui  ...                   yes         20,001-50,000\n",
              "3              3       migori  ...                   yes         11,001-20,000\n",
              "4              4      mombasa  ...                   yes              0-11,000\n",
              "...          ...          ...  ...                   ...                   ...\n",
              "5731        5731        kisii  ...                   yes              0-11,000\n",
              "5732        5732        kisii  ...                   yes              0-11,000\n",
              "5733        5733        kisii  ...                   yes              0-11,000\n",
              "5734        5734        kisii  ...                   yes         11,001-20,000\n",
              "5735        5735        kisii  ...                   yes              0-11,000\n",
              "\n",
              "[5736 rows x 26 columns]"
            ]
          },
          "metadata": {},
          "execution_count": 96
        }
      ]
    },
    {
      "cell_type": "markdown",
      "metadata": {
        "id": "o8OV7L_27NRJ"
      },
      "source": [
        "# Completeness"
      ]
    },
    {
      "cell_type": "code",
      "metadata": {
        "id": "pNJCOiFd7SCo",
        "colab": {
          "base_uri": "https://localhost:8080/"
        },
        "outputId": "91b80128-252f-4714-ad5a-9453ba89c7c3"
      },
      "source": [
        "df_new =pd.read_csv('/content/df_new.csv')\n",
        "# df_new.head()\n",
        "knowledge(df_new)"
      ],
      "execution_count": null,
      "outputs": [
        {
          "output_type": "stream",
          "text": [
            "The shape is **********************\n",
            "(5736, 25)\n",
            "The information is **********************\n",
            "<class 'pandas.core.frame.DataFrame'>\n",
            "RangeIndex: 5736 entries, 0 to 5735\n",
            "Data columns (total 25 columns):\n",
            " #   Column                                                   Non-Null Count  Dtype \n",
            "---  ------                                                   --------------  ----- \n",
            " 0   County                                                   5736 non-null   object\n",
            " 1   Age                                                      5736 non-null   object\n",
            " 2   Gender                                                   5736 non-null   object\n",
            " 3   Monthly Income                                           5736 non-null   object\n",
            " 4   Highest Level of Education Attained                      5736 non-null   object\n",
            " 5   Occupation                                               5736 non-null   object\n",
            " 6   Location                                                 5736 non-null   object\n",
            " 7   Did you vote in 2017                                     5736 non-null   object\n",
            " 8   Will you vote in the Refere                              5736 non-null   object\n",
            " 9   If No Why                                                1377 non-null   object\n",
            " 10  How will you vote in the Referendum                      5736 non-null   object\n",
            " 11  If elections are today who would you vote for            5736 non-null   object\n",
            " 12  If you dont vote for that one who is your second choice  5736 non-null   object\n",
            " 13  Do you support BBI                                       5736 non-null   object\n",
            " 14  Do you know what BBI wants to change                     5736 non-null   object\n",
            " 15  Do you support the Hustler Nation                        5736 non-null   object\n",
            " 16  Do you think the handshake brought us peace              5736 non-null   object\n",
            " 17  Who influences youin your community                      5736 non-null   object\n",
            " 18  Do you trust your political leaders                      5736 non-null   object\n",
            " 19  Do you trust your religious leaders                      5736 non-null   object\n",
            " 20  Do you trust your elders                                 5736 non-null   object\n",
            " 21  Where do you get your News from                          5736 non-null   object\n",
            " 22  Have you understood BBI completely                       5736 non-null   object\n",
            " 23  Will you vote in 2022                                    5736 non-null   object\n",
            " 24  Monthly Income (Kshs)                                    5736 non-null   object\n",
            "dtypes: object(25)\n",
            "memory usage: 1.1+ MB\n",
            "None\n",
            " The size is**********************\n",
            "143400\n"
          ],
          "name": "stdout"
        }
      ]
    },
    {
      "cell_type": "code",
      "metadata": {
        "id": "P2b8UNRWK9P8",
        "colab": {
          "base_uri": "https://localhost:8080/"
        },
        "outputId": "edcb5ff8-c7c2-4285-97ec-169418ed506b"
      },
      "source": [
        "#checking for columns with null entries\n",
        "df_new.isnull().any()\n"
      ],
      "execution_count": null,
      "outputs": [
        {
          "output_type": "execute_result",
          "data": {
            "text/plain": [
              "Unnamed: 0                                                 False\n",
              "County                                                     False\n",
              "Age                                                        False\n",
              "Gender                                                     False\n",
              "Monthly Income                                             False\n",
              "Highest Level of Education Attained                        False\n",
              "Occupation                                                 False\n",
              "Location                                                   False\n",
              "Did you vote in 2017                                       False\n",
              "Will you vote in the Refere                                False\n",
              "If No Why                                                   True\n",
              "How will you vote in the Referendum                        False\n",
              "If elections are today who would you vote for              False\n",
              "If you dont vote for that one who is your second choice    False\n",
              "Do you support BBI                                         False\n",
              "Do you know what BBI wants to change                       False\n",
              "Do you support the Hustler Nation                          False\n",
              "Do you think the handshake brought us peace                False\n",
              "Who influences youin your community                        False\n",
              "Do you trust your political leaders                        False\n",
              "Do you trust your religious leaders                        False\n",
              "Do you trust your elders                                   False\n",
              "Where do you get your News from                            False\n",
              "Have you understood BBI completely                         False\n",
              "Will you vote in 2022                                      False\n",
              "Monthly Income (Kshs)                                      False\n",
              "dtype: bool"
            ]
          },
          "metadata": {},
          "execution_count": 98
        }
      ]
    },
    {
      "cell_type": "code",
      "metadata": {
        "id": "Rd2dED2iLV43",
        "colab": {
          "base_uri": "https://localhost:8080/"
        },
        "outputId": "385f2be2-f75a-48f9-cf93-869e0f9b9ed6"
      },
      "source": [
        "#number of null entries\n",
        "df_new.isnull().sum().sum()"
      ],
      "execution_count": null,
      "outputs": [
        {
          "output_type": "execute_result",
          "data": {
            "text/plain": [
              "4359"
            ]
          },
          "metadata": {},
          "execution_count": 99
        }
      ]
    },
    {
      "cell_type": "markdown",
      "metadata": {
        "id": "0gcDfmT77S7_"
      },
      "source": [
        "# Consistency"
      ]
    },
    {
      "cell_type": "code",
      "metadata": {
        "id": "PRZaJBN_7Yo3",
        "colab": {
          "base_uri": "https://localhost:8080/"
        },
        "outputId": "03ec1149-a302-4f95-fe05-a0e513caa3bf"
      },
      "source": [
        "#checking our data for duplicates\n",
        "df_new.duplicated().sum()"
      ],
      "execution_count": null,
      "outputs": [
        {
          "output_type": "execute_result",
          "data": {
            "text/plain": [
              "0"
            ]
          },
          "metadata": {},
          "execution_count": 100
        }
      ]
    },
    {
      "cell_type": "code",
      "metadata": {
        "id": "UA3Ou_OwLJbg",
        "colab": {
          "base_uri": "https://localhost:8080/"
        },
        "outputId": "22676587-ffd8-47ee-e77d-598d52bc5c0d"
      },
      "source": [
        "#outliers\n",
        "knowledge(df_new)"
      ],
      "execution_count": null,
      "outputs": [
        {
          "output_type": "stream",
          "text": [
            "The shape is **********************\n",
            "(5736, 25)\n",
            "The information is **********************\n",
            "<class 'pandas.core.frame.DataFrame'>\n",
            "RangeIndex: 5736 entries, 0 to 5735\n",
            "Data columns (total 25 columns):\n",
            " #   Column                                                   Non-Null Count  Dtype \n",
            "---  ------                                                   --------------  ----- \n",
            " 0   County                                                   5736 non-null   object\n",
            " 1   Age                                                      5736 non-null   object\n",
            " 2   Gender                                                   5736 non-null   object\n",
            " 3   Monthly Income                                           5736 non-null   object\n",
            " 4   Highest Level of Education Attained                      5736 non-null   object\n",
            " 5   Occupation                                               5736 non-null   object\n",
            " 6   Location                                                 5736 non-null   object\n",
            " 7   Did you vote in 2017                                     5736 non-null   object\n",
            " 8   Will you vote in the Refere                              5736 non-null   object\n",
            " 9   If No Why                                                1377 non-null   object\n",
            " 10  How will you vote in the Referendum                      5736 non-null   object\n",
            " 11  If elections are today who would you vote for            5736 non-null   object\n",
            " 12  If you dont vote for that one who is your second choice  5736 non-null   object\n",
            " 13  Do you support BBI                                       5736 non-null   object\n",
            " 14  Do you know what BBI wants to change                     5736 non-null   object\n",
            " 15  Do you support the Hustler Nation                        5736 non-null   object\n",
            " 16  Do you think the handshake brought us peace              5736 non-null   object\n",
            " 17  Who influences youin your community                      5736 non-null   object\n",
            " 18  Do you trust your political leaders                      5736 non-null   object\n",
            " 19  Do you trust your religious leaders                      5736 non-null   object\n",
            " 20  Do you trust your elders                                 5736 non-null   object\n",
            " 21  Where do you get your News from                          5736 non-null   object\n",
            " 22  Have you understood BBI completely                       5736 non-null   object\n",
            " 23  Will you vote in 2022                                    5736 non-null   object\n",
            " 24  Monthly Income (Kshs)                                    5736 non-null   object\n",
            "dtypes: object(25)\n",
            "memory usage: 1.1+ MB\n",
            "None\n",
            " The size is**********************\n",
            "143400\n"
          ],
          "name": "stdout"
        }
      ]
    },
    {
      "cell_type": "code",
      "metadata": {
        "id": "JUdP7soWV5AT"
      },
      "source": [
        ""
      ],
      "execution_count": null,
      "outputs": []
    },
    {
      "cell_type": "markdown",
      "metadata": {
        "id": "v7T2eacoW6iN"
      },
      "source": [
        "# Answering the research questions\n"
      ]
    },
    {
      "cell_type": "markdown",
      "metadata": {
        "id": "UE2sN0PlBwus"
      },
      "source": [
        "# 1.1 Answering research questions"
      ]
    },
    {
      "cell_type": "markdown",
      "metadata": {
        "id": "_Q9WU9dZB7UO"
      },
      "source": [
        "1. Do Kenyans understand what the BBI entails?"
      ]
    },
    {
      "cell_type": "code",
      "metadata": {
        "colab": {
          "base_uri": "https://localhost:8080/"
        },
        "id": "8uC3n_NljgP6",
        "outputId": "1bf50f35-951c-42c8-893a-4d38d86a5875"
      },
      "source": [
        "df_new.columns"
      ],
      "execution_count": null,
      "outputs": [
        {
          "output_type": "execute_result",
          "data": {
            "text/plain": [
              "Index(['Unnamed: 0', 'County', 'Age', 'Gender', 'Monthly Income',\n",
              "       'Highest Level of Education Attained', 'Occupation', 'Location',\n",
              "       'Did you vote in 2017', 'Will you vote in the Refere', 'If No Why',\n",
              "       'How will you vote in the Referendum',\n",
              "       'If elections are today who would you vote for',\n",
              "       'If you dont vote for that one who is your second choice',\n",
              "       'Do you support BBI', 'Do you know what BBI wants to change',\n",
              "       'Do you support the Hustler Nation',\n",
              "       'Do you think the handshake brought us peace',\n",
              "       'Who influences youin your community',\n",
              "       'Do you trust your political leaders',\n",
              "       'Do you trust your religious leaders', 'Do you trust your elders',\n",
              "       'Where do you get your News from', 'Have you understood BBI completely',\n",
              "       'Will you vote in 2022', 'Monthly Income (Kshs)'],\n",
              "      dtype='object')"
            ]
          },
          "metadata": {},
          "execution_count": 178
        }
      ]
    },
    {
      "cell_type": "code",
      "metadata": {
        "colab": {
          "base_uri": "https://localhost:8080/"
        },
        "id": "ftR6reoqjvne",
        "outputId": "f0fb77dd-9806-45c7-e744-b89b61bd9d0e"
      },
      "source": [
        "df_new['Have you understood BBI completely'].unique()\n"
      ],
      "execution_count": null,
      "outputs": [
        {
          "output_type": "execute_result",
          "data": {
            "text/plain": [
              "array(['i_don_t_care', 'no', 'yes', 'maybe'], dtype=object)"
            ]
          },
          "metadata": {},
          "execution_count": 195
        }
      ]
    },
    {
      "cell_type": "code",
      "metadata": {
        "colab": {
          "base_uri": "https://localhost:8080/"
        },
        "id": "veD4JHf2lg1L",
        "outputId": "11afc7c5-50bc-4883-dfeb-2a44ea0c546f"
      },
      "source": [
        "y=df_new['Have you understood BBI completely'].value_counts()\n",
        "y"
      ],
      "execution_count": null,
      "outputs": [
        {
          "output_type": "execute_result",
          "data": {
            "text/plain": [
              "no              3972\n",
              "maybe            806\n",
              "yes              782\n",
              "i_don_t_care     176\n",
              "Name: Have you understood BBI completely, dtype: int64"
            ]
          },
          "metadata": {},
          "execution_count": 199
        }
      ]
    },
    {
      "cell_type": "code",
      "metadata": {
        "id": "eh6Dq_CZj_zA"
      },
      "source": [
        "def completelyBBI(Dknow):\n",
        "  if Dknow == 'yes'or 'no' or 'maybe' or 'i_don_t_care' :\n",
        "    know = df_new[\"Have you understood BBI completely\"] == Dknow\n",
        "    return know.sum()"
      ],
      "execution_count": null,
      "outputs": []
    },
    {
      "cell_type": "code",
      "metadata": {
        "colab": {
          "base_uri": "https://localhost:8080/"
        },
        "id": "PBMXfG4rkPqY",
        "outputId": "fdbbf34d-3c9f-4bd3-895f-3660774d3f6b"
      },
      "source": [
        "completelyBBI('yes')"
      ],
      "execution_count": null,
      "outputs": [
        {
          "output_type": "execute_result",
          "data": {
            "text/plain": [
              "782"
            ]
          },
          "metadata": {},
          "execution_count": 186
        }
      ]
    },
    {
      "cell_type": "code",
      "metadata": {
        "colab": {
          "base_uri": "https://localhost:8080/"
        },
        "id": "M5B65q3pkZkL",
        "outputId": "99d99896-d6f4-4878-b888-fec8058f04b0"
      },
      "source": [
        "completelyBBI('maybe')"
      ],
      "execution_count": null,
      "outputs": [
        {
          "output_type": "execute_result",
          "data": {
            "text/plain": [
              "806"
            ]
          },
          "metadata": {},
          "execution_count": 187
        }
      ]
    },
    {
      "cell_type": "code",
      "metadata": {
        "colab": {
          "base_uri": "https://localhost:8080/"
        },
        "id": "k9I_R4jDkgOg",
        "outputId": "e7cb9c42-2c60-435e-8cfc-4c2e9bd92563"
      },
      "source": [
        "completelyBBI('no')"
      ],
      "execution_count": null,
      "outputs": [
        {
          "output_type": "execute_result",
          "data": {
            "text/plain": [
              "3972"
            ]
          },
          "metadata": {},
          "execution_count": 188
        }
      ]
    },
    {
      "cell_type": "code",
      "metadata": {
        "colab": {
          "base_uri": "https://localhost:8080/"
        },
        "id": "bGcYkIZJkk2e",
        "outputId": "8d78ea2f-59ca-4cba-86bb-30230b983b4b"
      },
      "source": [
        "completelyBBI('i_don_t_care')"
      ],
      "execution_count": null,
      "outputs": [
        {
          "output_type": "execute_result",
          "data": {
            "text/plain": [
              "176"
            ]
          },
          "metadata": {},
          "execution_count": 189
        }
      ]
    },
    {
      "cell_type": "code",
      "metadata": {
        "colab": {
          "base_uri": "https://localhost:8080/",
          "height": 264
        },
        "id": "xy-ZIkl1quIV",
        "outputId": "00d72a65-5a50-4a0b-9094-291a430c0686"
      },
      "source": [
        "data1=['yes','maybe','no','i_don_t_care']\n",
        "y=[782, 806, 3972, 176]\n",
        "plt.pie(y, labels=data1, autopct='%1.2f')\n",
        "#plt.legend()\n",
        "plt.title('full knowledge on BBI')\n",
        "plt.show()"
      ],
      "execution_count": null,
      "outputs": [
        {
          "output_type": "display_data",
          "data": {
            "image/png": "[encoded data removed]",
            "text/plain": [
              "<Figure size 432x288 with 1 Axes>"
            ]
          },
          "metadata": {}
        }
      ]
    },
    {
      "cell_type": "code",
      "metadata": {
        "id": "HvXIj0AKXFHp",
        "colab": {
          "base_uri": "https://localhost:8080/"
        },
        "outputId": "02a973fa-fee4-4392-930e-23431e882552"
      },
      "source": [
        "# Do Kenyans understand what the BBI entails?\n",
        "df_new[\"Do you know what BBI wants to change\"].unique()"
      ],
      "execution_count": null,
      "outputs": [
        {
          "output_type": "execute_result",
          "data": {
            "text/plain": [
              "array(['yes', 'no', 'a_little'], dtype=object)"
            ]
          },
          "metadata": {},
          "execution_count": 201
        }
      ]
    },
    {
      "cell_type": "code",
      "metadata": {
        "colab": {
          "base_uri": "https://localhost:8080/"
        },
        "id": "04AzwnUkmJvw",
        "outputId": "aabbcd2b-0d99-4e88-eee3-ad79cff60a15"
      },
      "source": [
        "x=df_new[\"Do you know what BBI wants to change\"].value_counts()\n",
        "x"
      ],
      "execution_count": null,
      "outputs": [
        {
          "output_type": "execute_result",
          "data": {
            "text/plain": [
              "no          2748\n",
              "a_little    1911\n",
              "yes         1077\n",
              "Name: Do you know what BBI wants to change, dtype: int64"
            ]
          },
          "metadata": {},
          "execution_count": 206
        }
      ]
    },
    {
      "cell_type": "code",
      "metadata": {
        "id": "i7tQO7G3qoNs"
      },
      "source": [
        ""
      ],
      "execution_count": null,
      "outputs": []
    },
    {
      "cell_type": "code",
      "metadata": {
        "id": "GqAkE1xNBtpj"
      },
      "source": [
        "def InBBI(Dknow):\n",
        "  if Dknow == 'yes'or 'no' or 'a_little':\n",
        "    know = df_new[\"Do you know what BBI wants to change\"] == Dknow\n",
        "    return know.sum()"
      ],
      "execution_count": null,
      "outputs": []
    },
    {
      "cell_type": "code",
      "metadata": {
        "id": "T0-NcFvJY4Ss",
        "colab": {
          "base_uri": "https://localhost:8080/"
        },
        "outputId": "4c0cfbc5-b374-4fdd-b5db-32b46e64037e"
      },
      "source": [
        "#kenyans who knows BBI\n",
        "\n",
        "InBBI('yes')"
      ],
      "execution_count": null,
      "outputs": [
        {
          "output_type": "execute_result",
          "data": {
            "text/plain": [
              "1077"
            ]
          },
          "metadata": {},
          "execution_count": 104
        }
      ]
    },
    {
      "cell_type": "code",
      "metadata": {
        "id": "6bVYnn3BaOe5",
        "colab": {
          "base_uri": "https://localhost:8080/"
        },
        "outputId": "3e4e9d8c-631b-4f1e-a2fd-85cc5ab2e04f"
      },
      "source": [
        "#who do not know \n",
        "\n",
        "InBBI('no')"
      ],
      "execution_count": null,
      "outputs": [
        {
          "output_type": "execute_result",
          "data": {
            "text/plain": [
              "2748"
            ]
          },
          "metadata": {},
          "execution_count": 105
        }
      ]
    },
    {
      "cell_type": "code",
      "metadata": {
        "id": "QTfnjSdKauCQ",
        "colab": {
          "base_uri": "https://localhost:8080/"
        },
        "outputId": "40f8e39b-1d87-47ae-97fa-449367573524"
      },
      "source": [
        "#who know little about BBI\n",
        "InBBI('a_little')"
      ],
      "execution_count": null,
      "outputs": [
        {
          "output_type": "execute_result",
          "data": {
            "text/plain": [
              "1911"
            ]
          },
          "metadata": {},
          "execution_count": 106
        }
      ]
    },
    {
      "cell_type": "code",
      "metadata": {
        "id": "ms-XA5p5nq5n"
      },
      "source": [
        ""
      ],
      "execution_count": null,
      "outputs": []
    },
    {
      "cell_type": "code",
      "metadata": {
        "colab": {
          "base_uri": "https://localhost:8080/",
          "height": 264
        },
        "id": "HwVsG1YgDz2W",
        "outputId": "f045b7fc-756a-403e-afd9-11811a4efbf8"
      },
      "source": [
        "data=['yes','a_little','no']\n",
        "x=[1077, 1911,2748]\n",
        "plt.pie(x, labels=data, autopct='%1.2f')\n",
        "plt.legend()\n",
        "plt.title('Knowledge of BBI changes')\n",
        "plt.show()\n"
      ],
      "execution_count": null,
      "outputs": [
        {
          "output_type": "display_data",
          "data": {
            "image/png": "[encoded data removed]",
            "text/plain": [
              "<Figure size 432x288 with 1 Axes>"
            ]
          },
          "metadata": {}
        }
      ]
    },
    {
      "cell_type": "code",
      "metadata": {
        "id": "Z68MK6k7b2Q6",
        "colab": {
          "base_uri": "https://localhost:8080/"
        },
        "outputId": "4b5e31fe-7548-4196-8834-fdc0b4e8eadf"
      },
      "source": [
        "# Where do you get your News from\n",
        "get_from =df_new[\"Where do you get your News from\"].unique()\n",
        "get_from"
      ],
      "execution_count": null,
      "outputs": [
        {
          "output_type": "execute_result",
          "data": {
            "text/plain": [
              "array(['tv', 'radio', 'whatsapp', 'facebook', 'youtube', 'newspapers',\n",
              "       'my_friends', 'twitter'], dtype=object)"
            ]
          },
          "metadata": {},
          "execution_count": 108
        }
      ]
    },
    {
      "cell_type": "code",
      "metadata": {
        "id": "uAKXnJgRcw7z",
        "colab": {
          "base_uri": "https://localhost:8080/"
        },
        "outputId": "15314976-7e9c-4f1c-a5ac-cec0489e3aa1"
      },
      "source": [
        "#Where do you get your News from\n",
        "df_new['Where do you get your News from'].value_counts()"
      ],
      "execution_count": null,
      "outputs": [
        {
          "output_type": "execute_result",
          "data": {
            "text/plain": [
              "tv            2746\n",
              "radio         1698\n",
              "facebook       438\n",
              "whatsapp       276\n",
              "twitter        188\n",
              "newspapers     174\n",
              "youtube        109\n",
              "my_friends     107\n",
              "Name: Where do you get your News from, dtype: int64"
            ]
          },
          "metadata": {},
          "execution_count": 109
        }
      ]
    },
    {
      "cell_type": "code",
      "metadata": {
        "id": "YYvlHNQ_GhhB"
      },
      "source": [
        "#function to check those who know bbi and where they get news from.\n",
        "def bbiNews(getting):\n",
        "    bbi_news= df_new.loc[(df['Do you know what BBI wants to change'] == getting)]\n",
        "    bbi_news1=bbi_news.groupby('Where do you get your News from')[['Do you know what BBI wants to change']].count()\n",
        "    if getting== 'yes' or 'a_little' or 'no':\n",
        "        return  bbi_news1['Do you know what BBI wants to change']\n",
        "        "
      ],
      "execution_count": null,
      "outputs": []
    },
    {
      "cell_type": "code",
      "metadata": {
        "id": "QMxV3OtBhwGe",
        "colab": {
          "base_uri": "https://localhost:8080/"
        },
        "outputId": "3355f5aa-2d21-4d24-8a83-71e4f6226885"
      },
      "source": [
        "#those who know about bbi and where they get news from\n",
        "bbiNews('yes')"
      ],
      "execution_count": null,
      "outputs": [
        {
          "output_type": "execute_result",
          "data": {
            "text/plain": [
              "Where do you get your News from\n",
              "facebook       78\n",
              "my_friends     14\n",
              "newspapers     67\n",
              "radio         199\n",
              "tv            587\n",
              "twitter        56\n",
              "whatsapp       50\n",
              "youtube        26\n",
              "Name: Do you know what BBI wants to change, dtype: int64"
            ]
          },
          "metadata": {},
          "execution_count": 111
        }
      ]
    },
    {
      "cell_type": "code",
      "metadata": {
        "colab": {
          "base_uri": "https://localhost:8080/"
        },
        "id": "4zstkAzeJ6de",
        "outputId": "917c2b23-10e2-42ad-9ac5-9225365e81e5"
      },
      "source": [
        "#Where those who do not know BBI and where they get news from\n",
        "bbiNews('no')\n"
      ],
      "execution_count": null,
      "outputs": [
        {
          "output_type": "execute_result",
          "data": {
            "text/plain": [
              "Where do you get your News from\n",
              "facebook       213\n",
              "my_friends      70\n",
              "newspapers      56\n",
              "radio         1000\n",
              "tv            1173\n",
              "twitter         68\n",
              "whatsapp       123\n",
              "youtube         45\n",
              "Name: Do you know what BBI wants to change, dtype: int64"
            ]
          },
          "metadata": {},
          "execution_count": 112
        }
      ]
    },
    {
      "cell_type": "code",
      "metadata": {
        "id": "tZvlG1N1k1tM",
        "colab": {
          "base_uri": "https://localhost:8080/"
        },
        "outputId": "087a91da-69dd-4a0e-e560-ca99efea411c"
      },
      "source": [
        "#those who know a little about bbi and where they get knews from\n",
        "bbiNews('a_little')"
      ],
      "execution_count": null,
      "outputs": [
        {
          "output_type": "execute_result",
          "data": {
            "text/plain": [
              "Where do you get your News from\n",
              "facebook      147\n",
              "my_friends     23\n",
              "newspapers     51\n",
              "radio         499\n",
              "tv            986\n",
              "twitter        64\n",
              "whatsapp      103\n",
              "youtube        38\n",
              "Name: Do you know what BBI wants to change, dtype: int64"
            ]
          },
          "metadata": {},
          "execution_count": 113
        }
      ]
    },
    {
      "cell_type": "code",
      "metadata": {
        "id": "qALLKMOYnf3i",
        "colab": {
          "base_uri": "https://localhost:8080/"
        },
        "outputId": "952e1ed2-6a15-4b63-fcbc-0fbd21a3b5e3"
      },
      "source": [
        "df_new[\"Do you support BBI\"].unique()"
      ],
      "execution_count": null,
      "outputs": [
        {
          "output_type": "execute_result",
          "data": {
            "text/plain": [
              "array(['thinking_about_it', 'yes', 'no', 'don_t_care'], dtype=object)"
            ]
          },
          "metadata": {},
          "execution_count": 114
        }
      ]
    },
    {
      "cell_type": "code",
      "metadata": {
        "id": "stEN4i5I9-tL"
      },
      "source": [
        "def support( variable):\n",
        "  support = df_new[\"Do you support BBI\"] == variable\n",
        "  if variable == 'yes' or 'no' or 'don_t_care'or 'thinking_about_it':\n",
        "    return support.sum()"
      ],
      "execution_count": null,
      "outputs": []
    },
    {
      "cell_type": "code",
      "metadata": {
        "id": "2Y-7hPb5nul9",
        "colab": {
          "base_uri": "https://localhost:8080/"
        },
        "outputId": "747857d4-a433-4c0d-a0d5-ee3a4fe22820"
      },
      "source": [
        "# those thinking about it but not decided on whether to support BBi\n",
        "support('thinking_about_it')"
      ],
      "execution_count": null,
      "outputs": [
        {
          "output_type": "execute_result",
          "data": {
            "text/plain": [
              "1128"
            ]
          },
          "metadata": {},
          "execution_count": 116
        }
      ]
    },
    {
      "cell_type": "code",
      "metadata": {
        "id": "H0iFH6-doLyf",
        "colab": {
          "base_uri": "https://localhost:8080/"
        },
        "outputId": "8863fa9d-ab13-44b8-d9b5-ba5729d2fd01"
      },
      "source": [
        "#those in full support of BBI\n",
        "support(\"yes\")\n"
      ],
      "execution_count": null,
      "outputs": [
        {
          "output_type": "execute_result",
          "data": {
            "text/plain": [
              "1651"
            ]
          },
          "metadata": {},
          "execution_count": 117
        }
      ]
    },
    {
      "cell_type": "code",
      "metadata": {
        "id": "dZgZSlWApY3s",
        "colab": {
          "base_uri": "https://localhost:8080/"
        },
        "outputId": "c78f734d-38cc-4b0f-84e2-789fc1cab696"
      },
      "source": [
        "#donot fully support BBi\n",
        "support(\"no\")\n"
      ],
      "execution_count": null,
      "outputs": [
        {
          "output_type": "execute_result",
          "data": {
            "text/plain": [
              "2637"
            ]
          },
          "metadata": {},
          "execution_count": 118
        }
      ]
    },
    {
      "cell_type": "code",
      "metadata": {
        "id": "ju2Y7T5-odlC",
        "colab": {
          "base_uri": "https://localhost:8080/"
        },
        "outputId": "6806cf67-6887-43b4-e614-26f2fad231d3"
      },
      "source": [
        "#who donot care about BBI\n",
        "support(\"don_t_care\")\n"
      ],
      "execution_count": null,
      "outputs": [
        {
          "output_type": "execute_result",
          "data": {
            "text/plain": [
              "320"
            ]
          },
          "metadata": {},
          "execution_count": 119
        }
      ]
    },
    {
      "cell_type": "code",
      "metadata": {
        "id": "6rGrg2iaXPN3"
      },
      "source": [
        "# Which regions are likely to support the BBI?\n",
        "def supportbyregion( variable):\n",
        "  BBIsupport=df_new.loc[(df['Do you support BBI'] == variable)]\n",
        "  support = BBIsupport.groupby('County')[['Do you support BBI']].count().sort_values(by='Do you support BBI',ascending=False)\n",
        "  if variable == 'yes' or 'no' or 'thinking_about_it' or 'don_t_care':\n",
        "    return support['Do you support BBI']"
      ],
      "execution_count": null,
      "outputs": []
    },
    {
      "cell_type": "code",
      "metadata": {
        "id": "N1jtmUT5-OyM"
      },
      "source": [
        "supportbyregion('yes')"
      ],
      "execution_count": null,
      "outputs": []
    },
    {
      "cell_type": "code",
      "metadata": {
        "colab": {
          "base_uri": "https://localhost:8080/"
        },
        "id": "NMSorjuO-Tvi",
        "outputId": "79500770-f233-4575-96eb-335394b5dd2a"
      },
      "source": [
        "supportbyregion('thinking_about_it')"
      ],
      "execution_count": null,
      "outputs": [
        {
          "output_type": "execute_result",
          "data": {
            "text/plain": [
              "County\n",
              "mombasa        105\n",
              "embu            94\n",
              "uasin_gishu     87\n",
              "kirinyaga       80\n",
              "kiambu          79\n",
              "machakos        72\n",
              "trans_nzoia     69\n",
              "kakamega        67\n",
              "nairobi         53\n",
              "nakuru          48\n",
              "meru            45\n",
              "kericho         44\n",
              "laikipia        43\n",
              "kisumu          43\n",
              "kisii           43\n",
              "nyeri           37\n",
              "migori          36\n",
              "kitui           36\n",
              "isiolo          24\n",
              "narok           23\n",
              "Name: Do you support BBI, dtype: int64"
            ]
          },
          "metadata": {},
          "execution_count": 124
        }
      ]
    },
    {
      "cell_type": "code",
      "metadata": {
        "colab": {
          "base_uri": "https://localhost:8080/"
        },
        "id": "0TMmLPtH-cE4",
        "outputId": "e28088ea-757e-4231-d7e5-8b3729fb873e"
      },
      "source": [
        "supportbyregion('don_t_care')"
      ],
      "execution_count": null,
      "outputs": [
        {
          "output_type": "execute_result",
          "data": {
            "text/plain": [
              "County\n",
              "machakos       35\n",
              "kitui          35\n",
              "nairobi        33\n",
              "kiambu         25\n",
              "kakamega       23\n",
              "kisii          23\n",
              "kericho        21\n",
              "nyeri          20\n",
              "uasin_gishu    17\n",
              "kisumu         11\n",
              "narok          11\n",
              "mombasa         9\n",
              "kirinyaga       9\n",
              "laikipia        8\n",
              "meru            8\n",
              "nakuru          8\n",
              "isiolo          6\n",
              "migori          6\n",
              "trans_nzoia     6\n",
              "embu            6\n",
              "Name: Do you support BBI, dtype: int64"
            ]
          },
          "metadata": {},
          "execution_count": 125
        }
      ]
    },
    {
      "cell_type": "code",
      "metadata": {
        "colab": {
          "base_uri": "https://localhost:8080/"
        },
        "id": "bF3iYFGa-iJi",
        "outputId": "802094e7-e84b-4ec2-f96f-40312fe5879f"
      },
      "source": [
        "supportbyregion('no')"
      ],
      "execution_count": null,
      "outputs": [
        {
          "output_type": "execute_result",
          "data": {
            "text/plain": [
              "County\n",
              "meru           194\n",
              "nyeri          184\n",
              "kericho        183\n",
              "isiolo         176\n",
              "nakuru         168\n",
              "trans_nzoia    159\n",
              "embu           151\n",
              "kitui          139\n",
              "machakos       138\n",
              "uasin_gishu    134\n",
              "kiambu         129\n",
              "laikipia       122\n",
              "mombasa        113\n",
              "kirinyaga      105\n",
              "kakamega       105\n",
              "nairobi        101\n",
              "kisumu          99\n",
              "narok           90\n",
              "kisii           87\n",
              "migori          60\n",
              "Name: Do you support BBI, dtype: int64"
            ]
          },
          "metadata": {},
          "execution_count": 122
        }
      ]
    },
    {
      "cell_type": "code",
      "metadata": {
        "id": "VEp7--F2mESX",
        "colab": {
          "base_uri": "https://localhost:8080/"
        },
        "outputId": "db376f1a-7cf5-4ed3-87d0-d89f2fea0a8b"
      },
      "source": [
        "# How does BBI support compare based on Gender, Age group and Monthly income?\n",
        "#support on BBI basing on Gender.\n",
        "df_new.groupby([ \"Gender\",\"Do you support BBI\"])[\"Do you support BBI\"].count()"
      ],
      "execution_count": null,
      "outputs": [
        {
          "output_type": "execute_result",
          "data": {
            "text/plain": [
              "Gender  Do you support BBI\n",
              "female  don_t_care             158\n",
              "        no                    1083\n",
              "        thinking_about_it      539\n",
              "        yes                    570\n",
              "male    don_t_care             162\n",
              "        no                    1554\n",
              "        thinking_about_it      587\n",
              "        yes                   1080\n",
              "other   thinking_about_it        2\n",
              "        yes                      1\n",
              "Name: Do you support BBI, dtype: int64"
            ]
          },
          "metadata": {},
          "execution_count": 120
        }
      ]
    },
    {
      "cell_type": "code",
      "metadata": {
        "colab": {
          "base_uri": "https://localhost:8080/"
        },
        "id": "MPGVi_NaI1q7",
        "outputId": "96dd156b-f26a-49a2-cbda-f9fdf466e085"
      },
      "source": [
        "#age group support\n",
        "df_new.groupby([ \"Age\",\"Do you support BBI\"])[\"Do you support BBI\"].count()"
      ],
      "execution_count": null,
      "outputs": [
        {
          "output_type": "execute_result",
          "data": {
            "text/plain": [
              "Age      Do you support BBI\n",
              "18-24    don_t_care             63\n",
              "         no                    468\n",
              "         thinking_about_it     184\n",
              "         yes                   261\n",
              "25-30    don_t_care             79\n",
              "         no                    662\n",
              "         thinking_about_it     294\n",
              "         yes                   371\n",
              "31-35    don_t_care             62\n",
              "         no                    505\n",
              "         thinking_about_it     206\n",
              "         yes                   304\n",
              "36-40    don_t_care             41\n",
              "         no                    399\n",
              "         thinking_about_it     174\n",
              "         yes                   266\n",
              "41-50    don_t_care             35\n",
              "         no                    344\n",
              "         thinking_about_it     146\n",
              "         yes                   257\n",
              "51-60    don_t_care             23\n",
              "         no                    147\n",
              "         thinking_about_it      74\n",
              "         yes                   120\n",
              "over-61  don_t_care             12\n",
              "         no                     97\n",
              "         thinking_about_it      44\n",
              "         yes                    57\n",
              "unknown  don_t_care              5\n",
              "         no                     15\n",
              "         thinking_about_it       6\n",
              "         yes                    15\n",
              "Name: Do you support BBI, dtype: int64"
            ]
          },
          "metadata": {},
          "execution_count": 126
        }
      ]
    },
    {
      "cell_type": "code",
      "metadata": {
        "colab": {
          "base_uri": "https://localhost:8080/"
        },
        "id": "vz9g9hypLCB1",
        "outputId": "93aa2f1a-ef26-4820-97e0-b428c6d872ab"
      },
      "source": [
        "#monthly income support\n",
        "df_new.groupby([ \"Monthly Income (Kshs)\",\"Do you support BBI\"])[\"Do you support BBI\"].count()"
      ],
      "execution_count": null,
      "outputs": [
        {
          "output_type": "execute_result",
          "data": {
            "text/plain": [
              "Monthly Income (Kshs)  Do you support BBI\n",
              "0-11,000               don_t_care             174\n",
              "                       no                    1516\n",
              "                       thinking_about_it      617\n",
              "                       yes                    843\n",
              "100,001-200,000        don_t_care               4\n",
              "                       no                      13\n",
              "                       thinking_about_it        4\n",
              "                       yes                     22\n",
              "11,001-20,000          don_t_care              73\n",
              "                       no                     686\n",
              "                       thinking_about_it      302\n",
              "                       yes                    467\n",
              "20,001-50,000          don_t_care              50\n",
              "                       no                     344\n",
              "                       thinking_about_it      164\n",
              "                       yes                    254\n",
              "200,001-500,000        don_t_care               1\n",
              "                       no                       4\n",
              "50,001-100,000         don_t_care              16\n",
              "                       no                      72\n",
              "                       thinking_about_it       40\n",
              "                       yes                     64\n",
              "over,500,000           don_t_care               2\n",
              "                       no                       2\n",
              "                       thinking_about_it        1\n",
              "                       yes                      1\n",
              "Name: Do you support BBI, dtype: int64"
            ]
          },
          "metadata": {},
          "execution_count": 129
        }
      ]
    },
    {
      "cell_type": "code",
      "metadata": {
        "colab": {
          "base_uri": "https://localhost:8080/"
        },
        "id": "dr1yK2kvLxxC",
        "outputId": "e321b72b-c529-40aa-9075-ce23495e4488"
      },
      "source": [
        "#support basing on occupation\n",
        "df_new.groupby([ \"Occupation\",\"Do you support BBI\"])[\"Do you support BBI\"].count()"
      ],
      "execution_count": null,
      "outputs": [
        {
          "output_type": "execute_result",
          "data": {
            "text/plain": [
              "Occupation                      Do you support BBI\n",
              "business_owner__hotel_shop_kio  don_t_care             78\n",
              "                                no                    655\n",
              "                                thinking_about_it     276\n",
              "                                yes                   393\n",
              "cash_crop_farmer_commercial_fi  don_t_care             10\n",
              "                                no                    111\n",
              "                                thinking_about_it      65\n",
              "                                yes                   121\n",
              "formal_employment__teacher_acc  don_t_care             31\n",
              "                                no                    235\n",
              "                                thinking_about_it     115\n",
              "                                yes                   202\n",
              "hustler                         don_t_care             37\n",
              "                                no                    358\n",
              "                                thinking_about_it     123\n",
              "                                yes                   165\n",
              "informal_employment__jua_kali_  don_t_care             35\n",
              "                                no                    306\n",
              "                                thinking_about_it     120\n",
              "                                yes                   200\n",
              "other                           don_t_care             15\n",
              "                                no                     87\n",
              "                                thinking_about_it      49\n",
              "                                yes                    65\n",
              "subsistence_farmer_subsistence  don_t_care             26\n",
              "                                no                    233\n",
              "                                thinking_about_it      93\n",
              "                                yes                   122\n",
              "transport__matatu__lorry_boda_  don_t_care             33\n",
              "                                no                    335\n",
              "                                thinking_about_it     121\n",
              "                                yes                   214\n",
              "unemployed                      don_t_care             55\n",
              "                                no                    317\n",
              "                                thinking_about_it     166\n",
              "                                yes                   169\n",
              "Name: Do you support BBI, dtype: int64"
            ]
          },
          "metadata": {},
          "execution_count": 130
        }
      ]
    },
    {
      "cell_type": "code",
      "metadata": {
        "colab": {
          "base_uri": "https://localhost:8080/"
        },
        "id": "GTRAdLp0MHb2",
        "outputId": "7da96539-23b9-46a8-d671-d2f65d2e51ba"
      },
      "source": [
        "df_new.groupby([ \"Highest Level of Education Attained\",\"Do you support BBI\"])[\"Do you support BBI\"].count()"
      ],
      "execution_count": null,
      "outputs": [
        {
          "output_type": "execute_result",
          "data": {
            "text/plain": [
              "Highest Level of Education Attained  Do you support BBI\n",
              "certificate                          don_t_care             33\n",
              "                                     no                    247\n",
              "                                     thinking_about_it     155\n",
              "                                     yes                   177\n",
              "diploma                              don_t_care             53\n",
              "                                     no                    285\n",
              "                                     thinking_about_it     189\n",
              "                                     yes                   210\n",
              "kcpe                                 don_t_care             66\n",
              "                                     no                    709\n",
              "                                     thinking_about_it     248\n",
              "                                     yes                   406\n",
              "kcse                                 don_t_care             96\n",
              "                                     no                    965\n",
              "                                     thinking_about_it     381\n",
              "                                     yes                   600\n",
              "none                                 don_t_care             32\n",
              "                                     no                    164\n",
              "                                     thinking_about_it      40\n",
              "                                     yes                    80\n",
              "postgraduate                         don_t_care              9\n",
              "                                     no                     49\n",
              "                                     thinking_about_it       7\n",
              "                                     yes                    34\n",
              "undergraduate                        don_t_care             31\n",
              "                                     no                    218\n",
              "                                     thinking_about_it     108\n",
              "                                     yes                   144\n",
              "Name: Do you support BBI, dtype: int64"
            ]
          },
          "metadata": {},
          "execution_count": 131
        }
      ]
    },
    {
      "cell_type": "code",
      "metadata": {
        "colab": {
          "base_uri": "https://localhost:8080/",
          "height": 300
        },
        "id": "5729pG15U6FU",
        "outputId": "47ddfe2d-52a3-43f0-958c-93ee306584ff"
      },
      "source": [
        "#visualization \n",
        "plt.bar(df['Gender'], df['Do you support BBI']=='yes')\n",
        "\n",
        "plt.title('Gender Vs Do you support BBI', fontsize=14)\n",
        "plt.ylabel('Do you support BBI', fontsize=14)\n",
        "plt.xlabel('Gender', fontsize=14)\n",
        "plt.grid(False)\n",
        "plt.show()"
      ],
      "execution_count": null,
      "outputs": [
        {
          "output_type": "display_data",
          "data": {
            "image/png": "[encoded data removed]",
            "text/plain": [
              "<Figure size 432x288 with 1 Axes>"
            ]
          },
          "metadata": {
            "tags": [],
            "needs_background": "light"
          }
        }
      ]
    },
    {
      "cell_type": "code",
      "metadata": {
        "colab": {
          "base_uri": "https://localhost:8080/",
          "height": 237
        },
        "id": "-SNnLsybYk3R",
        "outputId": "20ee1b2a-8aa8-44c6-c55d-a3ce31e8fc32"
      },
      "source": [
        "x = [df_new['Do you support BBI'].unique()]\n",
        "y1 = df['Gender']=='male'.sum()\n",
        "y2 = df['Gender']=='female'.sum()\n",
        "y3 = df['Gender']=='other'.sum()\n",
        "\n",
        "  \n",
        "# plot bars in stack manner\n",
        "plt.bar(x, y1, color='r')\n",
        "plt.bar(x, y2, bottom=y1, color='b')\n",
        "plt.bar(x, y3, bottom=y1+y2, color='y')\n",
        "\n",
        "# plt.xlabel(\"Teams\")\n",
        "# plt.ylabel(\"Score\")\n",
        "# plt.legend([\"Round 1\", \"Round 2\", \"Round 3\", \"Round 4\"])\n",
        "plt.title(\"Scores by Teams in 4 Rounds\")\n",
        "plt.show()"
      ],
      "execution_count": null,
      "outputs": [
        {
          "output_type": "error",
          "ename": "AttributeError",
          "evalue": "ignored",
          "traceback": [
            "\u001b[0;31m---------------------------------------------------------------------------\u001b[0m",
            "\u001b[0;31mAttributeError\u001b[0m                            Traceback (most recent call last)",
            "\u001b[0;32m<ipython-input-160-bb83d2f55364>\u001b[0m in \u001b[0;36m<module>\u001b[0;34m()\u001b[0m\n\u001b[1;32m      1\u001b[0m \u001b[0mx\u001b[0m \u001b[0;34m=\u001b[0m \u001b[0;34m[\u001b[0m\u001b[0mdf_new\u001b[0m\u001b[0;34m[\u001b[0m\u001b[0;34m'Do you support BBI'\u001b[0m\u001b[0;34m]\u001b[0m\u001b[0;34m.\u001b[0m\u001b[0munique\u001b[0m\u001b[0;34m(\u001b[0m\u001b[0;34m)\u001b[0m\u001b[0;34m]\u001b[0m\u001b[0;34m\u001b[0m\u001b[0;34m\u001b[0m\u001b[0m\n\u001b[0;32m----> 2\u001b[0;31m \u001b[0my1\u001b[0m \u001b[0;34m=\u001b[0m \u001b[0mdf\u001b[0m\u001b[0;34m[\u001b[0m\u001b[0;34m'Gender'\u001b[0m\u001b[0;34m]\u001b[0m\u001b[0;34m==\u001b[0m\u001b[0;34m'male'\u001b[0m\u001b[0;34m.\u001b[0m\u001b[0msum\u001b[0m\u001b[0;34m(\u001b[0m\u001b[0;34m)\u001b[0m\u001b[0;34m\u001b[0m\u001b[0;34m\u001b[0m\u001b[0m\n\u001b[0m\u001b[1;32m      3\u001b[0m \u001b[0my2\u001b[0m \u001b[0;34m=\u001b[0m \u001b[0mdf\u001b[0m\u001b[0;34m[\u001b[0m\u001b[0;34m'Gender'\u001b[0m\u001b[0;34m]\u001b[0m\u001b[0;34m==\u001b[0m\u001b[0;34m'female'\u001b[0m\u001b[0;34m.\u001b[0m\u001b[0msum\u001b[0m\u001b[0;34m(\u001b[0m\u001b[0;34m)\u001b[0m\u001b[0;34m\u001b[0m\u001b[0;34m\u001b[0m\u001b[0m\n\u001b[1;32m      4\u001b[0m \u001b[0my3\u001b[0m \u001b[0;34m=\u001b[0m \u001b[0mdf\u001b[0m\u001b[0;34m[\u001b[0m\u001b[0;34m'Gender'\u001b[0m\u001b[0;34m]\u001b[0m\u001b[0;34m==\u001b[0m\u001b[0;34m'other'\u001b[0m\u001b[0;34m.\u001b[0m\u001b[0msum\u001b[0m\u001b[0;34m(\u001b[0m\u001b[0;34m)\u001b[0m\u001b[0;34m\u001b[0m\u001b[0;34m\u001b[0m\u001b[0m\n\u001b[1;32m      5\u001b[0m \u001b[0;34m\u001b[0m\u001b[0m\n",
            "\u001b[0;31mAttributeError\u001b[0m: 'str' object has no attribute 'sum'"
          ]
        }
      ]
    },
    {
      "cell_type": "code",
      "metadata": {
        "colab": {
          "base_uri": "https://localhost:8080/"
        },
        "id": "euU4ODdcaEvV",
        "outputId": "a2efa998-bd14-4ac0-c924-15202d88b06f"
      },
      "source": [
        "y2 = df_new['Gender']=='female'\n",
        "y2.sum()\n",
        "\n"
      ],
      "execution_count": null,
      "outputs": [
        {
          "output_type": "execute_result",
          "data": {
            "text/plain": [
              "2350"
            ]
          },
          "metadata": {
            "tags": []
          },
          "execution_count": 171
        }
      ]
    },
    {
      "cell_type": "code",
      "metadata": {
        "colab": {
          "base_uri": "https://localhost:8080/"
        },
        "id": "0gkRVUwSOMVv",
        "outputId": "0c5ebf9d-c9e0-48fe-fd75-ebda65759fb9"
      },
      "source": [
        "df_new['Will you vote in the Refere'].unique()"
      ],
      "execution_count": null,
      "outputs": [
        {
          "output_type": "execute_result",
          "data": {
            "text/plain": [
              "array(['undecided', 'no', 'yes', 'other'], dtype=object)"
            ]
          },
          "metadata": {},
          "execution_count": 133
        }
      ]
    },
    {
      "cell_type": "code",
      "metadata": {
        "id": "tOYsTGTAsMW2"
      },
      "source": [
        "# Will a voter  participate in a referendum & how they would vote?\n",
        "def voting( variable):\n",
        "  vote = df_new[\"Will you vote in the Refere\"] == variable\n",
        "  if variable == 'yes' or 'no' or 'undecided'or 'other':\n",
        "    return vote.sum()"
      ],
      "execution_count": null,
      "outputs": []
    },
    {
      "cell_type": "code",
      "metadata": {
        "colab": {
          "base_uri": "https://localhost:8080/"
        },
        "id": "X6voatGmOamY",
        "outputId": "326a783e-2435-4622-8c9b-e1a474eb3511"
      },
      "source": [
        "#those who will vote\n",
        "voting('yes')"
      ],
      "execution_count": null,
      "outputs": [
        {
          "output_type": "execute_result",
          "data": {
            "text/plain": [
              "2572"
            ]
          },
          "metadata": {},
          "execution_count": 135
        }
      ]
    },
    {
      "cell_type": "code",
      "metadata": {
        "colab": {
          "base_uri": "https://localhost:8080/"
        },
        "id": "1SuAR8viOeOt",
        "outputId": "623dcec6-cb2d-4421-b545-2ee0a79c5c7a"
      },
      "source": [
        "# those not decide to vote\n",
        "voting('undecided')"
      ],
      "execution_count": null,
      "outputs": [
        {
          "output_type": "execute_result",
          "data": {
            "text/plain": [
              "1678"
            ]
          },
          "metadata": {},
          "execution_count": 136
        }
      ]
    },
    {
      "cell_type": "code",
      "metadata": {
        "colab": {
          "base_uri": "https://localhost:8080/"
        },
        "id": "LGsuxlcPOkA3",
        "outputId": "3a842319-9511-4aa8-c0ac-a4d01f593848"
      },
      "source": [
        "#those who will not vote\n",
        "voting('no')"
      ],
      "execution_count": null,
      "outputs": [
        {
          "output_type": "execute_result",
          "data": {
            "text/plain": [
              "1377"
            ]
          },
          "metadata": {},
          "execution_count": 137
        }
      ]
    },
    {
      "cell_type": "code",
      "metadata": {
        "colab": {
          "base_uri": "https://localhost:8080/"
        },
        "id": "v1eWPj_8Onwe",
        "outputId": "ab913f13-c5cd-48e1-8ff4-bac7951198bf"
      },
      "source": [
        "#others \n",
        "voting('other')"
      ],
      "execution_count": null,
      "outputs": [
        {
          "output_type": "execute_result",
          "data": {
            "text/plain": [
              "109"
            ]
          },
          "metadata": {},
          "execution_count": 138
        }
      ]
    },
    {
      "cell_type": "code",
      "metadata": {
        "colab": {
          "base_uri": "https://localhost:8080/"
        },
        "id": "Kx2MtOSNQHnn",
        "outputId": "3fd5e325-fd54-46c5-e04f-b42adea58e41"
      },
      "source": [
        "df_new['How will you vote in the Referendum'].unique()"
      ],
      "execution_count": null,
      "outputs": [
        {
          "output_type": "execute_result",
          "data": {
            "text/plain": [
              "array(['still_deciding', 'yes__for_it', 'no__against_it',\n",
              "       'i_will_not_vote'], dtype=object)"
            ]
          },
          "metadata": {},
          "execution_count": 140
        }
      ]
    },
    {
      "cell_type": "code",
      "metadata": {
        "id": "QjVAMNCuPs0Z"
      },
      "source": [
        "#How will they vote in referundum\n",
        "def Howillvote( variable):\n",
        "  vote = df_new[\"How will you vote in the Referendum\"] == variable\n",
        "  if variable == 'yes__for_it' or 'no__against_it' or 'still_deciding'or 'i_will_not_vote':\n",
        "    return vote.sum()"
      ],
      "execution_count": null,
      "outputs": []
    },
    {
      "cell_type": "code",
      "metadata": {
        "colab": {
          "base_uri": "https://localhost:8080/"
        },
        "id": "zCEI_H9rRExi",
        "outputId": "c1b5886c-d8e3-49d3-bffd-8dc0fd292912"
      },
      "source": [
        "#those voting for it.\n",
        "Howillvote('yes__for_it')"
      ],
      "execution_count": null,
      "outputs": [
        {
          "output_type": "execute_result",
          "data": {
            "text/plain": [
              "1499"
            ]
          },
          "metadata": {},
          "execution_count": 144
        }
      ]
    },
    {
      "cell_type": "code",
      "metadata": {
        "colab": {
          "base_uri": "https://localhost:8080/"
        },
        "id": "XvjibuBlRgB4",
        "outputId": "9f28491d-cd4d-4805-de2f-1eef252f9641"
      },
      "source": [
        "#those who will not vote\n",
        "Howillvote('no__against_it')"
      ],
      "execution_count": null,
      "outputs": [
        {
          "output_type": "execute_result",
          "data": {
            "text/plain": [
              "1143"
            ]
          },
          "metadata": {},
          "execution_count": 145
        }
      ]
    },
    {
      "cell_type": "code",
      "metadata": {
        "colab": {
          "base_uri": "https://localhost:8080/"
        },
        "id": "PeknjJfISAVz",
        "outputId": "d915fb75-9c23-4aca-d7ab-7d2d60db172f"
      },
      "source": [
        "#those still deciding\n",
        "Howillvote('still_deciding')"
      ],
      "execution_count": null,
      "outputs": [
        {
          "output_type": "execute_result",
          "data": {
            "text/plain": [
              "2033"
            ]
          },
          "metadata": {},
          "execution_count": 146
        }
      ]
    },
    {
      "cell_type": "code",
      "metadata": {
        "colab": {
          "base_uri": "https://localhost:8080/"
        },
        "id": "ayNPj-NeSJTZ",
        "outputId": "f2c4e337-089a-4297-cab7-8664f516bd85"
      },
      "source": [
        "#those who will completely  not vote\n",
        "Howillvote('i_will_not_vote')"
      ],
      "execution_count": null,
      "outputs": [
        {
          "output_type": "execute_result",
          "data": {
            "text/plain": [
              "1061"
            ]
          },
          "metadata": {},
          "execution_count": 147
        }
      ]
    },
    {
      "cell_type": "code",
      "metadata": {
        "id": "SNBxfQfHg0f9"
      },
      "source": [
        "Hustlers= df_new.loc[(df['Do you support the Hustler Nation'] == 'yes')]\n",
        "hustlerSupport=Hustlers.groupby('If elections are today who would you vote for')[['Do you support the Hustler Nation']].count()\n",
        "hustlerSupport['Do you support the Hustler Nation']"
      ],
      "execution_count": null,
      "outputs": []
    },
    {
      "cell_type": "code",
      "metadata": {
        "colab": {
          "base_uri": "https://localhost:8080/"
        },
        "id": "c7cGPoxsUGXO",
        "outputId": "b0cb1f4c-39bf-4bf6-d4f3-996383e42b5a"
      },
      "source": [
        "df_new.groupby([ \"Will you vote in the Refere\",\"How will you vote in the Referendum\"])[\"Will you vote in the Refere\"].count()"
      ],
      "execution_count": null,
      "outputs": [
        {
          "output_type": "execute_result",
          "data": {
            "text/plain": [
              "Will you vote in the Refere  How will you vote in the Referendum\n",
              "no                           i_will_not_vote                         936\n",
              "                             no__against_it                          327\n",
              "                             still_deciding                           99\n",
              "                             yes__for_it                              15\n",
              "other                        i_will_not_vote                          21\n",
              "                             no__against_it                           17\n",
              "                             still_deciding                           64\n",
              "                             yes__for_it                               7\n",
              "undecided                    i_will_not_vote                          86\n",
              "                             no__against_it                          101\n",
              "                             still_deciding                         1418\n",
              "                             yes__for_it                              73\n",
              "yes                          i_will_not_vote                          18\n",
              "                             no__against_it                          698\n",
              "                             still_deciding                          452\n",
              "                             yes__for_it                            1404\n",
              "Name: Will you vote in the Refere, dtype: int64"
            ]
          },
          "metadata": {},
          "execution_count": 149
        }
      ]
    },
    {
      "cell_type": "code",
      "metadata": {
        "colab": {
          "base_uri": "https://localhost:8080/"
        },
        "id": "xlpPEgjXM-Bj",
        "outputId": "2262c68f-aca0-463b-aa86-c3dafc5e94d1"
      },
      "source": [
        "# How are Kenyans who voted in 2017 likely to vote in the referendum?\n",
        "df_new.groupby([ \"Did you vote in 2017\",\"Will you vote in the Refere\"])[\"Did you vote in 2017\"].count()"
      ],
      "execution_count": null,
      "outputs": [
        {
          "output_type": "execute_result",
          "data": {
            "text/plain": [
              "Did you vote in 2017  Will you vote in the Refere\n",
              "no                    no                              395\n",
              "                      other                            29\n",
              "                      undecided                       349\n",
              "                      yes                             469\n",
              "yes                   no                              982\n",
              "                      other                            80\n",
              "                      undecided                      1329\n",
              "                      yes                            2103\n",
              "Name: Did you vote in 2017, dtype: int64"
            ]
          },
          "metadata": {},
          "execution_count": 151
        }
      ]
    },
    {
      "cell_type": "code",
      "metadata": {
        "colab": {
          "base_uri": "https://localhost:8080/"
        },
        "id": "jPK15Eu7WUoN",
        "outputId": "4c382e39-55b0-4cbb-9bb7-213b91b92eb2"
      },
      "source": [
        "df_new.groupby([ \"Did you vote in 2017\",\"How will you vote in the Referendum\"])[\"Did you vote in 2017\"].count()"
      ],
      "execution_count": null,
      "outputs": [
        {
          "output_type": "execute_result",
          "data": {
            "text/plain": [
              "Did you vote in 2017  How will you vote in the Referendum\n",
              "no                    i_will_not_vote                         321\n",
              "                      no__against_it                          197\n",
              "                      still_deciding                          442\n",
              "                      yes__for_it                             282\n",
              "yes                   i_will_not_vote                         740\n",
              "                      no__against_it                          946\n",
              "                      still_deciding                         1591\n",
              "                      yes__for_it                            1217\n",
              "Name: Did you vote in 2017, dtype: int64"
            ]
          },
          "metadata": {},
          "execution_count": 152
        }
      ]
    },
    {
      "cell_type": "code",
      "metadata": {
        "colab": {
          "base_uri": "https://localhost:8080/"
        },
        "id": "ipJDeHMJNJBM",
        "outputId": "4e099ea0-f913-4fef-8d4e-0f01a8a74290"
      },
      "source": [
        "# Does the BBI or Hustler Nation support influence voter preference in 2022?\n",
        "#yes supporting BBI and If elections are today who would you vote for\n",
        "BBIs= df_new.loc[(df['Do you support BBI'] == 'yes')]\n",
        "bbiSupport=BBIs.groupby('If elections are today who would you vote for')[['Do you support BBI']].count()\n",
        "bbiSupport['Do you support BBI']"
      ],
      "execution_count": null,
      "outputs": [
        {
          "output_type": "execute_result",
          "data": {
            "text/plain": [
              "If elections are today who would you vote for\n",
              "fred_matiangi        69\n",
              "gideon_moi           27\n",
              "kalonzo_musyoka      56\n",
              "martha_karua         16\n",
              "musalia_mudavadi     99\n",
              "none                155\n",
              "peter_kenneth        25\n",
              "raila_odinga        784\n",
              "william_ruto        420\n",
              "Name: Do you support BBI, dtype: int64"
            ]
          },
          "metadata": {},
          "execution_count": 172
        }
      ]
    },
    {
      "cell_type": "code",
      "metadata": {
        "colab": {
          "base_uri": "https://localhost:8080/"
        },
        "id": "LHXntHUqYHNC",
        "outputId": "4fa08ef4-906d-4801-f3dc-abd7618be664"
      },
      "source": [
        "#supporting hustler nation and if election were to be held they will vote for who.\n",
        "Hustlers= df_new.loc[(df['Do you support the Hustler Nation'] == 'yes')]\n",
        "hustlerSupport=Hustlers.groupby('If elections are today who would you vote for')[['Do you support the Hustler Nation']].count()\n",
        "hustlerSupport['Do you support the Hustler Nation']"
      ],
      "execution_count": null,
      "outputs": [
        {
          "output_type": "execute_result",
          "data": {
            "text/plain": [
              "If elections are today who would you vote for\n",
              "fred_matiangi         54\n",
              "gideon_moi            22\n",
              "kalonzo_musyoka       36\n",
              "martha_karua          25\n",
              "musalia_mudavadi     104\n",
              "none                 199\n",
              "peter_kenneth         24\n",
              "raila_odinga         221\n",
              "william_ruto        2063\n",
              "Name: Do you support the Hustler Nation, dtype: int64"
            ]
          },
          "metadata": {},
          "execution_count": 169
        }
      ]
    }
  ]
}