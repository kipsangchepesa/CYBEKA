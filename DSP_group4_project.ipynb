{
  "nbformat": 4,
  "nbformat_minor": 0,
  "metadata": {
    "colab": {
      "name": "DSP group4 project",
      "provenance": [],
      "include_colab_link": true
    },
    "kernelspec": {
      "name": "python3",
      "display_name": "Python 3"
    },
    "language_info": {
      "name": "python"
    }
  },
  "cells": [
    {
      "cell_type": "markdown",
      "metadata": {
        "id": "view-in-github",
        "colab_type": "text"
      },
      "source": [
        "<a href=\"https://colab.research.google.com/github/kipsangchepesa/CYBEKA/blob/main/DSP_group4_project.ipynb\" target=\"_parent\"><img src=\"https://colab.research.google.com/assets/colab-badge.svg\" alt=\"Open In Colab\"/></a>"
      ]
    },
    {
      "cell_type": "markdown",
      "metadata": {
        "id": "Mi5mi37mzQ6p"
      },
      "source": [
        "# **Importing Libraries**"
      ]
    },
    {
      "cell_type": "code",
      "metadata": {
        "id": "iWYAGbw1zJr2"
      },
      "source": [
        "#Here we import the libraries we will use in the project\n",
        "\n",
        "import pandas as pd\n",
        "import numpy as np\n",
        "import matplotlib.pyplot as plt\n",
        "import seaborn as sns"
      ],
      "execution_count": null,
      "outputs": []
    },
    {
      "cell_type": "markdown",
      "metadata": {
        "id": "AT9mfwNsz2LY"
      },
      "source": [
        "# **Reading Data from our xlsx file**"
      ]
    },
    {
      "cell_type": "code",
      "metadata": {
        "colab": {
          "base_uri": "https://localhost:8080/"
        },
        "id": "JKZ6rHKUz9he",
        "outputId": "97936c50-0e5e-4024-ce72-a1741a01160c"
      },
      "source": [
        "# Let's read the data from the excel file and create the dataframe we will use\n",
        "\n",
        "df = pd.read_excel(\"/content/data v2.xlsx\") \n",
        "df.head(3)"
      ],
      "execution_count": null,
      "outputs": [
        {
          "output_type": "execute_result",
          "data": {
            "text/html": [
              "<div>\n",
              "<style scoped>\n",
              "    .dataframe tbody tr th:only-of-type {\n",
              "        vertical-align: middle;\n",
              "    }\n",
              "\n",
              "    .dataframe tbody tr th {\n",
              "        vertical-align: top;\n",
              "    }\n",
              "\n",
              "    .dataframe thead th {\n",
              "        text-align: right;\n",
              "    }\n",
              "</style>\n",
              "<table border=\"1\" class=\"dataframe\">\n",
              "  <thead>\n",
              "    <tr style=\"text-align: right;\">\n",
              "      <th></th>\n",
              "      <th>start</th>\n",
              "      <th>end</th>\n",
              "      <th>time</th>\n",
              "      <th>minutes</th>\n",
              "      <th>Insert_Geotag_Location</th>\n",
              "      <th>_Insert_Geotag_Location_latitude</th>\n",
              "      <th>_Insert_Geotag_Location_longitude</th>\n",
              "      <th>_Insert_Geotag_Location_altitude</th>\n",
              "      <th>_Insert_Geotag_Location_precision</th>\n",
              "      <th>Name_of_Enumerator</th>\n",
              "      <th>County</th>\n",
              "      <th>_1_Age</th>\n",
              "      <th>_2_Gender</th>\n",
              "      <th>_3_Monthly_Income</th>\n",
              "      <th>_4_Highest_Level_of_Education_Attained</th>\n",
              "      <th>_5_Occupation</th>\n",
              "      <th>_6_Location</th>\n",
              "      <th>_7_Did_you_vote_in_2017</th>\n",
              "      <th>_8_Will_you_vote_in_the_Refere</th>\n",
              "      <th>_9_If_No_Why</th>\n",
              "      <th>_10_How_will_you_vote_in_the_Referendum</th>\n",
              "      <th>_11_If_elections_are_o_would_you_vote_for</th>\n",
              "      <th>_12_If_you_don_t_vot_s_your_second_choice</th>\n",
              "      <th>_13_Do_you_support_BBI</th>\n",
              "      <th>_14_Do_you_know_what_BBI_wants_to_change</th>\n",
              "      <th>_15_Do_you_support_the_Hustler_Nation</th>\n",
              "      <th>_16_Do_you_think_the_ake_brought_us_peace</th>\n",
              "      <th>_17_Who_has_influenc_st_in_your_community</th>\n",
              "      <th>_18_Do_you_trust_your_political_leaders</th>\n",
              "      <th>_19_Do_you_trust_your_religious_leaders</th>\n",
              "      <th>_20_Do_you_trust_your_elders</th>\n",
              "      <th>_21_Where_do_you_get_your_News_from</th>\n",
              "      <th>_22_Have_you_understood_BBI_completely</th>\n",
              "      <th>_23_Will_you_vote_in_2022</th>\n",
              "      <th>__version__</th>\n",
              "      <th>meta/instanceID</th>\n",
              "      <th>_id</th>\n",
              "      <th>_uuid</th>\n",
              "      <th>_submission_time</th>\n",
              "      <th>_index</th>\n",
              "      <th>_parent_table_name</th>\n",
              "      <th>_parent_index</th>\n",
              "      <th>_tags</th>\n",
              "      <th>_notes</th>\n",
              "    </tr>\n",
              "  </thead>\n",
              "  <tbody>\n",
              "    <tr>\n",
              "      <th>0</th>\n",
              "      <td>2021-05-06T09:50:26.433+03:00</td>\n",
              "      <td>2021-05-09T14:07:55.548+03:00</td>\n",
              "      <td>76.291389</td>\n",
              "      <td>4577.483333</td>\n",
              "      <td>0.8350286 34.8646938 1761.797294187769 4.98</td>\n",
              "      <td>0.835029</td>\n",
              "      <td>34.864694</td>\n",
              "      <td>1761.797294</td>\n",
              "      <td>4.980</td>\n",
              "      <td>Daniel Odhiambo</td>\n",
              "      <td>trans_nzoia</td>\n",
              "      <td>25_30</td>\n",
              "      <td>male</td>\n",
              "      <td>kshs_0___11_000</td>\n",
              "      <td>kcpe</td>\n",
              "      <td>hustler</td>\n",
              "      <td>urban</td>\n",
              "      <td>yes</td>\n",
              "      <td>undecided</td>\n",
              "      <td>NaN</td>\n",
              "      <td>still_deciding</td>\n",
              "      <td>raila_odinga</td>\n",
              "      <td>none</td>\n",
              "      <td>thinking_about_it</td>\n",
              "      <td>yes</td>\n",
              "      <td>no_response</td>\n",
              "      <td>no_response</td>\n",
              "      <td>no_one</td>\n",
              "      <td>rarely</td>\n",
              "      <td>never</td>\n",
              "      <td>often</td>\n",
              "      <td>tv</td>\n",
              "      <td>i_don_t_care</td>\n",
              "      <td>response</td>\n",
              "      <td>vxmXBDYW6jJgGL4WrvTb5f</td>\n",
              "      <td>uuid:4ad44fb2-a429-4e7d-a8f1-c367f3068bbb</td>\n",
              "      <td>176970084</td>\n",
              "      <td>4ad44fb2-a429-4e7d-a8f1-c367f3068bbb</td>\n",
              "      <td>2021-05-09T18:30:11</td>\n",
              "      <td>4995</td>\n",
              "      <td>NaN</td>\n",
              "      <td>-1</td>\n",
              "      <td>NaN</td>\n",
              "      <td>NaN</td>\n",
              "    </tr>\n",
              "    <tr>\n",
              "      <th>1</th>\n",
              "      <td>2021-05-05T20:41:15.214+03:00</td>\n",
              "      <td>2021-05-08T11:33:45.347+03:00</td>\n",
              "      <td>62.875000</td>\n",
              "      <td>3772.500000</td>\n",
              "      <td>-4.0286687 39.6323594 24.303734045012625 4.78</td>\n",
              "      <td>-4.028669</td>\n",
              "      <td>39.632359</td>\n",
              "      <td>24.303734</td>\n",
              "      <td>4.780</td>\n",
              "      <td>Joshua</td>\n",
              "      <td>mombasa</td>\n",
              "      <td>25_30</td>\n",
              "      <td>male</td>\n",
              "      <td>kshs_11_001__20_000</td>\n",
              "      <td>kcpe</td>\n",
              "      <td>business_owner__hotel_shop_kio</td>\n",
              "      <td>peri_urban</td>\n",
              "      <td>yes</td>\n",
              "      <td>no</td>\n",
              "      <td>i_do_not_understand_bbi</td>\n",
              "      <td>still_deciding</td>\n",
              "      <td>kalonzo_musyoka</td>\n",
              "      <td>musalia_mudavadi</td>\n",
              "      <td>thinking_about_it</td>\n",
              "      <td>no</td>\n",
              "      <td>no</td>\n",
              "      <td>yes</td>\n",
              "      <td>mcas</td>\n",
              "      <td>rarely</td>\n",
              "      <td>rarely</td>\n",
              "      <td>rarely</td>\n",
              "      <td>radio</td>\n",
              "      <td>no</td>\n",
              "      <td>yes</td>\n",
              "      <td>vxmXBDYW6jJgGL4WrvTb5f</td>\n",
              "      <td>uuid:a58205f0-1b13-42a0-878b-cb5c1005cda4</td>\n",
              "      <td>176799145</td>\n",
              "      <td>a58205f0-1b13-42a0-878b-cb5c1005cda4</td>\n",
              "      <td>2021-05-08T16:11:33</td>\n",
              "      <td>1240</td>\n",
              "      <td>NaN</td>\n",
              "      <td>-1</td>\n",
              "      <td>NaN</td>\n",
              "      <td>NaN</td>\n",
              "    </tr>\n",
              "    <tr>\n",
              "      <th>2</th>\n",
              "      <td>2021-05-07T10:23:20.976+03:00</td>\n",
              "      <td>2021-05-09T12:34:56.000+03:00</td>\n",
              "      <td>50.193333</td>\n",
              "      <td>3011.600000</td>\n",
              "      <td>-1.3683735 38.0084957 1126.6824783361062 4.921</td>\n",
              "      <td>-1.368373</td>\n",
              "      <td>38.008496</td>\n",
              "      <td>1126.682478</td>\n",
              "      <td>4.921</td>\n",
              "      <td>Brenda Njue</td>\n",
              "      <td>kitui</td>\n",
              "      <td>25_30</td>\n",
              "      <td>female</td>\n",
              "      <td>kshs_20_001__50_000</td>\n",
              "      <td>diploma</td>\n",
              "      <td>formal_employment__teacher_acc</td>\n",
              "      <td>urban</td>\n",
              "      <td>yes</td>\n",
              "      <td>yes</td>\n",
              "      <td>NaN</td>\n",
              "      <td>yes__for_it</td>\n",
              "      <td>raila_odinga</td>\n",
              "      <td>musalia_mudavadi</td>\n",
              "      <td>yes</td>\n",
              "      <td>yes</td>\n",
              "      <td>no</td>\n",
              "      <td>yes</td>\n",
              "      <td>no_one</td>\n",
              "      <td>sometimes</td>\n",
              "      <td>often</td>\n",
              "      <td>always</td>\n",
              "      <td>tv</td>\n",
              "      <td>yes</td>\n",
              "      <td>yes</td>\n",
              "      <td>vxmXBDYW6jJgGL4WrvTb5f</td>\n",
              "      <td>uuid:ad50c639-f6ee-48c7-9496-fa4392073bdb</td>\n",
              "      <td>176894163</td>\n",
              "      <td>ad50c639-f6ee-48c7-9496-fa4392073bdb</td>\n",
              "      <td>2021-05-09T09:39:31</td>\n",
              "      <td>728</td>\n",
              "      <td>NaN</td>\n",
              "      <td>-1</td>\n",
              "      <td>NaN</td>\n",
              "      <td>NaN</td>\n",
              "    </tr>\n",
              "  </tbody>\n",
              "</table>\n",
              "</div>"
            ],
            "text/plain": [
              "                           start                            end  ...  _tags  _notes\n",
              "0  2021-05-06T09:50:26.433+03:00  2021-05-09T14:07:55.548+03:00  ...    NaN     NaN\n",
              "1  2021-05-05T20:41:15.214+03:00  2021-05-08T11:33:45.347+03:00  ...    NaN     NaN\n",
              "2  2021-05-07T10:23:20.976+03:00  2021-05-09T12:34:56.000+03:00  ...    NaN     NaN\n",
              "\n",
              "[3 rows x 44 columns]"
            ]
          },
          "metadata": {
            "tags": []
          },
          "execution_count": 3
        }
      ]
    },
    {
      "cell_type": "markdown",
      "metadata": {
        "id": "CM3oHv2x16_X"
      },
      "source": [
        "# **Accessing information about our Dataset**"
      ]
    },
    {
      "cell_type": "code",
      "metadata": {
        "colab": {
          "base_uri": "https://localhost:8080/"
        },
        "id": "hdzom7K51YeQ",
        "outputId": "1a57d9d3-eb0d-470a-f441-5e7bc0c4c7ae"
      },
      "source": [
        "#getting to know more about the dataset\n",
        "def shep(data):\n",
        "  shape= df.shape\n",
        "  return shape\n",
        "\n",
        "shep(df)  "
      ],
      "execution_count": null,
      "outputs": [
        {
          "output_type": "execute_result",
          "data": {
            "text/plain": [
              "(5736, 44)"
            ]
          },
          "metadata": {
            "tags": []
          },
          "execution_count": 4
        }
      ]
    },
    {
      "cell_type": "code",
      "metadata": {
        "colab": {
          "base_uri": "https://localhost:8080/"
        },
        "id": "fgnRLJ-s89S2",
        "outputId": "3049c57c-9c95-4d0c-b45e-b3a7447d8d3f"
      },
      "source": [
        "#accesing dataset information\n",
        "def inf(data):\n",
        "  info=df.info()\n",
        "  return info\n",
        "\n",
        "inf(df)  "
      ],
      "execution_count": null,
      "outputs": [
        {
          "output_type": "stream",
          "text": [
            "<class 'pandas.core.frame.DataFrame'>\n",
            "RangeIndex: 5736 entries, 0 to 5735\n",
            "Data columns (total 44 columns):\n",
            " #   Column                                     Non-Null Count  Dtype  \n",
            "---  ------                                     --------------  -----  \n",
            " 0   start                                      5736 non-null   object \n",
            " 1   end                                        5736 non-null   object \n",
            " 2   time                                       5736 non-null   float64\n",
            " 3   minutes                                    5736 non-null   float64\n",
            " 4   Insert_Geotag_Location                     5736 non-null   object \n",
            " 5   _Insert_Geotag_Location_latitude           5736 non-null   float64\n",
            " 6   _Insert_Geotag_Location_longitude          5736 non-null   float64\n",
            " 7   _Insert_Geotag_Location_altitude           5736 non-null   float64\n",
            " 8   _Insert_Geotag_Location_precision          5736 non-null   float64\n",
            " 9   Name_of_Enumerator                         5736 non-null   object \n",
            " 10  County                                     5736 non-null   object \n",
            " 11  _1_Age                                     5736 non-null   object \n",
            " 12  _2_Gender                                  5736 non-null   object \n",
            " 13  _3_Monthly_Income                          5736 non-null   object \n",
            " 14  _4_Highest_Level_of_Education_Attained     5736 non-null   object \n",
            " 15  _5_Occupation                              5736 non-null   object \n",
            " 16  _6_Location                                5736 non-null   object \n",
            " 17  _7_Did_you_vote_in_2017                    5736 non-null   object \n",
            " 18  _8_Will_you_vote_in_the_Refere             5736 non-null   object \n",
            " 19  _9_If_No_Why                               1377 non-null   object \n",
            " 20  _10_How_will_you_vote_in_the_Referendum    5736 non-null   object \n",
            " 21  _11_If_elections_are_o_would_you_vote_for  5736 non-null   object \n",
            " 22  _12_If_you_don_t_vot_s_your_second_choice  5736 non-null   object \n",
            " 23  _13_Do_you_support_BBI                     5736 non-null   object \n",
            " 24  _14_Do_you_know_what_BBI_wants_to_change   5736 non-null   object \n",
            " 25  _15_Do_you_support_the_Hustler_Nation      5736 non-null   object \n",
            " 26  _16_Do_you_think_the_ake_brought_us_peace  5736 non-null   object \n",
            " 27  _17_Who_has_influenc_st_in_your_community  5736 non-null   object \n",
            " 28  _18_Do_you_trust_your_political_leaders    5736 non-null   object \n",
            " 29  _19_Do_you_trust_your_religious_leaders    5736 non-null   object \n",
            " 30  _20_Do_you_trust_your_elders               5736 non-null   object \n",
            " 31  _21_Where_do_you_get_your_News_from        5736 non-null   object \n",
            " 32  _22_Have_you_understood_BBI_completely     5736 non-null   object \n",
            " 33  _23_Will_you_vote_in_2022                  5736 non-null   object \n",
            " 34  __version__                                5736 non-null   object \n",
            " 35  meta/instanceID                            5736 non-null   object \n",
            " 36  _id                                        5736 non-null   int64  \n",
            " 37  _uuid                                      5736 non-null   object \n",
            " 38  _submission_time                           5736 non-null   object \n",
            " 39  _index                                     5736 non-null   int64  \n",
            " 40  _parent_table_name                         0 non-null      float64\n",
            " 41  _parent_index                              5736 non-null   int64  \n",
            " 42  _tags                                      0 non-null      float64\n",
            " 43  _notes                                     0 non-null      float64\n",
            "dtypes: float64(9), int64(3), object(32)\n",
            "memory usage: 1.9+ MB\n"
          ],
          "name": "stdout"
        }
      ]
    },
    {
      "cell_type": "code",
      "metadata": {
        "colab": {
          "base_uri": "https://localhost:8080/"
        },
        "id": "VVohQYv1MiLR",
        "outputId": "2d4cf831-42c2-4130-deb0-3b4ea89514d8"
      },
      "source": [
        "#representation of our data county-wise\n",
        "\n",
        "z=df.groupby(['County'])['_id'].count().sort_values(ascending=False)\n",
        "z"
      ],
      "execution_count": null,
      "outputs": [
        {
          "output_type": "execute_result",
          "data": {
            "text/plain": [
              "County\n",
              "nairobi        306\n",
              "trans_nzoia    305\n",
              "embu           303\n",
              "machakos       303\n",
              "nyeri          302\n",
              "kitui          300\n",
              "kiambu         298\n",
              "uasin_gishu    292\n",
              "kirinyaga      290\n",
              "laikipia       288\n",
              "kericho        284\n",
              "nakuru         282\n",
              "meru           280\n",
              "mombasa        280\n",
              "narok          279\n",
              "kisumu         277\n",
              "migori         273\n",
              "isiolo         269\n",
              "kisii          267\n",
              "kakamega       258\n",
              "Name: _id, dtype: int64"
            ]
          },
          "metadata": {
            "tags": []
          },
          "execution_count": 6
        }
      ]
    },
    {
      "cell_type": "markdown",
      "metadata": {
        "id": "7IjjoDpE6V3y"
      },
      "source": [
        "# **Cleaning our Dataset**"
      ]
    },
    {
      "cell_type": "markdown",
      "metadata": {
        "id": "7YGnnuud66bI"
      },
      "source": [
        "# Validity"
      ]
    },
    {
      "cell_type": "code",
      "metadata": {
        "colab": {
          "base_uri": "https://localhost:8080/"
        },
        "id": "mvn3LcNx0W1q",
        "outputId": "908be56a-d5b0-4ff7-eebb-244c5b223c28"
      },
      "source": [
        "df"
      ],
      "execution_count": null,
      "outputs": [
        {
          "output_type": "execute_result",
          "data": {
            "text/html": [
              "<div>\n",
              "<style scoped>\n",
              "    .dataframe tbody tr th:only-of-type {\n",
              "        vertical-align: middle;\n",
              "    }\n",
              "\n",
              "    .dataframe tbody tr th {\n",
              "        vertical-align: top;\n",
              "    }\n",
              "\n",
              "    .dataframe thead th {\n",
              "        text-align: right;\n",
              "    }\n",
              "</style>\n",
              "<table border=\"1\" class=\"dataframe\">\n",
              "  <thead>\n",
              "    <tr style=\"text-align: right;\">\n",
              "      <th></th>\n",
              "      <th>start</th>\n",
              "      <th>end</th>\n",
              "      <th>time</th>\n",
              "      <th>minutes</th>\n",
              "      <th>Insert_Geotag_Location</th>\n",
              "      <th>_Insert_Geotag_Location_latitude</th>\n",
              "      <th>_Insert_Geotag_Location_longitude</th>\n",
              "      <th>_Insert_Geotag_Location_altitude</th>\n",
              "      <th>_Insert_Geotag_Location_precision</th>\n",
              "      <th>Name_of_Enumerator</th>\n",
              "      <th>County</th>\n",
              "      <th>_1_Age</th>\n",
              "      <th>_2_Gender</th>\n",
              "      <th>_3_Monthly_Income</th>\n",
              "      <th>_4_Highest_Level_of_Education_Attained</th>\n",
              "      <th>_5_Occupation</th>\n",
              "      <th>_6_Location</th>\n",
              "      <th>_7_Did_you_vote_in_2017</th>\n",
              "      <th>_8_Will_you_vote_in_the_Refere</th>\n",
              "      <th>_9_If_No_Why</th>\n",
              "      <th>_10_How_will_you_vote_in_the_Referendum</th>\n",
              "      <th>_11_If_elections_are_o_would_you_vote_for</th>\n",
              "      <th>_12_If_you_don_t_vot_s_your_second_choice</th>\n",
              "      <th>_13_Do_you_support_BBI</th>\n",
              "      <th>_14_Do_you_know_what_BBI_wants_to_change</th>\n",
              "      <th>_15_Do_you_support_the_Hustler_Nation</th>\n",
              "      <th>_16_Do_you_think_the_ake_brought_us_peace</th>\n",
              "      <th>_17_Who_has_influenc_st_in_your_community</th>\n",
              "      <th>_18_Do_you_trust_your_political_leaders</th>\n",
              "      <th>_19_Do_you_trust_your_religious_leaders</th>\n",
              "      <th>_20_Do_you_trust_your_elders</th>\n",
              "      <th>_21_Where_do_you_get_your_News_from</th>\n",
              "      <th>_22_Have_you_understood_BBI_completely</th>\n",
              "      <th>_23_Will_you_vote_in_2022</th>\n",
              "      <th>__version__</th>\n",
              "      <th>meta/instanceID</th>\n",
              "      <th>_id</th>\n",
              "      <th>_uuid</th>\n",
              "      <th>_submission_time</th>\n",
              "      <th>_index</th>\n",
              "      <th>_parent_table_name</th>\n",
              "      <th>_parent_index</th>\n",
              "      <th>_tags</th>\n",
              "      <th>_notes</th>\n",
              "    </tr>\n",
              "  </thead>\n",
              "  <tbody>\n",
              "    <tr>\n",
              "      <th>0</th>\n",
              "      <td>2021-05-06T09:50:26.433+03:00</td>\n",
              "      <td>2021-05-09T14:07:55.548+03:00</td>\n",
              "      <td>76.291389</td>\n",
              "      <td>4577.483333</td>\n",
              "      <td>0.8350286 34.8646938 1761.797294187769 4.98</td>\n",
              "      <td>0.835029</td>\n",
              "      <td>34.864694</td>\n",
              "      <td>1761.797294</td>\n",
              "      <td>4.980</td>\n",
              "      <td>Daniel Odhiambo</td>\n",
              "      <td>trans_nzoia</td>\n",
              "      <td>25_30</td>\n",
              "      <td>male</td>\n",
              "      <td>kshs_0___11_000</td>\n",
              "      <td>kcpe</td>\n",
              "      <td>hustler</td>\n",
              "      <td>urban</td>\n",
              "      <td>yes</td>\n",
              "      <td>undecided</td>\n",
              "      <td>NaN</td>\n",
              "      <td>still_deciding</td>\n",
              "      <td>raila_odinga</td>\n",
              "      <td>none</td>\n",
              "      <td>thinking_about_it</td>\n",
              "      <td>yes</td>\n",
              "      <td>no_response</td>\n",
              "      <td>no_response</td>\n",
              "      <td>no_one</td>\n",
              "      <td>rarely</td>\n",
              "      <td>never</td>\n",
              "      <td>often</td>\n",
              "      <td>tv</td>\n",
              "      <td>i_don_t_care</td>\n",
              "      <td>response</td>\n",
              "      <td>vxmXBDYW6jJgGL4WrvTb5f</td>\n",
              "      <td>uuid:4ad44fb2-a429-4e7d-a8f1-c367f3068bbb</td>\n",
              "      <td>176970084</td>\n",
              "      <td>4ad44fb2-a429-4e7d-a8f1-c367f3068bbb</td>\n",
              "      <td>2021-05-09T18:30:11</td>\n",
              "      <td>4995</td>\n",
              "      <td>NaN</td>\n",
              "      <td>-1</td>\n",
              "      <td>NaN</td>\n",
              "      <td>NaN</td>\n",
              "    </tr>\n",
              "    <tr>\n",
              "      <th>1</th>\n",
              "      <td>2021-05-05T20:41:15.214+03:00</td>\n",
              "      <td>2021-05-08T11:33:45.347+03:00</td>\n",
              "      <td>62.875000</td>\n",
              "      <td>3772.500000</td>\n",
              "      <td>-4.0286687 39.6323594 24.303734045012625 4.78</td>\n",
              "      <td>-4.028669</td>\n",
              "      <td>39.632359</td>\n",
              "      <td>24.303734</td>\n",
              "      <td>4.780</td>\n",
              "      <td>Joshua</td>\n",
              "      <td>mombasa</td>\n",
              "      <td>25_30</td>\n",
              "      <td>male</td>\n",
              "      <td>kshs_11_001__20_000</td>\n",
              "      <td>kcpe</td>\n",
              "      <td>business_owner__hotel_shop_kio</td>\n",
              "      <td>peri_urban</td>\n",
              "      <td>yes</td>\n",
              "      <td>no</td>\n",
              "      <td>i_do_not_understand_bbi</td>\n",
              "      <td>still_deciding</td>\n",
              "      <td>kalonzo_musyoka</td>\n",
              "      <td>musalia_mudavadi</td>\n",
              "      <td>thinking_about_it</td>\n",
              "      <td>no</td>\n",
              "      <td>no</td>\n",
              "      <td>yes</td>\n",
              "      <td>mcas</td>\n",
              "      <td>rarely</td>\n",
              "      <td>rarely</td>\n",
              "      <td>rarely</td>\n",
              "      <td>radio</td>\n",
              "      <td>no</td>\n",
              "      <td>yes</td>\n",
              "      <td>vxmXBDYW6jJgGL4WrvTb5f</td>\n",
              "      <td>uuid:a58205f0-1b13-42a0-878b-cb5c1005cda4</td>\n",
              "      <td>176799145</td>\n",
              "      <td>a58205f0-1b13-42a0-878b-cb5c1005cda4</td>\n",
              "      <td>2021-05-08T16:11:33</td>\n",
              "      <td>1240</td>\n",
              "      <td>NaN</td>\n",
              "      <td>-1</td>\n",
              "      <td>NaN</td>\n",
              "      <td>NaN</td>\n",
              "    </tr>\n",
              "    <tr>\n",
              "      <th>2</th>\n",
              "      <td>2021-05-07T10:23:20.976+03:00</td>\n",
              "      <td>2021-05-09T12:34:56.000+03:00</td>\n",
              "      <td>50.193333</td>\n",
              "      <td>3011.600000</td>\n",
              "      <td>-1.3683735 38.0084957 1126.6824783361062 4.921</td>\n",
              "      <td>-1.368373</td>\n",
              "      <td>38.008496</td>\n",
              "      <td>1126.682478</td>\n",
              "      <td>4.921</td>\n",
              "      <td>Brenda Njue</td>\n",
              "      <td>kitui</td>\n",
              "      <td>25_30</td>\n",
              "      <td>female</td>\n",
              "      <td>kshs_20_001__50_000</td>\n",
              "      <td>diploma</td>\n",
              "      <td>formal_employment__teacher_acc</td>\n",
              "      <td>urban</td>\n",
              "      <td>yes</td>\n",
              "      <td>yes</td>\n",
              "      <td>NaN</td>\n",
              "      <td>yes__for_it</td>\n",
              "      <td>raila_odinga</td>\n",
              "      <td>musalia_mudavadi</td>\n",
              "      <td>yes</td>\n",
              "      <td>yes</td>\n",
              "      <td>no</td>\n",
              "      <td>yes</td>\n",
              "      <td>no_one</td>\n",
              "      <td>sometimes</td>\n",
              "      <td>often</td>\n",
              "      <td>always</td>\n",
              "      <td>tv</td>\n",
              "      <td>yes</td>\n",
              "      <td>yes</td>\n",
              "      <td>vxmXBDYW6jJgGL4WrvTb5f</td>\n",
              "      <td>uuid:ad50c639-f6ee-48c7-9496-fa4392073bdb</td>\n",
              "      <td>176894163</td>\n",
              "      <td>ad50c639-f6ee-48c7-9496-fa4392073bdb</td>\n",
              "      <td>2021-05-09T09:39:31</td>\n",
              "      <td>728</td>\n",
              "      <td>NaN</td>\n",
              "      <td>-1</td>\n",
              "      <td>NaN</td>\n",
              "      <td>NaN</td>\n",
              "    </tr>\n",
              "    <tr>\n",
              "      <th>3</th>\n",
              "      <td>2021-05-08T09:39:09.429+03:00</td>\n",
              "      <td>2021-05-10T11:40:44.380+03:00</td>\n",
              "      <td>50.026389</td>\n",
              "      <td>3001.583333</td>\n",
              "      <td>-1.0162223 34.4802999 1527.0306908686568 4.901</td>\n",
              "      <td>-1.016222</td>\n",
              "      <td>34.480300</td>\n",
              "      <td>1527.030691</td>\n",
              "      <td>4.901</td>\n",
              "      <td>Rita wangechi muthoga</td>\n",
              "      <td>migori</td>\n",
              "      <td>31_35</td>\n",
              "      <td>male</td>\n",
              "      <td>kshs_11_001__20_000</td>\n",
              "      <td>diploma</td>\n",
              "      <td>hustler</td>\n",
              "      <td>urban</td>\n",
              "      <td>no</td>\n",
              "      <td>yes</td>\n",
              "      <td>NaN</td>\n",
              "      <td>yes__for_it</td>\n",
              "      <td>raila_odinga</td>\n",
              "      <td>william_ruto</td>\n",
              "      <td>yes</td>\n",
              "      <td>yes</td>\n",
              "      <td>yes</td>\n",
              "      <td>yes</td>\n",
              "      <td>chief</td>\n",
              "      <td>always</td>\n",
              "      <td>always</td>\n",
              "      <td>always</td>\n",
              "      <td>tv</td>\n",
              "      <td>yes</td>\n",
              "      <td>yes</td>\n",
              "      <td>vxmXBDYW6jJgGL4WrvTb5f</td>\n",
              "      <td>uuid:16410612-f4f4-47b8-b903-c23d9b6fd0f3</td>\n",
              "      <td>177065334</td>\n",
              "      <td>16410612-f4f4-47b8-b903-c23d9b6fd0f3</td>\n",
              "      <td>2021-05-10T09:21:58</td>\n",
              "      <td>5559</td>\n",
              "      <td>NaN</td>\n",
              "      <td>-1</td>\n",
              "      <td>NaN</td>\n",
              "      <td>NaN</td>\n",
              "    </tr>\n",
              "    <tr>\n",
              "      <th>4</th>\n",
              "      <td>2021-05-06T09:57:19.279+03:00</td>\n",
              "      <td>2021-05-08T09:58:24.577+03:00</td>\n",
              "      <td>48.018056</td>\n",
              "      <td>2881.083333</td>\n",
              "      <td>-4.0271833 39.6312224 23.717355010810746 4.966</td>\n",
              "      <td>-4.027183</td>\n",
              "      <td>39.631222</td>\n",
              "      <td>23.717355</td>\n",
              "      <td>4.966</td>\n",
              "      <td>Joshua</td>\n",
              "      <td>mombasa</td>\n",
              "      <td>41_50</td>\n",
              "      <td>male</td>\n",
              "      <td>kshs_0___11_000</td>\n",
              "      <td>certificate</td>\n",
              "      <td>informal_employment__jua_kali_</td>\n",
              "      <td>peri_urban</td>\n",
              "      <td>yes</td>\n",
              "      <td>yes</td>\n",
              "      <td>NaN</td>\n",
              "      <td>no__against_it</td>\n",
              "      <td>william_ruto</td>\n",
              "      <td>peter_kenneth</td>\n",
              "      <td>no</td>\n",
              "      <td>yes</td>\n",
              "      <td>yes</td>\n",
              "      <td>no</td>\n",
              "      <td>business_leaders</td>\n",
              "      <td>never</td>\n",
              "      <td>never</td>\n",
              "      <td>never</td>\n",
              "      <td>tv</td>\n",
              "      <td>no</td>\n",
              "      <td>yes</td>\n",
              "      <td>vxmXBDYW6jJgGL4WrvTb5f</td>\n",
              "      <td>uuid:276544bb-535c-4583-a3c8-e5681df8e267</td>\n",
              "      <td>176799148</td>\n",
              "      <td>276544bb-535c-4583-a3c8-e5681df8e267</td>\n",
              "      <td>2021-05-08T16:11:34</td>\n",
              "      <td>3648</td>\n",
              "      <td>NaN</td>\n",
              "      <td>-1</td>\n",
              "      <td>NaN</td>\n",
              "      <td>NaN</td>\n",
              "    </tr>\n",
              "    <tr>\n",
              "      <th>...</th>\n",
              "      <td>...</td>\n",
              "      <td>...</td>\n",
              "      <td>...</td>\n",
              "      <td>...</td>\n",
              "      <td>...</td>\n",
              "      <td>...</td>\n",
              "      <td>...</td>\n",
              "      <td>...</td>\n",
              "      <td>...</td>\n",
              "      <td>...</td>\n",
              "      <td>...</td>\n",
              "      <td>...</td>\n",
              "      <td>...</td>\n",
              "      <td>...</td>\n",
              "      <td>...</td>\n",
              "      <td>...</td>\n",
              "      <td>...</td>\n",
              "      <td>...</td>\n",
              "      <td>...</td>\n",
              "      <td>...</td>\n",
              "      <td>...</td>\n",
              "      <td>...</td>\n",
              "      <td>...</td>\n",
              "      <td>...</td>\n",
              "      <td>...</td>\n",
              "      <td>...</td>\n",
              "      <td>...</td>\n",
              "      <td>...</td>\n",
              "      <td>...</td>\n",
              "      <td>...</td>\n",
              "      <td>...</td>\n",
              "      <td>...</td>\n",
              "      <td>...</td>\n",
              "      <td>...</td>\n",
              "      <td>...</td>\n",
              "      <td>...</td>\n",
              "      <td>...</td>\n",
              "      <td>...</td>\n",
              "      <td>...</td>\n",
              "      <td>...</td>\n",
              "      <td>...</td>\n",
              "      <td>...</td>\n",
              "      <td>...</td>\n",
              "      <td>...</td>\n",
              "    </tr>\n",
              "    <tr>\n",
              "      <th>5731</th>\n",
              "      <td>2021-05-08T15:54:56.476+03:00</td>\n",
              "      <td>2021-05-08T15:55:44.221+03:00</td>\n",
              "      <td>0.013333</td>\n",
              "      <td>0.800000</td>\n",
              "      <td>-0.5889612 34.7939029 1647.3340988251903 2.725</td>\n",
              "      <td>-0.588961</td>\n",
              "      <td>34.793903</td>\n",
              "      <td>1647.334099</td>\n",
              "      <td>2.725</td>\n",
              "      <td>Obadiah Mbeta</td>\n",
              "      <td>kisii</td>\n",
              "      <td>25_30</td>\n",
              "      <td>male</td>\n",
              "      <td>kshs_0___11_000</td>\n",
              "      <td>certificate</td>\n",
              "      <td>cash_crop_farmer_commercial_fi</td>\n",
              "      <td>rural</td>\n",
              "      <td>no</td>\n",
              "      <td>undecided</td>\n",
              "      <td>NaN</td>\n",
              "      <td>i_will_not_vote</td>\n",
              "      <td>raila_odinga</td>\n",
              "      <td>musalia_mudavadi</td>\n",
              "      <td>don_t_care</td>\n",
              "      <td>a_little</td>\n",
              "      <td>no</td>\n",
              "      <td>yes</td>\n",
              "      <td>governor</td>\n",
              "      <td>sometimes</td>\n",
              "      <td>always</td>\n",
              "      <td>always</td>\n",
              "      <td>radio</td>\n",
              "      <td>no</td>\n",
              "      <td>yes</td>\n",
              "      <td>vxmXBDYW6jJgGL4WrvTb5f</td>\n",
              "      <td>uuid:76198e7e-8464-4f4f-9d8e-8f2c42eaeba4</td>\n",
              "      <td>176792111</td>\n",
              "      <td>76198e7e-8464-4f4f-9d8e-8f2c42eaeba4</td>\n",
              "      <td>2021-05-08T15:15:37</td>\n",
              "      <td>3545</td>\n",
              "      <td>NaN</td>\n",
              "      <td>-1</td>\n",
              "      <td>NaN</td>\n",
              "      <td>NaN</td>\n",
              "    </tr>\n",
              "    <tr>\n",
              "      <th>5732</th>\n",
              "      <td>2021-05-09T13:11:36.821+03:00</td>\n",
              "      <td>2021-05-09T13:12:24.502+03:00</td>\n",
              "      <td>0.013333</td>\n",
              "      <td>0.800000</td>\n",
              "      <td>-0.5587299 34.9326513 2015.4855856685826 2.968</td>\n",
              "      <td>-0.558730</td>\n",
              "      <td>34.932651</td>\n",
              "      <td>2015.485586</td>\n",
              "      <td>2.968</td>\n",
              "      <td>Obadiah Mbeta</td>\n",
              "      <td>kisii</td>\n",
              "      <td>25_30</td>\n",
              "      <td>female</td>\n",
              "      <td>kshs_0___11_000</td>\n",
              "      <td>kcse</td>\n",
              "      <td>subsistence_farmer_subsistence</td>\n",
              "      <td>peri_urban</td>\n",
              "      <td>yes</td>\n",
              "      <td>yes</td>\n",
              "      <td>NaN</td>\n",
              "      <td>no__against_it</td>\n",
              "      <td>raila_odinga</td>\n",
              "      <td>raila_odinga</td>\n",
              "      <td>yes</td>\n",
              "      <td>a_little</td>\n",
              "      <td>no</td>\n",
              "      <td>yes</td>\n",
              "      <td>mp</td>\n",
              "      <td>always</td>\n",
              "      <td>always</td>\n",
              "      <td>always</td>\n",
              "      <td>newspapers</td>\n",
              "      <td>no</td>\n",
              "      <td>yes</td>\n",
              "      <td>vxmXBDYW6jJgGL4WrvTb5f</td>\n",
              "      <td>uuid:741a4262-3101-4f56-83a3-168243258fc2</td>\n",
              "      <td>176955234</td>\n",
              "      <td>741a4262-3101-4f56-83a3-168243258fc2</td>\n",
              "      <td>2021-05-09T15:57:02</td>\n",
              "      <td>365</td>\n",
              "      <td>NaN</td>\n",
              "      <td>-1</td>\n",
              "      <td>NaN</td>\n",
              "      <td>NaN</td>\n",
              "    </tr>\n",
              "    <tr>\n",
              "      <th>5733</th>\n",
              "      <td>2021-05-08T11:37:11.972+03:00</td>\n",
              "      <td>2021-05-08T11:37:59.147+03:00</td>\n",
              "      <td>0.013333</td>\n",
              "      <td>0.800000</td>\n",
              "      <td>-0.5828402 34.7956491 1650.6899819216228 2.886</td>\n",
              "      <td>-0.582840</td>\n",
              "      <td>34.795649</td>\n",
              "      <td>1650.689982</td>\n",
              "      <td>2.886</td>\n",
              "      <td>Obadiah Mbeta</td>\n",
              "      <td>kisii</td>\n",
              "      <td>25_30</td>\n",
              "      <td>male</td>\n",
              "      <td>kshs_0___11_000</td>\n",
              "      <td>kcpe</td>\n",
              "      <td>cash_crop_farmer_commercial_fi</td>\n",
              "      <td>rural</td>\n",
              "      <td>yes</td>\n",
              "      <td>undecided</td>\n",
              "      <td>NaN</td>\n",
              "      <td>no__against_it</td>\n",
              "      <td>musalia_mudavadi</td>\n",
              "      <td>fred_matiangi</td>\n",
              "      <td>no</td>\n",
              "      <td>no</td>\n",
              "      <td>yes</td>\n",
              "      <td>yes</td>\n",
              "      <td>my_friends</td>\n",
              "      <td>sometimes</td>\n",
              "      <td>always</td>\n",
              "      <td>always</td>\n",
              "      <td>radio</td>\n",
              "      <td>no</td>\n",
              "      <td>yes</td>\n",
              "      <td>vxmXBDYW6jJgGL4WrvTb5f</td>\n",
              "      <td>uuid:e38cff89-71d9-4530-bad6-9137050a91bc</td>\n",
              "      <td>176759208</td>\n",
              "      <td>e38cff89-71d9-4530-bad6-9137050a91bc</td>\n",
              "      <td>2021-05-08T11:40:28</td>\n",
              "      <td>2954</td>\n",
              "      <td>NaN</td>\n",
              "      <td>-1</td>\n",
              "      <td>NaN</td>\n",
              "      <td>NaN</td>\n",
              "    </tr>\n",
              "    <tr>\n",
              "      <th>5734</th>\n",
              "      <td>2021-05-08T15:56:05.723+03:00</td>\n",
              "      <td>2021-05-08T15:56:53.121+03:00</td>\n",
              "      <td>0.013333</td>\n",
              "      <td>0.800000</td>\n",
              "      <td>-0.5888396 34.7933949 1647.4557145902018 2.935</td>\n",
              "      <td>-0.588840</td>\n",
              "      <td>34.793395</td>\n",
              "      <td>1647.455715</td>\n",
              "      <td>2.935</td>\n",
              "      <td>Obadiah Mbeta</td>\n",
              "      <td>kisii</td>\n",
              "      <td>36_40</td>\n",
              "      <td>female</td>\n",
              "      <td>kshs_11_001__20_000</td>\n",
              "      <td>diploma</td>\n",
              "      <td>formal_employment__teacher_acc</td>\n",
              "      <td>rural</td>\n",
              "      <td>yes</td>\n",
              "      <td>undecided</td>\n",
              "      <td>NaN</td>\n",
              "      <td>still_deciding</td>\n",
              "      <td>fred_matiangi</td>\n",
              "      <td>william_ruto</td>\n",
              "      <td>thinking_about_it</td>\n",
              "      <td>no</td>\n",
              "      <td>i_do_not_know_about_it</td>\n",
              "      <td>no_response</td>\n",
              "      <td>governor</td>\n",
              "      <td>sometimes</td>\n",
              "      <td>always</td>\n",
              "      <td>always</td>\n",
              "      <td>radio</td>\n",
              "      <td>no</td>\n",
              "      <td>yes</td>\n",
              "      <td>vxmXBDYW6jJgGL4WrvTb5f</td>\n",
              "      <td>uuid:2bd08f9d-303a-42b6-852a-4eb1a297c82c</td>\n",
              "      <td>176792113</td>\n",
              "      <td>2bd08f9d-303a-42b6-852a-4eb1a297c82c</td>\n",
              "      <td>2021-05-08T15:15:37</td>\n",
              "      <td>3546</td>\n",
              "      <td>NaN</td>\n",
              "      <td>-1</td>\n",
              "      <td>NaN</td>\n",
              "      <td>NaN</td>\n",
              "    </tr>\n",
              "    <tr>\n",
              "      <th>5735</th>\n",
              "      <td>2021-05-08T15:46:22.615+03:00</td>\n",
              "      <td>2021-05-08T15:47:09.410+03:00</td>\n",
              "      <td>0.013056</td>\n",
              "      <td>0.783333</td>\n",
              "      <td>-0.5893604 34.7949155 1641.8667177123768 3.9</td>\n",
              "      <td>-0.589360</td>\n",
              "      <td>34.794916</td>\n",
              "      <td>1641.866718</td>\n",
              "      <td>3.900</td>\n",
              "      <td>Obadiah Mbeta</td>\n",
              "      <td>kisii</td>\n",
              "      <td>18_24</td>\n",
              "      <td>male</td>\n",
              "      <td>kshs_0___11_000</td>\n",
              "      <td>kcse</td>\n",
              "      <td>cash_crop_farmer_commercial_fi</td>\n",
              "      <td>rural</td>\n",
              "      <td>no</td>\n",
              "      <td>undecided</td>\n",
              "      <td>NaN</td>\n",
              "      <td>i_will_not_vote</td>\n",
              "      <td>fred_matiangi</td>\n",
              "      <td>william_ruto</td>\n",
              "      <td>thinking_about_it</td>\n",
              "      <td>no</td>\n",
              "      <td>not_sure</td>\n",
              "      <td>no</td>\n",
              "      <td>governor</td>\n",
              "      <td>never</td>\n",
              "      <td>always</td>\n",
              "      <td>always</td>\n",
              "      <td>radio</td>\n",
              "      <td>maybe</td>\n",
              "      <td>yes</td>\n",
              "      <td>vxmXBDYW6jJgGL4WrvTb5f</td>\n",
              "      <td>uuid:e07c75e8-17c5-4789-b776-a07d540b848e</td>\n",
              "      <td>176792106</td>\n",
              "      <td>e07c75e8-17c5-4789-b776-a07d540b848e</td>\n",
              "      <td>2021-05-08T15:15:36</td>\n",
              "      <td>3543</td>\n",
              "      <td>NaN</td>\n",
              "      <td>-1</td>\n",
              "      <td>NaN</td>\n",
              "      <td>NaN</td>\n",
              "    </tr>\n",
              "  </tbody>\n",
              "</table>\n",
              "<p>5736 rows × 44 columns</p>\n",
              "</div>"
            ],
            "text/plain": [
              "                              start  ... _notes\n",
              "0     2021-05-06T09:50:26.433+03:00  ...    NaN\n",
              "1     2021-05-05T20:41:15.214+03:00  ...    NaN\n",
              "2     2021-05-07T10:23:20.976+03:00  ...    NaN\n",
              "3     2021-05-08T09:39:09.429+03:00  ...    NaN\n",
              "4     2021-05-06T09:57:19.279+03:00  ...    NaN\n",
              "...                             ...  ...    ...\n",
              "5731  2021-05-08T15:54:56.476+03:00  ...    NaN\n",
              "5732  2021-05-09T13:11:36.821+03:00  ...    NaN\n",
              "5733  2021-05-08T11:37:11.972+03:00  ...    NaN\n",
              "5734  2021-05-08T15:56:05.723+03:00  ...    NaN\n",
              "5735  2021-05-08T15:46:22.615+03:00  ...    NaN\n",
              "\n",
              "[5736 rows x 44 columns]"
            ]
          },
          "metadata": {
            "tags": []
          },
          "execution_count": 8
        }
      ]
    },
    {
      "cell_type": "code",
      "metadata": {
        "colab": {
          "base_uri": "https://localhost:8080/"
        },
        "id": "ty4btVMBIaOI",
        "outputId": "222923b8-7a03-4003-8e51-225928949cfc"
      },
      "source": [
        "df.drop([\"start\",\"end\", \"time \", \"minutes\", \"Insert_Geotag_Location\", \"_Insert_Geotag_Location_latitude\", \n",
        "           \"_Insert_Geotag_Location_longitude\", \"_Insert_Geotag_Location_altitude\",\"_Insert_Geotag_Location_precision\",\n",
        "           \"Name_of_Enumerator\",\"__version__\",\"meta/instanceID\",\"_id\",\"_uuid\",\"_submission_time\",\"_index\",\"_parent_table_name\",\n",
        "           \"_parent_index\",\"_tags\",\"_notes\"], axis=1, inplace = True)\n",
        "# df.columns = df.columns.str.replace(' ', '_')\n",
        "df.head()"
      ],
      "execution_count": null,
      "outputs": [
        {
          "output_type": "execute_result",
          "data": {
            "text/html": [
              "<div>\n",
              "<style scoped>\n",
              "    .dataframe tbody tr th:only-of-type {\n",
              "        vertical-align: middle;\n",
              "    }\n",
              "\n",
              "    .dataframe tbody tr th {\n",
              "        vertical-align: top;\n",
              "    }\n",
              "\n",
              "    .dataframe thead th {\n",
              "        text-align: right;\n",
              "    }\n",
              "</style>\n",
              "<table border=\"1\" class=\"dataframe\">\n",
              "  <thead>\n",
              "    <tr style=\"text-align: right;\">\n",
              "      <th></th>\n",
              "      <th>County</th>\n",
              "      <th>_1_Age</th>\n",
              "      <th>_2_Gender</th>\n",
              "      <th>_3_Monthly_Income</th>\n",
              "      <th>_4_Highest_Level_of_Education_Attained</th>\n",
              "      <th>_5_Occupation</th>\n",
              "      <th>_6_Location</th>\n",
              "      <th>_7_Did_you_vote_in_2017</th>\n",
              "      <th>_8_Will_you_vote_in_the_Refere</th>\n",
              "      <th>_9_If_No_Why</th>\n",
              "      <th>_10_How_will_you_vote_in_the_Referendum</th>\n",
              "      <th>_11_If_elections_are_o_would_you_vote_for</th>\n",
              "      <th>_12_If_you_don_t_vot_s_your_second_choice</th>\n",
              "      <th>_13_Do_you_support_BBI</th>\n",
              "      <th>_14_Do_you_know_what_BBI_wants_to_change</th>\n",
              "      <th>_15_Do_you_support_the_Hustler_Nation</th>\n",
              "      <th>_16_Do_you_think_the_ake_brought_us_peace</th>\n",
              "      <th>_17_Who_has_influenc_st_in_your_community</th>\n",
              "      <th>_18_Do_you_trust_your_political_leaders</th>\n",
              "      <th>_19_Do_you_trust_your_religious_leaders</th>\n",
              "      <th>_20_Do_you_trust_your_elders</th>\n",
              "      <th>_21_Where_do_you_get_your_News_from</th>\n",
              "      <th>_22_Have_you_understood_BBI_completely</th>\n",
              "      <th>_23_Will_you_vote_in_2022</th>\n",
              "    </tr>\n",
              "  </thead>\n",
              "  <tbody>\n",
              "    <tr>\n",
              "      <th>0</th>\n",
              "      <td>trans_nzoia</td>\n",
              "      <td>25_30</td>\n",
              "      <td>male</td>\n",
              "      <td>kshs_0___11_000</td>\n",
              "      <td>kcpe</td>\n",
              "      <td>hustler</td>\n",
              "      <td>urban</td>\n",
              "      <td>yes</td>\n",
              "      <td>undecided</td>\n",
              "      <td>NaN</td>\n",
              "      <td>still_deciding</td>\n",
              "      <td>raila_odinga</td>\n",
              "      <td>none</td>\n",
              "      <td>thinking_about_it</td>\n",
              "      <td>yes</td>\n",
              "      <td>no_response</td>\n",
              "      <td>no_response</td>\n",
              "      <td>no_one</td>\n",
              "      <td>rarely</td>\n",
              "      <td>never</td>\n",
              "      <td>often</td>\n",
              "      <td>tv</td>\n",
              "      <td>i_don_t_care</td>\n",
              "      <td>response</td>\n",
              "    </tr>\n",
              "    <tr>\n",
              "      <th>1</th>\n",
              "      <td>mombasa</td>\n",
              "      <td>25_30</td>\n",
              "      <td>male</td>\n",
              "      <td>kshs_11_001__20_000</td>\n",
              "      <td>kcpe</td>\n",
              "      <td>business_owner__hotel_shop_kio</td>\n",
              "      <td>peri_urban</td>\n",
              "      <td>yes</td>\n",
              "      <td>no</td>\n",
              "      <td>i_do_not_understand_bbi</td>\n",
              "      <td>still_deciding</td>\n",
              "      <td>kalonzo_musyoka</td>\n",
              "      <td>musalia_mudavadi</td>\n",
              "      <td>thinking_about_it</td>\n",
              "      <td>no</td>\n",
              "      <td>no</td>\n",
              "      <td>yes</td>\n",
              "      <td>mcas</td>\n",
              "      <td>rarely</td>\n",
              "      <td>rarely</td>\n",
              "      <td>rarely</td>\n",
              "      <td>radio</td>\n",
              "      <td>no</td>\n",
              "      <td>yes</td>\n",
              "    </tr>\n",
              "    <tr>\n",
              "      <th>2</th>\n",
              "      <td>kitui</td>\n",
              "      <td>25_30</td>\n",
              "      <td>female</td>\n",
              "      <td>kshs_20_001__50_000</td>\n",
              "      <td>diploma</td>\n",
              "      <td>formal_employment__teacher_acc</td>\n",
              "      <td>urban</td>\n",
              "      <td>yes</td>\n",
              "      <td>yes</td>\n",
              "      <td>NaN</td>\n",
              "      <td>yes__for_it</td>\n",
              "      <td>raila_odinga</td>\n",
              "      <td>musalia_mudavadi</td>\n",
              "      <td>yes</td>\n",
              "      <td>yes</td>\n",
              "      <td>no</td>\n",
              "      <td>yes</td>\n",
              "      <td>no_one</td>\n",
              "      <td>sometimes</td>\n",
              "      <td>often</td>\n",
              "      <td>always</td>\n",
              "      <td>tv</td>\n",
              "      <td>yes</td>\n",
              "      <td>yes</td>\n",
              "    </tr>\n",
              "    <tr>\n",
              "      <th>3</th>\n",
              "      <td>migori</td>\n",
              "      <td>31_35</td>\n",
              "      <td>male</td>\n",
              "      <td>kshs_11_001__20_000</td>\n",
              "      <td>diploma</td>\n",
              "      <td>hustler</td>\n",
              "      <td>urban</td>\n",
              "      <td>no</td>\n",
              "      <td>yes</td>\n",
              "      <td>NaN</td>\n",
              "      <td>yes__for_it</td>\n",
              "      <td>raila_odinga</td>\n",
              "      <td>william_ruto</td>\n",
              "      <td>yes</td>\n",
              "      <td>yes</td>\n",
              "      <td>yes</td>\n",
              "      <td>yes</td>\n",
              "      <td>chief</td>\n",
              "      <td>always</td>\n",
              "      <td>always</td>\n",
              "      <td>always</td>\n",
              "      <td>tv</td>\n",
              "      <td>yes</td>\n",
              "      <td>yes</td>\n",
              "    </tr>\n",
              "    <tr>\n",
              "      <th>4</th>\n",
              "      <td>mombasa</td>\n",
              "      <td>41_50</td>\n",
              "      <td>male</td>\n",
              "      <td>kshs_0___11_000</td>\n",
              "      <td>certificate</td>\n",
              "      <td>informal_employment__jua_kali_</td>\n",
              "      <td>peri_urban</td>\n",
              "      <td>yes</td>\n",
              "      <td>yes</td>\n",
              "      <td>NaN</td>\n",
              "      <td>no__against_it</td>\n",
              "      <td>william_ruto</td>\n",
              "      <td>peter_kenneth</td>\n",
              "      <td>no</td>\n",
              "      <td>yes</td>\n",
              "      <td>yes</td>\n",
              "      <td>no</td>\n",
              "      <td>business_leaders</td>\n",
              "      <td>never</td>\n",
              "      <td>never</td>\n",
              "      <td>never</td>\n",
              "      <td>tv</td>\n",
              "      <td>no</td>\n",
              "      <td>yes</td>\n",
              "    </tr>\n",
              "  </tbody>\n",
              "</table>\n",
              "</div>"
            ],
            "text/plain": [
              "        County  ... _23_Will_you_vote_in_2022\n",
              "0  trans_nzoia  ...                  response\n",
              "1      mombasa  ...                       yes\n",
              "2        kitui  ...                       yes\n",
              "3       migori  ...                       yes\n",
              "4      mombasa  ...                       yes\n",
              "\n",
              "[5 rows x 24 columns]"
            ]
          },
          "metadata": {
            "tags": []
          },
          "execution_count": 9
        }
      ]
    },
    {
      "cell_type": "markdown",
      "metadata": {
        "id": "Uh08TpTF7EUo"
      },
      "source": [
        "# Accuracy"
      ]
    },
    {
      "cell_type": "code",
      "metadata": {
        "colab": {
          "base_uri": "https://localhost:8080/"
        },
        "id": "zRrVKxoO7MGW",
        "outputId": "27f05957-7241-4240-b413-d3113fef5699"
      },
      "source": [
        "inf(df)"
      ],
      "execution_count": null,
      "outputs": [
        {
          "output_type": "stream",
          "text": [
            "<class 'pandas.core.frame.DataFrame'>\n",
            "RangeIndex: 5736 entries, 0 to 5735\n",
            "Data columns (total 24 columns):\n",
            " #   Column                                     Non-Null Count  Dtype \n",
            "---  ------                                     --------------  ----- \n",
            " 0   County                                     5736 non-null   object\n",
            " 1   _1_Age                                     5736 non-null   object\n",
            " 2   _2_Gender                                  5736 non-null   object\n",
            " 3   _3_Monthly_Income                          5736 non-null   object\n",
            " 4   _4_Highest_Level_of_Education_Attained     5736 non-null   object\n",
            " 5   _5_Occupation                              5736 non-null   object\n",
            " 6   _6_Location                                5736 non-null   object\n",
            " 7   _7_Did_you_vote_in_2017                    5736 non-null   object\n",
            " 8   _8_Will_you_vote_in_the_Refere             5736 non-null   object\n",
            " 9   _9_If_No_Why                               1377 non-null   object\n",
            " 10  _10_How_will_you_vote_in_the_Referendum    5736 non-null   object\n",
            " 11  _11_If_elections_are_o_would_you_vote_for  5736 non-null   object\n",
            " 12  _12_If_you_don_t_vot_s_your_second_choice  5736 non-null   object\n",
            " 13  _13_Do_you_support_BBI                     5736 non-null   object\n",
            " 14  _14_Do_you_know_what_BBI_wants_to_change   5736 non-null   object\n",
            " 15  _15_Do_you_support_the_Hustler_Nation      5736 non-null   object\n",
            " 16  _16_Do_you_think_the_ake_brought_us_peace  5736 non-null   object\n",
            " 17  _17_Who_has_influenc_st_in_your_community  5736 non-null   object\n",
            " 18  _18_Do_you_trust_your_political_leaders    5736 non-null   object\n",
            " 19  _19_Do_you_trust_your_religious_leaders    5736 non-null   object\n",
            " 20  _20_Do_you_trust_your_elders               5736 non-null   object\n",
            " 21  _21_Where_do_you_get_your_News_from        5736 non-null   object\n",
            " 22  _22_Have_you_understood_BBI_completely     5736 non-null   object\n",
            " 23  _23_Will_you_vote_in_2022                  5736 non-null   object\n",
            "dtypes: object(24)\n",
            "memory usage: 1.1+ MB\n"
          ],
          "name": "stdout"
        }
      ]
    },
    {
      "cell_type": "code",
      "metadata": {
        "id": "ITSo2ULM9qJz"
      },
      "source": [
        "df.columns = df.columns.str.replace('_', ' ')\n"
      ],
      "execution_count": null,
      "outputs": []
    },
    {
      "cell_type": "code",
      "metadata": {
        "colab": {
          "base_uri": "https://localhost:8080/"
        },
        "id": "nW9cw7VoA-tB",
        "outputId": "398199c1-3d32-43c0-f6f7-3f4e10031ef9"
      },
      "source": [
        "df.columns = ['County', 'Age', 'Gender', 'Monthly Income',\n",
        "       'Highest Level of Education Attained', 'Occupation',\n",
        "       'Location', 'Did you vote in 2017',\n",
        "       'Will you vote in the Refere', 'If No Why',\n",
        "       'How will you vote in the Referendum',\n",
        "       'If elections are today who would you vote for',\n",
        "       'If you dont vote for that one who is your second choice', 'Do you support BBI',\n",
        "       'Do you know what BBI wants to change',\n",
        "       'Do you support the Hustler Nation',\n",
        "       'Do you think the handshake brought us peace',\n",
        "       'Who influences youin your community',\n",
        "       'Do you trust your political leaders',\n",
        "       'Do you trust your religious leaders',\n",
        "       'Do you trust your elders', 'Where do you get your News from',\n",
        "       'Have you understood BBI completely', 'Will you vote in 2022']\n",
        "df.head()"
      ],
      "execution_count": null,
      "outputs": [
        {
          "output_type": "execute_result",
          "data": {
            "text/html": [
              "<div>\n",
              "<style scoped>\n",
              "    .dataframe tbody tr th:only-of-type {\n",
              "        vertical-align: middle;\n",
              "    }\n",
              "\n",
              "    .dataframe tbody tr th {\n",
              "        vertical-align: top;\n",
              "    }\n",
              "\n",
              "    .dataframe thead th {\n",
              "        text-align: right;\n",
              "    }\n",
              "</style>\n",
              "<table border=\"1\" class=\"dataframe\">\n",
              "  <thead>\n",
              "    <tr style=\"text-align: right;\">\n",
              "      <th></th>\n",
              "      <th>County</th>\n",
              "      <th>Age</th>\n",
              "      <th>Gender</th>\n",
              "      <th>Monthly Income</th>\n",
              "      <th>Highest Level of Education Attained</th>\n",
              "      <th>Occupation</th>\n",
              "      <th>Location</th>\n",
              "      <th>Did you vote in 2017</th>\n",
              "      <th>Will you vote in the Refere</th>\n",
              "      <th>If No Why</th>\n",
              "      <th>How will you vote in the Referendum</th>\n",
              "      <th>If elections are today who would you vote for</th>\n",
              "      <th>If you dont vote for that one who is your second choice</th>\n",
              "      <th>Do you support BBI</th>\n",
              "      <th>Do you know what BBI wants to change</th>\n",
              "      <th>Do you support the Hustler Nation</th>\n",
              "      <th>Do you think the handshake brought us peace</th>\n",
              "      <th>Who influences youin your community</th>\n",
              "      <th>Do you trust your political leaders</th>\n",
              "      <th>Do you trust your religious leaders</th>\n",
              "      <th>Do you trust your elders</th>\n",
              "      <th>Where do you get your News from</th>\n",
              "      <th>Have you understood BBI completely</th>\n",
              "      <th>Will you vote in 2022</th>\n",
              "    </tr>\n",
              "  </thead>\n",
              "  <tbody>\n",
              "    <tr>\n",
              "      <th>0</th>\n",
              "      <td>trans_nzoia</td>\n",
              "      <td>25_30</td>\n",
              "      <td>male</td>\n",
              "      <td>kshs_0___11_000</td>\n",
              "      <td>kcpe</td>\n",
              "      <td>hustler</td>\n",
              "      <td>urban</td>\n",
              "      <td>yes</td>\n",
              "      <td>undecided</td>\n",
              "      <td>NaN</td>\n",
              "      <td>still_deciding</td>\n",
              "      <td>raila_odinga</td>\n",
              "      <td>none</td>\n",
              "      <td>thinking_about_it</td>\n",
              "      <td>yes</td>\n",
              "      <td>no_response</td>\n",
              "      <td>no_response</td>\n",
              "      <td>no_one</td>\n",
              "      <td>rarely</td>\n",
              "      <td>never</td>\n",
              "      <td>often</td>\n",
              "      <td>tv</td>\n",
              "      <td>i_don_t_care</td>\n",
              "      <td>response</td>\n",
              "    </tr>\n",
              "    <tr>\n",
              "      <th>1</th>\n",
              "      <td>mombasa</td>\n",
              "      <td>25_30</td>\n",
              "      <td>male</td>\n",
              "      <td>kshs_11_001__20_000</td>\n",
              "      <td>kcpe</td>\n",
              "      <td>business_owner__hotel_shop_kio</td>\n",
              "      <td>peri_urban</td>\n",
              "      <td>yes</td>\n",
              "      <td>no</td>\n",
              "      <td>i_do_not_understand_bbi</td>\n",
              "      <td>still_deciding</td>\n",
              "      <td>kalonzo_musyoka</td>\n",
              "      <td>musalia_mudavadi</td>\n",
              "      <td>thinking_about_it</td>\n",
              "      <td>no</td>\n",
              "      <td>no</td>\n",
              "      <td>yes</td>\n",
              "      <td>mcas</td>\n",
              "      <td>rarely</td>\n",
              "      <td>rarely</td>\n",
              "      <td>rarely</td>\n",
              "      <td>radio</td>\n",
              "      <td>no</td>\n",
              "      <td>yes</td>\n",
              "    </tr>\n",
              "    <tr>\n",
              "      <th>2</th>\n",
              "      <td>kitui</td>\n",
              "      <td>25_30</td>\n",
              "      <td>female</td>\n",
              "      <td>kshs_20_001__50_000</td>\n",
              "      <td>diploma</td>\n",
              "      <td>formal_employment__teacher_acc</td>\n",
              "      <td>urban</td>\n",
              "      <td>yes</td>\n",
              "      <td>yes</td>\n",
              "      <td>NaN</td>\n",
              "      <td>yes__for_it</td>\n",
              "      <td>raila_odinga</td>\n",
              "      <td>musalia_mudavadi</td>\n",
              "      <td>yes</td>\n",
              "      <td>yes</td>\n",
              "      <td>no</td>\n",
              "      <td>yes</td>\n",
              "      <td>no_one</td>\n",
              "      <td>sometimes</td>\n",
              "      <td>often</td>\n",
              "      <td>always</td>\n",
              "      <td>tv</td>\n",
              "      <td>yes</td>\n",
              "      <td>yes</td>\n",
              "    </tr>\n",
              "    <tr>\n",
              "      <th>3</th>\n",
              "      <td>migori</td>\n",
              "      <td>31_35</td>\n",
              "      <td>male</td>\n",
              "      <td>kshs_11_001__20_000</td>\n",
              "      <td>diploma</td>\n",
              "      <td>hustler</td>\n",
              "      <td>urban</td>\n",
              "      <td>no</td>\n",
              "      <td>yes</td>\n",
              "      <td>NaN</td>\n",
              "      <td>yes__for_it</td>\n",
              "      <td>raila_odinga</td>\n",
              "      <td>william_ruto</td>\n",
              "      <td>yes</td>\n",
              "      <td>yes</td>\n",
              "      <td>yes</td>\n",
              "      <td>yes</td>\n",
              "      <td>chief</td>\n",
              "      <td>always</td>\n",
              "      <td>always</td>\n",
              "      <td>always</td>\n",
              "      <td>tv</td>\n",
              "      <td>yes</td>\n",
              "      <td>yes</td>\n",
              "    </tr>\n",
              "    <tr>\n",
              "      <th>4</th>\n",
              "      <td>mombasa</td>\n",
              "      <td>41_50</td>\n",
              "      <td>male</td>\n",
              "      <td>kshs_0___11_000</td>\n",
              "      <td>certificate</td>\n",
              "      <td>informal_employment__jua_kali_</td>\n",
              "      <td>peri_urban</td>\n",
              "      <td>yes</td>\n",
              "      <td>yes</td>\n",
              "      <td>NaN</td>\n",
              "      <td>no__against_it</td>\n",
              "      <td>william_ruto</td>\n",
              "      <td>peter_kenneth</td>\n",
              "      <td>no</td>\n",
              "      <td>yes</td>\n",
              "      <td>yes</td>\n",
              "      <td>no</td>\n",
              "      <td>business_leaders</td>\n",
              "      <td>never</td>\n",
              "      <td>never</td>\n",
              "      <td>never</td>\n",
              "      <td>tv</td>\n",
              "      <td>no</td>\n",
              "      <td>yes</td>\n",
              "    </tr>\n",
              "  </tbody>\n",
              "</table>\n",
              "</div>"
            ],
            "text/plain": [
              "        County    Age  ... Have you understood BBI completely Will you vote in 2022\n",
              "0  trans_nzoia  25_30  ...                       i_don_t_care              response\n",
              "1      mombasa  25_30  ...                                 no                   yes\n",
              "2        kitui  25_30  ...                                yes                   yes\n",
              "3       migori  31_35  ...                                yes                   yes\n",
              "4      mombasa  41_50  ...                                 no                   yes\n",
              "\n",
              "[5 rows x 24 columns]"
            ]
          },
          "metadata": {
            "tags": []
          },
          "execution_count": 12
        }
      ]
    },
    {
      "cell_type": "code",
      "metadata": {
        "colab": {
          "base_uri": "https://localhost:8080/"
        },
        "id": "-gK3yfv7BEU7",
        "outputId": "249c5f59-afa7-405e-a2e6-30530ad5b061"
      },
      "source": [
        "df.columns"
      ],
      "execution_count": null,
      "outputs": [
        {
          "output_type": "execute_result",
          "data": {
            "text/plain": [
              "Index(['County', 'Age', 'Gender', 'Monthly Income',\n",
              "       'Highest Level of Education Attained', 'Occupation', 'Location',\n",
              "       'Did you vote in 2017', 'Will you vote in the Refere', 'If No Why',\n",
              "       'How will you vote in the Referendum',\n",
              "       'If elections are today who would you vote for',\n",
              "       'If you dont vote for that one who is your second choice',\n",
              "       'Do you support BBI', 'Do you know what BBI wants to change',\n",
              "       'Do you support the Hustler Nation',\n",
              "       'Do you think the handshake brought us peace',\n",
              "       'Who influences youin your community',\n",
              "       'Do you trust your political leaders',\n",
              "       'Do you trust your religious leaders', 'Do you trust your elders',\n",
              "       'Where do you get your News from', 'Have you understood BBI completely',\n",
              "       'Will you vote in 2022'],\n",
              "      dtype='object')"
            ]
          },
          "metadata": {
            "tags": []
          },
          "execution_count": 13
        }
      ]
    },
    {
      "cell_type": "code",
      "metadata": {
        "colab": {
          "base_uri": "https://localhost:8080/"
        },
        "id": "mLDVoYPiBQNS",
        "outputId": "301f9a9e-c9b3-439a-aa9a-dae691c45069"
      },
      "source": [
        "df[\"Occupation\"].str.replace(r'\\W',\"\")\n"
      ],
      "execution_count": null,
      "outputs": [
        {
          "output_type": "execute_result",
          "data": {
            "text/plain": [
              "0                              hustler\n",
              "1       business_owner__hotel_shop_kio\n",
              "2       formal_employment__teacher_acc\n",
              "3                              hustler\n",
              "4       informal_employment__jua_kali_\n",
              "                     ...              \n",
              "5731    cash_crop_farmer_commercial_fi\n",
              "5732    subsistence_farmer_subsistence\n",
              "5733    cash_crop_farmer_commercial_fi\n",
              "5734    formal_employment__teacher_acc\n",
              "5735    cash_crop_farmer_commercial_fi\n",
              "Name: Occupation, Length: 5736, dtype: object"
            ]
          },
          "metadata": {
            "tags": []
          },
          "execution_count": 14
        }
      ]
    },
    {
      "cell_type": "code",
      "metadata": {
        "id": "Bw6b4zjCDjTh"
      },
      "source": [
        "for column in df.columns:\n",
        "     df[column] =   df[column].str.replace(r'\\W',\"\")"
      ],
      "execution_count": null,
      "outputs": []
    },
    {
      "cell_type": "code",
      "metadata": {
        "colab": {
          "base_uri": "https://localhost:8080/"
        },
        "id": "RwpdjhtdDmiL",
        "outputId": "a1cd8d98-ad7b-4538-81be-0ceb38050adc"
      },
      "source": [
        "df.head()"
      ],
      "execution_count": null,
      "outputs": [
        {
          "output_type": "execute_result",
          "data": {
            "text/html": [
              "<div>\n",
              "<style scoped>\n",
              "    .dataframe tbody tr th:only-of-type {\n",
              "        vertical-align: middle;\n",
              "    }\n",
              "\n",
              "    .dataframe tbody tr th {\n",
              "        vertical-align: top;\n",
              "    }\n",
              "\n",
              "    .dataframe thead th {\n",
              "        text-align: right;\n",
              "    }\n",
              "</style>\n",
              "<table border=\"1\" class=\"dataframe\">\n",
              "  <thead>\n",
              "    <tr style=\"text-align: right;\">\n",
              "      <th></th>\n",
              "      <th>County</th>\n",
              "      <th>Age</th>\n",
              "      <th>Gender</th>\n",
              "      <th>Monthly Income</th>\n",
              "      <th>Highest Level of Education Attained</th>\n",
              "      <th>Occupation</th>\n",
              "      <th>Location</th>\n",
              "      <th>Did you vote in 2017</th>\n",
              "      <th>Will you vote in the Refere</th>\n",
              "      <th>If No Why</th>\n",
              "      <th>How will you vote in the Referendum</th>\n",
              "      <th>If elections are today who would you vote for</th>\n",
              "      <th>If you dont vote for that one who is your second choice</th>\n",
              "      <th>Do you support BBI</th>\n",
              "      <th>Do you know what BBI wants to change</th>\n",
              "      <th>Do you support the Hustler Nation</th>\n",
              "      <th>Do you think the handshake brought us peace</th>\n",
              "      <th>Who influences youin your community</th>\n",
              "      <th>Do you trust your political leaders</th>\n",
              "      <th>Do you trust your religious leaders</th>\n",
              "      <th>Do you trust your elders</th>\n",
              "      <th>Where do you get your News from</th>\n",
              "      <th>Have you understood BBI completely</th>\n",
              "      <th>Will you vote in 2022</th>\n",
              "    </tr>\n",
              "  </thead>\n",
              "  <tbody>\n",
              "    <tr>\n",
              "      <th>0</th>\n",
              "      <td>trans_nzoia</td>\n",
              "      <td>25_30</td>\n",
              "      <td>male</td>\n",
              "      <td>kshs_0___11_000</td>\n",
              "      <td>kcpe</td>\n",
              "      <td>hustler</td>\n",
              "      <td>urban</td>\n",
              "      <td>yes</td>\n",
              "      <td>undecided</td>\n",
              "      <td>NaN</td>\n",
              "      <td>still_deciding</td>\n",
              "      <td>raila_odinga</td>\n",
              "      <td>none</td>\n",
              "      <td>thinking_about_it</td>\n",
              "      <td>yes</td>\n",
              "      <td>no_response</td>\n",
              "      <td>no_response</td>\n",
              "      <td>no_one</td>\n",
              "      <td>rarely</td>\n",
              "      <td>never</td>\n",
              "      <td>often</td>\n",
              "      <td>tv</td>\n",
              "      <td>i_don_t_care</td>\n",
              "      <td>response</td>\n",
              "    </tr>\n",
              "    <tr>\n",
              "      <th>1</th>\n",
              "      <td>mombasa</td>\n",
              "      <td>25_30</td>\n",
              "      <td>male</td>\n",
              "      <td>kshs_11_001__20_000</td>\n",
              "      <td>kcpe</td>\n",
              "      <td>business_owner__hotel_shop_kio</td>\n",
              "      <td>peri_urban</td>\n",
              "      <td>yes</td>\n",
              "      <td>no</td>\n",
              "      <td>i_do_not_understand_bbi</td>\n",
              "      <td>still_deciding</td>\n",
              "      <td>kalonzo_musyoka</td>\n",
              "      <td>musalia_mudavadi</td>\n",
              "      <td>thinking_about_it</td>\n",
              "      <td>no</td>\n",
              "      <td>no</td>\n",
              "      <td>yes</td>\n",
              "      <td>mcas</td>\n",
              "      <td>rarely</td>\n",
              "      <td>rarely</td>\n",
              "      <td>rarely</td>\n",
              "      <td>radio</td>\n",
              "      <td>no</td>\n",
              "      <td>yes</td>\n",
              "    </tr>\n",
              "    <tr>\n",
              "      <th>2</th>\n",
              "      <td>kitui</td>\n",
              "      <td>25_30</td>\n",
              "      <td>female</td>\n",
              "      <td>kshs_20_001__50_000</td>\n",
              "      <td>diploma</td>\n",
              "      <td>formal_employment__teacher_acc</td>\n",
              "      <td>urban</td>\n",
              "      <td>yes</td>\n",
              "      <td>yes</td>\n",
              "      <td>NaN</td>\n",
              "      <td>yes__for_it</td>\n",
              "      <td>raila_odinga</td>\n",
              "      <td>musalia_mudavadi</td>\n",
              "      <td>yes</td>\n",
              "      <td>yes</td>\n",
              "      <td>no</td>\n",
              "      <td>yes</td>\n",
              "      <td>no_one</td>\n",
              "      <td>sometimes</td>\n",
              "      <td>often</td>\n",
              "      <td>always</td>\n",
              "      <td>tv</td>\n",
              "      <td>yes</td>\n",
              "      <td>yes</td>\n",
              "    </tr>\n",
              "    <tr>\n",
              "      <th>3</th>\n",
              "      <td>migori</td>\n",
              "      <td>31_35</td>\n",
              "      <td>male</td>\n",
              "      <td>kshs_11_001__20_000</td>\n",
              "      <td>diploma</td>\n",
              "      <td>hustler</td>\n",
              "      <td>urban</td>\n",
              "      <td>no</td>\n",
              "      <td>yes</td>\n",
              "      <td>NaN</td>\n",
              "      <td>yes__for_it</td>\n",
              "      <td>raila_odinga</td>\n",
              "      <td>william_ruto</td>\n",
              "      <td>yes</td>\n",
              "      <td>yes</td>\n",
              "      <td>yes</td>\n",
              "      <td>yes</td>\n",
              "      <td>chief</td>\n",
              "      <td>always</td>\n",
              "      <td>always</td>\n",
              "      <td>always</td>\n",
              "      <td>tv</td>\n",
              "      <td>yes</td>\n",
              "      <td>yes</td>\n",
              "    </tr>\n",
              "    <tr>\n",
              "      <th>4</th>\n",
              "      <td>mombasa</td>\n",
              "      <td>41_50</td>\n",
              "      <td>male</td>\n",
              "      <td>kshs_0___11_000</td>\n",
              "      <td>certificate</td>\n",
              "      <td>informal_employment__jua_kali_</td>\n",
              "      <td>peri_urban</td>\n",
              "      <td>yes</td>\n",
              "      <td>yes</td>\n",
              "      <td>NaN</td>\n",
              "      <td>no__against_it</td>\n",
              "      <td>william_ruto</td>\n",
              "      <td>peter_kenneth</td>\n",
              "      <td>no</td>\n",
              "      <td>yes</td>\n",
              "      <td>yes</td>\n",
              "      <td>no</td>\n",
              "      <td>business_leaders</td>\n",
              "      <td>never</td>\n",
              "      <td>never</td>\n",
              "      <td>never</td>\n",
              "      <td>tv</td>\n",
              "      <td>no</td>\n",
              "      <td>yes</td>\n",
              "    </tr>\n",
              "  </tbody>\n",
              "</table>\n",
              "</div>"
            ],
            "text/plain": [
              "        County    Age  ... Have you understood BBI completely Will you vote in 2022\n",
              "0  trans_nzoia  25_30  ...                       i_don_t_care              response\n",
              "1      mombasa  25_30  ...                                 no                   yes\n",
              "2        kitui  25_30  ...                                yes                   yes\n",
              "3       migori  31_35  ...                                yes                   yes\n",
              "4      mombasa  41_50  ...                                 no                   yes\n",
              "\n",
              "[5 rows x 24 columns]"
            ]
          },
          "metadata": {
            "tags": []
          },
          "execution_count": 16
        }
      ]
    },
    {
      "cell_type": "code",
      "metadata": {
        "colab": {
          "base_uri": "https://localhost:8080/"
        },
        "id": "PDNuaN6rDzHJ",
        "outputId": "f181f0e6-92c6-4dee-8198-99f3d348152e"
      },
      "source": [
        "df[\"Age\"]= df[\"Age\"].str.replace('_','-')\n",
        "df.tail()"
      ],
      "execution_count": null,
      "outputs": [
        {
          "output_type": "execute_result",
          "data": {
            "text/html": [
              "<div>\n",
              "<style scoped>\n",
              "    .dataframe tbody tr th:only-of-type {\n",
              "        vertical-align: middle;\n",
              "    }\n",
              "\n",
              "    .dataframe tbody tr th {\n",
              "        vertical-align: top;\n",
              "    }\n",
              "\n",
              "    .dataframe thead th {\n",
              "        text-align: right;\n",
              "    }\n",
              "</style>\n",
              "<table border=\"1\" class=\"dataframe\">\n",
              "  <thead>\n",
              "    <tr style=\"text-align: right;\">\n",
              "      <th></th>\n",
              "      <th>County</th>\n",
              "      <th>Age</th>\n",
              "      <th>Gender</th>\n",
              "      <th>Monthly Income</th>\n",
              "      <th>Highest Level of Education Attained</th>\n",
              "      <th>Occupation</th>\n",
              "      <th>Location</th>\n",
              "      <th>Did you vote in 2017</th>\n",
              "      <th>Will you vote in the Refere</th>\n",
              "      <th>If No Why</th>\n",
              "      <th>How will you vote in the Referendum</th>\n",
              "      <th>If elections are today who would you vote for</th>\n",
              "      <th>If you dont vote for that one who is your second choice</th>\n",
              "      <th>Do you support BBI</th>\n",
              "      <th>Do you know what BBI wants to change</th>\n",
              "      <th>Do you support the Hustler Nation</th>\n",
              "      <th>Do you think the handshake brought us peace</th>\n",
              "      <th>Who influences youin your community</th>\n",
              "      <th>Do you trust your political leaders</th>\n",
              "      <th>Do you trust your religious leaders</th>\n",
              "      <th>Do you trust your elders</th>\n",
              "      <th>Where do you get your News from</th>\n",
              "      <th>Have you understood BBI completely</th>\n",
              "      <th>Will you vote in 2022</th>\n",
              "    </tr>\n",
              "  </thead>\n",
              "  <tbody>\n",
              "    <tr>\n",
              "      <th>5731</th>\n",
              "      <td>kisii</td>\n",
              "      <td>25-30</td>\n",
              "      <td>male</td>\n",
              "      <td>kshs_0___11_000</td>\n",
              "      <td>certificate</td>\n",
              "      <td>cash_crop_farmer_commercial_fi</td>\n",
              "      <td>rural</td>\n",
              "      <td>no</td>\n",
              "      <td>undecided</td>\n",
              "      <td>NaN</td>\n",
              "      <td>i_will_not_vote</td>\n",
              "      <td>raila_odinga</td>\n",
              "      <td>musalia_mudavadi</td>\n",
              "      <td>don_t_care</td>\n",
              "      <td>a_little</td>\n",
              "      <td>no</td>\n",
              "      <td>yes</td>\n",
              "      <td>governor</td>\n",
              "      <td>sometimes</td>\n",
              "      <td>always</td>\n",
              "      <td>always</td>\n",
              "      <td>radio</td>\n",
              "      <td>no</td>\n",
              "      <td>yes</td>\n",
              "    </tr>\n",
              "    <tr>\n",
              "      <th>5732</th>\n",
              "      <td>kisii</td>\n",
              "      <td>25-30</td>\n",
              "      <td>female</td>\n",
              "      <td>kshs_0___11_000</td>\n",
              "      <td>kcse</td>\n",
              "      <td>subsistence_farmer_subsistence</td>\n",
              "      <td>peri_urban</td>\n",
              "      <td>yes</td>\n",
              "      <td>yes</td>\n",
              "      <td>NaN</td>\n",
              "      <td>no__against_it</td>\n",
              "      <td>raila_odinga</td>\n",
              "      <td>raila_odinga</td>\n",
              "      <td>yes</td>\n",
              "      <td>a_little</td>\n",
              "      <td>no</td>\n",
              "      <td>yes</td>\n",
              "      <td>mp</td>\n",
              "      <td>always</td>\n",
              "      <td>always</td>\n",
              "      <td>always</td>\n",
              "      <td>newspapers</td>\n",
              "      <td>no</td>\n",
              "      <td>yes</td>\n",
              "    </tr>\n",
              "    <tr>\n",
              "      <th>5733</th>\n",
              "      <td>kisii</td>\n",
              "      <td>25-30</td>\n",
              "      <td>male</td>\n",
              "      <td>kshs_0___11_000</td>\n",
              "      <td>kcpe</td>\n",
              "      <td>cash_crop_farmer_commercial_fi</td>\n",
              "      <td>rural</td>\n",
              "      <td>yes</td>\n",
              "      <td>undecided</td>\n",
              "      <td>NaN</td>\n",
              "      <td>no__against_it</td>\n",
              "      <td>musalia_mudavadi</td>\n",
              "      <td>fred_matiangi</td>\n",
              "      <td>no</td>\n",
              "      <td>no</td>\n",
              "      <td>yes</td>\n",
              "      <td>yes</td>\n",
              "      <td>my_friends</td>\n",
              "      <td>sometimes</td>\n",
              "      <td>always</td>\n",
              "      <td>always</td>\n",
              "      <td>radio</td>\n",
              "      <td>no</td>\n",
              "      <td>yes</td>\n",
              "    </tr>\n",
              "    <tr>\n",
              "      <th>5734</th>\n",
              "      <td>kisii</td>\n",
              "      <td>36-40</td>\n",
              "      <td>female</td>\n",
              "      <td>kshs_11_001__20_000</td>\n",
              "      <td>diploma</td>\n",
              "      <td>formal_employment__teacher_acc</td>\n",
              "      <td>rural</td>\n",
              "      <td>yes</td>\n",
              "      <td>undecided</td>\n",
              "      <td>NaN</td>\n",
              "      <td>still_deciding</td>\n",
              "      <td>fred_matiangi</td>\n",
              "      <td>william_ruto</td>\n",
              "      <td>thinking_about_it</td>\n",
              "      <td>no</td>\n",
              "      <td>i_do_not_know_about_it</td>\n",
              "      <td>no_response</td>\n",
              "      <td>governor</td>\n",
              "      <td>sometimes</td>\n",
              "      <td>always</td>\n",
              "      <td>always</td>\n",
              "      <td>radio</td>\n",
              "      <td>no</td>\n",
              "      <td>yes</td>\n",
              "    </tr>\n",
              "    <tr>\n",
              "      <th>5735</th>\n",
              "      <td>kisii</td>\n",
              "      <td>18-24</td>\n",
              "      <td>male</td>\n",
              "      <td>kshs_0___11_000</td>\n",
              "      <td>kcse</td>\n",
              "      <td>cash_crop_farmer_commercial_fi</td>\n",
              "      <td>rural</td>\n",
              "      <td>no</td>\n",
              "      <td>undecided</td>\n",
              "      <td>NaN</td>\n",
              "      <td>i_will_not_vote</td>\n",
              "      <td>fred_matiangi</td>\n",
              "      <td>william_ruto</td>\n",
              "      <td>thinking_about_it</td>\n",
              "      <td>no</td>\n",
              "      <td>not_sure</td>\n",
              "      <td>no</td>\n",
              "      <td>governor</td>\n",
              "      <td>never</td>\n",
              "      <td>always</td>\n",
              "      <td>always</td>\n",
              "      <td>radio</td>\n",
              "      <td>maybe</td>\n",
              "      <td>yes</td>\n",
              "    </tr>\n",
              "  </tbody>\n",
              "</table>\n",
              "</div>"
            ],
            "text/plain": [
              "     County    Age  ... Have you understood BBI completely Will you vote in 2022\n",
              "5731  kisii  25-30  ...                                 no                   yes\n",
              "5732  kisii  25-30  ...                                 no                   yes\n",
              "5733  kisii  25-30  ...                                 no                   yes\n",
              "5734  kisii  36-40  ...                                 no                   yes\n",
              "5735  kisii  18-24  ...                              maybe                   yes\n",
              "\n",
              "[5 rows x 24 columns]"
            ]
          },
          "metadata": {
            "tags": []
          },
          "execution_count": 17
        }
      ]
    },
    {
      "cell_type": "code",
      "metadata": {
        "colab": {
          "base_uri": "https://localhost:8080/"
        },
        "id": "3vwsy112Fr1n",
        "outputId": "95bde861-5aa0-488d-fd17-2ee14265043c"
      },
      "source": [
        "df[\"Monthly Income\"]= df[\"Monthly Income\"].str.replace('_',',')\n",
        "df.tail()"
      ],
      "execution_count": null,
      "outputs": [
        {
          "output_type": "execute_result",
          "data": {
            "text/html": [
              "<div>\n",
              "<style scoped>\n",
              "    .dataframe tbody tr th:only-of-type {\n",
              "        vertical-align: middle;\n",
              "    }\n",
              "\n",
              "    .dataframe tbody tr th {\n",
              "        vertical-align: top;\n",
              "    }\n",
              "\n",
              "    .dataframe thead th {\n",
              "        text-align: right;\n",
              "    }\n",
              "</style>\n",
              "<table border=\"1\" class=\"dataframe\">\n",
              "  <thead>\n",
              "    <tr style=\"text-align: right;\">\n",
              "      <th></th>\n",
              "      <th>County</th>\n",
              "      <th>Age</th>\n",
              "      <th>Gender</th>\n",
              "      <th>Monthly Income</th>\n",
              "      <th>Highest Level of Education Attained</th>\n",
              "      <th>Occupation</th>\n",
              "      <th>Location</th>\n",
              "      <th>Did you vote in 2017</th>\n",
              "      <th>Will you vote in the Refere</th>\n",
              "      <th>If No Why</th>\n",
              "      <th>How will you vote in the Referendum</th>\n",
              "      <th>If elections are today who would you vote for</th>\n",
              "      <th>If you dont vote for that one who is your second choice</th>\n",
              "      <th>Do you support BBI</th>\n",
              "      <th>Do you know what BBI wants to change</th>\n",
              "      <th>Do you support the Hustler Nation</th>\n",
              "      <th>Do you think the handshake brought us peace</th>\n",
              "      <th>Who influences youin your community</th>\n",
              "      <th>Do you trust your political leaders</th>\n",
              "      <th>Do you trust your religious leaders</th>\n",
              "      <th>Do you trust your elders</th>\n",
              "      <th>Where do you get your News from</th>\n",
              "      <th>Have you understood BBI completely</th>\n",
              "      <th>Will you vote in 2022</th>\n",
              "    </tr>\n",
              "  </thead>\n",
              "  <tbody>\n",
              "    <tr>\n",
              "      <th>5731</th>\n",
              "      <td>kisii</td>\n",
              "      <td>25-30</td>\n",
              "      <td>male</td>\n",
              "      <td>kshs,0,,,11,000</td>\n",
              "      <td>certificate</td>\n",
              "      <td>cash_crop_farmer_commercial_fi</td>\n",
              "      <td>rural</td>\n",
              "      <td>no</td>\n",
              "      <td>undecided</td>\n",
              "      <td>NaN</td>\n",
              "      <td>i_will_not_vote</td>\n",
              "      <td>raila_odinga</td>\n",
              "      <td>musalia_mudavadi</td>\n",
              "      <td>don_t_care</td>\n",
              "      <td>a_little</td>\n",
              "      <td>no</td>\n",
              "      <td>yes</td>\n",
              "      <td>governor</td>\n",
              "      <td>sometimes</td>\n",
              "      <td>always</td>\n",
              "      <td>always</td>\n",
              "      <td>radio</td>\n",
              "      <td>no</td>\n",
              "      <td>yes</td>\n",
              "    </tr>\n",
              "    <tr>\n",
              "      <th>5732</th>\n",
              "      <td>kisii</td>\n",
              "      <td>25-30</td>\n",
              "      <td>female</td>\n",
              "      <td>kshs,0,,,11,000</td>\n",
              "      <td>kcse</td>\n",
              "      <td>subsistence_farmer_subsistence</td>\n",
              "      <td>peri_urban</td>\n",
              "      <td>yes</td>\n",
              "      <td>yes</td>\n",
              "      <td>NaN</td>\n",
              "      <td>no__against_it</td>\n",
              "      <td>raila_odinga</td>\n",
              "      <td>raila_odinga</td>\n",
              "      <td>yes</td>\n",
              "      <td>a_little</td>\n",
              "      <td>no</td>\n",
              "      <td>yes</td>\n",
              "      <td>mp</td>\n",
              "      <td>always</td>\n",
              "      <td>always</td>\n",
              "      <td>always</td>\n",
              "      <td>newspapers</td>\n",
              "      <td>no</td>\n",
              "      <td>yes</td>\n",
              "    </tr>\n",
              "    <tr>\n",
              "      <th>5733</th>\n",
              "      <td>kisii</td>\n",
              "      <td>25-30</td>\n",
              "      <td>male</td>\n",
              "      <td>kshs,0,,,11,000</td>\n",
              "      <td>kcpe</td>\n",
              "      <td>cash_crop_farmer_commercial_fi</td>\n",
              "      <td>rural</td>\n",
              "      <td>yes</td>\n",
              "      <td>undecided</td>\n",
              "      <td>NaN</td>\n",
              "      <td>no__against_it</td>\n",
              "      <td>musalia_mudavadi</td>\n",
              "      <td>fred_matiangi</td>\n",
              "      <td>no</td>\n",
              "      <td>no</td>\n",
              "      <td>yes</td>\n",
              "      <td>yes</td>\n",
              "      <td>my_friends</td>\n",
              "      <td>sometimes</td>\n",
              "      <td>always</td>\n",
              "      <td>always</td>\n",
              "      <td>radio</td>\n",
              "      <td>no</td>\n",
              "      <td>yes</td>\n",
              "    </tr>\n",
              "    <tr>\n",
              "      <th>5734</th>\n",
              "      <td>kisii</td>\n",
              "      <td>36-40</td>\n",
              "      <td>female</td>\n",
              "      <td>kshs,11,001,,20,000</td>\n",
              "      <td>diploma</td>\n",
              "      <td>formal_employment__teacher_acc</td>\n",
              "      <td>rural</td>\n",
              "      <td>yes</td>\n",
              "      <td>undecided</td>\n",
              "      <td>NaN</td>\n",
              "      <td>still_deciding</td>\n",
              "      <td>fred_matiangi</td>\n",
              "      <td>william_ruto</td>\n",
              "      <td>thinking_about_it</td>\n",
              "      <td>no</td>\n",
              "      <td>i_do_not_know_about_it</td>\n",
              "      <td>no_response</td>\n",
              "      <td>governor</td>\n",
              "      <td>sometimes</td>\n",
              "      <td>always</td>\n",
              "      <td>always</td>\n",
              "      <td>radio</td>\n",
              "      <td>no</td>\n",
              "      <td>yes</td>\n",
              "    </tr>\n",
              "    <tr>\n",
              "      <th>5735</th>\n",
              "      <td>kisii</td>\n",
              "      <td>18-24</td>\n",
              "      <td>male</td>\n",
              "      <td>kshs,0,,,11,000</td>\n",
              "      <td>kcse</td>\n",
              "      <td>cash_crop_farmer_commercial_fi</td>\n",
              "      <td>rural</td>\n",
              "      <td>no</td>\n",
              "      <td>undecided</td>\n",
              "      <td>NaN</td>\n",
              "      <td>i_will_not_vote</td>\n",
              "      <td>fred_matiangi</td>\n",
              "      <td>william_ruto</td>\n",
              "      <td>thinking_about_it</td>\n",
              "      <td>no</td>\n",
              "      <td>not_sure</td>\n",
              "      <td>no</td>\n",
              "      <td>governor</td>\n",
              "      <td>never</td>\n",
              "      <td>always</td>\n",
              "      <td>always</td>\n",
              "      <td>radio</td>\n",
              "      <td>maybe</td>\n",
              "      <td>yes</td>\n",
              "    </tr>\n",
              "  </tbody>\n",
              "</table>\n",
              "</div>"
            ],
            "text/plain": [
              "     County    Age  ... Have you understood BBI completely Will you vote in 2022\n",
              "5731  kisii  25-30  ...                                 no                   yes\n",
              "5732  kisii  25-30  ...                                 no                   yes\n",
              "5733  kisii  25-30  ...                                 no                   yes\n",
              "5734  kisii  36-40  ...                                 no                   yes\n",
              "5735  kisii  18-24  ...                              maybe                   yes\n",
              "\n",
              "[5 rows x 24 columns]"
            ]
          },
          "metadata": {
            "tags": []
          },
          "execution_count": 18
        }
      ]
    },
    {
      "cell_type": "code",
      "metadata": {
        "colab": {
          "base_uri": "https://localhost:8080/"
        },
        "id": "OR8os24ME1l_",
        "outputId": "66a54545-937c-43c1-f019-2325c9f1aaae"
      },
      "source": [
        "\n",
        "df[\"Monthly Income\"]= df[\"Monthly Income\"].str.replace(',,,','-')\n",
        "df[\"Monthly Income\"]= df[\"Monthly Income\"].str.replace(',,','-')\n",
        "df.tail()"
      ],
      "execution_count": null,
      "outputs": [
        {
          "output_type": "execute_result",
          "data": {
            "text/html": [
              "<div>\n",
              "<style scoped>\n",
              "    .dataframe tbody tr th:only-of-type {\n",
              "        vertical-align: middle;\n",
              "    }\n",
              "\n",
              "    .dataframe tbody tr th {\n",
              "        vertical-align: top;\n",
              "    }\n",
              "\n",
              "    .dataframe thead th {\n",
              "        text-align: right;\n",
              "    }\n",
              "</style>\n",
              "<table border=\"1\" class=\"dataframe\">\n",
              "  <thead>\n",
              "    <tr style=\"text-align: right;\">\n",
              "      <th></th>\n",
              "      <th>County</th>\n",
              "      <th>Age</th>\n",
              "      <th>Gender</th>\n",
              "      <th>Monthly Income</th>\n",
              "      <th>Highest Level of Education Attained</th>\n",
              "      <th>Occupation</th>\n",
              "      <th>Location</th>\n",
              "      <th>Did you vote in 2017</th>\n",
              "      <th>Will you vote in the Refere</th>\n",
              "      <th>If No Why</th>\n",
              "      <th>How will you vote in the Referendum</th>\n",
              "      <th>If elections are today who would you vote for</th>\n",
              "      <th>If you dont vote for that one who is your second choice</th>\n",
              "      <th>Do you support BBI</th>\n",
              "      <th>Do you know what BBI wants to change</th>\n",
              "      <th>Do you support the Hustler Nation</th>\n",
              "      <th>Do you think the handshake brought us peace</th>\n",
              "      <th>Who influences youin your community</th>\n",
              "      <th>Do you trust your political leaders</th>\n",
              "      <th>Do you trust your religious leaders</th>\n",
              "      <th>Do you trust your elders</th>\n",
              "      <th>Where do you get your News from</th>\n",
              "      <th>Have you understood BBI completely</th>\n",
              "      <th>Will you vote in 2022</th>\n",
              "    </tr>\n",
              "  </thead>\n",
              "  <tbody>\n",
              "    <tr>\n",
              "      <th>5731</th>\n",
              "      <td>kisii</td>\n",
              "      <td>25-30</td>\n",
              "      <td>male</td>\n",
              "      <td>kshs,0-11,000</td>\n",
              "      <td>certificate</td>\n",
              "      <td>cash_crop_farmer_commercial_fi</td>\n",
              "      <td>rural</td>\n",
              "      <td>no</td>\n",
              "      <td>undecided</td>\n",
              "      <td>NaN</td>\n",
              "      <td>i_will_not_vote</td>\n",
              "      <td>raila_odinga</td>\n",
              "      <td>musalia_mudavadi</td>\n",
              "      <td>don_t_care</td>\n",
              "      <td>a_little</td>\n",
              "      <td>no</td>\n",
              "      <td>yes</td>\n",
              "      <td>governor</td>\n",
              "      <td>sometimes</td>\n",
              "      <td>always</td>\n",
              "      <td>always</td>\n",
              "      <td>radio</td>\n",
              "      <td>no</td>\n",
              "      <td>yes</td>\n",
              "    </tr>\n",
              "    <tr>\n",
              "      <th>5732</th>\n",
              "      <td>kisii</td>\n",
              "      <td>25-30</td>\n",
              "      <td>female</td>\n",
              "      <td>kshs,0-11,000</td>\n",
              "      <td>kcse</td>\n",
              "      <td>subsistence_farmer_subsistence</td>\n",
              "      <td>peri_urban</td>\n",
              "      <td>yes</td>\n",
              "      <td>yes</td>\n",
              "      <td>NaN</td>\n",
              "      <td>no__against_it</td>\n",
              "      <td>raila_odinga</td>\n",
              "      <td>raila_odinga</td>\n",
              "      <td>yes</td>\n",
              "      <td>a_little</td>\n",
              "      <td>no</td>\n",
              "      <td>yes</td>\n",
              "      <td>mp</td>\n",
              "      <td>always</td>\n",
              "      <td>always</td>\n",
              "      <td>always</td>\n",
              "      <td>newspapers</td>\n",
              "      <td>no</td>\n",
              "      <td>yes</td>\n",
              "    </tr>\n",
              "    <tr>\n",
              "      <th>5733</th>\n",
              "      <td>kisii</td>\n",
              "      <td>25-30</td>\n",
              "      <td>male</td>\n",
              "      <td>kshs,0-11,000</td>\n",
              "      <td>kcpe</td>\n",
              "      <td>cash_crop_farmer_commercial_fi</td>\n",
              "      <td>rural</td>\n",
              "      <td>yes</td>\n",
              "      <td>undecided</td>\n",
              "      <td>NaN</td>\n",
              "      <td>no__against_it</td>\n",
              "      <td>musalia_mudavadi</td>\n",
              "      <td>fred_matiangi</td>\n",
              "      <td>no</td>\n",
              "      <td>no</td>\n",
              "      <td>yes</td>\n",
              "      <td>yes</td>\n",
              "      <td>my_friends</td>\n",
              "      <td>sometimes</td>\n",
              "      <td>always</td>\n",
              "      <td>always</td>\n",
              "      <td>radio</td>\n",
              "      <td>no</td>\n",
              "      <td>yes</td>\n",
              "    </tr>\n",
              "    <tr>\n",
              "      <th>5734</th>\n",
              "      <td>kisii</td>\n",
              "      <td>36-40</td>\n",
              "      <td>female</td>\n",
              "      <td>kshs,11,001-20,000</td>\n",
              "      <td>diploma</td>\n",
              "      <td>formal_employment__teacher_acc</td>\n",
              "      <td>rural</td>\n",
              "      <td>yes</td>\n",
              "      <td>undecided</td>\n",
              "      <td>NaN</td>\n",
              "      <td>still_deciding</td>\n",
              "      <td>fred_matiangi</td>\n",
              "      <td>william_ruto</td>\n",
              "      <td>thinking_about_it</td>\n",
              "      <td>no</td>\n",
              "      <td>i_do_not_know_about_it</td>\n",
              "      <td>no_response</td>\n",
              "      <td>governor</td>\n",
              "      <td>sometimes</td>\n",
              "      <td>always</td>\n",
              "      <td>always</td>\n",
              "      <td>radio</td>\n",
              "      <td>no</td>\n",
              "      <td>yes</td>\n",
              "    </tr>\n",
              "    <tr>\n",
              "      <th>5735</th>\n",
              "      <td>kisii</td>\n",
              "      <td>18-24</td>\n",
              "      <td>male</td>\n",
              "      <td>kshs,0-11,000</td>\n",
              "      <td>kcse</td>\n",
              "      <td>cash_crop_farmer_commercial_fi</td>\n",
              "      <td>rural</td>\n",
              "      <td>no</td>\n",
              "      <td>undecided</td>\n",
              "      <td>NaN</td>\n",
              "      <td>i_will_not_vote</td>\n",
              "      <td>fred_matiangi</td>\n",
              "      <td>william_ruto</td>\n",
              "      <td>thinking_about_it</td>\n",
              "      <td>no</td>\n",
              "      <td>not_sure</td>\n",
              "      <td>no</td>\n",
              "      <td>governor</td>\n",
              "      <td>never</td>\n",
              "      <td>always</td>\n",
              "      <td>always</td>\n",
              "      <td>radio</td>\n",
              "      <td>maybe</td>\n",
              "      <td>yes</td>\n",
              "    </tr>\n",
              "  </tbody>\n",
              "</table>\n",
              "</div>"
            ],
            "text/plain": [
              "     County    Age  ... Have you understood BBI completely Will you vote in 2022\n",
              "5731  kisii  25-30  ...                                 no                   yes\n",
              "5732  kisii  25-30  ...                                 no                   yes\n",
              "5733  kisii  25-30  ...                                 no                   yes\n",
              "5734  kisii  36-40  ...                                 no                   yes\n",
              "5735  kisii  18-24  ...                              maybe                   yes\n",
              "\n",
              "[5 rows x 24 columns]"
            ]
          },
          "metadata": {
            "tags": []
          },
          "execution_count": 19
        }
      ]
    },
    {
      "cell_type": "code",
      "metadata": {
        "colab": {
          "base_uri": "https://localhost:8080/"
        },
        "id": "5hFJfqumIUVX",
        "outputId": "152af791-afaa-40be-9a40-1f8db4eb8ee8"
      },
      "source": [
        "df[\"Monthly Income (Kshs)\"]= df[\"Monthly Income\"].str.replace('kshs,','')\n",
        "\n",
        "df[\"Monthly Income\"]= df[\"Monthly Income (Kshs)\"]\n",
        "df.head()"
      ],
      "execution_count": null,
      "outputs": [
        {
          "output_type": "execute_result",
          "data": {
            "text/html": [
              "<div>\n",
              "<style scoped>\n",
              "    .dataframe tbody tr th:only-of-type {\n",
              "        vertical-align: middle;\n",
              "    }\n",
              "\n",
              "    .dataframe tbody tr th {\n",
              "        vertical-align: top;\n",
              "    }\n",
              "\n",
              "    .dataframe thead th {\n",
              "        text-align: right;\n",
              "    }\n",
              "</style>\n",
              "<table border=\"1\" class=\"dataframe\">\n",
              "  <thead>\n",
              "    <tr style=\"text-align: right;\">\n",
              "      <th></th>\n",
              "      <th>County</th>\n",
              "      <th>Age</th>\n",
              "      <th>Gender</th>\n",
              "      <th>Monthly Income</th>\n",
              "      <th>Highest Level of Education Attained</th>\n",
              "      <th>Occupation</th>\n",
              "      <th>Location</th>\n",
              "      <th>Did you vote in 2017</th>\n",
              "      <th>Will you vote in the Refere</th>\n",
              "      <th>If No Why</th>\n",
              "      <th>How will you vote in the Referendum</th>\n",
              "      <th>If elections are today who would you vote for</th>\n",
              "      <th>If you dont vote for that one who is your second choice</th>\n",
              "      <th>Do you support BBI</th>\n",
              "      <th>Do you know what BBI wants to change</th>\n",
              "      <th>Do you support the Hustler Nation</th>\n",
              "      <th>Do you think the handshake brought us peace</th>\n",
              "      <th>Who influences youin your community</th>\n",
              "      <th>Do you trust your political leaders</th>\n",
              "      <th>Do you trust your religious leaders</th>\n",
              "      <th>Do you trust your elders</th>\n",
              "      <th>Where do you get your News from</th>\n",
              "      <th>Have you understood BBI completely</th>\n",
              "      <th>Will you vote in 2022</th>\n",
              "      <th>Monthly Income (Kshs)</th>\n",
              "    </tr>\n",
              "  </thead>\n",
              "  <tbody>\n",
              "    <tr>\n",
              "      <th>0</th>\n",
              "      <td>trans_nzoia</td>\n",
              "      <td>25-30</td>\n",
              "      <td>male</td>\n",
              "      <td>0-11,000</td>\n",
              "      <td>kcpe</td>\n",
              "      <td>hustler</td>\n",
              "      <td>urban</td>\n",
              "      <td>yes</td>\n",
              "      <td>undecided</td>\n",
              "      <td>NaN</td>\n",
              "      <td>still_deciding</td>\n",
              "      <td>raila_odinga</td>\n",
              "      <td>none</td>\n",
              "      <td>thinking_about_it</td>\n",
              "      <td>yes</td>\n",
              "      <td>no_response</td>\n",
              "      <td>no_response</td>\n",
              "      <td>no_one</td>\n",
              "      <td>rarely</td>\n",
              "      <td>never</td>\n",
              "      <td>often</td>\n",
              "      <td>tv</td>\n",
              "      <td>i_don_t_care</td>\n",
              "      <td>response</td>\n",
              "      <td>0-11,000</td>\n",
              "    </tr>\n",
              "    <tr>\n",
              "      <th>1</th>\n",
              "      <td>mombasa</td>\n",
              "      <td>25-30</td>\n",
              "      <td>male</td>\n",
              "      <td>11,001-20,000</td>\n",
              "      <td>kcpe</td>\n",
              "      <td>business_owner__hotel_shop_kio</td>\n",
              "      <td>peri_urban</td>\n",
              "      <td>yes</td>\n",
              "      <td>no</td>\n",
              "      <td>i_do_not_understand_bbi</td>\n",
              "      <td>still_deciding</td>\n",
              "      <td>kalonzo_musyoka</td>\n",
              "      <td>musalia_mudavadi</td>\n",
              "      <td>thinking_about_it</td>\n",
              "      <td>no</td>\n",
              "      <td>no</td>\n",
              "      <td>yes</td>\n",
              "      <td>mcas</td>\n",
              "      <td>rarely</td>\n",
              "      <td>rarely</td>\n",
              "      <td>rarely</td>\n",
              "      <td>radio</td>\n",
              "      <td>no</td>\n",
              "      <td>yes</td>\n",
              "      <td>11,001-20,000</td>\n",
              "    </tr>\n",
              "    <tr>\n",
              "      <th>2</th>\n",
              "      <td>kitui</td>\n",
              "      <td>25-30</td>\n",
              "      <td>female</td>\n",
              "      <td>20,001-50,000</td>\n",
              "      <td>diploma</td>\n",
              "      <td>formal_employment__teacher_acc</td>\n",
              "      <td>urban</td>\n",
              "      <td>yes</td>\n",
              "      <td>yes</td>\n",
              "      <td>NaN</td>\n",
              "      <td>yes__for_it</td>\n",
              "      <td>raila_odinga</td>\n",
              "      <td>musalia_mudavadi</td>\n",
              "      <td>yes</td>\n",
              "      <td>yes</td>\n",
              "      <td>no</td>\n",
              "      <td>yes</td>\n",
              "      <td>no_one</td>\n",
              "      <td>sometimes</td>\n",
              "      <td>often</td>\n",
              "      <td>always</td>\n",
              "      <td>tv</td>\n",
              "      <td>yes</td>\n",
              "      <td>yes</td>\n",
              "      <td>20,001-50,000</td>\n",
              "    </tr>\n",
              "    <tr>\n",
              "      <th>3</th>\n",
              "      <td>migori</td>\n",
              "      <td>31-35</td>\n",
              "      <td>male</td>\n",
              "      <td>11,001-20,000</td>\n",
              "      <td>diploma</td>\n",
              "      <td>hustler</td>\n",
              "      <td>urban</td>\n",
              "      <td>no</td>\n",
              "      <td>yes</td>\n",
              "      <td>NaN</td>\n",
              "      <td>yes__for_it</td>\n",
              "      <td>raila_odinga</td>\n",
              "      <td>william_ruto</td>\n",
              "      <td>yes</td>\n",
              "      <td>yes</td>\n",
              "      <td>yes</td>\n",
              "      <td>yes</td>\n",
              "      <td>chief</td>\n",
              "      <td>always</td>\n",
              "      <td>always</td>\n",
              "      <td>always</td>\n",
              "      <td>tv</td>\n",
              "      <td>yes</td>\n",
              "      <td>yes</td>\n",
              "      <td>11,001-20,000</td>\n",
              "    </tr>\n",
              "    <tr>\n",
              "      <th>4</th>\n",
              "      <td>mombasa</td>\n",
              "      <td>41-50</td>\n",
              "      <td>male</td>\n",
              "      <td>0-11,000</td>\n",
              "      <td>certificate</td>\n",
              "      <td>informal_employment__jua_kali_</td>\n",
              "      <td>peri_urban</td>\n",
              "      <td>yes</td>\n",
              "      <td>yes</td>\n",
              "      <td>NaN</td>\n",
              "      <td>no__against_it</td>\n",
              "      <td>william_ruto</td>\n",
              "      <td>peter_kenneth</td>\n",
              "      <td>no</td>\n",
              "      <td>yes</td>\n",
              "      <td>yes</td>\n",
              "      <td>no</td>\n",
              "      <td>business_leaders</td>\n",
              "      <td>never</td>\n",
              "      <td>never</td>\n",
              "      <td>never</td>\n",
              "      <td>tv</td>\n",
              "      <td>no</td>\n",
              "      <td>yes</td>\n",
              "      <td>0-11,000</td>\n",
              "    </tr>\n",
              "  </tbody>\n",
              "</table>\n",
              "</div>"
            ],
            "text/plain": [
              "        County    Age  ... Will you vote in 2022 Monthly Income (Kshs)\n",
              "0  trans_nzoia  25-30  ...              response              0-11,000\n",
              "1      mombasa  25-30  ...                   yes         11,001-20,000\n",
              "2        kitui  25-30  ...                   yes         20,001-50,000\n",
              "3       migori  31-35  ...                   yes         11,001-20,000\n",
              "4      mombasa  41-50  ...                   yes              0-11,000\n",
              "\n",
              "[5 rows x 25 columns]"
            ]
          },
          "metadata": {
            "tags": []
          },
          "execution_count": 21
        }
      ]
    },
    {
      "cell_type": "code",
      "metadata": {
        "id": "n2Bb0-UEJRL5"
      },
      "source": [
        "df.to_csv('df_new.csv')\n",
        "df_new"
      ],
      "execution_count": null,
      "outputs": []
    },
    {
      "cell_type": "markdown",
      "metadata": {
        "id": "o8OV7L_27NRJ"
      },
      "source": [
        "# Completeness"
      ]
    },
    {
      "cell_type": "code",
      "metadata": {
        "colab": {
          "base_uri": "https://localhost:8080/"
        },
        "id": "pNJCOiFd7SCo",
        "outputId": "655a2c09-70e0-4044-a8f0-618c6248fb94"
      },
      "source": [
        "df_new =pd.read_csv('/content/df_new.csv')\n",
        "# df_new.head()\n",
        "inf(df_new)"
      ],
      "execution_count": null,
      "outputs": [
        {
          "output_type": "stream",
          "text": [
            "<class 'pandas.core.frame.DataFrame'>\n",
            "RangeIndex: 5736 entries, 0 to 5735\n",
            "Data columns (total 25 columns):\n",
            " #   Column                                                   Non-Null Count  Dtype \n",
            "---  ------                                                   --------------  ----- \n",
            " 0   County                                                   5736 non-null   object\n",
            " 1   Age                                                      5736 non-null   object\n",
            " 2   Gender                                                   5736 non-null   object\n",
            " 3   Monthly Income                                           5736 non-null   object\n",
            " 4   Highest Level of Education Attained                      5736 non-null   object\n",
            " 5   Occupation                                               5736 non-null   object\n",
            " 6   Location                                                 5736 non-null   object\n",
            " 7   Did you vote in 2017                                     5736 non-null   object\n",
            " 8   Will you vote in the Refere                              5736 non-null   object\n",
            " 9   If No Why                                                1377 non-null   object\n",
            " 10  How will you vote in the Referendum                      5736 non-null   object\n",
            " 11  If elections are today who would you vote for            5736 non-null   object\n",
            " 12  If you dont vote for that one who is your second choice  5736 non-null   object\n",
            " 13  Do you support BBI                                       5736 non-null   object\n",
            " 14  Do you know what BBI wants to change                     5736 non-null   object\n",
            " 15  Do you support the Hustler Nation                        5736 non-null   object\n",
            " 16  Do you think the handshake brought us peace              5736 non-null   object\n",
            " 17  Who influences youin your community                      5736 non-null   object\n",
            " 18  Do you trust your political leaders                      5736 non-null   object\n",
            " 19  Do you trust your religious leaders                      5736 non-null   object\n",
            " 20  Do you trust your elders                                 5736 non-null   object\n",
            " 21  Where do you get your News from                          5736 non-null   object\n",
            " 22  Have you understood BBI completely                       5736 non-null   object\n",
            " 23  Will you vote in 2022                                    5736 non-null   object\n",
            " 24  Monthly Income (Kshs)                                    5736 non-null   object\n",
            "dtypes: object(25)\n",
            "memory usage: 1.1+ MB\n"
          ],
          "name": "stdout"
        }
      ]
    },
    {
      "cell_type": "code",
      "metadata": {
        "colab": {
          "base_uri": "https://localhost:8080/"
        },
        "id": "P2b8UNRWK9P8",
        "outputId": "574517a0-6143-422d-e4f3-ef7107557331"
      },
      "source": [
        "#checking for columns with null entries\n",
        "df_new.isnull().any()\n"
      ],
      "execution_count": null,
      "outputs": [
        {
          "output_type": "execute_result",
          "data": {
            "text/plain": [
              "Unnamed: 0                                                 False\n",
              "County                                                     False\n",
              "Age                                                        False\n",
              "Gender                                                     False\n",
              "Monthly Income                                             False\n",
              "Highest Level of Education Attained                        False\n",
              "Occupation                                                 False\n",
              "Location                                                   False\n",
              "Did you vote in 2017                                       False\n",
              "Will you vote in the Refere                                False\n",
              "If No Why                                                   True\n",
              "How will you vote in the Referendum                        False\n",
              "If elections are today who would you vote for              False\n",
              "If you dont vote for that one who is your second choice    False\n",
              "Do you support BBI                                         False\n",
              "Do you know what BBI wants to change                       False\n",
              "Do you support the Hustler Nation                          False\n",
              "Do you think the handshake brought us peace                False\n",
              "Who influences youin your community                        False\n",
              "Do you trust your political leaders                        False\n",
              "Do you trust your religious leaders                        False\n",
              "Do you trust your elders                                   False\n",
              "Where do you get your News from                            False\n",
              "Have you understood BBI completely                         False\n",
              "Will you vote in 2022                                      False\n",
              "Monthly Income (Kshs)                                      False\n",
              "dtype: bool"
            ]
          },
          "metadata": {
            "tags": []
          },
          "execution_count": 23
        }
      ]
    },
    {
      "cell_type": "code",
      "metadata": {
        "colab": {
          "base_uri": "https://localhost:8080/"
        },
        "id": "Rd2dED2iLV43",
        "outputId": "fb0d250f-33e9-4de5-e926-5fab6e0b6d8b"
      },
      "source": [
        "#number of null entries\n",
        "df_new.isnull().sum().sum()"
      ],
      "execution_count": null,
      "outputs": [
        {
          "output_type": "execute_result",
          "data": {
            "text/plain": [
              "4359"
            ]
          },
          "metadata": {
            "tags": []
          },
          "execution_count": 24
        }
      ]
    },
    {
      "cell_type": "markdown",
      "metadata": {
        "id": "0gcDfmT77S7_"
      },
      "source": [
        "# Consistency"
      ]
    },
    {
      "cell_type": "code",
      "metadata": {
        "colab": {
          "base_uri": "https://localhost:8080/"
        },
        "id": "PRZaJBN_7Yo3",
        "outputId": "20133c05-bb05-4af5-9527-0c8125d8a69c"
      },
      "source": [
        "#checking our data for duplicates\n",
        "df_new.duplicated().sum()"
      ],
      "execution_count": null,
      "outputs": [
        {
          "output_type": "execute_result",
          "data": {
            "text/plain": [
              "0"
            ]
          },
          "metadata": {
            "tags": []
          },
          "execution_count": 25
        }
      ]
    },
    {
      "cell_type": "code",
      "metadata": {
        "id": "UA3Ou_OwLJbg",
        "colab": {
          "base_uri": "https://localhost:8080/"
        },
        "outputId": "ebbb7db1-3e77-412e-ff52-275e80589424"
      },
      "source": [
        "#outliers\n",
        "inf(df_new)"
      ],
      "execution_count": null,
      "outputs": [
        {
          "output_type": "stream",
          "text": [
            "<class 'pandas.core.frame.DataFrame'>\n",
            "RangeIndex: 5736 entries, 0 to 5735\n",
            "Data columns (total 25 columns):\n",
            " #   Column                                                   Non-Null Count  Dtype \n",
            "---  ------                                                   --------------  ----- \n",
            " 0   County                                                   5736 non-null   object\n",
            " 1   Age                                                      5736 non-null   object\n",
            " 2   Gender                                                   5736 non-null   object\n",
            " 3   Monthly Income                                           5736 non-null   object\n",
            " 4   Highest Level of Education Attained                      5736 non-null   object\n",
            " 5   Occupation                                               5736 non-null   object\n",
            " 6   Location                                                 5736 non-null   object\n",
            " 7   Did you vote in 2017                                     5736 non-null   object\n",
            " 8   Will you vote in the Refere                              5736 non-null   object\n",
            " 9   If No Why                                                1377 non-null   object\n",
            " 10  How will you vote in the Referendum                      5736 non-null   object\n",
            " 11  If elections are today who would you vote for            5736 non-null   object\n",
            " 12  If you dont vote for that one who is your second choice  5736 non-null   object\n",
            " 13  Do you support BBI                                       5736 non-null   object\n",
            " 14  Do you know what BBI wants to change                     5736 non-null   object\n",
            " 15  Do you support the Hustler Nation                        5736 non-null   object\n",
            " 16  Do you think the handshake brought us peace              5736 non-null   object\n",
            " 17  Who influences youin your community                      5736 non-null   object\n",
            " 18  Do you trust your political leaders                      5736 non-null   object\n",
            " 19  Do you trust your religious leaders                      5736 non-null   object\n",
            " 20  Do you trust your elders                                 5736 non-null   object\n",
            " 21  Where do you get your News from                          5736 non-null   object\n",
            " 22  Have you understood BBI completely                       5736 non-null   object\n",
            " 23  Will you vote in 2022                                    5736 non-null   object\n",
            " 24  Monthly Income (Kshs)                                    5736 non-null   object\n",
            "dtypes: object(25)\n",
            "memory usage: 1.1+ MB\n"
          ],
          "name": "stdout"
        }
      ]
    },
    {
      "cell_type": "code",
      "metadata": {
        "id": "JUdP7soWV5AT"
      },
      "source": [
        ""
      ],
      "execution_count": null,
      "outputs": []
    },
    {
      "cell_type": "markdown",
      "metadata": {
        "id": "v7T2eacoW6iN"
      },
      "source": [
        "# Answering the research questions\n"
      ]
    },
    {
      "cell_type": "code",
      "metadata": {
        "colab": {
          "base_uri": "https://localhost:8080/"
        },
        "id": "HvXIj0AKXFHp",
        "outputId": "b98fb007-a4ee-473a-d032-b0bd7f409627"
      },
      "source": [
        "# Do Kenyans understand what the BBI entails?\n",
        "df_new[\"Do you know what BBI wants to change\"].unique()"
      ],
      "execution_count": null,
      "outputs": [
        {
          "output_type": "execute_result",
          "data": {
            "text/plain": [
              "array(['yes', 'no', 'a_little'], dtype=object)"
            ]
          },
          "metadata": {
            "tags": []
          },
          "execution_count": 33
        }
      ]
    },
    {
      "cell_type": "code",
      "metadata": {
        "colab": {
          "base_uri": "https://localhost:8080/"
        },
        "id": "T0-NcFvJY4Ss",
        "outputId": "824ef0fa-619b-4422-d210-f885eab89b6e"
      },
      "source": [
        "#kenyans who knows BBI\n",
        "know = df_new[\"Do you know what BBI wants to change\"] == \"yes\"\n",
        "know.sum()"
      ],
      "execution_count": null,
      "outputs": [
        {
          "output_type": "execute_result",
          "data": {
            "text/plain": [
              "1077"
            ]
          },
          "metadata": {
            "tags": []
          },
          "execution_count": 45
        }
      ]
    },
    {
      "cell_type": "code",
      "metadata": {
        "colab": {
          "base_uri": "https://localhost:8080/"
        },
        "id": "6bVYnn3BaOe5",
        "outputId": "6bbdeb8b-4ad3-43c5-9f5f-e20b9653b5e9"
      },
      "source": [
        "#who do not know \n",
        "no = df_new['Do you know what BBI wants to change'] == 'no'\n",
        "no.sum()"
      ],
      "execution_count": null,
      "outputs": [
        {
          "output_type": "execute_result",
          "data": {
            "text/plain": [
              "2748"
            ]
          },
          "metadata": {
            "tags": []
          },
          "execution_count": 46
        }
      ]
    },
    {
      "cell_type": "code",
      "metadata": {
        "colab": {
          "base_uri": "https://localhost:8080/"
        },
        "id": "QTfnjSdKauCQ",
        "outputId": "1da0f2f0-bd66-4d23-edde-281768fecaa6"
      },
      "source": [
        "#who know little about BBI\n",
        "little=df_new['Do you know what BBI wants to change'] == 'a_little'\n",
        "little.sum()"
      ],
      "execution_count": null,
      "outputs": [
        {
          "output_type": "execute_result",
          "data": {
            "text/plain": [
              "1911"
            ]
          },
          "metadata": {
            "tags": []
          },
          "execution_count": 47
        }
      ]
    },
    {
      "cell_type": "code",
      "metadata": {
        "colab": {
          "base_uri": "https://localhost:8080/"
        },
        "id": "Z68MK6k7b2Q6",
        "outputId": "9b81584f-0c34-4703-8225-75640f10a556"
      },
      "source": [
        "# Where do you get your News from\n",
        "df_new[\"Where do you get your News from\"].unique()"
      ],
      "execution_count": null,
      "outputs": [
        {
          "output_type": "execute_result",
          "data": {
            "text/plain": [
              "array(['tv', 'radio', 'whatsapp', 'facebook', 'youtube', 'newspapers',\n",
              "       'my_friends', 'twitter'], dtype=object)"
            ]
          },
          "metadata": {
            "tags": []
          },
          "execution_count": 49
        }
      ]
    },
    {
      "cell_type": "code",
      "metadata": {
        "colab": {
          "base_uri": "https://localhost:8080/"
        },
        "id": "uAKXnJgRcw7z",
        "outputId": "5a2037da-ea97-4e7b-85ce-a68568958ce5"
      },
      "source": [
        "#Where do you get your News from\n",
        "df_new['Where do you get your News from'].value_counts()"
      ],
      "execution_count": null,
      "outputs": [
        {
          "output_type": "execute_result",
          "data": {
            "text/plain": [
              "tv            2746\n",
              "radio         1698\n",
              "facebook       438\n",
              "whatsapp       276\n",
              "twitter        188\n",
              "newspapers     174\n",
              "youtube        109\n",
              "my_friends     107\n",
              "Name: Where do you get your News from, dtype: int64"
            ]
          },
          "metadata": {
            "tags": []
          },
          "execution_count": 58
        }
      ]
    },
    {
      "cell_type": "code",
      "metadata": {
        "colab": {
          "base_uri": "https://localhost:8080/"
        },
        "id": "QMxV3OtBhwGe",
        "outputId": "5c21268b-146b-4e3c-d920-90c740cee8f2"
      },
      "source": [
        "#those who know about bbi and where they get knews from\n",
        "yes_only = df_new.loc[(df['Do you know what BBI wants to change'] == 'yes')]\n",
        "yes_only\n",
        "allyes = yes_only.groupby('Where do you get your News from')[['Do you know what BBI wants to change']].count()\n",
        "allyes['Do you know what BBI wants to change']"
      ],
      "execution_count": null,
      "outputs": [
        {
          "output_type": "execute_result",
          "data": {
            "text/plain": [
              "Where do you get your News from\n",
              "facebook       78\n",
              "my_friends     14\n",
              "newspapers     67\n",
              "radio         199\n",
              "tv            587\n",
              "twitter        56\n",
              "whatsapp       50\n",
              "youtube        26\n",
              "Name: Do you know what BBI wants to change, dtype: int64"
            ]
          },
          "metadata": {
            "tags": []
          },
          "execution_count": 70
        }
      ]
    },
    {
      "cell_type": "code",
      "metadata": {
        "colab": {
          "base_uri": "https://localhost:8080/"
        },
        "id": "tZvlG1N1k1tM",
        "outputId": "ab01038b-2c2e-4fd3-f510-baf508e566f5"
      },
      "source": [
        "#those who know a little about bbi and where they get knews from\n",
        "little = df_new.loc[(df['Do you know what BBI wants to change'] == 'a_little')]\n",
        "little\n",
        "alittle = little.groupby('Where do you get your News from')[['Do you know what BBI wants to change']].count()\n",
        "alittle['Do you know what BBI wants to change']"
      ],
      "execution_count": null,
      "outputs": [
        {
          "output_type": "execute_result",
          "data": {
            "text/plain": [
              "Where do you get your News from\n",
              "facebook      147\n",
              "my_friends     23\n",
              "newspapers     51\n",
              "radio         499\n",
              "tv            986\n",
              "twitter        64\n",
              "whatsapp      103\n",
              "youtube        38\n",
              "Name: Do you know what BBI wants to change, dtype: int64"
            ]
          },
          "metadata": {
            "tags": []
          },
          "execution_count": 73
        }
      ]
    },
    {
      "cell_type": "code",
      "metadata": {
        "colab": {
          "base_uri": "https://localhost:8080/"
        },
        "id": "qALLKMOYnf3i",
        "outputId": "c6546248-71c7-4f60-f73a-5e869b57475f"
      },
      "source": [
        "df_new[\"Do you support BBI\"].unique()"
      ],
      "execution_count": null,
      "outputs": [
        {
          "output_type": "execute_result",
          "data": {
            "text/plain": [
              "array(['thinking_about_it', 'yes', 'no', 'don_t_care'], dtype=object)"
            ]
          },
          "metadata": {
            "tags": []
          },
          "execution_count": 75
        }
      ]
    },
    {
      "cell_type": "code",
      "metadata": {
        "colab": {
          "base_uri": "https://localhost:8080/"
        },
        "id": "2Y-7hPb5nul9",
        "outputId": "39dfad40-a080-4c0d-ba47-49cc50568ee9"
      },
      "source": [
        "# those thinking about it but not decided on whether to support BBi\n",
        "thinking = df_new[\"Do you support BBI\"] == \"thinking_about_it\"\n",
        "thinking.sum()"
      ],
      "execution_count": null,
      "outputs": [
        {
          "output_type": "execute_result",
          "data": {
            "text/plain": [
              "1128"
            ]
          },
          "metadata": {
            "tags": []
          },
          "execution_count": 76
        }
      ]
    },
    {
      "cell_type": "code",
      "metadata": {
        "colab": {
          "base_uri": "https://localhost:8080/"
        },
        "id": "H0iFH6-doLyf",
        "outputId": "1b24b087-7b7f-49e5-ec4c-57fabff3889a"
      },
      "source": [
        "#those in full support of BBI\n",
        "fullsupport = df_new[\"Do you support BBI\"] == \"yes\"\n",
        "fullsupport.sum()"
      ],
      "execution_count": null,
      "outputs": [
        {
          "output_type": "execute_result",
          "data": {
            "text/plain": [
              "1651"
            ]
          },
          "metadata": {
            "tags": []
          },
          "execution_count": 77
        }
      ]
    },
    {
      "cell_type": "code",
      "metadata": {
        "colab": {
          "base_uri": "https://localhost:8080/"
        },
        "id": "dZgZSlWApY3s",
        "outputId": "2ac54ebd-6fcf-4d3f-aae9-3180725a9e15"
      },
      "source": [
        "#donot fully support BBi\n",
        "nosupport = df_new[\"Do you support BBI\"] == \"no\"\n",
        "nosupport.sum()"
      ],
      "execution_count": null,
      "outputs": [
        {
          "output_type": "execute_result",
          "data": {
            "text/plain": [
              "2637"
            ]
          },
          "metadata": {
            "tags": []
          },
          "execution_count": 81
        }
      ]
    },
    {
      "cell_type": "code",
      "metadata": {
        "colab": {
          "base_uri": "https://localhost:8080/"
        },
        "id": "ju2Y7T5-odlC",
        "outputId": "5dec7f16-5b8b-4ece-f18b-43b75b095d13"
      },
      "source": [
        "#who donot care about BBI\n",
        "notcaring = df_new[\"Do you support BBI\"] == \"don_t_care\"\n",
        "notcaring.sum()"
      ],
      "execution_count": null,
      "outputs": [
        {
          "output_type": "execute_result",
          "data": {
            "text/plain": [
              "320"
            ]
          },
          "metadata": {
            "tags": []
          },
          "execution_count": 78
        }
      ]
    },
    {
      "cell_type": "code",
      "metadata": {
        "colab": {
          "base_uri": "https://localhost:8080/"
        },
        "id": "6rGrg2iaXPN3",
        "outputId": "d5f4d297-0428-485f-b793-baee5071c457"
      },
      "source": [
        "# Which regions are likely to support the BBI?\n",
        "BBIsupport =df_new.loc[(df['Do you support BBI'] == 'yes')]\n",
        "BBIsupport\n",
        "support = BBIsupport.groupby('County')[['Do you support BBI']].count().sort_values(by='Do you support BBI',ascending=False) \n",
        "support['Do you support BBI']"
      ],
      "execution_count": null,
      "outputs": [
        {
          "output_type": "execute_result",
          "data": {
            "text/plain": [
              "County\n",
              "migori         171\n",
              "narok          155\n",
              "kisumu         124\n",
              "nairobi        119\n",
              "laikipia       115\n",
              "kisii          114\n",
              "kirinyaga       96\n",
              "kitui           90\n",
              "trans_nzoia     71\n",
              "kiambu          65\n",
              "kakamega        63\n",
              "isiolo          63\n",
              "nyeri           61\n",
              "machakos        58\n",
              "nakuru          58\n",
              "uasin_gishu     54\n",
              "mombasa         53\n",
              "embu            52\n",
              "kericho         36\n",
              "meru            33\n",
              "Name: Do you support BBI, dtype: int64"
            ]
          },
          "metadata": {
            "tags": []
          },
          "execution_count": 90
        }
      ]
    },
    {
      "cell_type": "code",
      "metadata": {
        "id": "VEp7--F2mESX"
      },
      "source": [
        "# How does BBI support compare based on Gender, Age group and Monthly income?\n"
      ],
      "execution_count": null,
      "outputs": []
    },
    {
      "cell_type": "code",
      "metadata": {
        "id": "tOYsTGTAsMW2"
      },
      "source": [
        "# Will a voter  participate in a referendum & how they would vote?\n",
        "# How are Kenyans who voted in 2017 likely to vote in the referendum?\n",
        "# Does the BBI or Hustler Nation support influence voter preference in 2022?"
      ],
      "execution_count": null,
      "outputs": []
    }
  ]
}