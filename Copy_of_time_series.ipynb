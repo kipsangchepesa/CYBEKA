{
  "nbformat": 4,
  "nbformat_minor": 0,
  "metadata": {
    "colab": {
      "name": "Copy of time series.ipynb",
      "provenance": [],
      "authorship_tag": "ABX9TyMjWJgsJ5DS+M3Q2zGkrEVk",
      "include_colab_link": true
    },
    "kernelspec": {
      "name": "python3",
      "display_name": "Python 3"
    },
    "language_info": {
      "name": "python"
    }
  },
  "cells": [
    {
      "cell_type": "markdown",
      "metadata": {
        "id": "view-in-github",
        "colab_type": "text"
      },
      "source": [
        "<a href=\"https://colab.research.google.com/github/kipsangchepesa/CYBEKA/blob/main/Copy_of_time_series.ipynb\" target=\"_parent\"><img src=\"https://colab.research.google.com/assets/colab-badge.svg\" alt=\"Open In Colab\"/></a>"
      ]
    },
    {
      "cell_type": "code",
      "metadata": {
        "id": "8zQxOOa-1dcw"
      },
      "source": [
        "import pandas as pd \n"
      ],
      "execution_count": 2,
      "outputs": []
    },
    {
      "cell_type": "code",
      "metadata": {
        "colab": {
          "base_uri": "https://localhost:8080/",
          "height": 359
        },
        "id": "aD7C49zv1tN-",
        "outputId": "d5a0157b-cbd1-4c88-844d-d5a222512b09"
      },
      "source": [
        "timedf=pd.read_csv(\"https://github.com/Yorko/mlcourse.ai/raw/master/data/wiki_machine_learning.csv\")\n",
        "timedf.tail(10)"
      ],
      "execution_count": 7,
      "outputs": [
        {
          "output_type": "execute_result",
          "data": {
            "text/html": [
              "<div>\n",
              "<style scoped>\n",
              "    .dataframe tbody tr th:only-of-type {\n",
              "        vertical-align: middle;\n",
              "    }\n",
              "\n",
              "    .dataframe tbody tr th {\n",
              "        vertical-align: top;\n",
              "    }\n",
              "\n",
              "    .dataframe thead th {\n",
              "        text-align: right;\n",
              "    }\n",
              "</style>\n",
              "<table border=\"1\" class=\"dataframe\">\n",
              "  <thead>\n",
              "    <tr style=\"text-align: right;\">\n",
              "      <th></th>\n",
              "      <th>date \"count\" \"lang\" \"page\" \"rank\" \"month\" \"title\"</th>\n",
              "    </tr>\n",
              "  </thead>\n",
              "  <tbody>\n",
              "    <tr>\n",
              "      <th>374</th>\n",
              "      <td>379 2016-01-11 3083 \"en\" \"Machine_learning\" \"8...</td>\n",
              "    </tr>\n",
              "    <tr>\n",
              "      <th>375</th>\n",
              "      <td>378 2016-01-12 3319 \"en\" \"Machine_learning\" \"8...</td>\n",
              "    </tr>\n",
              "    <tr>\n",
              "      <th>376</th>\n",
              "      <td>377 2016-01-13 3145 \"en\" \"Machine_learning\" \"8...</td>\n",
              "    </tr>\n",
              "    <tr>\n",
              "      <th>377</th>\n",
              "      <td>384 2016-01-14 3164 \"en\" \"Machine_learning\" \"8...</td>\n",
              "    </tr>\n",
              "    <tr>\n",
              "      <th>378</th>\n",
              "      <td>383 2016-01-15 2743 \"en\" \"Machine_learning\" \"8...</td>\n",
              "    </tr>\n",
              "    <tr>\n",
              "      <th>379</th>\n",
              "      <td>382 2016-01-16 1644 \"en\" \"Machine_learning\" \"8...</td>\n",
              "    </tr>\n",
              "    <tr>\n",
              "      <th>380</th>\n",
              "      <td>381 2016-01-17 1836 \"en\" \"Machine_learning\" \"8...</td>\n",
              "    </tr>\n",
              "    <tr>\n",
              "      <th>381</th>\n",
              "      <td>376 2016-01-18 2983 \"en\" \"Machine_learning\" \"8...</td>\n",
              "    </tr>\n",
              "    <tr>\n",
              "      <th>382</th>\n",
              "      <td>375 2016-01-19 3389 \"en\" \"Machine_learning\" \"8...</td>\n",
              "    </tr>\n",
              "    <tr>\n",
              "      <th>383</th>\n",
              "      <td>372 2016-01-20 3559 \"en\" \"Machine_learning\" \"8...</td>\n",
              "    </tr>\n",
              "  </tbody>\n",
              "</table>\n",
              "</div>"
            ],
            "text/plain": [
              "     date \"count\" \"lang\" \"page\" \"rank\" \"month\" \"title\"\n",
              "374  379 2016-01-11 3083 \"en\" \"Machine_learning\" \"8...\n",
              "375  378 2016-01-12 3319 \"en\" \"Machine_learning\" \"8...\n",
              "376  377 2016-01-13 3145 \"en\" \"Machine_learning\" \"8...\n",
              "377  384 2016-01-14 3164 \"en\" \"Machine_learning\" \"8...\n",
              "378  383 2016-01-15 2743 \"en\" \"Machine_learning\" \"8...\n",
              "379  382 2016-01-16 1644 \"en\" \"Machine_learning\" \"8...\n",
              "380  381 2016-01-17 1836 \"en\" \"Machine_learning\" \"8...\n",
              "381  376 2016-01-18 2983 \"en\" \"Machine_learning\" \"8...\n",
              "382  375 2016-01-19 3389 \"en\" \"Machine_learning\" \"8...\n",
              "383  372 2016-01-20 3559 \"en\" \"Machine_learning\" \"8..."
            ]
          },
          "metadata": {},
          "execution_count": 7
        }
      ]
    }
  ]
}